
   {
   "cell_type": "markdown",
   "metadata": {},
   "source": [
    "## Аналитика в авиакомпании"
   ]
  },
  {
   "cell_type": "markdown",
   "metadata": {},
   "source": [
    "### Описание проекта\n",
    "Вы аналитик компании «F9» — это российская авиакомпания, выполняющая внутренние пассажирские авиаперевозки. Сотни перелётов каждый день. Важно понять предпочтения пользователей, покупающих билеты на те или иные направления.\n",
    "Вам предстоит изучить базу данных и проанализировать спрос пассажиров на рейсы в города, где проходят крупнейшие фестивали.\n",
    "Для двух наборов данных нужно:\n",
    "\n",
    "•\tимпортировать файлы;\n",
    "\n",
    "•\tизучить данные в них;\n",
    "\n",
    "•\tпроверить типы данных на корректность;\n",
    "\n",
    "•\tвыбрать топ-10 городов по количеству рейсов;\n",
    "\n",
    "•\tпостроить графики: модели самолетов и количество рейсов, города и количество рейсов, топ-10 городов и количество рейсов;\n",
    "\n",
    "•\tсделать выводы по каждому из графиков, пояснить результат.\n"
   ]
  },
  {
   "cell_type": "markdown",
   "metadata": {},
   "source": [
    "## Содержание\n",
    "\n",
    "- [Общая_информация](#id-Общая_информация)\n",
    "- [Анализ_данных](#id-Анализ_данных)\n",
    "- [Вывод](#id-Вывод)\n",
    "\n"
   ]
  },
  {
   "cell_type": "markdown",
   "metadata": {},
   "source": [
    "<div class=\"alert alert-block alert-warning\">\n",
    "    \n",
    "\n",
    "### Комментарий от ревьюера\n",
    "\n",
    "После описания проекта принято составлять оглавление. Оглавление нужно писать от своего имени. Можно не так подробно, как в задании. Также можно в него вставить ссылки в на основные разделы работы.\n",
    "\n",
    "</div>"
   ]
  },
  {
   "cell_type": "markdown",
   "metadata": {},
   "source": [
    "<div id='id-Общая_информация'/>\n",
    "\n",
    "## Шаг 1.Общая информация\n",
    "\n"
   ]
  },
  {
   "cell_type": "code",
   "execution_count": 2,
   "metadata": {},
   "outputs": [],
   "source": [
    "import pandas as pd\n",
    "import matplotlib.pyplot as plt\n",
    "import numpy as np\n",
    "import seaborn as sns"
   ]
  },
  {
   "cell_type": "markdown",
   "metadata": {},
   "source": [
    "Откроем и изучим файл 1"
   ]
  },
  {
   "cell_type": "code",
   "execution_count": 3,
   "metadata": {},
   "outputs": [
    {
     "data": {
      "text/html": [
       "<div>\n",
       "<style scoped>\n",
       "    .dataframe tbody tr th:only-of-type {\n",
       "        vertical-align: middle;\n",
       "    }\n",
       "\n",
       "    .dataframe tbody tr th {\n",
       "        vertical-align: top;\n",
       "    }\n",
       "\n",
       "    .dataframe thead th {\n",
       "        text-align: right;\n",
       "    }\n",
       "</style>\n",
       "<table border=\"1\" class=\"dataframe\">\n",
       "  <thead>\n",
       "    <tr style=\"text-align: right;\">\n",
       "      <th></th>\n",
       "      <th>model</th>\n",
       "      <th>flights_amount</th>\n",
       "    </tr>\n",
       "  </thead>\n",
       "  <tbody>\n",
       "    <tr>\n",
       "      <td>0</td>\n",
       "      <td>Airbus A319-100</td>\n",
       "      <td>607</td>\n",
       "    </tr>\n",
       "    <tr>\n",
       "      <td>1</td>\n",
       "      <td>Airbus A321-200</td>\n",
       "      <td>960</td>\n",
       "    </tr>\n",
       "    <tr>\n",
       "      <td>2</td>\n",
       "      <td>Boeing 737-300</td>\n",
       "      <td>630</td>\n",
       "    </tr>\n",
       "    <tr>\n",
       "      <td>3</td>\n",
       "      <td>Boeing 767-300</td>\n",
       "      <td>600</td>\n",
       "    </tr>\n",
       "    <tr>\n",
       "      <td>4</td>\n",
       "      <td>Boeing 777-300</td>\n",
       "      <td>300</td>\n",
       "    </tr>\n",
       "    <tr>\n",
       "      <td>5</td>\n",
       "      <td>Bombardier CRJ-200</td>\n",
       "      <td>4446</td>\n",
       "    </tr>\n",
       "    <tr>\n",
       "      <td>6</td>\n",
       "      <td>Cessna 208 Caravan</td>\n",
       "      <td>4557</td>\n",
       "    </tr>\n",
       "    <tr>\n",
       "      <td>7</td>\n",
       "      <td>Sukhoi SuperJet-100</td>\n",
       "      <td>4185</td>\n",
       "    </tr>\n",
       "  </tbody>\n",
       "</table>\n",
       "</div>"
      ],
      "text/plain": [
       "                 model  flights_amount\n",
       "0      Airbus A319-100             607\n",
       "1      Airbus A321-200             960\n",
       "2       Boeing 737-300             630\n",
       "3       Boeing 767-300             600\n",
       "4       Boeing 777-300             300\n",
       "5   Bombardier CRJ-200            4446\n",
       "6   Cessna 208 Caravan            4557\n",
       "7  Sukhoi SuperJet-100            4185"
      ]
     },
     "metadata": {},
     "output_type": "display_data"
    },
    {
     "name": "stdout",
     "output_type": "stream",
     "text": [
      "<class 'pandas.core.frame.DataFrame'>\n",
      "RangeIndex: 8 entries, 0 to 7\n",
      "Data columns (total 2 columns):\n",
      "model             8 non-null object\n",
      "flights_amount    8 non-null int64\n",
      "dtypes: int64(1), object(1)\n",
      "memory usage: 256.0+ bytes\n"
     ]
    },
    {
     "data": {
      "text/html": [
       "<div>\n",
       "<style scoped>\n",
       "    .dataframe tbody tr th:only-of-type {\n",
       "        vertical-align: middle;\n",
       "    }\n",
       "\n",
       "    .dataframe tbody tr th {\n",
       "        vertical-align: top;\n",
       "    }\n",
       "\n",
       "    .dataframe thead th {\n",
       "        text-align: right;\n",
       "    }\n",
       "</style>\n",
       "<table border=\"1\" class=\"dataframe\">\n",
       "  <thead>\n",
       "    <tr style=\"text-align: right;\">\n",
       "      <th></th>\n",
       "      <th>flights_amount</th>\n",
       "    </tr>\n",
       "  </thead>\n",
       "  <tbody>\n",
       "    <tr>\n",
       "      <td>count</td>\n",
       "      <td>8.000000</td>\n",
       "    </tr>\n",
       "    <tr>\n",
       "      <td>mean</td>\n",
       "      <td>2035.625000</td>\n",
       "    </tr>\n",
       "    <tr>\n",
       "      <td>std</td>\n",
       "      <td>1965.203947</td>\n",
       "    </tr>\n",
       "    <tr>\n",
       "      <td>min</td>\n",
       "      <td>300.000000</td>\n",
       "    </tr>\n",
       "    <tr>\n",
       "      <td>25%</td>\n",
       "      <td>605.250000</td>\n",
       "    </tr>\n",
       "    <tr>\n",
       "      <td>50%</td>\n",
       "      <td>795.000000</td>\n",
       "    </tr>\n",
       "    <tr>\n",
       "      <td>75%</td>\n",
       "      <td>4250.250000</td>\n",
       "    </tr>\n",
       "    <tr>\n",
       "      <td>max</td>\n",
       "      <td>4557.000000</td>\n",
       "    </tr>\n",
       "  </tbody>\n",
       "</table>\n",
       "</div>"
      ],
      "text/plain": [
       "       flights_amount\n",
       "count        8.000000\n",
       "mean      2035.625000\n",
       "std       1965.203947\n",
       "min        300.000000\n",
       "25%        605.250000\n",
       "50%        795.000000\n",
       "75%       4250.250000\n",
       "max       4557.000000"
      ]
     },
     "execution_count": 3,
     "metadata": {},
     "output_type": "execute_result"
    }
   ],
   "source": [
    "model_data = pd.read_csv('/datasets/query_1.csv', sep=',')\n",
    "display(model_data)\n",
    "model_data.info()\n",
    "model_data.describe()"
   ]
  },
  {
   "cell_type": "markdown",
   "metadata": {},
   "source": [
    "Датасет model_data содержит 2 столбца: model — модели самолета и flights_amount — количество рейсов для каждой модели самолетов model в сентябре 2018 года; и 8 строк. Пропущенных значений нет. Типы данных корректны: строчный для столбца model и тип данных 'целые числа' для столбца flights_amount. Среднее количество рейсов в месяц по всем моделям - 2035."
   ]
  },
  {
   "cell_type": "markdown",
   "metadata": {},
   "source": [
    "Откроем и изучим файл 2"
   ]
  },
  {
   "cell_type": "code",
   "execution_count": 4,
   "metadata": {},
   "outputs": [
    {
     "data": {
      "text/html": [
       "<div>\n",
       "<style scoped>\n",
       "    .dataframe tbody tr th:only-of-type {\n",
       "        vertical-align: middle;\n",
       "    }\n",
       "\n",
       "    .dataframe tbody tr th {\n",
       "        vertical-align: top;\n",
       "    }\n",
       "\n",
       "    .dataframe thead th {\n",
       "        text-align: right;\n",
       "    }\n",
       "</style>\n",
       "<table border=\"1\" class=\"dataframe\">\n",
       "  <thead>\n",
       "    <tr style=\"text-align: right;\">\n",
       "      <th></th>\n",
       "      <th>city</th>\n",
       "      <th>average_flights</th>\n",
       "    </tr>\n",
       "  </thead>\n",
       "  <tbody>\n",
       "    <tr>\n",
       "      <td>0</td>\n",
       "      <td>Абакан</td>\n",
       "      <td>3.870968</td>\n",
       "    </tr>\n",
       "    <tr>\n",
       "      <td>1</td>\n",
       "      <td>Анадырь</td>\n",
       "      <td>1.000000</td>\n",
       "    </tr>\n",
       "    <tr>\n",
       "      <td>2</td>\n",
       "      <td>Анапа</td>\n",
       "      <td>2.161290</td>\n",
       "    </tr>\n",
       "    <tr>\n",
       "      <td>3</td>\n",
       "      <td>Архангельск</td>\n",
       "      <td>5.354839</td>\n",
       "    </tr>\n",
       "    <tr>\n",
       "      <td>4</td>\n",
       "      <td>Астрахань</td>\n",
       "      <td>2.451613</td>\n",
       "    </tr>\n",
       "  </tbody>\n",
       "</table>\n",
       "</div>"
      ],
      "text/plain": [
       "          city  average_flights\n",
       "0       Абакан         3.870968\n",
       "1      Анадырь         1.000000\n",
       "2        Анапа         2.161290\n",
       "3  Архангельск         5.354839\n",
       "4    Астрахань         2.451613"
      ]
     },
     "metadata": {},
     "output_type": "display_data"
    },
    {
     "name": "stdout",
     "output_type": "stream",
     "text": [
      "<class 'pandas.core.frame.DataFrame'>\n",
      "RangeIndex: 101 entries, 0 to 100\n",
      "Data columns (total 2 columns):\n",
      "city               101 non-null object\n",
      "average_flights    101 non-null float64\n",
      "dtypes: float64(1), object(1)\n",
      "memory usage: 1.7+ KB\n"
     ]
    }
   ],
   "source": [
    "city_data = pd.read_csv('/datasets/query_3.csv', sep=',')\n",
    "display(city_data.head())\n",
    "city_data.info()\n"
   ]
  },
  {
   "cell_type": "markdown",
   "metadata": {},
   "source": [
    "Заменим тип данных по количеству рейсов на целое число"
   ]
  },
  {
   "cell_type": "code",
   "execution_count": 5,
   "metadata": {},
   "outputs": [],
   "source": [
    "city_data['average_flights'] = city_data['average_flights'].astype('int')"
   ]
  },
  {
   "cell_type": "markdown",
   "metadata": {},
   "source": [
    "Датасет city_data содержит 2 столбца и 101 строку. Наименования столбцов:   \n",
    "- city — город\n",
    "- average_flights — среднее количество рейсов, прибывающих в город city за день в августе 2018.\n",
    "\n",
    "Пропущенных значений нет. Типы данных: строчный для столбца city и тип данных 'вещественные числа' для столбца average_flights. Для удобства расчета заменили тип данных  с вещественных на целые числа."
   ]
  },
  {
   "cell_type": "markdown",
   "metadata": {},
   "source": [
    "Откроем и изучим файл 3"
   ]
  },
  {
   "cell_type": "code",
   "execution_count": 6,
   "metadata": {},
   "outputs": [
    {
     "data": {
      "text/html": [
       "<div>\n",
       "<style scoped>\n",
       "    .dataframe tbody tr th:only-of-type {\n",
       "        vertical-align: middle;\n",
       "    }\n",
       "\n",
       "    .dataframe tbody tr th {\n",
       "        vertical-align: top;\n",
       "    }\n",
       "\n",
       "    .dataframe thead th {\n",
       "        text-align: right;\n",
       "    }\n",
       "</style>\n",
       "<table border=\"1\" class=\"dataframe\">\n",
       "  <thead>\n",
       "    <tr style=\"text-align: right;\">\n",
       "      <th></th>\n",
       "      <th>Название фестиваля</th>\n",
       "      <th>Место проведения</th>\n",
       "      <th>Дата проведения</th>\n",
       "    </tr>\n",
       "  </thead>\n",
       "  <tbody>\n",
       "    <tr>\n",
       "      <td>0</td>\n",
       "      <td>Музыкальный фестиваль «Усадьба Jazz»</td>\n",
       "      <td>Екатеринбург</td>\n",
       "      <td>01.07.2018</td>\n",
       "    </tr>\n",
       "    <tr>\n",
       "      <td>1</td>\n",
       "      <td>Фестиваль музыки и технологий Alfa Future People</td>\n",
       "      <td>Нижний Новгород</td>\n",
       "      <td>10.08.2018</td>\n",
       "    </tr>\n",
       "    <tr>\n",
       "      <td>2</td>\n",
       "      <td>Фестиваль еды «О, да! Еда!»</td>\n",
       "      <td>Санкт-Петербург</td>\n",
       "      <td>21.07.2018</td>\n",
       "    </tr>\n",
       "    <tr>\n",
       "      <td>3</td>\n",
       "      <td>Доброфест</td>\n",
       "      <td>Ярославль</td>\n",
       "      <td>29.07.2018</td>\n",
       "    </tr>\n",
       "    <tr>\n",
       "      <td>4</td>\n",
       "      <td>Park Live</td>\n",
       "      <td>Москва</td>\n",
       "      <td>28.07.2018</td>\n",
       "    </tr>\n",
       "    <tr>\n",
       "      <td>5</td>\n",
       "      <td>Пикник Афиши</td>\n",
       "      <td>Москва</td>\n",
       "      <td>04.08.2018</td>\n",
       "    </tr>\n",
       "    <tr>\n",
       "      <td>6</td>\n",
       "      <td>VK FEST</td>\n",
       "      <td>Санкт-Петербург</td>\n",
       "      <td>29.07.2018</td>\n",
       "    </tr>\n",
       "    <tr>\n",
       "      <td>7</td>\n",
       "      <td>Фестиваль «О, да! Еда!»</td>\n",
       "      <td>Иркутск</td>\n",
       "      <td>25.08.2018</td>\n",
       "    </tr>\n",
       "    <tr>\n",
       "      <td>8</td>\n",
       "      <td>Фестиваль «О, да! Еда!»</td>\n",
       "      <td>Владивосток</td>\n",
       "      <td>02.09.2018</td>\n",
       "    </tr>\n",
       "    <tr>\n",
       "      <td>9</td>\n",
       "      <td>Видфест</td>\n",
       "      <td>Москва</td>\n",
       "      <td>08.09.2018</td>\n",
       "    </tr>\n",
       "    <tr>\n",
       "      <td>10</td>\n",
       "      <td>«Нашествие 2018»</td>\n",
       "      <td>Тверь</td>\n",
       "      <td>05.08.2018</td>\n",
       "    </tr>\n",
       "  </tbody>\n",
       "</table>\n",
       "</div>"
      ],
      "text/plain": [
       "                                  Название фестиваля Место проведения  \\\n",
       "0               Музыкальный фестиваль «Усадьба Jazz»     Екатеринбург   \n",
       "1   Фестиваль музыки и технологий Alfa Future People  Нижний Новгород   \n",
       "2                        Фестиваль еды «О, да! Еда!»  Санкт-Петербург   \n",
       "3                                          Доброфест        Ярославль   \n",
       "4                                          Park Live           Москва   \n",
       "5                                       Пикник Афиши           Москва   \n",
       "6                                            VK FEST  Санкт-Петербург   \n",
       "7                            Фестиваль «О, да! Еда!»          Иркутск   \n",
       "8                            Фестиваль «О, да! Еда!»      Владивосток   \n",
       "9                                            Видфест           Москва   \n",
       "10                                  «Нашествие 2018»            Тверь   \n",
       "\n",
       "   Дата проведения  \n",
       "0       01.07.2018  \n",
       "1       10.08.2018  \n",
       "2       21.07.2018  \n",
       "3       29.07.2018  \n",
       "4       28.07.2018  \n",
       "5       04.08.2018  \n",
       "6       29.07.2018  \n",
       "7       25.08.2018  \n",
       "8       02.09.2018  \n",
       "9       08.09.2018  \n",
       "10      05.08.2018  "
      ]
     },
     "metadata": {},
     "output_type": "display_data"
    },
    {
     "name": "stdout",
     "output_type": "stream",
     "text": [
      "<class 'pandas.core.frame.DataFrame'>\n",
      "RangeIndex: 11 entries, 0 to 10\n",
      "Data columns (total 3 columns):\n",
      "Название фестиваля    11 non-null object\n",
      "Место проведения      11 non-null object\n",
      "Дата проведения       11 non-null object\n",
      "dtypes: object(3)\n",
      "memory usage: 392.0+ bytes\n"
     ]
    }
   ],
   "source": [
    "import requests \n",
    "from bs4 import BeautifulSoup \n",
    "URL =  'https://code.s3.yandex.net/learning-materials/data-analyst/festival_news/index.html'\n",
    "req = requests.get(URL)\n",
    "soup = BeautifulSoup(req.text, 'lxml')\n",
    "table = soup.find('table',attrs={\"id\": \"best_festivals\"})\n",
    "heading_table = []\n",
    "for row in table.find_all('th'): \n",
    "    heading_table.append(row.text) \n",
    "    \n",
    "content = []\n",
    "for row in table.find_all('tr'): \n",
    "    if not row.find_all('th'): \n",
    "        content.append([element.text for element in row.find_all('td')])\n",
    "\n",
    "import pandas as pd\n",
    "festivals = pd.DataFrame(content, columns=heading_table) \n",
    "display(festivals)\n",
    "festivals.info()"
   ]
  },
  {
   "cell_type": "markdown",
   "metadata": {},
   "source": [
    "<div class=\"alert alert-block alert-warning\">\n",
    "    \n",
    "\n",
    "### Комментарий от ревьюера\n",
    "\n",
    "Лучше все библиотеки выносить в начало проекта.\n",
    "\n",
    "</div>"
   ]
  },
  {
   "cell_type": "markdown",
   "metadata": {},
   "source": [
    "Переименуем столбцы на английский вариант и переведем столбец с датой в формат времени"
   ]
  },
  {
   "cell_type": "code",
   "execution_count": 7,
   "metadata": {},
   "outputs": [
    {
     "data": {
      "text/html": [
       "<div>\n",
       "<style scoped>\n",
       "    .dataframe tbody tr th:only-of-type {\n",
       "        vertical-align: middle;\n",
       "    }\n",
       "\n",
       "    .dataframe tbody tr th {\n",
       "        vertical-align: top;\n",
       "    }\n",
       "\n",
       "    .dataframe thead th {\n",
       "        text-align: right;\n",
       "    }\n",
       "</style>\n",
       "<table border=\"1\" class=\"dataframe\">\n",
       "  <thead>\n",
       "    <tr style=\"text-align: right;\">\n",
       "      <th></th>\n",
       "      <th>festival_name</th>\n",
       "      <th>city</th>\n",
       "      <th>festival_date</th>\n",
       "    </tr>\n",
       "  </thead>\n",
       "  <tbody>\n",
       "    <tr>\n",
       "      <td>0</td>\n",
       "      <td>Музыкальный фестиваль «Усадьба Jazz»</td>\n",
       "      <td>Екатеринбург</td>\n",
       "      <td>01.07.2018</td>\n",
       "    </tr>\n",
       "    <tr>\n",
       "      <td>1</td>\n",
       "      <td>Фестиваль музыки и технологий Alfa Future People</td>\n",
       "      <td>Нижний Новгород</td>\n",
       "      <td>10.08.2018</td>\n",
       "    </tr>\n",
       "    <tr>\n",
       "      <td>2</td>\n",
       "      <td>Фестиваль еды «О, да! Еда!»</td>\n",
       "      <td>Санкт-Петербург</td>\n",
       "      <td>21.07.2018</td>\n",
       "    </tr>\n",
       "    <tr>\n",
       "      <td>3</td>\n",
       "      <td>Доброфест</td>\n",
       "      <td>Ярославль</td>\n",
       "      <td>29.07.2018</td>\n",
       "    </tr>\n",
       "    <tr>\n",
       "      <td>4</td>\n",
       "      <td>Park Live</td>\n",
       "      <td>Москва</td>\n",
       "      <td>28.07.2018</td>\n",
       "    </tr>\n",
       "    <tr>\n",
       "      <td>5</td>\n",
       "      <td>Пикник Афиши</td>\n",
       "      <td>Москва</td>\n",
       "      <td>04.08.2018</td>\n",
       "    </tr>\n",
       "    <tr>\n",
       "      <td>6</td>\n",
       "      <td>VK FEST</td>\n",
       "      <td>Санкт-Петербург</td>\n",
       "      <td>29.07.2018</td>\n",
       "    </tr>\n",
       "    <tr>\n",
       "      <td>7</td>\n",
       "      <td>Фестиваль «О, да! Еда!»</td>\n",
       "      <td>Иркутск</td>\n",
       "      <td>25.08.2018</td>\n",
       "    </tr>\n",
       "    <tr>\n",
       "      <td>8</td>\n",
       "      <td>Фестиваль «О, да! Еда!»</td>\n",
       "      <td>Владивосток</td>\n",
       "      <td>02.09.2018</td>\n",
       "    </tr>\n",
       "    <tr>\n",
       "      <td>9</td>\n",
       "      <td>Видфест</td>\n",
       "      <td>Москва</td>\n",
       "      <td>08.09.2018</td>\n",
       "    </tr>\n",
       "    <tr>\n",
       "      <td>10</td>\n",
       "      <td>«Нашествие 2018»</td>\n",
       "      <td>Тверь</td>\n",
       "      <td>05.08.2018</td>\n",
       "    </tr>\n",
       "  </tbody>\n",
       "</table>\n",
       "</div>"
      ],
      "text/plain": [
       "                                       festival_name             city  \\\n",
       "0               Музыкальный фестиваль «Усадьба Jazz»     Екатеринбург   \n",
       "1   Фестиваль музыки и технологий Alfa Future People  Нижний Новгород   \n",
       "2                        Фестиваль еды «О, да! Еда!»  Санкт-Петербург   \n",
       "3                                          Доброфест        Ярославль   \n",
       "4                                          Park Live           Москва   \n",
       "5                                       Пикник Афиши           Москва   \n",
       "6                                            VK FEST  Санкт-Петербург   \n",
       "7                            Фестиваль «О, да! Еда!»          Иркутск   \n",
       "8                            Фестиваль «О, да! Еда!»      Владивосток   \n",
       "9                                            Видфест           Москва   \n",
       "10                                  «Нашествие 2018»            Тверь   \n",
       "\n",
       "   festival_date  \n",
       "0     01.07.2018  \n",
       "1     10.08.2018  \n",
       "2     21.07.2018  \n",
       "3     29.07.2018  \n",
       "4     28.07.2018  \n",
       "5     04.08.2018  \n",
       "6     29.07.2018  \n",
       "7     25.08.2018  \n",
       "8     02.09.2018  \n",
       "9     08.09.2018  \n",
       "10    05.08.2018  "
      ]
     },
     "metadata": {},
     "output_type": "display_data"
    }
   ],
   "source": [
    "festivals.columns = ['festival_name', 'city', 'festival_date']\n",
    "display(festivals)\n",
    "festivals['festival_date'] = pd.to_datetime(festivals['festival_date'], format = '%d.%m.%Y')"
   ]
  },
  {
   "cell_type": "markdown",
   "metadata": {},
   "source": [
    "Сократим дату фестиваля до месяца, создав новый столбец"
   ]
  },
  {
   "cell_type": "code",
   "execution_count": 8,
   "metadata": {},
   "outputs": [
    {
     "data": {
      "text/html": [
       "<div>\n",
       "<style scoped>\n",
       "    .dataframe tbody tr th:only-of-type {\n",
       "        vertical-align: middle;\n",
       "    }\n",
       "\n",
       "    .dataframe tbody tr th {\n",
       "        vertical-align: top;\n",
       "    }\n",
       "\n",
       "    .dataframe thead th {\n",
       "        text-align: right;\n",
       "    }\n",
       "</style>\n",
       "<table border=\"1\" class=\"dataframe\">\n",
       "  <thead>\n",
       "    <tr style=\"text-align: right;\">\n",
       "      <th></th>\n",
       "      <th>festival_name</th>\n",
       "      <th>city</th>\n",
       "      <th>festival_date</th>\n",
       "      <th>festival_month</th>\n",
       "    </tr>\n",
       "  </thead>\n",
       "  <tbody>\n",
       "    <tr>\n",
       "      <td>0</td>\n",
       "      <td>Музыкальный фестиваль «Усадьба Jazz»</td>\n",
       "      <td>Екатеринбург</td>\n",
       "      <td>2018-07-01</td>\n",
       "      <td>7</td>\n",
       "    </tr>\n",
       "    <tr>\n",
       "      <td>1</td>\n",
       "      <td>Фестиваль музыки и технологий Alfa Future People</td>\n",
       "      <td>Нижний Новгород</td>\n",
       "      <td>2018-08-10</td>\n",
       "      <td>8</td>\n",
       "    </tr>\n",
       "    <tr>\n",
       "      <td>2</td>\n",
       "      <td>Фестиваль еды «О, да! Еда!»</td>\n",
       "      <td>Санкт-Петербург</td>\n",
       "      <td>2018-07-21</td>\n",
       "      <td>7</td>\n",
       "    </tr>\n",
       "    <tr>\n",
       "      <td>3</td>\n",
       "      <td>Доброфест</td>\n",
       "      <td>Ярославль</td>\n",
       "      <td>2018-07-29</td>\n",
       "      <td>7</td>\n",
       "    </tr>\n",
       "    <tr>\n",
       "      <td>4</td>\n",
       "      <td>Park Live</td>\n",
       "      <td>Москва</td>\n",
       "      <td>2018-07-28</td>\n",
       "      <td>7</td>\n",
       "    </tr>\n",
       "    <tr>\n",
       "      <td>5</td>\n",
       "      <td>Пикник Афиши</td>\n",
       "      <td>Москва</td>\n",
       "      <td>2018-08-04</td>\n",
       "      <td>8</td>\n",
       "    </tr>\n",
       "    <tr>\n",
       "      <td>6</td>\n",
       "      <td>VK FEST</td>\n",
       "      <td>Санкт-Петербург</td>\n",
       "      <td>2018-07-29</td>\n",
       "      <td>7</td>\n",
       "    </tr>\n",
       "    <tr>\n",
       "      <td>7</td>\n",
       "      <td>Фестиваль «О, да! Еда!»</td>\n",
       "      <td>Иркутск</td>\n",
       "      <td>2018-08-25</td>\n",
       "      <td>8</td>\n",
       "    </tr>\n",
       "    <tr>\n",
       "      <td>8</td>\n",
       "      <td>Фестиваль «О, да! Еда!»</td>\n",
       "      <td>Владивосток</td>\n",
       "      <td>2018-09-02</td>\n",
       "      <td>9</td>\n",
       "    </tr>\n",
       "    <tr>\n",
       "      <td>9</td>\n",
       "      <td>Видфест</td>\n",
       "      <td>Москва</td>\n",
       "      <td>2018-09-08</td>\n",
       "      <td>9</td>\n",
       "    </tr>\n",
       "    <tr>\n",
       "      <td>10</td>\n",
       "      <td>«Нашествие 2018»</td>\n",
       "      <td>Тверь</td>\n",
       "      <td>2018-08-05</td>\n",
       "      <td>8</td>\n",
       "    </tr>\n",
       "  </tbody>\n",
       "</table>\n",
       "</div>"
      ],
      "text/plain": [
       "                                       festival_name             city  \\\n",
       "0               Музыкальный фестиваль «Усадьба Jazz»     Екатеринбург   \n",
       "1   Фестиваль музыки и технологий Alfa Future People  Нижний Новгород   \n",
       "2                        Фестиваль еды «О, да! Еда!»  Санкт-Петербург   \n",
       "3                                          Доброфест        Ярославль   \n",
       "4                                          Park Live           Москва   \n",
       "5                                       Пикник Афиши           Москва   \n",
       "6                                            VK FEST  Санкт-Петербург   \n",
       "7                            Фестиваль «О, да! Еда!»          Иркутск   \n",
       "8                            Фестиваль «О, да! Еда!»      Владивосток   \n",
       "9                                            Видфест           Москва   \n",
       "10                                  «Нашествие 2018»            Тверь   \n",
       "\n",
       "   festival_date  festival_month  \n",
       "0     2018-07-01               7  \n",
       "1     2018-08-10               8  \n",
       "2     2018-07-21               7  \n",
       "3     2018-07-29               7  \n",
       "4     2018-07-28               7  \n",
       "5     2018-08-04               8  \n",
       "6     2018-07-29               7  \n",
       "7     2018-08-25               8  \n",
       "8     2018-09-02               9  \n",
       "9     2018-09-08               9  \n",
       "10    2018-08-05               8  "
      ]
     },
     "metadata": {},
     "output_type": "display_data"
    },
    {
     "name": "stdout",
     "output_type": "stream",
     "text": [
      "<class 'pandas.core.frame.DataFrame'>\n",
      "RangeIndex: 11 entries, 0 to 10\n",
      "Data columns (total 4 columns):\n",
      "festival_name     11 non-null object\n",
      "city              11 non-null object\n",
      "festival_date     11 non-null datetime64[ns]\n",
      "festival_month    11 non-null int64\n",
      "dtypes: datetime64[ns](1), int64(1), object(2)\n",
      "memory usage: 480.0+ bytes\n"
     ]
    }
   ],
   "source": [
    "festivals['festival_month'] = festivals['festival_date'].dt.month\n",
    "display(festivals)\n",
    "festivals.info()"
   ]
  },
  {
   "cell_type": "markdown",
   "metadata": {},
   "source": [
    "В датасете festivals 11 строк и 3 столбца с названиями:\n",
    "- festival name - название фестиваля\n",
    "- city - город\n",
    "- festival date - дата фестиваля\n",
    "\n",
    "Тип данных - строчный. В столбце с датой изменили тип данных на временной и создали отдельный столбец с указанием месяца."
   ]
  },
  {
   "cell_type": "markdown",
   "metadata": {},
   "source": [
    "<div class=\"alert alert-block alert-warning\">\n",
    "    \n",
    "\n",
    "### Комментарий от ревьюера\n",
    "\n",
    "Под данный раздел нужен общий вывод.\n",
    "\n",
    "</div>"
   ]
  },
  {
   "cell_type": "markdown",
   "metadata": {},
   "source": [
    "<div class=\"alert alert-block alert-success\">\n",
    "    \n",
    "\n",
    "### Комментарий от ревьюера\n",
    "\n",
    "Отличный структурированный этап.\n",
    "\n",
    "</div>"
   ]
  },
  {
   "cell_type": "markdown",
   "metadata": {},
   "source": [
    "<div id='id-Анализ_данных'/>\n",
    "\n",
    "### Шаг 2. Анализ данных."
   ]
  },
  {
   "cell_type": "markdown",
   "metadata": {},
   "source": [
    "Выберем топ-10 городов по количеству рейсов в датасете city_data c помощью сводной таблицы."
   ]
  },
  {
   "cell_type": "markdown",
   "metadata": {},
   "source": [
    "<div class=\"alert alert-block alert-warning\">\n",
    "    \n",
    "\n",
    "### Комментарий от ревьюера\n",
    "\n",
    "Предподготовку данных можно было бы перенести на предыдущий этап.\n",
    "\n",
    "</div>"
   ]
  },
  {
   "cell_type": "markdown",
   "metadata": {},
   "source": [
    "<div class=\"alert alert-block alert-success\">\n",
    "    \n",
    "\n",
    "### Комментарий от ревьюера\n",
    "\n",
    "👍\n",
    "</div>"
   ]
  },
  {
   "cell_type": "code",
   "execution_count": 9,
   "metadata": {},
   "outputs": [
    {
     "data": {
      "text/html": [
       "<div>\n",
       "<style scoped>\n",
       "    .dataframe tbody tr th:only-of-type {\n",
       "        vertical-align: middle;\n",
       "    }\n",
       "\n",
       "    .dataframe tbody tr th {\n",
       "        vertical-align: top;\n",
       "    }\n",
       "\n",
       "    .dataframe thead th {\n",
       "        text-align: right;\n",
       "    }\n",
       "</style>\n",
       "<table border=\"1\" class=\"dataframe\">\n",
       "  <thead>\n",
       "    <tr style=\"text-align: right;\">\n",
       "      <th></th>\n",
       "      <th>average_flights</th>\n",
       "    </tr>\n",
       "    <tr>\n",
       "      <th>city</th>\n",
       "      <th></th>\n",
       "    </tr>\n",
       "  </thead>\n",
       "  <tbody>\n",
       "    <tr>\n",
       "      <td>Москва</td>\n",
       "      <td>129</td>\n",
       "    </tr>\n",
       "    <tr>\n",
       "      <td>Санкт-Петербург</td>\n",
       "      <td>31</td>\n",
       "    </tr>\n",
       "    <tr>\n",
       "      <td>Новосибирск</td>\n",
       "      <td>17</td>\n",
       "    </tr>\n",
       "    <tr>\n",
       "      <td>Екатеринбург</td>\n",
       "      <td>11</td>\n",
       "    </tr>\n",
       "    <tr>\n",
       "      <td>Красноярск</td>\n",
       "      <td>11</td>\n",
       "    </tr>\n",
       "    <tr>\n",
       "      <td>Пермь</td>\n",
       "      <td>10</td>\n",
       "    </tr>\n",
       "    <tr>\n",
       "      <td>Ростов-на-Дону</td>\n",
       "      <td>10</td>\n",
       "    </tr>\n",
       "    <tr>\n",
       "      <td>Брянск</td>\n",
       "      <td>10</td>\n",
       "    </tr>\n",
       "    <tr>\n",
       "      <td>Ульяновск</td>\n",
       "      <td>9</td>\n",
       "    </tr>\n",
       "    <tr>\n",
       "      <td>Советский</td>\n",
       "      <td>9</td>\n",
       "    </tr>\n",
       "  </tbody>\n",
       "</table>\n",
       "</div>"
      ],
      "text/plain": [
       "                 average_flights\n",
       "city                            \n",
       "Москва                       129\n",
       "Санкт-Петербург               31\n",
       "Новосибирск                   17\n",
       "Екатеринбург                  11\n",
       "Красноярск                    11\n",
       "Пермь                         10\n",
       "Ростов-на-Дону                10\n",
       "Брянск                        10\n",
       "Ульяновск                      9\n",
       "Советский                      9"
      ]
     },
     "metadata": {},
     "output_type": "display_data"
    }
   ],
   "source": [
    "city_data_pivot = city_data.pivot_table(index=\"city\", values=\"average_flights\", aggfunc=\"sum\").sort_values(by='average_flights', ascending=False)\n",
    "city_data_pivot_10 = city_data_pivot.head(10)\n",
    "display(city_data_pivot_10)\n"
   ]
  },
  {
   "cell_type": "markdown",
   "metadata": {},
   "source": [
    "В августе 2018 г. больше всего рейсов в день принимала Москва, в 4 раза меньше Санкт-Петербург. Новосибирск на 3-м месте. Остальные города в 10 раз меньше Москвы. На 10-м месте Советский."
   ]
  },
  {
   "cell_type": "markdown",
   "metadata": {},
   "source": [
    "Построим график для топ-10 городов и количества рейсов по датасету city_data"
   ]
  },
  {
   "cell_type": "code",
   "execution_count": 10,
   "metadata": {},
   "outputs": [
    {
     "data": {
      "text/plain": [
       "Text(0, 0.5, 'average flights a day')"
      ]
     },
     "execution_count": 10,
     "metadata": {},
     "output_type": "execute_result"
    },
    {
     "data": {
      "image/png": "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\n",
      "text/plain": [
       "<Figure size 720x360 with 1 Axes>"
      ]
     },
     "metadata": {
      "needs_background": "light"
     },
     "output_type": "display_data"
    }
   ],
   "source": [
    "city_data_pivot_10.plot(y='average_flights', kind='bar', figsize=(10, 5), color='orange')\n",
    "plt.title(\"TOP-10 cities on average flights\")\n",
    "plt.xlabel(\"city\")\n",
    "plt.ylabel(\"average flights a day\")\n",
    "\n"
   ]
  },
  {
   "cell_type": "markdown",
   "metadata": {},
   "source": [
    "<div class=\"alert alert-block alert-warning\">\n",
    "    \n",
    "\n",
    "### Комментарий от ревьюера\n",
    "\n",
    "Проверь, пожалуйста, на всех графиках в проекте наличие заголовков и подписей осей. Не забудь давать заголовкам и подписям осознанные и понятные значения с указанием размерности (шт., млн. и т.д.)\n",
    "\n",
    "</div>"
   ]
  },
  {
   "cell_type": "markdown",
   "metadata": {},
   "source": [
    "<div class=\"alert alert-block alert-success\">\n",
    "    \n",
    "\n",
    "### Комментарий от ревьюера\n",
    "\n",
    "👍\n",
    "</div>"
   ]
  },
  {
   "cell_type": "markdown",
   "metadata": {},
   "source": [
    "Согласно данным о лучших фестивалях по версии Festival News в августе 2018 г. фестиваль был только в Москве - \"Пикник Афиши\". Но, навряд ли, это повлияло на количество рейсов, которое, в любом случае, самое высокое в Москве. В остальных городах - от Красноярска до Ульяновска - почти одинаковое количество рейсов в день."
   ]
  },
  {
   "cell_type": "markdown",
   "metadata": {},
   "source": [
    "<div class=\"alert alert-block alert-success\">\n",
    "    \n",
    "\n",
    "### Комментарий от ревьюера\n",
    "\n",
    "Классно, что изучаешь внешнюю информацию.\n",
    "\n",
    "</div>"
   ]
  },
  {
   "cell_type": "markdown",
   "metadata": {},
   "source": [
    "Построим график моделей самолетов и количества рейсов по датасету model_data"
   ]
  },
  {
   "cell_type": "code",
   "execution_count": 11,
   "metadata": {},
   "outputs": [
    {
     "data": {
      "text/plain": [
       "Text(0, 0.5, 'aircraft model')"
      ]
     },
     "execution_count": 11,
     "metadata": {},
     "output_type": "execute_result"
    },
    {
     "data": {
      "image/png": "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\n",
      "text/plain": [
       "<Figure size 720x360 with 1 Axes>"
      ]
     },
     "metadata": {
      "needs_background": "light"
     },
     "output_type": "display_data"
    }
   ],
   "source": [
    "model_data_pivot = model_data.pivot_table(index=\"model\", values=\"flights_amount\", aggfunc=\"sum\").sort_values(by='flights_amount', ascending = True)\n",
    "model_data_pivot.plot(kind='barh', color='plum', edgecolor=\"blueviolet\", legend=True, figsize=(10, 5))\n",
    "plt.title(\"Flight amount for aircraft model\")\n",
    "plt.xlabel(\"flights amount a month\")\n",
    "plt.ylabel(\"aircraft model\")\n"
   ]
  },
  {
   "cell_type": "markdown",
   "metadata": {},
   "source": [
    "В сентябре 2018 г.чаще всего летал небольшой турбовинтовой самолет Cessna 208 Caravan, поскольку компания \"F9\" выполняет только внутренние перевозки, возможно, и чартерные рейсы, скорее всего даже в отдаленные малочисленные населенные пункты, т.к. его вместимость около 13 пассажиров. Почти столько же рейсов выполнил Bombardier_CRJ200  с большей вместимостью до 50 пассажиров и дальностью полета до 3000-4000 км. На 3-м месте - Sukhoi_Superjet_100 с такой же, как у Bombardier_CRJ200 дальностью полета, но его пассажировместимость в 2 раза больше. Почти в 4 раза меньше выполнили рейсов более крупные самолеты всех моделей Airbus и Boeing. Самые крупные - Boeing 767-300 и Boeing 777-300 летали реже всего."
   ]
  },
  {
   "cell_type": "markdown",
   "metadata": {},
   "source": [
    "Построим круговую диаграмму по разделению рейсов между небольшими самолетами и авиалайнерами концернов Airbus и Boeing по датасету model_data. Для этого разобьем столбец model для выделения компании-производителя."
   ]
  },
  {
   "cell_type": "code",
   "execution_count": 12,
   "metadata": {},
   "outputs": [
    {
     "data": {
      "text/html": [
       "<div>\n",
       "<style scoped>\n",
       "    .dataframe tbody tr th:only-of-type {\n",
       "        vertical-align: middle;\n",
       "    }\n",
       "\n",
       "    .dataframe tbody tr th {\n",
       "        vertical-align: top;\n",
       "    }\n",
       "\n",
       "    .dataframe thead th {\n",
       "        text-align: right;\n",
       "    }\n",
       "</style>\n",
       "<table border=\"1\" class=\"dataframe\">\n",
       "  <thead>\n",
       "    <tr style=\"text-align: right;\">\n",
       "      <th></th>\n",
       "      <th>model</th>\n",
       "      <th>flights_amount</th>\n",
       "      <th>key</th>\n",
       "      <th>group</th>\n",
       "    </tr>\n",
       "  </thead>\n",
       "  <tbody>\n",
       "    <tr>\n",
       "      <td>0</td>\n",
       "      <td>Airbus A319-100</td>\n",
       "      <td>607</td>\n",
       "      <td>1</td>\n",
       "      <td>Airbus</td>\n",
       "    </tr>\n",
       "    <tr>\n",
       "      <td>1</td>\n",
       "      <td>Airbus A321-200</td>\n",
       "      <td>960</td>\n",
       "      <td>1</td>\n",
       "      <td>Airbus</td>\n",
       "    </tr>\n",
       "    <tr>\n",
       "      <td>2</td>\n",
       "      <td>Boeing 737-300</td>\n",
       "      <td>630</td>\n",
       "      <td>1</td>\n",
       "      <td>Boeing</td>\n",
       "    </tr>\n",
       "    <tr>\n",
       "      <td>3</td>\n",
       "      <td>Boeing 767-300</td>\n",
       "      <td>600</td>\n",
       "      <td>1</td>\n",
       "      <td>Boeing</td>\n",
       "    </tr>\n",
       "    <tr>\n",
       "      <td>4</td>\n",
       "      <td>Boeing 777-300</td>\n",
       "      <td>300</td>\n",
       "      <td>1</td>\n",
       "      <td>Boeing</td>\n",
       "    </tr>\n",
       "    <tr>\n",
       "      <td>5</td>\n",
       "      <td>Bombardier CRJ-200</td>\n",
       "      <td>4446</td>\n",
       "      <td>1</td>\n",
       "      <td>Bombardier</td>\n",
       "    </tr>\n",
       "    <tr>\n",
       "      <td>6</td>\n",
       "      <td>Cessna 208 Caravan</td>\n",
       "      <td>4557</td>\n",
       "      <td>1</td>\n",
       "      <td>Cessna</td>\n",
       "    </tr>\n",
       "    <tr>\n",
       "      <td>7</td>\n",
       "      <td>Sukhoi SuperJet-100</td>\n",
       "      <td>4185</td>\n",
       "      <td>1</td>\n",
       "      <td>Sukhoi</td>\n",
       "    </tr>\n",
       "  </tbody>\n",
       "</table>\n",
       "</div>"
      ],
      "text/plain": [
       "                 model  flights_amount  key       group\n",
       "0      Airbus A319-100             607    1      Airbus\n",
       "1      Airbus A321-200             960    1      Airbus\n",
       "2       Boeing 737-300             630    1      Boeing\n",
       "3       Boeing 767-300             600    1      Boeing\n",
       "4       Boeing 777-300             300    1      Boeing\n",
       "5   Bombardier CRJ-200            4446    1  Bombardier\n",
       "6   Cessna 208 Caravan            4557    1      Cessna\n",
       "7  Sukhoi SuperJet-100            4185    1      Sukhoi"
      ]
     },
     "metadata": {},
     "output_type": "display_data"
    }
   ],
   "source": [
    "new_model_data = model_data['model'].str.split(' ', expand=True)\n",
    "new_model_data.columns=['group','model_number','subname']\n",
    "new_model_data['key'] = 1\n",
    "model_data['key'] = 1\n",
    "new_model_data_1 = pd.merge(model_data, new_model_data[['group']], how='outer', left_index=True, right_index=True)\n",
    "display(new_model_data_1)\n"
   ]
  },
  {
   "cell_type": "markdown",
   "metadata": {},
   "source": [
    "Пропишем функцию для разделения моделей на категории"
   ]
  },
  {
   "cell_type": "code",
   "execution_count": 13,
   "metadata": {},
   "outputs": [
    {
     "data": {
      "text/html": [
       "<div>\n",
       "<style scoped>\n",
       "    .dataframe tbody tr th:only-of-type {\n",
       "        vertical-align: middle;\n",
       "    }\n",
       "\n",
       "    .dataframe tbody tr th {\n",
       "        vertical-align: top;\n",
       "    }\n",
       "\n",
       "    .dataframe thead th {\n",
       "        text-align: right;\n",
       "    }\n",
       "</style>\n",
       "<table border=\"1\" class=\"dataframe\">\n",
       "  <thead>\n",
       "    <tr style=\"text-align: right;\">\n",
       "      <th></th>\n",
       "      <th>model</th>\n",
       "      <th>flights_amount</th>\n",
       "      <th>key</th>\n",
       "      <th>group</th>\n",
       "      <th>model_group</th>\n",
       "    </tr>\n",
       "  </thead>\n",
       "  <tbody>\n",
       "    <tr>\n",
       "      <td>0</td>\n",
       "      <td>Airbus A319-100</td>\n",
       "      <td>607</td>\n",
       "      <td>1</td>\n",
       "      <td>Airbus</td>\n",
       "      <td>Airbus</td>\n",
       "    </tr>\n",
       "    <tr>\n",
       "      <td>1</td>\n",
       "      <td>Airbus A321-200</td>\n",
       "      <td>960</td>\n",
       "      <td>1</td>\n",
       "      <td>Airbus</td>\n",
       "      <td>Airbus</td>\n",
       "    </tr>\n",
       "    <tr>\n",
       "      <td>2</td>\n",
       "      <td>Boeing 737-300</td>\n",
       "      <td>630</td>\n",
       "      <td>1</td>\n",
       "      <td>Boeing</td>\n",
       "      <td>Boeing</td>\n",
       "    </tr>\n",
       "    <tr>\n",
       "      <td>3</td>\n",
       "      <td>Boeing 767-300</td>\n",
       "      <td>600</td>\n",
       "      <td>1</td>\n",
       "      <td>Boeing</td>\n",
       "      <td>Boeing</td>\n",
       "    </tr>\n",
       "    <tr>\n",
       "      <td>4</td>\n",
       "      <td>Boeing 777-300</td>\n",
       "      <td>300</td>\n",
       "      <td>1</td>\n",
       "      <td>Boeing</td>\n",
       "      <td>Boeing</td>\n",
       "    </tr>\n",
       "    <tr>\n",
       "      <td>5</td>\n",
       "      <td>Bombardier CRJ-200</td>\n",
       "      <td>4446</td>\n",
       "      <td>1</td>\n",
       "      <td>Bombardier</td>\n",
       "      <td>Small jet</td>\n",
       "    </tr>\n",
       "    <tr>\n",
       "      <td>6</td>\n",
       "      <td>Cessna 208 Caravan</td>\n",
       "      <td>4557</td>\n",
       "      <td>1</td>\n",
       "      <td>Cessna</td>\n",
       "      <td>Small jet</td>\n",
       "    </tr>\n",
       "    <tr>\n",
       "      <td>7</td>\n",
       "      <td>Sukhoi SuperJet-100</td>\n",
       "      <td>4185</td>\n",
       "      <td>1</td>\n",
       "      <td>Sukhoi</td>\n",
       "      <td>Small jet</td>\n",
       "    </tr>\n",
       "  </tbody>\n",
       "</table>\n",
       "</div>"
      ],
      "text/plain": [
       "                 model  flights_amount  key       group model_group\n",
       "0      Airbus A319-100             607    1      Airbus      Airbus\n",
       "1      Airbus A321-200             960    1      Airbus      Airbus\n",
       "2       Boeing 737-300             630    1      Boeing      Boeing\n",
       "3       Boeing 767-300             600    1      Boeing      Boeing\n",
       "4       Boeing 777-300             300    1      Boeing      Boeing\n",
       "5   Bombardier CRJ-200            4446    1  Bombardier   Small jet\n",
       "6   Cessna 208 Caravan            4557    1      Cessna   Small jet\n",
       "7  Sukhoi SuperJet-100            4185    1      Sukhoi   Small jet"
      ]
     },
     "metadata": {},
     "output_type": "display_data"
    }
   ],
   "source": [
    "def model_group(group):\n",
    "    \n",
    "    if group == 'Airbus':\n",
    "                return 'Airbus'\n",
    "    if group == 'Boeing':\n",
    "                return 'Boeing'\n",
    "    return 'Small jet'\n",
    "             \n",
    "new_model_data_1['model_group'] = new_model_data_1['group'].apply(model_group)\n",
    "display(new_model_data_1)"
   ]
  },
  {
   "cell_type": "code",
   "execution_count": 14,
   "metadata": {},
   "outputs": [
    {
     "data": {
      "text/html": [
       "<div>\n",
       "<style scoped>\n",
       "    .dataframe tbody tr th:only-of-type {\n",
       "        vertical-align: middle;\n",
       "    }\n",
       "\n",
       "    .dataframe tbody tr th {\n",
       "        vertical-align: top;\n",
       "    }\n",
       "\n",
       "    .dataframe thead th {\n",
       "        text-align: right;\n",
       "    }\n",
       "</style>\n",
       "<table border=\"1\" class=\"dataframe\">\n",
       "  <thead>\n",
       "    <tr style=\"text-align: right;\">\n",
       "      <th></th>\n",
       "      <th>flights_amount</th>\n",
       "    </tr>\n",
       "    <tr>\n",
       "      <th>model_group</th>\n",
       "      <th></th>\n",
       "    </tr>\n",
       "  </thead>\n",
       "  <tbody>\n",
       "    <tr>\n",
       "      <td>Airbus</td>\n",
       "      <td>1567</td>\n",
       "    </tr>\n",
       "    <tr>\n",
       "      <td>Boeing</td>\n",
       "      <td>1530</td>\n",
       "    </tr>\n",
       "    <tr>\n",
       "      <td>Small jet</td>\n",
       "      <td>13188</td>\n",
       "    </tr>\n",
       "  </tbody>\n",
       "</table>\n",
       "</div>"
      ],
      "text/plain": [
       "             flights_amount\n",
       "model_group                \n",
       "Airbus                 1567\n",
       "Boeing                 1530\n",
       "Small jet             13188"
      ]
     },
     "metadata": {},
     "output_type": "display_data"
    }
   ],
   "source": [
    "aircraft_group = new_model_data_1.pivot_table(index=\"model_group\", values=\"flights_amount\", aggfunc=\"sum\")\n",
    "display(aircraft_group)"
   ]
  },
  {
   "cell_type": "markdown",
   "metadata": {},
   "source": [
    "<div class=\"alert alert-block alert-warning\">\n",
    "    \n",
    "\n",
    "### Комментарий от ревьюера\n",
    "\n",
    "Константы в функции — это плохая практика. Тут ты можешь разделить по пробелу столбец model, а у в функции посмотреть на название производителя и по нему давать категорию.\n",
    "\n",
    "</div>"
   ]
  },
  {
   "cell_type": "markdown",
   "metadata": {},
   "source": [
    "<div class=\"alert alert-block alert-success\">\n",
    "    \n",
    "\n",
    "### Комментарий от ревьюера\n",
    "\n",
    "👍\n",
    "</div>"
   ]
  },
  {
   "cell_type": "code",
   "execution_count": 15,
   "metadata": {},
   "outputs": [
    {
     "data": {
      "text/plain": [
       "Text(0.5, 1.0, 'Flights month amount for aircraft model group')"
      ]
     },
     "execution_count": 15,
     "metadata": {},
     "output_type": "execute_result"
    },
    {
     "data": {
      "image/png": "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\n",
      "text/plain": [
       "<Figure size 432x288 with 1 Axes>"
      ]
     },
     "metadata": {},
     "output_type": "display_data"
    }
   ],
   "source": [
    "vals = [1567, 1530, 13188]\n",
    "labels = [\"Airbus\", \"Boeing\", \"Small jet\"]\n",
    "fig, ax = plt.subplots()\n",
    "ax.pie(vals, labels=labels, autopct='%1.1f%%', shadow=True, wedgeprops={'lw':1, 'ls':'--','edgecolor':\"k\"}, rotatelabels=True)\n",
    "ax.axis(\"equal\")\n",
    "plt.title('Flights month amount for aircraft model group')"
   ]
  },
  {
   "cell_type": "markdown",
   "metadata": {},
   "source": [
    "В авиакомпании 81% всех рейсов сентября 2018 г.выполняли небольшие самолеты - Bombardier, Cessna, Sukhoi SuperJet в одинаковой пропорции, оставшуюся часть рейсов выполняли примерно в равных долях Airbus и Boeing - 9,6% и 9,4%, соответственно. При этом в это время фестивали проходили только в 2-х городах - Москва и Владивосток. Из этого следует, что популярны были перелеты на небольшие расстояния - 2-4,5 тыс. км."
   ]
  },
  {
   "cell_type": "markdown",
   "metadata": {},
   "source": [
    "Построим график по городам и количеству рейсов по датасету city_data"
   ]
  },
  {
   "cell_type": "code",
   "execution_count": 16,
   "metadata": {},
   "outputs": [
    {
     "data": {
      "text/plain": [
       "Text(0.5, 0, 'average flights a day')"
      ]
     },
     "execution_count": 16,
     "metadata": {},
     "output_type": "execute_result"
    },
    {
     "data": {
      "image/png": "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\n",
      "text/plain": [
       "<Figure size 576x2160 with 1 Axes>"
      ]
     },
     "metadata": {
      "needs_background": "light"
     },
     "output_type": "display_data"
    }
   ],
   "source": [
    "city_data.pivot_table(index=\"city\", values=\"average_flights\", aggfunc=\"sum\").sort_values(by='average_flights', ascending=True).plot(kind='barh', color='lime', edgecolor=\"darkgreen\", title='Average flights by cities', legend=True, figsize=(8, 30))\n",
    "plt.xlabel(\"average flights a day\")\n"
   ]
  },
  {
   "cell_type": "markdown",
   "metadata": {},
   "source": [
    "<div class=\"alert alert-block alert-warning\">\n",
    "    \n",
    "\n",
    "### Комментарий от ревьюера\n",
    "\n",
    "Вот тут нужно подписать ось X. Легенда нужна, если на графике есть несколько категорий данных, а у нас она тут всего одна.\n",
    "\n",
    "</div>"
   ]
  },
  {
   "cell_type": "markdown",
   "metadata": {},
   "source": [
    "<div class=\"alert alert-block alert-success\">\n",
    "    \n",
    "\n",
    "### Комментарий от ревьюера\n",
    "\n",
    "👍\n",
    "</div>"
   ]
  },
  {
   "cell_type": "markdown",
   "metadata": {},
   "source": [
    "Проверим более детально основные параметры количества рейсов методом describe(), т.к. количественные данные по большинству городов невысокие."
   ]
  },
  {
   "cell_type": "code",
   "execution_count": 17,
   "metadata": {},
   "outputs": [
    {
     "data": {
      "text/html": [
       "<div>\n",
       "<style scoped>\n",
       "    .dataframe tbody tr th:only-of-type {\n",
       "        vertical-align: middle;\n",
       "    }\n",
       "\n",
       "    .dataframe tbody tr th {\n",
       "        vertical-align: top;\n",
       "    }\n",
       "\n",
       "    .dataframe thead th {\n",
       "        text-align: right;\n",
       "    }\n",
       "</style>\n",
       "<table border=\"1\" class=\"dataframe\">\n",
       "  <thead>\n",
       "    <tr style=\"text-align: right;\">\n",
       "      <th></th>\n",
       "      <th>average_flights</th>\n",
       "    </tr>\n",
       "  </thead>\n",
       "  <tbody>\n",
       "    <tr>\n",
       "      <td>count</td>\n",
       "      <td>101.000000</td>\n",
       "    </tr>\n",
       "    <tr>\n",
       "      <td>mean</td>\n",
       "      <td>5.217822</td>\n",
       "    </tr>\n",
       "    <tr>\n",
       "      <td>std</td>\n",
       "      <td>13.061090</td>\n",
       "    </tr>\n",
       "    <tr>\n",
       "      <td>min</td>\n",
       "      <td>1.000000</td>\n",
       "    </tr>\n",
       "    <tr>\n",
       "      <td>25%</td>\n",
       "      <td>2.000000</td>\n",
       "    </tr>\n",
       "    <tr>\n",
       "      <td>50%</td>\n",
       "      <td>3.000000</td>\n",
       "    </tr>\n",
       "    <tr>\n",
       "      <td>75%</td>\n",
       "      <td>5.000000</td>\n",
       "    </tr>\n",
       "    <tr>\n",
       "      <td>max</td>\n",
       "      <td>129.000000</td>\n",
       "    </tr>\n",
       "  </tbody>\n",
       "</table>\n",
       "</div>"
      ],
      "text/plain": [
       "       average_flights\n",
       "count       101.000000\n",
       "mean          5.217822\n",
       "std          13.061090\n",
       "min           1.000000\n",
       "25%           2.000000\n",
       "50%           3.000000\n",
       "75%           5.000000\n",
       "max         129.000000"
      ]
     },
     "execution_count": 17,
     "metadata": {},
     "output_type": "execute_result"
    }
   ],
   "source": [
    "city_data.describe()"
   ]
  },
  {
   "cell_type": "markdown",
   "metadata": {},
   "source": [
    "Проверим, сколько городов принимают минимальное количество рейсов в день."
   ]
  },
  {
   "cell_type": "code",
   "execution_count": 18,
   "metadata": {},
   "outputs": [
    {
     "data": {
      "text/html": [
       "<div>\n",
       "<style scoped>\n",
       "    .dataframe tbody tr th:only-of-type {\n",
       "        vertical-align: middle;\n",
       "    }\n",
       "\n",
       "    .dataframe tbody tr th {\n",
       "        vertical-align: top;\n",
       "    }\n",
       "\n",
       "    .dataframe thead th {\n",
       "        text-align: right;\n",
       "    }\n",
       "</style>\n",
       "<table border=\"1\" class=\"dataframe\">\n",
       "  <thead>\n",
       "    <tr style=\"text-align: right;\">\n",
       "      <th></th>\n",
       "      <th>city</th>\n",
       "      <th>average_flights</th>\n",
       "    </tr>\n",
       "  </thead>\n",
       "  <tbody>\n",
       "    <tr>\n",
       "      <td>1</td>\n",
       "      <td>Анадырь</td>\n",
       "      <td>1</td>\n",
       "    </tr>\n",
       "    <tr>\n",
       "      <td>8</td>\n",
       "      <td>Благовещенск</td>\n",
       "      <td>1</td>\n",
       "    </tr>\n",
       "    <tr>\n",
       "      <td>9</td>\n",
       "      <td>Братск</td>\n",
       "      <td>1</td>\n",
       "    </tr>\n",
       "    <tr>\n",
       "      <td>18</td>\n",
       "      <td>Горно-Алтайск</td>\n",
       "      <td>1</td>\n",
       "    </tr>\n",
       "    <tr>\n",
       "      <td>19</td>\n",
       "      <td>Грозный</td>\n",
       "      <td>1</td>\n",
       "    </tr>\n",
       "    <tr>\n",
       "      <td>21</td>\n",
       "      <td>Иваново</td>\n",
       "      <td>1</td>\n",
       "    </tr>\n",
       "    <tr>\n",
       "      <td>22</td>\n",
       "      <td>Ижевск</td>\n",
       "      <td>1</td>\n",
       "    </tr>\n",
       "    <tr>\n",
       "      <td>31</td>\n",
       "      <td>Комсомольск-на-Амуре</td>\n",
       "      <td>1</td>\n",
       "    </tr>\n",
       "    <tr>\n",
       "      <td>36</td>\n",
       "      <td>Кызыл</td>\n",
       "      <td>1</td>\n",
       "    </tr>\n",
       "    <tr>\n",
       "      <td>37</td>\n",
       "      <td>Липецк</td>\n",
       "      <td>1</td>\n",
       "    </tr>\n",
       "    <tr>\n",
       "      <td>38</td>\n",
       "      <td>Магадан</td>\n",
       "      <td>1</td>\n",
       "    </tr>\n",
       "    <tr>\n",
       "      <td>49</td>\n",
       "      <td>Нефтеюганск</td>\n",
       "      <td>1</td>\n",
       "    </tr>\n",
       "    <tr>\n",
       "      <td>58</td>\n",
       "      <td>Нягань</td>\n",
       "      <td>1</td>\n",
       "    </tr>\n",
       "    <tr>\n",
       "      <td>61</td>\n",
       "      <td>Орск</td>\n",
       "      <td>1</td>\n",
       "    </tr>\n",
       "    <tr>\n",
       "      <td>65</td>\n",
       "      <td>Петропавловск-Камчатский</td>\n",
       "      <td>1</td>\n",
       "    </tr>\n",
       "    <tr>\n",
       "      <td>66</td>\n",
       "      <td>Псков</td>\n",
       "      <td>1</td>\n",
       "    </tr>\n",
       "    <tr>\n",
       "      <td>76</td>\n",
       "      <td>Стрежевой</td>\n",
       "      <td>1</td>\n",
       "    </tr>\n",
       "    <tr>\n",
       "      <td>83</td>\n",
       "      <td>Улан-Удэ</td>\n",
       "      <td>1</td>\n",
       "    </tr>\n",
       "    <tr>\n",
       "      <td>86</td>\n",
       "      <td>Усинск</td>\n",
       "      <td>1</td>\n",
       "    </tr>\n",
       "    <tr>\n",
       "      <td>88</td>\n",
       "      <td>Усть-Кут</td>\n",
       "      <td>1</td>\n",
       "    </tr>\n",
       "    <tr>\n",
       "      <td>96</td>\n",
       "      <td>Чита</td>\n",
       "      <td>1</td>\n",
       "    </tr>\n",
       "    <tr>\n",
       "      <td>100</td>\n",
       "      <td>Ярославль</td>\n",
       "      <td>1</td>\n",
       "    </tr>\n",
       "  </tbody>\n",
       "</table>\n",
       "</div>"
      ],
      "text/plain": [
       "                         city  average_flights\n",
       "1                     Анадырь                1\n",
       "8                Благовещенск                1\n",
       "9                      Братск                1\n",
       "18              Горно-Алтайск                1\n",
       "19                    Грозный                1\n",
       "21                    Иваново                1\n",
       "22                     Ижевск                1\n",
       "31       Комсомольск-на-Амуре                1\n",
       "36                      Кызыл                1\n",
       "37                     Липецк                1\n",
       "38                    Магадан                1\n",
       "49                Нефтеюганск                1\n",
       "58                     Нягань                1\n",
       "61                       Орск                1\n",
       "65   Петропавловск-Камчатский                1\n",
       "66                      Псков                1\n",
       "76                  Стрежевой                1\n",
       "83                   Улан-Удэ                1\n",
       "86                     Усинск                1\n",
       "88                   Усть-Кут                1\n",
       "96                       Чита                1\n",
       "100                 Ярославль                1"
      ]
     },
     "metadata": {},
     "output_type": "display_data"
    },
    {
     "data": {
      "text/plain": [
       "city               22\n",
       "average_flights    22\n",
       "dtype: int64"
      ]
     },
     "metadata": {},
     "output_type": "display_data"
    }
   ],
   "source": [
    "display(city_data.query('average_flights <=1'))\n",
    "display(city_data.query('average_flights <=1').count())"
   ]
  },
  {
   "cell_type": "markdown",
   "metadata": {},
   "source": [
    "Из 102 городов только 3 города принимали более 15 рейсов в день в августе 2018 г. 75% городов принимали 5 рейсов в день. Максимально - 129 в Москве и минимально - по одному в 12 городах от Усинска до Благовещенска."
   ]
  },
  {
   "cell_type": "markdown",
   "metadata": {},
   "source": [
    "Нашей задачей было проанализировать спрос пассажиров на рейсы в города, где проходят крупнейшие фестивали. Вернемся к датасету festivals. Создадим срезы только по августу 2018 года из таблиц по фестивалям и рейсам."
   ]
  },
  {
   "cell_type": "code",
   "execution_count": 19,
   "metadata": {},
   "outputs": [
    {
     "data": {
      "text/html": [
       "<div>\n",
       "<style scoped>\n",
       "    .dataframe tbody tr th:only-of-type {\n",
       "        vertical-align: middle;\n",
       "    }\n",
       "\n",
       "    .dataframe tbody tr th {\n",
       "        vertical-align: top;\n",
       "    }\n",
       "\n",
       "    .dataframe thead th {\n",
       "        text-align: right;\n",
       "    }\n",
       "</style>\n",
       "<table border=\"1\" class=\"dataframe\">\n",
       "  <thead>\n",
       "    <tr style=\"text-align: right;\">\n",
       "      <th></th>\n",
       "      <th>festival_name</th>\n",
       "      <th>city</th>\n",
       "      <th>festival_date</th>\n",
       "      <th>festival_month</th>\n",
       "    </tr>\n",
       "  </thead>\n",
       "  <tbody>\n",
       "    <tr>\n",
       "      <td>1</td>\n",
       "      <td>Фестиваль музыки и технологий Alfa Future People</td>\n",
       "      <td>Нижний Новгород</td>\n",
       "      <td>2018-08-10</td>\n",
       "      <td>8</td>\n",
       "    </tr>\n",
       "    <tr>\n",
       "      <td>5</td>\n",
       "      <td>Пикник Афиши</td>\n",
       "      <td>Москва</td>\n",
       "      <td>2018-08-04</td>\n",
       "      <td>8</td>\n",
       "    </tr>\n",
       "    <tr>\n",
       "      <td>7</td>\n",
       "      <td>Фестиваль «О, да! Еда!»</td>\n",
       "      <td>Иркутск</td>\n",
       "      <td>2018-08-25</td>\n",
       "      <td>8</td>\n",
       "    </tr>\n",
       "    <tr>\n",
       "      <td>10</td>\n",
       "      <td>«Нашествие 2018»</td>\n",
       "      <td>Тверь</td>\n",
       "      <td>2018-08-05</td>\n",
       "      <td>8</td>\n",
       "    </tr>\n",
       "  </tbody>\n",
       "</table>\n",
       "</div>"
      ],
      "text/plain": [
       "                                       festival_name             city  \\\n",
       "1   Фестиваль музыки и технологий Alfa Future People  Нижний Новгород   \n",
       "5                                       Пикник Афиши           Москва   \n",
       "7                            Фестиваль «О, да! Еда!»          Иркутск   \n",
       "10                                  «Нашествие 2018»            Тверь   \n",
       "\n",
       "   festival_date  festival_month  \n",
       "1     2018-08-10               8  \n",
       "5     2018-08-04               8  \n",
       "7     2018-08-25               8  \n",
       "10    2018-08-05               8  "
      ]
     },
     "metadata": {},
     "output_type": "display_data"
    }
   ],
   "source": [
    "august_fest = festivals.query('festival_month == 8')\n",
    "display(august_fest)\n"
   ]
  },
  {
   "cell_type": "code",
   "execution_count": 20,
   "metadata": {},
   "outputs": [
    {
     "data": {
      "text/html": [
       "<div>\n",
       "<style scoped>\n",
       "    .dataframe tbody tr th:only-of-type {\n",
       "        vertical-align: middle;\n",
       "    }\n",
       "\n",
       "    .dataframe tbody tr th {\n",
       "        vertical-align: top;\n",
       "    }\n",
       "\n",
       "    .dataframe thead th {\n",
       "        text-align: right;\n",
       "    }\n",
       "</style>\n",
       "<table border=\"1\" class=\"dataframe\">\n",
       "  <thead>\n",
       "    <tr style=\"text-align: right;\">\n",
       "      <th></th>\n",
       "      <th>city</th>\n",
       "      <th>average_flights</th>\n",
       "    </tr>\n",
       "  </thead>\n",
       "  <tbody>\n",
       "    <tr>\n",
       "      <td>23</td>\n",
       "      <td>Иркутск</td>\n",
       "      <td>6</td>\n",
       "    </tr>\n",
       "    <tr>\n",
       "      <td>43</td>\n",
       "      <td>Москва</td>\n",
       "      <td>129</td>\n",
       "    </tr>\n",
       "    <tr>\n",
       "      <td>52</td>\n",
       "      <td>Нижний Новгород</td>\n",
       "      <td>5</td>\n",
       "    </tr>\n",
       "  </tbody>\n",
       "</table>\n",
       "</div>"
      ],
      "text/plain": [
       "               city  average_flights\n",
       "23          Иркутск                6\n",
       "43           Москва              129\n",
       "52  Нижний Новгород                5"
      ]
     },
     "metadata": {},
     "output_type": "display_data"
    }
   ],
   "source": [
    "august_city = city_data.query('city in (\"Нижний Новгород\", \"Москва\", \"Иркутск\", \"Тверь\")')\n",
    "display(august_city)\n",
    "                              \n",
    "                              "
   ]
  },
  {
   "cell_type": "markdown",
   "metadata": {},
   "source": [
    "Объединим срезы данных в одну общую таблицу с данными по фестивалям и рейсам"
   ]
  },
  {
   "cell_type": "code",
   "execution_count": 21,
   "metadata": {},
   "outputs": [
    {
     "data": {
      "text/html": [
       "<div>\n",
       "<style scoped>\n",
       "    .dataframe tbody tr th:only-of-type {\n",
       "        vertical-align: middle;\n",
       "    }\n",
       "\n",
       "    .dataframe tbody tr th {\n",
       "        vertical-align: top;\n",
       "    }\n",
       "\n",
       "    .dataframe thead th {\n",
       "        text-align: right;\n",
       "    }\n",
       "</style>\n",
       "<table border=\"1\" class=\"dataframe\">\n",
       "  <thead>\n",
       "    <tr style=\"text-align: right;\">\n",
       "      <th></th>\n",
       "      <th>festival_name</th>\n",
       "      <th>city</th>\n",
       "      <th>festival_date</th>\n",
       "      <th>festival_month</th>\n",
       "      <th>average_flights</th>\n",
       "    </tr>\n",
       "  </thead>\n",
       "  <tbody>\n",
       "    <tr>\n",
       "      <td>0</td>\n",
       "      <td>Фестиваль музыки и технологий Alfa Future People</td>\n",
       "      <td>Нижний Новгород</td>\n",
       "      <td>2018-08-10</td>\n",
       "      <td>8</td>\n",
       "      <td>5</td>\n",
       "    </tr>\n",
       "    <tr>\n",
       "      <td>1</td>\n",
       "      <td>Пикник Афиши</td>\n",
       "      <td>Москва</td>\n",
       "      <td>2018-08-04</td>\n",
       "      <td>8</td>\n",
       "      <td>129</td>\n",
       "    </tr>\n",
       "    <tr>\n",
       "      <td>2</td>\n",
       "      <td>Фестиваль «О, да! Еда!»</td>\n",
       "      <td>Иркутск</td>\n",
       "      <td>2018-08-25</td>\n",
       "      <td>8</td>\n",
       "      <td>6</td>\n",
       "    </tr>\n",
       "  </tbody>\n",
       "</table>\n",
       "</div>"
      ],
      "text/plain": [
       "                                      festival_name             city  \\\n",
       "0  Фестиваль музыки и технологий Alfa Future People  Нижний Новгород   \n",
       "1                                      Пикник Афиши           Москва   \n",
       "2                           Фестиваль «О, да! Еда!»          Иркутск   \n",
       "\n",
       "  festival_date  festival_month  average_flights  \n",
       "0    2018-08-10               8                5  \n",
       "1    2018-08-04               8              129  \n",
       "2    2018-08-25               8                6  "
      ]
     },
     "metadata": {},
     "output_type": "display_data"
    }
   ],
   "source": [
    "total = august_fest.merge(august_city , on='city')\n",
    "display(total)"
   ]
  },
  {
   "cell_type": "markdown",
   "metadata": {},
   "source": [
    "В августе 2018 года проходило 4 крупнейших фестиваля. Количество рейсов в Нижний Новгород и Иркутск в пределах среднего по всем 102 городам. Рейсов в Москву с большим отрывом больше, хотя в это время был только один фестиваль, причем несмотря на фестивали в Иркутск и Нижний Новгород рейсов было в 25 раз меньше, чем в Москву. \"Нашествие\" в Твери не попало в общий список, т.к. в городе нет аэропорта гражданской авиации, все рейсы прилетают через Москву."
   ]
  },
  {
   "cell_type": "markdown",
   "metadata": {},
   "source": [
    "На данном этапе рассмотрены и определены:\n",
    "\n",
    "- топ-10 городов с наибольшим количеством рейсов в августе 2018 года;\n",
    "- динамика количества рейсов по 102 городам;\n",
    "- модели самолетов с наибольшим количеством рейсов в сентябре 2018 года;\n",
    "- распределение доли рейсов между моделями воздушных судов для авиалиний малой протяженности, а также средней и большой протяженности (в сравнении основных лидирующих авиаконцернов Airbus и Boeing);\n",
    "- сопоставление месяцев проведения фестивалей и среднего количества рейсов, прибывающих в города проведения фестивалей."
   ]
  },
  {
   "cell_type": "markdown",
   "metadata": {},
   "source": [
    "<div class=\"alert alert-block alert-warning\">\n",
    "    \n",
    "\n",
    "### Комментарий от ревьюера\n",
    "\n",
    "Данному этапу нужен общий вывод.\n",
    "\n",
    "</div>"
   ]
  },
  {
   "cell_type": "markdown",
   "metadata": {},
   "source": [
    "<div class=\"alert alert-block alert-success\">\n",
    "    \n",
    "\n",
    "### Комментарий от ревьюера\n",
    "\n",
    "👍\n",
    "</div>"
   ]
  },
  {
   "cell_type": "markdown",
   "metadata": {},
   "source": [
    "<div id='id-Вывод'/>\n",
    "\n",
    "### Вывод\n",
    "\n",
    "Мы рассмотрели 3 датасета с данными по городам, моделям воздушных судов, количеству рейсов и фестивалям. Данные достаточно \"чистые\", без пропущенных значений. На основании данных можно сделать следующие выводы:\n",
    "\n",
    "1. ТОП-10 городов по количеству рейсов согласно данным за август 2018 г.: Москва, Санкт-Петербург, Новосибирск - от 129 до 17 рейсов в день; Екатеринбург, Красноярск, Пермь, Ростов-на-Дону, Брянск - с почти одинаковым количеством рейсов 10-11, а также Ульяновск и Советский\t- по 9 рейсов в день.\n",
    "\n",
    "2. 75% городов из 102 принимали по 5 рейсов в день, что является средним показателем для всей выборки. Максимально - 129 в Москве и минимально - по одному в 12 городах от Усинска до Благовещенска.\n",
    "\n",
    "3. В сентябре 2018 г.чаще всего летали воздушные судна для авиалиний малой протяженности следующих моделей с близкими данными по количеству рейсов в месяц:\n",
    "- Cessna 208 Caravan - 4 557\n",
    "- Bombardier_CRJ200 -  4 446\n",
    "- Sukhoi_Superjet_100 -4 185\n",
    "\n",
    "Модели судов для авиаалиний средней и большой протяженности выполнили рейсов почти в 4 раза меньше, но с почти одинаковом количеством рейсов для обоих концернов. Самые крупные самолеты - Boeing 767-300 и Boeing 777-300 летали реже всего:\n",
    "\n",
    "- Airbus\t- 1567\n",
    "- Boeing\t- 1530\n",
    "\n",
    "В совокупности доля рейсов небольших самолетов составляет 81%, а Boeing и Airbus выполняют по 9,5% всех рейсов.\n",
    "\n",
    "4. Проведя исследование по 102 городам и 11 лучшим фестивалям 2018 года, можно прийти к выводу, что нет прямой зависимости роста спроса пассажиров на рейсы в города, где проходят крупнейшие фестивали.\n",
    "Самое большое количество рейсов направляется в Москву, но изучив продажи билетов по данному направлению в период с 23 июля по 30 сентября 2018 года во время проведения фестивалей: Park Live, Пикник Афиши, Видфест, мы выяснили, что среднее количество проданных билетов в неделю составляло от 43568 до 51386, что не отличается от продаж в другое, свободное о фестивалей время.\n",
    "\n"
   ]
  },
  {
   "cell_type": "markdown",
   "metadata": {},
   "source": [
    "<div class=\"alert alert-block alert-warning\">\n",
    "    \n",
    "\n",
    "### Комментарий от ревьюера\n",
    "\n",
    "Во второй части вывода какая-то не понятная информация) В общий вывод нужно добавить информацию о наших данных, какие в них есть проблемы, потом нет никаких данных о количестве рейсов, самых крупных хабах, моледях самолетов и т.д.\n",
    "\n",
    "</div>"
   ]
  },
  {
   "cell_type": "markdown",
   "metadata": {},
   "source": [
    "<div class=\"alert alert-block alert-success\">\n",
    "    \n",
    "\n",
    "### Комментарий от ревьюера\n",
    "\n",
    "👍\n",
    "</div>"
   ]
  },
  {
   "cell_type": "code",
   "execution_count": null,
   "metadata": {},
   "outputs": [],
   "source": []
  }
 ],
 "metadata": {
  "kernelspec": {
   "display_name": "Python 3",
   "language": "python",
   "name": "python3"
  },
  "language_info": {
   "codemirror_mode": {
    "name": "ipython",
    "version": 3
   },
   "file_extension": ".py",
   "mimetype": "text/x-python",
   "name": "python",
   "nbconvert_exporter": "python",
   "pygments_lexer": "ipython3",
   "version": "3.7.6"
  }
 },
 "nbformat": 4,
 "nbformat_minor": 2
}
