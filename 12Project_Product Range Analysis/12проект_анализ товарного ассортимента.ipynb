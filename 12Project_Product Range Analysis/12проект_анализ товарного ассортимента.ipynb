{
 "cells": [
  {
   "cell_type": "markdown",
   "metadata": {},
   "source": [
    "---\n",
    "<div class=\"alert alert-block alert-success\">\n",
    "\n",
    "## Комментарий от наставника\n",
    "\n",
    "Сейчас все круто. Заказчику будут понятны выводы, у коллег будет минимум вопросов по коду. Проект засчитан, поздравляю!\n",
    "</div>\n",
    "\n",
    "---"
   ]
  },
  {
   "cell_type": "markdown",
   "metadata": {},
   "source": [
    "---\n",
    "\n",
    "<div class=\"alert alert-block alert-danger\">\n",
    "    \n",
    "\n",
    "## Обновление\n",
    "\n",
    "Спасибо за доработки, остался все еще вопрос по дубликатам заказов. Пример дубликатов ниже.\n",
    "    \n",
    "Можно удалить такие поворения, используя метод drop_duplicates, указав в списке столбцов customer_id, order_id, product.\n",
    "</div>\n",
    "    \n",
    "---"
   ]
  },
  {
   "cell_type": "code",
   "execution_count": 156,
   "metadata": {},
   "outputs": [
    {
     "data": {
      "text/html": [
       "<div>\n",
       "<style scoped>\n",
       "    .dataframe tbody tr th:only-of-type {\n",
       "        vertical-align: middle;\n",
       "    }\n",
       "\n",
       "    .dataframe tbody tr th {\n",
       "        vertical-align: top;\n",
       "    }\n",
       "\n",
       "    .dataframe thead th {\n",
       "        text-align: right;\n",
       "    }\n",
       "</style>\n",
       "<table border=\"1\" class=\"dataframe\">\n",
       "  <thead>\n",
       "    <tr style=\"text-align: right;\">\n",
       "      <th></th>\n",
       "      <th>date</th>\n",
       "      <th>customer_id</th>\n",
       "      <th>order_id</th>\n",
       "      <th>product</th>\n",
       "      <th>quantity</th>\n",
       "      <th>price</th>\n",
       "      <th>month</th>\n",
       "      <th>week</th>\n",
       "      <th>day</th>\n",
       "      <th>turnover</th>\n",
       "    </tr>\n",
       "  </thead>\n",
       "  <tbody>\n",
       "  </tbody>\n",
       "</table>\n",
       "</div>"
      ],
      "text/plain": [
       "Empty DataFrame\n",
       "Columns: [date, customer_id, order_id, product, quantity, price, month, week, day, turnover]\n",
       "Index: []"
      ]
     },
     "execution_count": 156,
     "metadata": {},
     "output_type": "execute_result"
    }
   ],
   "source": [
    "data_clean[\n",
    "    (data_clean.customer_id == '1d6c8c1f-a799-4418-9af2-1ded47d7a85c') & \n",
    "    (data_clean.order_id == 14833) & \n",
    "    (data_clean['product'] == 'Рассада Кабачка сорт Зебра кассета 6 шт E6')]"
   ]
  },
  {
   "cell_type": "markdown",
   "metadata": {},
   "source": [
    "---\n",
    "\n",
    "<div class=\"alert alert-block alert-danger\">\n",
    "    \n",
    "\n",
    "## Комментарий от наставника\n",
    "\n",
    "Привет! Спасибо за проект. Ход решения выбран совершенно верно. Однако, очень не хватает предобработки данных. Добавил комментарии в красных блоках что можно проверить. Предобработка может сильно изменить все дальнейшие результаты.\n",
    "</div>\n",
    "    \n",
    "---"
   ]
  },
  {
   "cell_type": "markdown",
   "metadata": {},
   "source": [
    "## E-commerce — Анализ товарного ассортимента\n",
    "\n",
    "### Описание проекта\n",
    "\n",
    "Для интернет-магазина товаров для дома «Пока все ещё тут» необходимо провести анализ товарного ассортимента, а также составить профиль покупателей. Следует определить самые прибыльные и самые популярные товары. Выделить категорию товаров для продвижения и для исключения из ассортимента. Предложить рекомендации для оптимизации ассортимента товаров.\n"
   ]
  },
  {
   "cell_type": "markdown",
   "metadata": {},
   "source": [
    "### Материалы:\n",
    "\n",
    "* [Презентация](https://1drv.ms/b/s!Ao-uCSnRVdO4ggM_9KBg5SxjcZ3i?e=gnZ5X8)\n",
    "\n",
    "* [Дашборд по набору №1](https://public.tableau.com/profile/inna.khvan#!/vizhome/Sales_quantity/Dashboard1?publish=yes)"
   ]
  },
  {
   "cell_type": "markdown",
   "metadata": {},
   "source": [
    "### Содержание\n",
    "\n",
    "1. [Подготовка данных](#start)\n",
    "2. [Анализ данных](#analysis)\n",
    "3. [Проверка статистических гипотез](#hypothesis)\n",
    "4. [Общий вывод](#output)\n"
   ]
  },
  {
   "cell_type": "markdown",
   "metadata": {},
   "source": [
    "<a id=\"start\"></a>\n",
    "### 1. Подготовка данных"
   ]
  },
  {
   "cell_type": "code",
   "execution_count": 3,
   "metadata": {},
   "outputs": [],
   "source": [
    "import pandas as pd\n",
    "import matplotlib.pyplot as plt\n",
    "import numpy as np\n",
    "import seaborn as sns\n",
    "from datetime import datetime\n",
    "import datetime as dt\n",
    "import scipy.stats as stats\n",
    "from scipy import stats as st\n",
    "import math as mth\n",
    "pd.set_option('display.max_colwidth', -1)"
   ]
  },
  {
   "cell_type": "markdown",
   "metadata": {},
   "source": [
    "Откроем и изучим файл с данными, удалив точку с запятой в последнем столбце.\n"
   ]
  },
  {
   "cell_type": "code",
   "execution_count": 4,
   "metadata": {},
   "outputs": [
    {
     "data": {
      "text/html": [
       "<div>\n",
       "<style scoped>\n",
       "    .dataframe tbody tr th:only-of-type {\n",
       "        vertical-align: middle;\n",
       "    }\n",
       "\n",
       "    .dataframe tbody tr th {\n",
       "        vertical-align: top;\n",
       "    }\n",
       "\n",
       "    .dataframe thead th {\n",
       "        text-align: right;\n",
       "    }\n",
       "</style>\n",
       "<table border=\"1\" class=\"dataframe\">\n",
       "  <thead>\n",
       "    <tr style=\"text-align: right;\">\n",
       "      <th></th>\n",
       "      <th>date</th>\n",
       "      <th>customer_id</th>\n",
       "      <th>order_id</th>\n",
       "      <th>product</th>\n",
       "      <th>quantity</th>\n",
       "      <th>price</th>\n",
       "    </tr>\n",
       "  </thead>\n",
       "  <tbody>\n",
       "    <tr>\n",
       "      <td>0</td>\n",
       "      <td>2018100100</td>\n",
       "      <td>ee47d746-6d2f-4d3c-9622-c31412542920</td>\n",
       "      <td>68477</td>\n",
       "      <td>Комнатное растение в горшке Алое Вера, d12, h30</td>\n",
       "      <td>1.0</td>\n",
       "      <td>142.0</td>\n",
       "    </tr>\n",
       "    <tr>\n",
       "      <td>1</td>\n",
       "      <td>2018100100</td>\n",
       "      <td>ee47d746-6d2f-4d3c-9622-c31412542920</td>\n",
       "      <td>68477</td>\n",
       "      <td>Комнатное растение в горшке Кофе Арабика, d12, h25</td>\n",
       "      <td>1.0</td>\n",
       "      <td>194.0</td>\n",
       "    </tr>\n",
       "    <tr>\n",
       "      <td>2</td>\n",
       "      <td>2018100100</td>\n",
       "      <td>ee47d746-6d2f-4d3c-9622-c31412542920</td>\n",
       "      <td>68477</td>\n",
       "      <td>Радермахера d-12 см h-20 см</td>\n",
       "      <td>1.0</td>\n",
       "      <td>112.0</td>\n",
       "    </tr>\n",
       "    <tr>\n",
       "      <td>3</td>\n",
       "      <td>2018100100</td>\n",
       "      <td>ee47d746-6d2f-4d3c-9622-c31412542920</td>\n",
       "      <td>68477</td>\n",
       "      <td>Хризолидокарпус Лутесценс d-9 см</td>\n",
       "      <td>1.0</td>\n",
       "      <td>179.0</td>\n",
       "    </tr>\n",
       "    <tr>\n",
       "      <td>4</td>\n",
       "      <td>2018100100</td>\n",
       "      <td>ee47d746-6d2f-4d3c-9622-c31412542920</td>\n",
       "      <td>68477</td>\n",
       "      <td>Циперус Зумула d-12 см h-25 см</td>\n",
       "      <td>1.0</td>\n",
       "      <td>112.0</td>\n",
       "    </tr>\n",
       "  </tbody>\n",
       "</table>\n",
       "</div>"
      ],
      "text/plain": [
       "         date                           customer_id  order_id  \\\n",
       "0  2018100100  ee47d746-6d2f-4d3c-9622-c31412542920  68477      \n",
       "1  2018100100  ee47d746-6d2f-4d3c-9622-c31412542920  68477      \n",
       "2  2018100100  ee47d746-6d2f-4d3c-9622-c31412542920  68477      \n",
       "3  2018100100  ee47d746-6d2f-4d3c-9622-c31412542920  68477      \n",
       "4  2018100100  ee47d746-6d2f-4d3c-9622-c31412542920  68477      \n",
       "\n",
       "                                              product  quantity  price  \n",
       "0  Комнатное растение в горшке Алое Вера, d12, h30     1.0       142.0  \n",
       "1  Комнатное растение в горшке Кофе Арабика, d12, h25  1.0       194.0  \n",
       "2  Радермахера d-12 см h-20 см                         1.0       112.0  \n",
       "3  Хризолидокарпус Лутесценс d-9 см                    1.0       179.0  \n",
       "4  Циперус Зумула d-12 см h-25 см                      1.0       112.0  "
      ]
     },
     "metadata": {},
     "output_type": "display_data"
    },
    {
     "name": "stdout",
     "output_type": "stream",
     "text": [
      "<class 'pandas.core.frame.DataFrame'>\n",
      "RangeIndex: 6737 entries, 0 to 6736\n",
      "Data columns (total 6 columns):\n",
      "date           6737 non-null int64\n",
      "customer_id    6737 non-null object\n",
      "order_id       6737 non-null int64\n",
      "product        6737 non-null object\n",
      "quantity       6736 non-null float64\n",
      "price          6736 non-null float64\n",
      "dtypes: float64(2), int64(2), object(2)\n",
      "memory usage: 315.9+ KB\n"
     ]
    },
    {
     "data": {
      "text/plain": [
       "0"
      ]
     },
     "execution_count": 4,
     "metadata": {},
     "output_type": "execute_result"
    }
   ],
   "source": [
    "data = pd.read_csv('/datasets/ecommerce_dataset.csv', comment=';', sep=',')\n",
    "display(data.head())\n",
    "data.info()\n",
    "data.duplicated().sum()\n"
   ]
  },
  {
   "cell_type": "markdown",
   "metadata": {},
   "source": [
    "Проверим количество пропусков"
   ]
  },
  {
   "cell_type": "code",
   "execution_count": 5,
   "metadata": {},
   "outputs": [
    {
     "data": {
      "text/plain": [
       "date           0\n",
       "customer_id    0\n",
       "order_id       0\n",
       "product        0\n",
       "quantity       1\n",
       "price          1\n",
       "dtype: int64"
      ]
     },
     "execution_count": 5,
     "metadata": {},
     "output_type": "execute_result"
    }
   ],
   "source": [
    "data.isna().sum()"
   ]
  },
  {
   "cell_type": "markdown",
   "metadata": {},
   "source": [
    "В датасете 6 столбцов и 6 737 строк. По одному пропуску есть в столбцах quantity и price, количество пропусков несущественно, поэтому их можно удалить.\n",
    "Типы данных: \"целые числа\", \"вещественные числа\" и \"строчные\". Необходимо изменить с \"целого\" на \"временной\" в столбце с датой. \n",
    "\n",
    "Названия столбцов:\n",
    "- `date` — дата заказа;\n",
    "- `customer_id` — идентификатор покупателя;\n",
    "- `order_id` — идентификатор заказа;\n",
    "- `product` — наименование товара;\n",
    "- `quantity` — количество товара в заказе;\n",
    "- `price` — цена товара."
   ]
  },
  {
   "cell_type": "markdown",
   "metadata": {},
   "source": [
    "Удаляем 1 пропущенную строку "
   ]
  },
  {
   "cell_type": "code",
   "execution_count": 6,
   "metadata": {},
   "outputs": [
    {
     "name": "stdout",
     "output_type": "stream",
     "text": [
      "<class 'pandas.core.frame.DataFrame'>\n",
      "Int64Index: 6736 entries, 0 to 6736\n",
      "Data columns (total 6 columns):\n",
      "date           6736 non-null int64\n",
      "customer_id    6736 non-null object\n",
      "order_id       6736 non-null int64\n",
      "product        6736 non-null object\n",
      "quantity       6736 non-null float64\n",
      "price          6736 non-null float64\n",
      "dtypes: float64(2), int64(2), object(2)\n",
      "memory usage: 368.4+ KB\n"
     ]
    }
   ],
   "source": [
    "data.dropna(inplace=True)\n",
    "data.info()"
   ]
  },
  {
   "cell_type": "markdown",
   "metadata": {},
   "source": [
    "Изменим тип данных в столбце date на временной.\n",
    "\n",
    "Сначала переведем целочисленный в строчный тип данных, затем из строчного в тип данных 'дата и время'."
   ]
  },
  {
   "cell_type": "code",
   "execution_count": 7,
   "metadata": {},
   "outputs": [],
   "source": [
    "data['date'] = data['date'].astype(str).apply(lambda x: pd.to_datetime(x, format='%Y%m%d%S'))"
   ]
  },
  {
   "cell_type": "code",
   "execution_count": 8,
   "metadata": {},
   "outputs": [
    {
     "data": {
      "text/html": [
       "<div>\n",
       "<style scoped>\n",
       "    .dataframe tbody tr th:only-of-type {\n",
       "        vertical-align: middle;\n",
       "    }\n",
       "\n",
       "    .dataframe tbody tr th {\n",
       "        vertical-align: top;\n",
       "    }\n",
       "\n",
       "    .dataframe thead th {\n",
       "        text-align: right;\n",
       "    }\n",
       "</style>\n",
       "<table border=\"1\" class=\"dataframe\">\n",
       "  <thead>\n",
       "    <tr style=\"text-align: right;\">\n",
       "      <th></th>\n",
       "      <th>date</th>\n",
       "      <th>customer_id</th>\n",
       "      <th>order_id</th>\n",
       "      <th>product</th>\n",
       "      <th>quantity</th>\n",
       "      <th>price</th>\n",
       "    </tr>\n",
       "  </thead>\n",
       "  <tbody>\n",
       "    <tr>\n",
       "      <td>0</td>\n",
       "      <td>2018-10-01</td>\n",
       "      <td>ee47d746-6d2f-4d3c-9622-c31412542920</td>\n",
       "      <td>68477</td>\n",
       "      <td>Комнатное растение в горшке Алое Вера, d12, h30</td>\n",
       "      <td>1.0</td>\n",
       "      <td>142.0</td>\n",
       "    </tr>\n",
       "    <tr>\n",
       "      <td>1</td>\n",
       "      <td>2018-10-01</td>\n",
       "      <td>ee47d746-6d2f-4d3c-9622-c31412542920</td>\n",
       "      <td>68477</td>\n",
       "      <td>Комнатное растение в горшке Кофе Арабика, d12, h25</td>\n",
       "      <td>1.0</td>\n",
       "      <td>194.0</td>\n",
       "    </tr>\n",
       "    <tr>\n",
       "      <td>2</td>\n",
       "      <td>2018-10-01</td>\n",
       "      <td>ee47d746-6d2f-4d3c-9622-c31412542920</td>\n",
       "      <td>68477</td>\n",
       "      <td>Радермахера d-12 см h-20 см</td>\n",
       "      <td>1.0</td>\n",
       "      <td>112.0</td>\n",
       "    </tr>\n",
       "    <tr>\n",
       "      <td>3</td>\n",
       "      <td>2018-10-01</td>\n",
       "      <td>ee47d746-6d2f-4d3c-9622-c31412542920</td>\n",
       "      <td>68477</td>\n",
       "      <td>Хризолидокарпус Лутесценс d-9 см</td>\n",
       "      <td>1.0</td>\n",
       "      <td>179.0</td>\n",
       "    </tr>\n",
       "    <tr>\n",
       "      <td>4</td>\n",
       "      <td>2018-10-01</td>\n",
       "      <td>ee47d746-6d2f-4d3c-9622-c31412542920</td>\n",
       "      <td>68477</td>\n",
       "      <td>Циперус Зумула d-12 см h-25 см</td>\n",
       "      <td>1.0</td>\n",
       "      <td>112.0</td>\n",
       "    </tr>\n",
       "  </tbody>\n",
       "</table>\n",
       "</div>"
      ],
      "text/plain": [
       "        date                           customer_id  order_id  \\\n",
       "0 2018-10-01  ee47d746-6d2f-4d3c-9622-c31412542920  68477      \n",
       "1 2018-10-01  ee47d746-6d2f-4d3c-9622-c31412542920  68477      \n",
       "2 2018-10-01  ee47d746-6d2f-4d3c-9622-c31412542920  68477      \n",
       "3 2018-10-01  ee47d746-6d2f-4d3c-9622-c31412542920  68477      \n",
       "4 2018-10-01  ee47d746-6d2f-4d3c-9622-c31412542920  68477      \n",
       "\n",
       "                                              product  quantity  price  \n",
       "0  Комнатное растение в горшке Алое Вера, d12, h30     1.0       142.0  \n",
       "1  Комнатное растение в горшке Кофе Арабика, d12, h25  1.0       194.0  \n",
       "2  Радермахера d-12 см h-20 см                         1.0       112.0  \n",
       "3  Хризолидокарпус Лутесценс d-9 см                    1.0       179.0  \n",
       "4  Циперус Зумула d-12 см h-25 см                      1.0       112.0  "
      ]
     },
     "metadata": {},
     "output_type": "display_data"
    }
   ],
   "source": [
    "display(data.head())"
   ]
  },
  {
   "cell_type": "markdown",
   "metadata": {},
   "source": [
    "Выделим дни, месяцы и недели в отдельные столбцы "
   ]
  },
  {
   "cell_type": "code",
   "execution_count": 9,
   "metadata": {},
   "outputs": [],
   "source": [
    "data['month'] = pd.DatetimeIndex(data['date']).month"
   ]
  },
  {
   "cell_type": "code",
   "execution_count": 10,
   "metadata": {},
   "outputs": [],
   "source": [
    "data['week'] = pd.DatetimeIndex(data['date']).week"
   ]
  },
  {
   "cell_type": "code",
   "execution_count": 11,
   "metadata": {},
   "outputs": [],
   "source": [
    "data['day'] = pd.DatetimeIndex(data['date']).date"
   ]
  },
  {
   "cell_type": "markdown",
   "metadata": {},
   "source": [
    "Рассчитаем выручку магазина и добавим столбец “turnover”."
   ]
  },
  {
   "cell_type": "code",
   "execution_count": 12,
   "metadata": {},
   "outputs": [],
   "source": [
    "data['turnover'] = data['price'] * data['quantity']"
   ]
  },
  {
   "cell_type": "markdown",
   "metadata": {},
   "source": [
    "Проверим данные на аномальные значения."
   ]
  },
  {
   "cell_type": "code",
   "execution_count": 13,
   "metadata": {},
   "outputs": [
    {
     "data": {
      "text/html": [
       "<div>\n",
       "<style scoped>\n",
       "    .dataframe tbody tr th:only-of-type {\n",
       "        vertical-align: middle;\n",
       "    }\n",
       "\n",
       "    .dataframe tbody tr th {\n",
       "        vertical-align: top;\n",
       "    }\n",
       "\n",
       "    .dataframe thead th {\n",
       "        text-align: right;\n",
       "    }\n",
       "</style>\n",
       "<table border=\"1\" class=\"dataframe\">\n",
       "  <thead>\n",
       "    <tr style=\"text-align: right;\">\n",
       "      <th></th>\n",
       "      <th>order_id</th>\n",
       "      <th>quantity</th>\n",
       "      <th>price</th>\n",
       "      <th>month</th>\n",
       "      <th>week</th>\n",
       "      <th>turnover</th>\n",
       "    </tr>\n",
       "  </thead>\n",
       "  <tbody>\n",
       "    <tr>\n",
       "      <td>count</td>\n",
       "      <td>6736.000000</td>\n",
       "      <td>6736.000000</td>\n",
       "      <td>6736.000000</td>\n",
       "      <td>6736.000000</td>\n",
       "      <td>6736.000000</td>\n",
       "      <td>6736.000000</td>\n",
       "    </tr>\n",
       "    <tr>\n",
       "      <td>mean</td>\n",
       "      <td>43124.828385</td>\n",
       "      <td>2.501781</td>\n",
       "      <td>462.059382</td>\n",
       "      <td>6.416271</td>\n",
       "      <td>26.056413</td>\n",
       "      <td>720.164192</td>\n",
       "    </tr>\n",
       "    <tr>\n",
       "      <td>std</td>\n",
       "      <td>27899.436180</td>\n",
       "      <td>15.267601</td>\n",
       "      <td>871.357059</td>\n",
       "      <td>3.035371</td>\n",
       "      <td>13.191900</td>\n",
       "      <td>8352.718689</td>\n",
       "    </tr>\n",
       "    <tr>\n",
       "      <td>min</td>\n",
       "      <td>12624.000000</td>\n",
       "      <td>1.000000</td>\n",
       "      <td>9.000000</td>\n",
       "      <td>1.000000</td>\n",
       "      <td>1.000000</td>\n",
       "      <td>9.000000</td>\n",
       "    </tr>\n",
       "    <tr>\n",
       "      <td>25%</td>\n",
       "      <td>14827.000000</td>\n",
       "      <td>1.000000</td>\n",
       "      <td>101.000000</td>\n",
       "      <td>4.000000</td>\n",
       "      <td>17.000000</td>\n",
       "      <td>120.000000</td>\n",
       "    </tr>\n",
       "    <tr>\n",
       "      <td>50%</td>\n",
       "      <td>68503.000000</td>\n",
       "      <td>1.000000</td>\n",
       "      <td>135.000000</td>\n",
       "      <td>6.000000</td>\n",
       "      <td>23.000000</td>\n",
       "      <td>162.000000</td>\n",
       "    </tr>\n",
       "    <tr>\n",
       "      <td>75%</td>\n",
       "      <td>70503.250000</td>\n",
       "      <td>1.000000</td>\n",
       "      <td>399.500000</td>\n",
       "      <td>9.000000</td>\n",
       "      <td>40.000000</td>\n",
       "      <td>600.000000</td>\n",
       "    </tr>\n",
       "    <tr>\n",
       "      <td>max</td>\n",
       "      <td>73164.000000</td>\n",
       "      <td>1000.000000</td>\n",
       "      <td>14917.000000</td>\n",
       "      <td>12.000000</td>\n",
       "      <td>52.000000</td>\n",
       "      <td>675000.000000</td>\n",
       "    </tr>\n",
       "  </tbody>\n",
       "</table>\n",
       "</div>"
      ],
      "text/plain": [
       "           order_id     quantity         price        month         week  \\\n",
       "count  6736.000000   6736.000000  6736.000000   6736.000000  6736.000000   \n",
       "mean   43124.828385  2.501781     462.059382    6.416271     26.056413     \n",
       "std    27899.436180  15.267601    871.357059    3.035371     13.191900     \n",
       "min    12624.000000  1.000000     9.000000      1.000000     1.000000      \n",
       "25%    14827.000000  1.000000     101.000000    4.000000     17.000000     \n",
       "50%    68503.000000  1.000000     135.000000    6.000000     23.000000     \n",
       "75%    70503.250000  1.000000     399.500000    9.000000     40.000000     \n",
       "max    73164.000000  1000.000000  14917.000000  12.000000    52.000000     \n",
       "\n",
       "            turnover  \n",
       "count  6736.000000    \n",
       "mean   720.164192     \n",
       "std    8352.718689    \n",
       "min    9.000000       \n",
       "25%    120.000000     \n",
       "50%    162.000000     \n",
       "75%    600.000000     \n",
       "max    675000.000000  "
      ]
     },
     "execution_count": 13,
     "metadata": {},
     "output_type": "execute_result"
    }
   ],
   "source": [
    "data.describe()"
   ]
  },
  {
   "cell_type": "markdown",
   "metadata": {},
   "source": [
    "В столбце quantity минимальное значение - 1, максимальное - 1 000 шт., но 75% значений столбца равно 1, и среднее равно 2-м. \n",
    "В столбце turnover диапазон значенийот 9 до 675 000, 75% значений равно 600, ср.значение равно 720.\n",
    "Необходимо проверить данные столбцы на выбросы.\n"
   ]
  },
  {
   "cell_type": "code",
   "execution_count": 14,
   "metadata": {},
   "outputs": [
    {
     "data": {
      "text/plain": [
       "(0, 200)"
      ]
     },
     "execution_count": 14,
     "metadata": {},
     "output_type": "execute_result"
    },
    {
     "data": {
      "image/png": "[encoded data removed]",
      "text/plain": [
       "<Figure size 1152x648 with 1 Axes>"
      ]
     },
     "metadata": {
      "needs_background": "light"
     },
     "output_type": "display_data"
    }
   ],
   "source": [
    "plt.figure(figsize=(16,9))\n",
    "data.boxplot('quantity')\n",
    "plt.title('Диаграмма размаха по столбцу quantity')\n",
    "plt.ylim(0,200)\n"
   ]
  },
  {
   "cell_type": "markdown",
   "metadata": {},
   "source": [
    "После 2.5 встречаются редкие значения до 200. Количество, равное 300, 350 и 1000, встречается только по одному разу. Основной показатель 1, но до 200 есть много однократных показателей. Необходимо отсечь выбросы после 200."
   ]
  },
  {
   "cell_type": "markdown",
   "metadata": {},
   "source": [
    "Проверим выбросы по turnover"
   ]
  },
  {
   "cell_type": "code",
   "execution_count": 15,
   "metadata": {},
   "outputs": [
    {
     "data": {
      "text/plain": [
       "(0, 2000)"
      ]
     },
     "execution_count": 15,
     "metadata": {},
     "output_type": "execute_result"
    },
    {
     "data": {
      "image/png": "[encoded data removed]",
      "text/plain": [
       "<Figure size 1152x648 with 1 Axes>"
      ]
     },
     "metadata": {
      "needs_background": "light"
     },
     "output_type": "display_data"
    }
   ],
   "source": [
    "plt.figure(figsize=(16,9))\n",
    "data.boxplot('turnover')\n",
    "plt.title('Диаграмма размаха по столбцу turnover')\n",
    "plt.ylim(0,2000)"
   ]
  },
  {
   "cell_type": "markdown",
   "metadata": {},
   "source": [
    "Выручка 675 000 была всего один раз. Диапазон основных значений 170-600. Необходимо отсечь выбросы после 1300."
   ]
  },
  {
   "cell_type": "markdown",
   "metadata": {},
   "source": [
    "Очистим данные от выбросов"
   ]
  },
  {
   "cell_type": "code",
   "execution_count": 62,
   "metadata": {},
   "outputs": [
    {
     "name": "stdout",
     "output_type": "stream",
     "text": [
      "<class 'pandas.core.frame.DataFrame'>\n",
      "Int64Index: 5925 entries, 0 to 6736\n",
      "Data columns (total 10 columns):\n",
      "date           5925 non-null datetime64[ns]\n",
      "customer_id    5925 non-null object\n",
      "order_id       5925 non-null int64\n",
      "product        5925 non-null object\n",
      "quantity       5925 non-null float64\n",
      "price          5925 non-null float64\n",
      "month          5925 non-null int64\n",
      "week           5925 non-null int64\n",
      "day            5925 non-null object\n",
      "turnover       5925 non-null float64\n",
      "dtypes: datetime64[ns](1), float64(3), int64(3), object(3)\n",
      "memory usage: 509.2+ KB\n"
     ]
    }
   ],
   "source": [
    "data_clean = data.query('quantity <= 200 and turnover <= 1300')\n",
    "data_clean.info()"
   ]
  },
  {
   "cell_type": "markdown",
   "metadata": {},
   "source": [
    " Мы удалили 811 строк датасета, что составляет 12% всей информации."
   ]
  },
  {
   "cell_type": "markdown",
   "metadata": {},
   "source": [
    "Некоторые заказы и товары повторяются в разные даты, возможно это отслеживание разных статусов продажи товара.\n",
    "\n",
    "Узнаем, сколько должно быть уникальных дат и удалим дубликаты."
   ]
  },
  {
   "cell_type": "code",
   "execution_count": 63,
   "metadata": {},
   "outputs": [
    {
     "data": {
      "text/plain": [
       "2140"
      ]
     },
     "execution_count": 63,
     "metadata": {},
     "output_type": "execute_result"
    }
   ],
   "source": [
    "data_clean['date'].nunique()"
   ]
  },
  {
   "cell_type": "code",
   "execution_count": 64,
   "metadata": {
    "scrolled": true
   },
   "outputs": [
    {
     "data": {
      "text/plain": [
       "3785"
      ]
     },
     "execution_count": 64,
     "metadata": {},
     "output_type": "execute_result"
    }
   ],
   "source": [
    "data_clean['date'].duplicated().sum()"
   ]
  },
  {
   "cell_type": "code",
   "execution_count": 65,
   "metadata": {},
   "outputs": [
    {
     "name": "stderr",
     "output_type": "stream",
     "text": [
      "/opt/conda/lib/python3.7/site-packages/ipykernel_launcher.py:1: SettingWithCopyWarning: \n",
      "A value is trying to be set on a copy of a slice from a DataFrame.\n",
      "Try using .loc[row_indexer,col_indexer] = value instead\n",
      "\n",
      "See the caveats in the documentation: http://pandas.pydata.org/pandas-docs/stable/user_guide/indexing.html#returning-a-view-versus-a-copy\n",
      "  \"\"\"Entry point for launching an IPython kernel.\n"
     ]
    }
   ],
   "source": [
    "data_clean['date'] = data_clean['date'].drop_duplicates()\n"
   ]
  },
  {
   "cell_type": "markdown",
   "metadata": {},
   "source": [
    "Узнаем, сколько должно быть уникальных заказов и покупателей, и удалим дубликаты"
   ]
  },
  {
   "cell_type": "code",
   "execution_count": 66,
   "metadata": {},
   "outputs": [
    {
     "data": {
      "text/plain": [
       "2159"
      ]
     },
     "execution_count": 66,
     "metadata": {},
     "output_type": "execute_result"
    }
   ],
   "source": [
    "data_clean['order_id'].nunique()"
   ]
  },
  {
   "cell_type": "code",
   "execution_count": 67,
   "metadata": {},
   "outputs": [
    {
     "data": {
      "text/plain": [
       "1913"
      ]
     },
     "execution_count": 67,
     "metadata": {},
     "output_type": "execute_result"
    }
   ],
   "source": [
    "data_clean['customer_id'].nunique()"
   ]
  },
  {
   "cell_type": "code",
   "execution_count": 68,
   "metadata": {},
   "outputs": [
    {
     "data": {
      "text/plain": [
       "3766"
      ]
     },
     "execution_count": 68,
     "metadata": {},
     "output_type": "execute_result"
    }
   ],
   "source": [
    "data_clean['order_id'].duplicated().sum()"
   ]
  },
  {
   "cell_type": "code",
   "execution_count": 69,
   "metadata": {},
   "outputs": [
    {
     "data": {
      "text/plain": [
       "4012"
      ]
     },
     "execution_count": 69,
     "metadata": {},
     "output_type": "execute_result"
    }
   ],
   "source": [
    "data_clean['customer_id'].duplicated().sum()"
   ]
  },
  {
   "cell_type": "code",
   "execution_count": 70,
   "metadata": {},
   "outputs": [
    {
     "name": "stderr",
     "output_type": "stream",
     "text": [
      "/opt/conda/lib/python3.7/site-packages/ipykernel_launcher.py:1: SettingWithCopyWarning: \n",
      "A value is trying to be set on a copy of a slice from a DataFrame.\n",
      "Try using .loc[row_indexer,col_indexer] = value instead\n",
      "\n",
      "See the caveats in the documentation: http://pandas.pydata.org/pandas-docs/stable/user_guide/indexing.html#returning-a-view-versus-a-copy\n",
      "  \"\"\"Entry point for launching an IPython kernel.\n"
     ]
    }
   ],
   "source": [
    "data_clean['order_id'] = data_clean['order_id'].drop_duplicates()"
   ]
  },
  {
   "cell_type": "code",
   "execution_count": 71,
   "metadata": {},
   "outputs": [
    {
     "name": "stderr",
     "output_type": "stream",
     "text": [
      "/opt/conda/lib/python3.7/site-packages/ipykernel_launcher.py:1: SettingWithCopyWarning: \n",
      "A value is trying to be set on a copy of a slice from a DataFrame.\n",
      "Try using .loc[row_indexer,col_indexer] = value instead\n",
      "\n",
      "See the caveats in the documentation: http://pandas.pydata.org/pandas-docs/stable/user_guide/indexing.html#returning-a-view-versus-a-copy\n",
      "  \"\"\"Entry point for launching an IPython kernel.\n"
     ]
    }
   ],
   "source": [
    "data_clean['customer_id'] = data_clean['customer_id'].drop_duplicates()\n",
    " "
   ]
  },
  {
   "cell_type": "code",
   "execution_count": 72,
   "metadata": {},
   "outputs": [
    {
     "name": "stdout",
     "output_type": "stream",
     "text": [
      "<class 'pandas.core.frame.DataFrame'>\n",
      "Int64Index: 5925 entries, 0 to 6736\n",
      "Data columns (total 10 columns):\n",
      "date           2140 non-null datetime64[ns]\n",
      "customer_id    1913 non-null object\n",
      "order_id       2159 non-null float64\n",
      "product        5925 non-null object\n",
      "quantity       5925 non-null float64\n",
      "price          5925 non-null float64\n",
      "month          5925 non-null int64\n",
      "week           5925 non-null int64\n",
      "day            5925 non-null object\n",
      "turnover       5925 non-null float64\n",
      "dtypes: datetime64[ns](1), float64(4), int64(2), object(3)\n",
      "memory usage: 509.2+ KB\n"
     ]
    }
   ],
   "source": [
    "data_clean.info()"
   ]
  },
  {
   "cell_type": "markdown",
   "metadata": {},
   "source": [
    "Должно остаться 2 140 уникальных дат. 3 785 дубликатов мы удалили."
   ]
  },
  {
   "cell_type": "markdown",
   "metadata": {},
   "source": [
    "---\n",
    "\n",
    "<div class=\"alert alert-block alert-danger\">\n",
    "    \n",
    "\n",
    "## Комментарий от наставника\n",
    "\n",
    "Давай проверим выбросы в данных. Например, по столбцам turnover и quantity.\n",
    "</div>\n",
    "    \n",
    "---"
   ]
  },
  {
   "cell_type": "markdown",
   "metadata": {},
   "source": [
    "Мы изучили и очистили предоставленные данные, удалив пустые строки. У нас осталось 5 925 строк. Изменили типы данных  в столбце date. Откорректировали название и содержание столбца price, убрав лишний символ ';'  при открытии файла. \n",
    "Обнаружили и удалили выбросы в столбцах quantity (после 200) и turnover (после 1 300).\n",
    "Удалили дубликаты в столбце дата.\n",
    "Добавили столбец с выручкой, рассчитанной на основании данных по цене товара и его количеству в столбцах price и quantity, а также отдельные столбцы day, month и week."
   ]
  },
  {
   "cell_type": "markdown",
   "metadata": {},
   "source": [
    "---\n",
    "\n",
    "<div class=\"alert alert-block alert-danger\">\n",
    "    \n",
    "\n",
    "## Комментарий от наставника\n",
    "\n",
    "Посмотри, пожалуйста, еще такой момент: некоторые заказы и товары повторяются в разные даты (см. код ниже). Скорее всего это отслеживание разных статусов заказов вроде \"Создан\", \"Оплачено\", \"Доставлен\" итп (но без указания статуса). Давай сделаем что-нибудь с этими дубликатами. А то дальнейшие вычисления могут сильно искажаться.\n",
    "</div>\n",
    "    \n",
    "---"
   ]
  },
  {
   "cell_type": "code",
   "execution_count": 73,
   "metadata": {},
   "outputs": [
    {
     "data": {
      "text/html": [
       "<div>\n",
       "<style scoped>\n",
       "    .dataframe tbody tr th:only-of-type {\n",
       "        vertical-align: middle;\n",
       "    }\n",
       "\n",
       "    .dataframe tbody tr th {\n",
       "        vertical-align: top;\n",
       "    }\n",
       "\n",
       "    .dataframe thead th {\n",
       "        text-align: right;\n",
       "    }\n",
       "</style>\n",
       "<table border=\"1\" class=\"dataframe\">\n",
       "  <thead>\n",
       "    <tr style=\"text-align: right;\">\n",
       "      <th></th>\n",
       "      <th></th>\n",
       "      <th></th>\n",
       "      <th>date</th>\n",
       "      <th>quantity</th>\n",
       "      <th>price</th>\n",
       "      <th>month</th>\n",
       "      <th>week</th>\n",
       "      <th>day</th>\n",
       "      <th>turnover</th>\n",
       "    </tr>\n",
       "    <tr>\n",
       "      <th>customer_id</th>\n",
       "      <th>order_id</th>\n",
       "      <th>product</th>\n",
       "      <th></th>\n",
       "      <th></th>\n",
       "      <th></th>\n",
       "      <th></th>\n",
       "      <th></th>\n",
       "      <th></th>\n",
       "      <th></th>\n",
       "    </tr>\n",
       "  </thead>\n",
       "  <tbody>\n",
       "    <tr>\n",
       "      <td>000d6849-084e-4d9f-ac03-37174eaf60c4</td>\n",
       "      <td>14943.0</td>\n",
       "      <td>Пеларгония зональная диам. 12 см темнорозовая полумахровая</td>\n",
       "      <td>1</td>\n",
       "      <td>1</td>\n",
       "      <td>1</td>\n",
       "      <td>1</td>\n",
       "      <td>1</td>\n",
       "      <td>1</td>\n",
       "      <td>1</td>\n",
       "    </tr>\n",
       "    <tr>\n",
       "      <td>a8b088ec-7c45-4dda-bc86-2ffcc861d8d8</td>\n",
       "      <td>14565.0</td>\n",
       "      <td>Пеларгония зональная диам. 12 см белая полумахровая</td>\n",
       "      <td>1</td>\n",
       "      <td>1</td>\n",
       "      <td>1</td>\n",
       "      <td>1</td>\n",
       "      <td>1</td>\n",
       "      <td>1</td>\n",
       "      <td>1</td>\n",
       "    </tr>\n",
       "    <tr>\n",
       "      <td>a868bebb-e4f4-494c-b7cb-ab03b88fe40b</td>\n",
       "      <td>69710.0</td>\n",
       "      <td>Плед флисовый 150х130 см WELLNESS WPLNY135-Зима_10 100 % полиэстер</td>\n",
       "      <td>1</td>\n",
       "      <td>1</td>\n",
       "      <td>1</td>\n",
       "      <td>1</td>\n",
       "      <td>1</td>\n",
       "      <td>1</td>\n",
       "      <td>1</td>\n",
       "    </tr>\n",
       "    <tr>\n",
       "      <td>a83b36dd-1906-4e1f-8387-5c38fcf76a10</td>\n",
       "      <td>69787.0</td>\n",
       "      <td>Сковорода Scovo Дем Мт-029 алюминиевая без крышки с металической ручкой, 20 см</td>\n",
       "      <td>1</td>\n",
       "      <td>1</td>\n",
       "      <td>1</td>\n",
       "      <td>1</td>\n",
       "      <td>1</td>\n",
       "      <td>1</td>\n",
       "      <td>1</td>\n",
       "    </tr>\n",
       "    <tr>\n",
       "      <td>a7fd2907-8521-4d75-a5b0-231ad712483c</td>\n",
       "      <td>68636.0</td>\n",
       "      <td>Вкладыши для хранения посуды 2 шт d-38 cm MARMITON, LG17056</td>\n",
       "      <td>1</td>\n",
       "      <td>1</td>\n",
       "      <td>1</td>\n",
       "      <td>1</td>\n",
       "      <td>1</td>\n",
       "      <td>1</td>\n",
       "      <td>1</td>\n",
       "    </tr>\n",
       "    <tr>\n",
       "      <td>a73ff6bd-0c51-485b-aaa5-2823f28cf361</td>\n",
       "      <td>72368.0</td>\n",
       "      <td>Тележка багажная DELTA DT-23 грузоподъемность 50 кг РОССИЯ</td>\n",
       "      <td>1</td>\n",
       "      <td>1</td>\n",
       "      <td>1</td>\n",
       "      <td>1</td>\n",
       "      <td>1</td>\n",
       "      <td>1</td>\n",
       "      <td>1</td>\n",
       "    </tr>\n",
       "    <tr>\n",
       "      <td>a6abc21d-5e9e-41db-9552-a942000ed5c2</td>\n",
       "      <td>69300.0</td>\n",
       "      <td>Тарелка обеденная КАШИМА ПУРПЛ 25 см G9324 Luminarc</td>\n",
       "      <td>1</td>\n",
       "      <td>1</td>\n",
       "      <td>1</td>\n",
       "      <td>1</td>\n",
       "      <td>1</td>\n",
       "      <td>1</td>\n",
       "      <td>1</td>\n",
       "    </tr>\n",
       "    <tr>\n",
       "      <td>a688224b-38c6-4fab-9d0e-f9c7b0ac6d13</td>\n",
       "      <td>72276.0</td>\n",
       "      <td>Штора для ванной Spirella / Спирелла Peva Hugo, синий, полиэтилен, 180*200 см, 1001951</td>\n",
       "      <td>1</td>\n",
       "      <td>1</td>\n",
       "      <td>1</td>\n",
       "      <td>1</td>\n",
       "      <td>1</td>\n",
       "      <td>1</td>\n",
       "      <td>1</td>\n",
       "    </tr>\n",
       "    <tr>\n",
       "      <td>a6142764-478d-4357-bcbb-7f9bd35a98e5</td>\n",
       "      <td>14596.0</td>\n",
       "      <td>Базилик зеленый Тонус d-7 см</td>\n",
       "      <td>1</td>\n",
       "      <td>1</td>\n",
       "      <td>1</td>\n",
       "      <td>1</td>\n",
       "      <td>1</td>\n",
       "      <td>1</td>\n",
       "      <td>1</td>\n",
       "    </tr>\n",
       "    <tr>\n",
       "      <td>a5ddb5fe-2fa7-45b2-8226-cfee2586b47d</td>\n",
       "      <td>72975.0</td>\n",
       "      <td>Мята перечная Шоколадная Chocolate d-7 см h-10 см укорененный черенок</td>\n",
       "      <td>1</td>\n",
       "      <td>1</td>\n",
       "      <td>1</td>\n",
       "      <td>1</td>\n",
       "      <td>1</td>\n",
       "      <td>1</td>\n",
       "      <td>1</td>\n",
       "    </tr>\n",
       "    <tr>\n",
       "      <td>a5d2e966-7aae-469a-9e3e-5d1995fa5f9e</td>\n",
       "      <td>70772.0</td>\n",
       "      <td>Карниз для ванной комнаты Виолет раздвижной 210 см с кольцами голубой 2110/3</td>\n",
       "      <td>1</td>\n",
       "      <td>1</td>\n",
       "      <td>1</td>\n",
       "      <td>1</td>\n",
       "      <td>1</td>\n",
       "      <td>1</td>\n",
       "      <td>1</td>\n",
       "    </tr>\n",
       "    <tr>\n",
       "      <td>a5ab3199-f4dd-4992-90dd-a8e95e179a45</td>\n",
       "      <td>71390.0</td>\n",
       "      <td>Сушилка для белья потолочная ЛИАНА ЛЮКС 170 см ЛЛП-170</td>\n",
       "      <td>1</td>\n",
       "      <td>1</td>\n",
       "      <td>1</td>\n",
       "      <td>1</td>\n",
       "      <td>1</td>\n",
       "      <td>1</td>\n",
       "      <td>1</td>\n",
       "    </tr>\n",
       "    <tr>\n",
       "      <td>a59f9951-59cd-4245-ae0e-4a99346b2b2a</td>\n",
       "      <td>14837.0</td>\n",
       "      <td>Рассада Арбуза сорт Сибирские огни, горшок 9*9см</td>\n",
       "      <td>1</td>\n",
       "      <td>1</td>\n",
       "      <td>1</td>\n",
       "      <td>1</td>\n",
       "      <td>1</td>\n",
       "      <td>1</td>\n",
       "      <td>1</td>\n",
       "    </tr>\n",
       "    <tr>\n",
       "      <td>a592fbef-dd62-4069-9e77-9043101b6077</td>\n",
       "      <td>72303.0</td>\n",
       "      <td>Ткань для гигиенических поверхностей (для чистки и впитывания с антибактериальным покрытием) 400*400 мм, Leifheit, 40000</td>\n",
       "      <td>1</td>\n",
       "      <td>1</td>\n",
       "      <td>1</td>\n",
       "      <td>1</td>\n",
       "      <td>1</td>\n",
       "      <td>1</td>\n",
       "      <td>1</td>\n",
       "    </tr>\n",
       "    <tr>\n",
       "      <td>a58e9582-22fd-4aa4-9faa-e4df080db7fd</td>\n",
       "      <td>70120.0</td>\n",
       "      <td>Гладильная доска Белль-Юниор1 34,5х112см ДСП 1200006</td>\n",
       "      <td>1</td>\n",
       "      <td>1</td>\n",
       "      <td>1</td>\n",
       "      <td>1</td>\n",
       "      <td>1</td>\n",
       "      <td>1</td>\n",
       "      <td>1</td>\n",
       "    </tr>\n",
       "    <tr>\n",
       "      <td>a5856564-f398-46f8-86d4-dab50365fd9a</td>\n",
       "      <td>71907.0</td>\n",
       "      <td>Мимоза стыдливая d-9 см</td>\n",
       "      <td>1</td>\n",
       "      <td>1</td>\n",
       "      <td>1</td>\n",
       "      <td>1</td>\n",
       "      <td>1</td>\n",
       "      <td>1</td>\n",
       "      <td>1</td>\n",
       "    </tr>\n",
       "    <tr>\n",
       "      <td>a576fa59-7b28-4a4c-a496-92f128754a94</td>\n",
       "      <td>68487.0</td>\n",
       "      <td>Корзина мягкая пластиковая 17 л, М-пластика, M2880</td>\n",
       "      <td>1</td>\n",
       "      <td>1</td>\n",
       "      <td>1</td>\n",
       "      <td>1</td>\n",
       "      <td>1</td>\n",
       "      <td>1</td>\n",
       "      <td>1</td>\n",
       "    </tr>\n",
       "    <tr>\n",
       "      <td>a5601c27-28a8-45c1-9c31-158ef0efa4cf</td>\n",
       "      <td>72934.0</td>\n",
       "      <td>Холодная сварка Mastix 55г для труб и батарей, 1205197</td>\n",
       "      <td>1</td>\n",
       "      <td>1</td>\n",
       "      <td>1</td>\n",
       "      <td>1</td>\n",
       "      <td>1</td>\n",
       "      <td>1</td>\n",
       "      <td>1</td>\n",
       "    </tr>\n",
       "    <tr>\n",
       "      <td>a5595543-8a92-4e92-81b6-e3e4a7476260</td>\n",
       "      <td>68607.0</td>\n",
       "      <td>Противень прямоугольный алюминиевый 340х240х25 см ЭКСПЕРТ, Scovo, СЭ-052, /1503028</td>\n",
       "      <td>1</td>\n",
       "      <td>1</td>\n",
       "      <td>1</td>\n",
       "      <td>1</td>\n",
       "      <td>1</td>\n",
       "      <td>1</td>\n",
       "      <td>1</td>\n",
       "    </tr>\n",
       "    <tr>\n",
       "      <td>a51a23a6-9af2-495c-b9f1-a7ae5634e654</td>\n",
       "      <td>70409.0</td>\n",
       "      <td>Кофе Арабика d-9 см</td>\n",
       "      <td>1</td>\n",
       "      <td>1</td>\n",
       "      <td>1</td>\n",
       "      <td>1</td>\n",
       "      <td>1</td>\n",
       "      <td>1</td>\n",
       "      <td>1</td>\n",
       "    </tr>\n",
       "  </tbody>\n",
       "</table>\n",
       "</div>"
      ],
      "text/plain": [
       "                                                                                                                                                                        date  \\\n",
       "customer_id                          order_id product                                                                                                                          \n",
       "000d6849-084e-4d9f-ac03-37174eaf60c4 14943.0  Пеларгония зональная диам. 12 см темнорозовая полумахровая                                                                1      \n",
       "a8b088ec-7c45-4dda-bc86-2ffcc861d8d8 14565.0  Пеларгония зональная диам. 12 см белая полумахровая                                                                       1      \n",
       "a868bebb-e4f4-494c-b7cb-ab03b88fe40b 69710.0  Плед флисовый 150х130 см WELLNESS WPLNY135-Зима_10 100 % полиэстер                                                        1      \n",
       "a83b36dd-1906-4e1f-8387-5c38fcf76a10 69787.0  Сковорода Scovo Дем Мт-029 алюминиевая без крышки с металической ручкой, 20 см                                            1      \n",
       "a7fd2907-8521-4d75-a5b0-231ad712483c 68636.0  Вкладыши для хранения посуды 2 шт d-38 cm MARMITON, LG17056                                                               1      \n",
       "a73ff6bd-0c51-485b-aaa5-2823f28cf361 72368.0  Тележка багажная DELTA DT-23 грузоподъемность 50 кг РОССИЯ                                                                1      \n",
       "a6abc21d-5e9e-41db-9552-a942000ed5c2 69300.0  Тарелка обеденная КАШИМА ПУРПЛ 25 см G9324 Luminarc                                                                       1      \n",
       "a688224b-38c6-4fab-9d0e-f9c7b0ac6d13 72276.0  Штора для ванной Spirella / Спирелла Peva Hugo, синий, полиэтилен, 180*200 см, 1001951                                    1      \n",
       "a6142764-478d-4357-bcbb-7f9bd35a98e5 14596.0  Базилик зеленый Тонус d-7 см                                                                                              1      \n",
       "a5ddb5fe-2fa7-45b2-8226-cfee2586b47d 72975.0  Мята перечная Шоколадная Chocolate d-7 см h-10 см укорененный черенок                                                     1      \n",
       "a5d2e966-7aae-469a-9e3e-5d1995fa5f9e 70772.0  Карниз для ванной комнаты Виолет раздвижной 210 см с кольцами голубой 2110/3                                              1      \n",
       "a5ab3199-f4dd-4992-90dd-a8e95e179a45 71390.0  Сушилка для белья потолочная ЛИАНА ЛЮКС 170 см ЛЛП-170                                                                    1      \n",
       "a59f9951-59cd-4245-ae0e-4a99346b2b2a 14837.0  Рассада Арбуза сорт Сибирские огни, горшок 9*9см                                                                          1      \n",
       "a592fbef-dd62-4069-9e77-9043101b6077 72303.0  Ткань для гигиенических поверхностей (для чистки и впитывания с антибактериальным покрытием) 400*400 мм, Leifheit, 40000  1      \n",
       "a58e9582-22fd-4aa4-9faa-e4df080db7fd 70120.0  Гладильная доска Белль-Юниор1 34,5х112см ДСП 1200006                                                                      1      \n",
       "a5856564-f398-46f8-86d4-dab50365fd9a 71907.0  Мимоза стыдливая d-9 см                                                                                                   1      \n",
       "a576fa59-7b28-4a4c-a496-92f128754a94 68487.0  Корзина мягкая пластиковая 17 л, М-пластика, M2880                                                                        1      \n",
       "a5601c27-28a8-45c1-9c31-158ef0efa4cf 72934.0  Холодная сварка Mastix 55г для труб и батарей, 1205197                                                                    1      \n",
       "a5595543-8a92-4e92-81b6-e3e4a7476260 68607.0  Противень прямоугольный алюминиевый 340х240х25 см ЭКСПЕРТ, Scovo, СЭ-052, /1503028                                        1      \n",
       "a51a23a6-9af2-495c-b9f1-a7ae5634e654 70409.0  Кофе Арабика d-9 см                                                                                                       1      \n",
       "\n",
       "                                                                                                                                                                        quantity  \\\n",
       "customer_id                          order_id product                                                                                                                              \n",
       "000d6849-084e-4d9f-ac03-37174eaf60c4 14943.0  Пеларгония зональная диам. 12 см темнорозовая полумахровая                                                                1          \n",
       "a8b088ec-7c45-4dda-bc86-2ffcc861d8d8 14565.0  Пеларгония зональная диам. 12 см белая полумахровая                                                                       1          \n",
       "a868bebb-e4f4-494c-b7cb-ab03b88fe40b 69710.0  Плед флисовый 150х130 см WELLNESS WPLNY135-Зима_10 100 % полиэстер                                                        1          \n",
       "a83b36dd-1906-4e1f-8387-5c38fcf76a10 69787.0  Сковорода Scovo Дем Мт-029 алюминиевая без крышки с металической ручкой, 20 см                                            1          \n",
       "a7fd2907-8521-4d75-a5b0-231ad712483c 68636.0  Вкладыши для хранения посуды 2 шт d-38 cm MARMITON, LG17056                                                               1          \n",
       "a73ff6bd-0c51-485b-aaa5-2823f28cf361 72368.0  Тележка багажная DELTA DT-23 грузоподъемность 50 кг РОССИЯ                                                                1          \n",
       "a6abc21d-5e9e-41db-9552-a942000ed5c2 69300.0  Тарелка обеденная КАШИМА ПУРПЛ 25 см G9324 Luminarc                                                                       1          \n",
       "a688224b-38c6-4fab-9d0e-f9c7b0ac6d13 72276.0  Штора для ванной Spirella / Спирелла Peva Hugo, синий, полиэтилен, 180*200 см, 1001951                                    1          \n",
       "a6142764-478d-4357-bcbb-7f9bd35a98e5 14596.0  Базилик зеленый Тонус d-7 см                                                                                              1          \n",
       "a5ddb5fe-2fa7-45b2-8226-cfee2586b47d 72975.0  Мята перечная Шоколадная Chocolate d-7 см h-10 см укорененный черенок                                                     1          \n",
       "a5d2e966-7aae-469a-9e3e-5d1995fa5f9e 70772.0  Карниз для ванной комнаты Виолет раздвижной 210 см с кольцами голубой 2110/3                                              1          \n",
       "a5ab3199-f4dd-4992-90dd-a8e95e179a45 71390.0  Сушилка для белья потолочная ЛИАНА ЛЮКС 170 см ЛЛП-170                                                                    1          \n",
       "a59f9951-59cd-4245-ae0e-4a99346b2b2a 14837.0  Рассада Арбуза сорт Сибирские огни, горшок 9*9см                                                                          1          \n",
       "a592fbef-dd62-4069-9e77-9043101b6077 72303.0  Ткань для гигиенических поверхностей (для чистки и впитывания с антибактериальным покрытием) 400*400 мм, Leifheit, 40000  1          \n",
       "a58e9582-22fd-4aa4-9faa-e4df080db7fd 70120.0  Гладильная доска Белль-Юниор1 34,5х112см ДСП 1200006                                                                      1          \n",
       "a5856564-f398-46f8-86d4-dab50365fd9a 71907.0  Мимоза стыдливая d-9 см                                                                                                   1          \n",
       "a576fa59-7b28-4a4c-a496-92f128754a94 68487.0  Корзина мягкая пластиковая 17 л, М-пластика, M2880                                                                        1          \n",
       "a5601c27-28a8-45c1-9c31-158ef0efa4cf 72934.0  Холодная сварка Mastix 55г для труб и батарей, 1205197                                                                    1          \n",
       "a5595543-8a92-4e92-81b6-e3e4a7476260 68607.0  Противень прямоугольный алюминиевый 340х240х25 см ЭКСПЕРТ, Scovo, СЭ-052, /1503028                                        1          \n",
       "a51a23a6-9af2-495c-b9f1-a7ae5634e654 70409.0  Кофе Арабика d-9 см                                                                                                       1          \n",
       "\n",
       "                                                                                                                                                                        price  \\\n",
       "customer_id                          order_id product                                                                                                                           \n",
       "000d6849-084e-4d9f-ac03-37174eaf60c4 14943.0  Пеларгония зональная диам. 12 см темнорозовая полумахровая                                                                1       \n",
       "a8b088ec-7c45-4dda-bc86-2ffcc861d8d8 14565.0  Пеларгония зональная диам. 12 см белая полумахровая                                                                       1       \n",
       "a868bebb-e4f4-494c-b7cb-ab03b88fe40b 69710.0  Плед флисовый 150х130 см WELLNESS WPLNY135-Зима_10 100 % полиэстер                                                        1       \n",
       "a83b36dd-1906-4e1f-8387-5c38fcf76a10 69787.0  Сковорода Scovo Дем Мт-029 алюминиевая без крышки с металической ручкой, 20 см                                            1       \n",
       "a7fd2907-8521-4d75-a5b0-231ad712483c 68636.0  Вкладыши для хранения посуды 2 шт d-38 cm MARMITON, LG17056                                                               1       \n",
       "a73ff6bd-0c51-485b-aaa5-2823f28cf361 72368.0  Тележка багажная DELTA DT-23 грузоподъемность 50 кг РОССИЯ                                                                1       \n",
       "a6abc21d-5e9e-41db-9552-a942000ed5c2 69300.0  Тарелка обеденная КАШИМА ПУРПЛ 25 см G9324 Luminarc                                                                       1       \n",
       "a688224b-38c6-4fab-9d0e-f9c7b0ac6d13 72276.0  Штора для ванной Spirella / Спирелла Peva Hugo, синий, полиэтилен, 180*200 см, 1001951                                    1       \n",
       "a6142764-478d-4357-bcbb-7f9bd35a98e5 14596.0  Базилик зеленый Тонус d-7 см                                                                                              1       \n",
       "a5ddb5fe-2fa7-45b2-8226-cfee2586b47d 72975.0  Мята перечная Шоколадная Chocolate d-7 см h-10 см укорененный черенок                                                     1       \n",
       "a5d2e966-7aae-469a-9e3e-5d1995fa5f9e 70772.0  Карниз для ванной комнаты Виолет раздвижной 210 см с кольцами голубой 2110/3                                              1       \n",
       "a5ab3199-f4dd-4992-90dd-a8e95e179a45 71390.0  Сушилка для белья потолочная ЛИАНА ЛЮКС 170 см ЛЛП-170                                                                    1       \n",
       "a59f9951-59cd-4245-ae0e-4a99346b2b2a 14837.0  Рассада Арбуза сорт Сибирские огни, горшок 9*9см                                                                          1       \n",
       "a592fbef-dd62-4069-9e77-9043101b6077 72303.0  Ткань для гигиенических поверхностей (для чистки и впитывания с антибактериальным покрытием) 400*400 мм, Leifheit, 40000  1       \n",
       "a58e9582-22fd-4aa4-9faa-e4df080db7fd 70120.0  Гладильная доска Белль-Юниор1 34,5х112см ДСП 1200006                                                                      1       \n",
       "a5856564-f398-46f8-86d4-dab50365fd9a 71907.0  Мимоза стыдливая d-9 см                                                                                                   1       \n",
       "a576fa59-7b28-4a4c-a496-92f128754a94 68487.0  Корзина мягкая пластиковая 17 л, М-пластика, M2880                                                                        1       \n",
       "a5601c27-28a8-45c1-9c31-158ef0efa4cf 72934.0  Холодная сварка Mastix 55г для труб и батарей, 1205197                                                                    1       \n",
       "a5595543-8a92-4e92-81b6-e3e4a7476260 68607.0  Противень прямоугольный алюминиевый 340х240х25 см ЭКСПЕРТ, Scovo, СЭ-052, /1503028                                        1       \n",
       "a51a23a6-9af2-495c-b9f1-a7ae5634e654 70409.0  Кофе Арабика d-9 см                                                                                                       1       \n",
       "\n",
       "                                                                                                                                                                        month  \\\n",
       "customer_id                          order_id product                                                                                                                           \n",
       "000d6849-084e-4d9f-ac03-37174eaf60c4 14943.0  Пеларгония зональная диам. 12 см темнорозовая полумахровая                                                                1       \n",
       "a8b088ec-7c45-4dda-bc86-2ffcc861d8d8 14565.0  Пеларгония зональная диам. 12 см белая полумахровая                                                                       1       \n",
       "a868bebb-e4f4-494c-b7cb-ab03b88fe40b 69710.0  Плед флисовый 150х130 см WELLNESS WPLNY135-Зима_10 100 % полиэстер                                                        1       \n",
       "a83b36dd-1906-4e1f-8387-5c38fcf76a10 69787.0  Сковорода Scovo Дем Мт-029 алюминиевая без крышки с металической ручкой, 20 см                                            1       \n",
       "a7fd2907-8521-4d75-a5b0-231ad712483c 68636.0  Вкладыши для хранения посуды 2 шт d-38 cm MARMITON, LG17056                                                               1       \n",
       "a73ff6bd-0c51-485b-aaa5-2823f28cf361 72368.0  Тележка багажная DELTA DT-23 грузоподъемность 50 кг РОССИЯ                                                                1       \n",
       "a6abc21d-5e9e-41db-9552-a942000ed5c2 69300.0  Тарелка обеденная КАШИМА ПУРПЛ 25 см G9324 Luminarc                                                                       1       \n",
       "a688224b-38c6-4fab-9d0e-f9c7b0ac6d13 72276.0  Штора для ванной Spirella / Спирелла Peva Hugo, синий, полиэтилен, 180*200 см, 1001951                                    1       \n",
       "a6142764-478d-4357-bcbb-7f9bd35a98e5 14596.0  Базилик зеленый Тонус d-7 см                                                                                              1       \n",
       "a5ddb5fe-2fa7-45b2-8226-cfee2586b47d 72975.0  Мята перечная Шоколадная Chocolate d-7 см h-10 см укорененный черенок                                                     1       \n",
       "a5d2e966-7aae-469a-9e3e-5d1995fa5f9e 70772.0  Карниз для ванной комнаты Виолет раздвижной 210 см с кольцами голубой 2110/3                                              1       \n",
       "a5ab3199-f4dd-4992-90dd-a8e95e179a45 71390.0  Сушилка для белья потолочная ЛИАНА ЛЮКС 170 см ЛЛП-170                                                                    1       \n",
       "a59f9951-59cd-4245-ae0e-4a99346b2b2a 14837.0  Рассада Арбуза сорт Сибирские огни, горшок 9*9см                                                                          1       \n",
       "a592fbef-dd62-4069-9e77-9043101b6077 72303.0  Ткань для гигиенических поверхностей (для чистки и впитывания с антибактериальным покрытием) 400*400 мм, Leifheit, 40000  1       \n",
       "a58e9582-22fd-4aa4-9faa-e4df080db7fd 70120.0  Гладильная доска Белль-Юниор1 34,5х112см ДСП 1200006                                                                      1       \n",
       "a5856564-f398-46f8-86d4-dab50365fd9a 71907.0  Мимоза стыдливая d-9 см                                                                                                   1       \n",
       "a576fa59-7b28-4a4c-a496-92f128754a94 68487.0  Корзина мягкая пластиковая 17 л, М-пластика, M2880                                                                        1       \n",
       "a5601c27-28a8-45c1-9c31-158ef0efa4cf 72934.0  Холодная сварка Mastix 55г для труб и батарей, 1205197                                                                    1       \n",
       "a5595543-8a92-4e92-81b6-e3e4a7476260 68607.0  Противень прямоугольный алюминиевый 340х240х25 см ЭКСПЕРТ, Scovo, СЭ-052, /1503028                                        1       \n",
       "a51a23a6-9af2-495c-b9f1-a7ae5634e654 70409.0  Кофе Арабика d-9 см                                                                                                       1       \n",
       "\n",
       "                                                                                                                                                                        week  \\\n",
       "customer_id                          order_id product                                                                                                                          \n",
       "000d6849-084e-4d9f-ac03-37174eaf60c4 14943.0  Пеларгония зональная диам. 12 см темнорозовая полумахровая                                                                1      \n",
       "a8b088ec-7c45-4dda-bc86-2ffcc861d8d8 14565.0  Пеларгония зональная диам. 12 см белая полумахровая                                                                       1      \n",
       "a868bebb-e4f4-494c-b7cb-ab03b88fe40b 69710.0  Плед флисовый 150х130 см WELLNESS WPLNY135-Зима_10 100 % полиэстер                                                        1      \n",
       "a83b36dd-1906-4e1f-8387-5c38fcf76a10 69787.0  Сковорода Scovo Дем Мт-029 алюминиевая без крышки с металической ручкой, 20 см                                            1      \n",
       "a7fd2907-8521-4d75-a5b0-231ad712483c 68636.0  Вкладыши для хранения посуды 2 шт d-38 cm MARMITON, LG17056                                                               1      \n",
       "a73ff6bd-0c51-485b-aaa5-2823f28cf361 72368.0  Тележка багажная DELTA DT-23 грузоподъемность 50 кг РОССИЯ                                                                1      \n",
       "a6abc21d-5e9e-41db-9552-a942000ed5c2 69300.0  Тарелка обеденная КАШИМА ПУРПЛ 25 см G9324 Luminarc                                                                       1      \n",
       "a688224b-38c6-4fab-9d0e-f9c7b0ac6d13 72276.0  Штора для ванной Spirella / Спирелла Peva Hugo, синий, полиэтилен, 180*200 см, 1001951                                    1      \n",
       "a6142764-478d-4357-bcbb-7f9bd35a98e5 14596.0  Базилик зеленый Тонус d-7 см                                                                                              1      \n",
       "a5ddb5fe-2fa7-45b2-8226-cfee2586b47d 72975.0  Мята перечная Шоколадная Chocolate d-7 см h-10 см укорененный черенок                                                     1      \n",
       "a5d2e966-7aae-469a-9e3e-5d1995fa5f9e 70772.0  Карниз для ванной комнаты Виолет раздвижной 210 см с кольцами голубой 2110/3                                              1      \n",
       "a5ab3199-f4dd-4992-90dd-a8e95e179a45 71390.0  Сушилка для белья потолочная ЛИАНА ЛЮКС 170 см ЛЛП-170                                                                    1      \n",
       "a59f9951-59cd-4245-ae0e-4a99346b2b2a 14837.0  Рассада Арбуза сорт Сибирские огни, горшок 9*9см                                                                          1      \n",
       "a592fbef-dd62-4069-9e77-9043101b6077 72303.0  Ткань для гигиенических поверхностей (для чистки и впитывания с антибактериальным покрытием) 400*400 мм, Leifheit, 40000  1      \n",
       "a58e9582-22fd-4aa4-9faa-e4df080db7fd 70120.0  Гладильная доска Белль-Юниор1 34,5х112см ДСП 1200006                                                                      1      \n",
       "a5856564-f398-46f8-86d4-dab50365fd9a 71907.0  Мимоза стыдливая d-9 см                                                                                                   1      \n",
       "a576fa59-7b28-4a4c-a496-92f128754a94 68487.0  Корзина мягкая пластиковая 17 л, М-пластика, M2880                                                                        1      \n",
       "a5601c27-28a8-45c1-9c31-158ef0efa4cf 72934.0  Холодная сварка Mastix 55г для труб и батарей, 1205197                                                                    1      \n",
       "a5595543-8a92-4e92-81b6-e3e4a7476260 68607.0  Противень прямоугольный алюминиевый 340х240х25 см ЭКСПЕРТ, Scovo, СЭ-052, /1503028                                        1      \n",
       "a51a23a6-9af2-495c-b9f1-a7ae5634e654 70409.0  Кофе Арабика d-9 см                                                                                                       1      \n",
       "\n",
       "                                                                                                                                                                        day  \\\n",
       "customer_id                          order_id product                                                                                                                         \n",
       "000d6849-084e-4d9f-ac03-37174eaf60c4 14943.0  Пеларгония зональная диам. 12 см темнорозовая полумахровая                                                                1     \n",
       "a8b088ec-7c45-4dda-bc86-2ffcc861d8d8 14565.0  Пеларгония зональная диам. 12 см белая полумахровая                                                                       1     \n",
       "a868bebb-e4f4-494c-b7cb-ab03b88fe40b 69710.0  Плед флисовый 150х130 см WELLNESS WPLNY135-Зима_10 100 % полиэстер                                                        1     \n",
       "a83b36dd-1906-4e1f-8387-5c38fcf76a10 69787.0  Сковорода Scovo Дем Мт-029 алюминиевая без крышки с металической ручкой, 20 см                                            1     \n",
       "a7fd2907-8521-4d75-a5b0-231ad712483c 68636.0  Вкладыши для хранения посуды 2 шт d-38 cm MARMITON, LG17056                                                               1     \n",
       "a73ff6bd-0c51-485b-aaa5-2823f28cf361 72368.0  Тележка багажная DELTA DT-23 грузоподъемность 50 кг РОССИЯ                                                                1     \n",
       "a6abc21d-5e9e-41db-9552-a942000ed5c2 69300.0  Тарелка обеденная КАШИМА ПУРПЛ 25 см G9324 Luminarc                                                                       1     \n",
       "a688224b-38c6-4fab-9d0e-f9c7b0ac6d13 72276.0  Штора для ванной Spirella / Спирелла Peva Hugo, синий, полиэтилен, 180*200 см, 1001951                                    1     \n",
       "a6142764-478d-4357-bcbb-7f9bd35a98e5 14596.0  Базилик зеленый Тонус d-7 см                                                                                              1     \n",
       "a5ddb5fe-2fa7-45b2-8226-cfee2586b47d 72975.0  Мята перечная Шоколадная Chocolate d-7 см h-10 см укорененный черенок                                                     1     \n",
       "a5d2e966-7aae-469a-9e3e-5d1995fa5f9e 70772.0  Карниз для ванной комнаты Виолет раздвижной 210 см с кольцами голубой 2110/3                                              1     \n",
       "a5ab3199-f4dd-4992-90dd-a8e95e179a45 71390.0  Сушилка для белья потолочная ЛИАНА ЛЮКС 170 см ЛЛП-170                                                                    1     \n",
       "a59f9951-59cd-4245-ae0e-4a99346b2b2a 14837.0  Рассада Арбуза сорт Сибирские огни, горшок 9*9см                                                                          1     \n",
       "a592fbef-dd62-4069-9e77-9043101b6077 72303.0  Ткань для гигиенических поверхностей (для чистки и впитывания с антибактериальным покрытием) 400*400 мм, Leifheit, 40000  1     \n",
       "a58e9582-22fd-4aa4-9faa-e4df080db7fd 70120.0  Гладильная доска Белль-Юниор1 34,5х112см ДСП 1200006                                                                      1     \n",
       "a5856564-f398-46f8-86d4-dab50365fd9a 71907.0  Мимоза стыдливая d-9 см                                                                                                   1     \n",
       "a576fa59-7b28-4a4c-a496-92f128754a94 68487.0  Корзина мягкая пластиковая 17 л, М-пластика, M2880                                                                        1     \n",
       "a5601c27-28a8-45c1-9c31-158ef0efa4cf 72934.0  Холодная сварка Mastix 55г для труб и батарей, 1205197                                                                    1     \n",
       "a5595543-8a92-4e92-81b6-e3e4a7476260 68607.0  Противень прямоугольный алюминиевый 340х240х25 см ЭКСПЕРТ, Scovo, СЭ-052, /1503028                                        1     \n",
       "a51a23a6-9af2-495c-b9f1-a7ae5634e654 70409.0  Кофе Арабика d-9 см                                                                                                       1     \n",
       "\n",
       "                                                                                                                                                                        turnover  \n",
       "customer_id                          order_id product                                                                                                                             \n",
       "000d6849-084e-4d9f-ac03-37174eaf60c4 14943.0  Пеларгония зональная диам. 12 см темнорозовая полумахровая                                                                1         \n",
       "a8b088ec-7c45-4dda-bc86-2ffcc861d8d8 14565.0  Пеларгония зональная диам. 12 см белая полумахровая                                                                       1         \n",
       "a868bebb-e4f4-494c-b7cb-ab03b88fe40b 69710.0  Плед флисовый 150х130 см WELLNESS WPLNY135-Зима_10 100 % полиэстер                                                        1         \n",
       "a83b36dd-1906-4e1f-8387-5c38fcf76a10 69787.0  Сковорода Scovo Дем Мт-029 алюминиевая без крышки с металической ручкой, 20 см                                            1         \n",
       "a7fd2907-8521-4d75-a5b0-231ad712483c 68636.0  Вкладыши для хранения посуды 2 шт d-38 cm MARMITON, LG17056                                                               1         \n",
       "a73ff6bd-0c51-485b-aaa5-2823f28cf361 72368.0  Тележка багажная DELTA DT-23 грузоподъемность 50 кг РОССИЯ                                                                1         \n",
       "a6abc21d-5e9e-41db-9552-a942000ed5c2 69300.0  Тарелка обеденная КАШИМА ПУРПЛ 25 см G9324 Luminarc                                                                       1         \n",
       "a688224b-38c6-4fab-9d0e-f9c7b0ac6d13 72276.0  Штора для ванной Spirella / Спирелла Peva Hugo, синий, полиэтилен, 180*200 см, 1001951                                    1         \n",
       "a6142764-478d-4357-bcbb-7f9bd35a98e5 14596.0  Базилик зеленый Тонус d-7 см                                                                                              1         \n",
       "a5ddb5fe-2fa7-45b2-8226-cfee2586b47d 72975.0  Мята перечная Шоколадная Chocolate d-7 см h-10 см укорененный черенок                                                     1         \n",
       "a5d2e966-7aae-469a-9e3e-5d1995fa5f9e 70772.0  Карниз для ванной комнаты Виолет раздвижной 210 см с кольцами голубой 2110/3                                              1         \n",
       "a5ab3199-f4dd-4992-90dd-a8e95e179a45 71390.0  Сушилка для белья потолочная ЛИАНА ЛЮКС 170 см ЛЛП-170                                                                    1         \n",
       "a59f9951-59cd-4245-ae0e-4a99346b2b2a 14837.0  Рассада Арбуза сорт Сибирские огни, горшок 9*9см                                                                          1         \n",
       "a592fbef-dd62-4069-9e77-9043101b6077 72303.0  Ткань для гигиенических поверхностей (для чистки и впитывания с антибактериальным покрытием) 400*400 мм, Leifheit, 40000  1         \n",
       "a58e9582-22fd-4aa4-9faa-e4df080db7fd 70120.0  Гладильная доска Белль-Юниор1 34,5х112см ДСП 1200006                                                                      1         \n",
       "a5856564-f398-46f8-86d4-dab50365fd9a 71907.0  Мимоза стыдливая d-9 см                                                                                                   1         \n",
       "a576fa59-7b28-4a4c-a496-92f128754a94 68487.0  Корзина мягкая пластиковая 17 л, М-пластика, M2880                                                                        1         \n",
       "a5601c27-28a8-45c1-9c31-158ef0efa4cf 72934.0  Холодная сварка Mastix 55г для труб и батарей, 1205197                                                                    1         \n",
       "a5595543-8a92-4e92-81b6-e3e4a7476260 68607.0  Противень прямоугольный алюминиевый 340х240х25 см ЭКСПЕРТ, Scovo, СЭ-052, /1503028                                        1         \n",
       "a51a23a6-9af2-495c-b9f1-a7ae5634e654 70409.0  Кофе Арабика d-9 см                                                                                                       1         "
      ]
     },
     "execution_count": 73,
     "metadata": {},
     "output_type": "execute_result"
    }
   ],
   "source": [
    "data_clean.groupby(['customer_id', 'order_id', 'product']).count().sort_values('date', ascending=False).head(20)"
   ]
  },
  {
   "cell_type": "markdown",
   "metadata": {},
   "source": [
    "<a id=\"analysis\"></a>\n",
    "### 2. Анализ данных"
   ]
  },
  {
   "cell_type": "markdown",
   "metadata": {},
   "source": [
    "По аналогии с АВС-анализом предлагаем провести параллельное разделение на товарные категории по следующим критериям:\n",
    "\n",
    "- количество продаж\n",
    "- цена\n",
    "- оборот\n",
    "\n",
    "\n",
    "__1). Определим количество продаж в натуральных единицах:__\n",
    "\n",
    "a) общее и среднее количество продаж за весь период, месяц, неделю (показать в динамике на графике);"
   ]
  },
  {
   "cell_type": "markdown",
   "metadata": {},
   "source": [
    "Определим, за какой период у нас данные."
   ]
  },
  {
   "cell_type": "code",
   "execution_count": 74,
   "metadata": {},
   "outputs": [
    {
     "data": {
      "text/plain": [
       "Timestamp('2019-10-31 00:00:16')"
      ]
     },
     "execution_count": 74,
     "metadata": {},
     "output_type": "execute_result"
    }
   ],
   "source": [
    "data_clean['date'].max()"
   ]
  },
  {
   "cell_type": "code",
   "execution_count": 75,
   "metadata": {},
   "outputs": [
    {
     "data": {
      "text/plain": [
       "Timestamp('2018-10-01 00:00:00')"
      ]
     },
     "execution_count": 75,
     "metadata": {},
     "output_type": "execute_result"
    }
   ],
   "source": [
    "data_clean['date'].min()"
   ]
  },
  {
   "cell_type": "markdown",
   "metadata": {},
   "source": [
    "Данные предоставлены за один год - с 01.10.2018 по 31.10.2019"
   ]
  },
  {
   "cell_type": "markdown",
   "metadata": {},
   "source": [
    "Вычислим общее количество товаров "
   ]
  },
  {
   "cell_type": "code",
   "execution_count": 76,
   "metadata": {},
   "outputs": [
    {
     "name": "stdout",
     "output_type": "stream",
     "text": [
      "Общее количество проданных товаров: 9719.0\n"
     ]
    }
   ],
   "source": [
    "total_quantity = data_clean['quantity'].sum()\n",
    "print(f'Общее количество проданных товаров:', total_quantity)"
   ]
  },
  {
   "cell_type": "code",
   "execution_count": 77,
   "metadata": {},
   "outputs": [
    {
     "name": "stdout",
     "output_type": "stream",
     "text": [
      "Общее количество уникальных товаров: 1923\n"
     ]
    }
   ],
   "source": [
    "total_quantity_unique = data_clean['product'].nunique()\n",
    "print(f'Общее количество уникальных товаров:', total_quantity_unique)"
   ]
  },
  {
   "cell_type": "markdown",
   "metadata": {},
   "source": [
    "Узнаем среднее количество за месяц и построим график по количеству продаж в месяц, предварительно создадим сводную таблицу."
   ]
  },
  {
   "cell_type": "code",
   "execution_count": 79,
   "metadata": {},
   "outputs": [
    {
     "name": "stdout",
     "output_type": "stream",
     "text": [
      "Среднее количество проданных товаров в месяц: 809.9166666666666\n"
     ]
    },
    {
     "data": {
      "text/plain": [
       "<bound method NDFrame.head of     month  quantity\n",
       "0   1      289.0   \n",
       "1   2      733.0   \n",
       "2   3      867.0   \n",
       "3   4      1306.0  \n",
       "4   5      1141.0  \n",
       "5   6      1570.0  \n",
       "6   7      590.0   \n",
       "7   8      348.0   \n",
       "8   9      314.0   \n",
       "9   10     1247.0  \n",
       "10  11     725.0   \n",
       "11  12     589.0   >"
      ]
     },
     "metadata": {},
     "output_type": "display_data"
    }
   ],
   "source": [
    "month_quantity = data_clean.groupby(['month']).agg({'quantity':'sum'}).reset_index()\n",
    "print(f'Среднее количество проданных товаров в месяц:', month_quantity['quantity'].mean())\n",
    "display(month_quantity.head)"
   ]
  },
  {
   "cell_type": "code",
   "execution_count": 80,
   "metadata": {},
   "outputs": [
    {
     "data": {
      "image/png": "[encoded data removed]",
      "text/plain": [
       "<Figure size 1152x648 with 1 Axes>"
      ]
     },
     "metadata": {
      "needs_background": "light"
     },
     "output_type": "display_data"
    }
   ],
   "source": [
    "month_quantity.plot(kind='bar', x='month', title='График динамики количества проданных товаров по месяцам', figsize=(16, 9), color='#4f8a8b', legend=True)\n",
    "sns.set_style(\"darkgrid\")\n",
    "plt.xlabel(\"месяц\")\n",
    "plt.ylabel(\"количество товара\")\n",
    "plt.tick_params(axis='x', labelsize = 10, labelrotation=360)\n",
    "\n"
   ]
  },
  {
   "cell_type": "markdown",
   "metadata": {},
   "source": [
    "Больше всего продано товара в июне (около 1 570 шт.), октябре (1 2407 шт.) и апреле (1 300 шт.). Меньше всего: январь (289), август-сентябрь (314-348 шт. в месяц). Продажи последовательно растут до с февраля по июнь (с пиком выше среднего (809 шт. в месяц) апрель, июнь, октябрь), затем падают и следующий пик происходит в октябре. Возможно, это связано с весенними-осенними активностями покупателей в доме и саду."
   ]
  },
  {
   "cell_type": "markdown",
   "metadata": {},
   "source": [
    "Построим график динамики продаж по неделям"
   ]
  },
  {
   "cell_type": "code",
   "execution_count": 81,
   "metadata": {},
   "outputs": [
    {
     "data": {
      "image/png": "[encoded data removed]",
      "text/plain": [
       "<Figure size 1152x648 with 1 Axes>"
      ]
     },
     "metadata": {},
     "output_type": "display_data"
    }
   ],
   "source": [
    "week_quantity = data_clean.groupby(['week']).agg({'quantity':'sum'}).reset_index()\n",
    "week_quantity.plot(kind='bar',title='График динамики количества проданных товаров по неделям', figsize=(16, 9), color='#a23425', legend=True)\n",
    "sns.set_style(\"darkgrid\")\n",
    "plt.xlabel(\"неделя\")\n",
    "plt.ylabel(\"количество товара\")\n",
    "plt.tick_params(axis='x', labelsize = 10, labelrotation=360)\n",
    "\n"
   ]
  },
  {
   "cell_type": "code",
   "execution_count": 82,
   "metadata": {},
   "outputs": [
    {
     "name": "stdout",
     "output_type": "stream",
     "text": [
      "Среднее количество проданных товаров в неделю: 186.90384615384616\n"
     ]
    }
   ],
   "source": [
    "print(f'Среднее количество проданных товаров в неделю:', week_quantity['quantity'].mean())"
   ]
  },
  {
   "cell_type": "markdown",
   "metadata": {},
   "source": [
    "В среднем в неделю продается до 200 товаров. В пик сезона количество доходит до 700. Вне сезона продажи могут составляет менее 100."
   ]
  },
  {
   "cell_type": "markdown",
   "metadata": {},
   "source": [
    "b) какой товар самый/менее популярный (чаще/реже всего продается)?\n",
    "\n",
    "Сгруппируем таблицу по продукту, сразу учитывая выручку и цену."
   ]
  },
  {
   "cell_type": "code",
   "execution_count": 83,
   "metadata": {},
   "outputs": [],
   "source": [
    "product_quantity = data_clean.groupby(['product']).agg({'quantity':'sum', 'turnover':'sum', 'price':'unique'}).reset_index().sort_values(by='quantity', ascending=False)"
   ]
  },
  {
   "cell_type": "code",
   "execution_count": 84,
   "metadata": {},
   "outputs": [
    {
     "data": {
      "text/html": [
       "<div>\n",
       "<style scoped>\n",
       "    .dataframe tbody tr th:only-of-type {\n",
       "        vertical-align: middle;\n",
       "    }\n",
       "\n",
       "    .dataframe tbody tr th {\n",
       "        vertical-align: top;\n",
       "    }\n",
       "\n",
       "    .dataframe thead th {\n",
       "        text-align: right;\n",
       "    }\n",
       "</style>\n",
       "<table border=\"1\" class=\"dataframe\">\n",
       "  <thead>\n",
       "    <tr style=\"text-align: right;\">\n",
       "      <th></th>\n",
       "      <th>product</th>\n",
       "      <th>quantity</th>\n",
       "      <th>turnover</th>\n",
       "      <th>price</th>\n",
       "    </tr>\n",
       "  </thead>\n",
       "  <tbody>\n",
       "    <tr>\n",
       "      <td>1350</td>\n",
       "      <td>Стяжка оконная с болтом СТ-55 цинк, 1108354</td>\n",
       "      <td>112.0</td>\n",
       "      <td>2184.0</td>\n",
       "      <td>[19.0, 20.0, 22.0]</td>\n",
       "    </tr>\n",
       "    <tr>\n",
       "      <td>1640</td>\n",
       "      <td>Цветок искусственный Гвоздика пластиковая одиночная в ассортименте 50 см</td>\n",
       "      <td>96.0</td>\n",
       "      <td>2007.0</td>\n",
       "      <td>[22.0, 21.0, 20.0]</td>\n",
       "    </tr>\n",
       "    <tr>\n",
       "      <td>864</td>\n",
       "      <td>Пеларгония розебудная Red Pandora укорененный черенок</td>\n",
       "      <td>94.0</td>\n",
       "      <td>12670.0</td>\n",
       "      <td>[135.0, 134.0, 149.0]</td>\n",
       "    </tr>\n",
       "    <tr>\n",
       "      <td>3</td>\n",
       "      <td>Ёрш унитазный с деревянной ручкой , Ваир 1712012</td>\n",
       "      <td>93.0</td>\n",
       "      <td>5223.0</td>\n",
       "      <td>[56.0, 59.0]</td>\n",
       "    </tr>\n",
       "    <tr>\n",
       "      <td>543</td>\n",
       "      <td>Крючок одежный двойной усиленный алюминиевый (дюраль), 1110015</td>\n",
       "      <td>90.0</td>\n",
       "      <td>2340.0</td>\n",
       "      <td>[26.0]</td>\n",
       "    </tr>\n",
       "    <tr>\n",
       "      <td>...</td>\n",
       "      <td>...</td>\n",
       "      <td>...</td>\n",
       "      <td>...</td>\n",
       "      <td>...</td>\n",
       "    </tr>\n",
       "    <tr>\n",
       "      <td>1295</td>\n",
       "      <td>Скатерть Meiwa FPLUS-PLAIN SARASA AZ BE прямоугольная152х228 см бежевая 5140 Meiwa</td>\n",
       "      <td>1.0</td>\n",
       "      <td>974.0</td>\n",
       "      <td>[974.0]</td>\n",
       "    </tr>\n",
       "    <tr>\n",
       "      <td>1297</td>\n",
       "      <td>Скатерть Ажурная d-ia Rose круглая д.152 белая 5173 Towa Co. LTd-</td>\n",
       "      <td>1.0</td>\n",
       "      <td>712.0</td>\n",
       "      <td>[712.0]</td>\n",
       "    </tr>\n",
       "    <tr>\n",
       "      <td>1298</td>\n",
       "      <td>Скатерть Жаклин 50% полиэфир 50% хлопок квадратная 140х140 см бежевая Wellness ML144-Жаклин*17</td>\n",
       "      <td>1.0</td>\n",
       "      <td>899.0</td>\n",
       "      <td>[899.0]</td>\n",
       "    </tr>\n",
       "    <tr>\n",
       "      <td>1299</td>\n",
       "      <td>Скатерть Муза 100% полиэфир овальная 180х150 см сливочная с цветами, Wellness, WTO185-Муза*04</td>\n",
       "      <td>1.0</td>\n",
       "      <td>1012.0</td>\n",
       "      <td>[1012.0]</td>\n",
       "    </tr>\n",
       "    <tr>\n",
       "      <td>961</td>\n",
       "      <td>Подставка для цветов 1-секционная Стелла 1205107</td>\n",
       "      <td>1.0</td>\n",
       "      <td>374.0</td>\n",
       "      <td>[374.0]</td>\n",
       "    </tr>\n",
       "  </tbody>\n",
       "</table>\n",
       "<p>1923 rows × 4 columns</p>\n",
       "</div>"
      ],
      "text/plain": [
       "                                                                                             product  \\\n",
       "1350  Стяжка оконная с болтом СТ-55 цинк, 1108354                                                      \n",
       "1640  Цветок искусственный Гвоздика пластиковая одиночная в ассортименте 50 см                         \n",
       "864   Пеларгония розебудная Red Pandora укорененный черенок                                            \n",
       "3     Ёрш унитазный с деревянной ручкой , Ваир 1712012                                                 \n",
       "543   Крючок одежный двойной усиленный алюминиевый (дюраль), 1110015                                   \n",
       "...                                                              ...                                   \n",
       "1295  Скатерть Meiwa FPLUS-PLAIN SARASA AZ BE прямоугольная152х228 см бежевая 5140 Meiwa               \n",
       "1297  Скатерть Ажурная d-ia Rose круглая д.152 белая 5173 Towa Co. LTd-                                \n",
       "1298  Скатерть Жаклин 50% полиэфир 50% хлопок квадратная 140х140 см бежевая Wellness ML144-Жаклин*17   \n",
       "1299  Скатерть Муза 100% полиэфир овальная 180х150 см сливочная с цветами, Wellness, WTO185-Муза*04    \n",
       "961   Подставка для цветов 1-секционная Стелла 1205107                                                 \n",
       "\n",
       "      quantity  turnover                  price  \n",
       "1350  112.0     2184.0    [19.0, 20.0, 22.0]     \n",
       "1640  96.0      2007.0    [22.0, 21.0, 20.0]     \n",
       "864   94.0      12670.0   [135.0, 134.0, 149.0]  \n",
       "3     93.0      5223.0    [56.0, 59.0]           \n",
       "543   90.0      2340.0    [26.0]                 \n",
       "...    ...         ...       ...                 \n",
       "1295  1.0       974.0     [974.0]                \n",
       "1297  1.0       712.0     [712.0]                \n",
       "1298  1.0       899.0     [899.0]                \n",
       "1299  1.0       1012.0    [1012.0]               \n",
       "961   1.0       374.0     [374.0]                \n",
       "\n",
       "[1923 rows x 4 columns]"
      ]
     },
     "metadata": {},
     "output_type": "display_data"
    }
   ],
   "source": [
    "display(product_quantity)"
   ]
  },
  {
   "cell_type": "markdown",
   "metadata": {},
   "source": [
    "Самый популярный продукт - стяжка оконная (продано 112 шт.), а наименее популярный - подставка для цветов (1). Также в ТОП-3 искусственная Гвоздика (96 штук) и черенок Пеларгонии розебудной (94 штуки).\n"
   ]
  },
  {
   "cell_type": "markdown",
   "metadata": {},
   "source": [
    "Разделим выборку на 3 категории(АВС) по количеству проданного товара. А- самые часто продаваемые, В - средние и С - реже продаваемые.\n",
    "\n",
    "Сначала попробуем определить диапазон по количеству."
   ]
  },
  {
   "cell_type": "code",
   "execution_count": 85,
   "metadata": {},
   "outputs": [
    {
     "data": {
      "text/plain": [
       "(0.999, 2.0]    1165\n",
       "(4.0, 112.0]    446 \n",
       "(2.0, 4.0]      312 \n",
       "Name: quantity, dtype: int64"
      ]
     },
     "metadata": {},
     "output_type": "display_data"
    }
   ],
   "source": [
    "quantity_range = pd.qcut(product_quantity['quantity'], 4, duplicates='drop').value_counts()\n",
    "display(quantity_range)\n"
   ]
  },
  {
   "cell_type": "markdown",
   "metadata": {},
   "source": [
    "Мы видим, что до 2 единиц, продается 60% товара."
   ]
  },
  {
   "cell_type": "markdown",
   "metadata": {},
   "source": [
    "Посчитаем, сколько товара было продано только в единичном количестве"
   ]
  },
  {
   "cell_type": "code",
   "execution_count": 86,
   "metadata": {},
   "outputs": [
    {
     "data": {
      "text/plain": [
       "product     854\n",
       "quantity    854\n",
       "turnover    854\n",
       "price       854\n",
       "dtype: int64"
      ]
     },
     "metadata": {},
     "output_type": "display_data"
    }
   ],
   "source": [
    "one_quantity = product_quantity.query('quantity == 1').count()\n",
    "display(one_quantity)"
   ]
  },
  {
   "cell_type": "code",
   "execution_count": 87,
   "metadata": {},
   "outputs": [
    {
     "data": {
      "text/plain": [
       "product     0.444098\n",
       "quantity    0.444098\n",
       "turnover    0.444098\n",
       "price       0.444098\n",
       "dtype: float64"
      ]
     },
     "metadata": {},
     "output_type": "display_data"
    }
   ],
   "source": [
    "display(one_quantity / product_quantity['product'].count())"
   ]
  },
  {
   "cell_type": "markdown",
   "metadata": {},
   "source": [
    "44% уникального товара было продано в единичном количестве. Это должна быть отдельная группа."
   ]
  },
  {
   "cell_type": "markdown",
   "metadata": {},
   "source": [
    "Разобьем уникальные товары на  категории  по выявленному диапазону количества продаж"
   ]
  },
  {
   "cell_type": "code",
   "execution_count": 88,
   "metadata": {},
   "outputs": [
    {
     "data": {
      "text/plain": [
       "'Кол-во товаров в категории А по количеству продаж: '"
      ]
     },
     "metadata": {},
     "output_type": "display_data"
    },
    {
     "data": {
      "text/plain": [
       "556"
      ]
     },
     "metadata": {},
     "output_type": "display_data"
    },
    {
     "data": {
      "text/plain": [
       "'Доля товаров в категории А по количеству продаж: '"
      ]
     },
     "metadata": {},
     "output_type": "display_data"
    },
    {
     "data": {
      "text/plain": [
       "0.2891315652626105"
      ]
     },
     "metadata": {},
     "output_type": "display_data"
    }
   ],
   "source": [
    "A_quantity = product_quantity.query('quantity >= 4')\n",
    "A_quantity_count = A_quantity['quantity'].count()\n",
    "A_quantity_mean = A_quantity_count / product_quantity['product'].count()\n",
    "display(f'Кол-во товаров в категории А по количеству продаж: ', A_quantity_count)\n",
    "display(f'Доля товаров в категории А по количеству продаж: ', A_quantity_mean)"
   ]
  },
  {
   "cell_type": "code",
   "execution_count": 89,
   "metadata": {},
   "outputs": [
    {
     "data": {
      "text/plain": [
       "'Кол-во товаров в категории B по количеству продаж: '"
      ]
     },
     "metadata": {},
     "output_type": "display_data"
    },
    {
     "data": {
      "text/plain": [
       "513"
      ]
     },
     "metadata": {},
     "output_type": "display_data"
    },
    {
     "data": {
      "text/plain": [
       "'Доля товаров в категории B по количеству продаж: '"
      ]
     },
     "metadata": {},
     "output_type": "display_data"
    },
    {
     "data": {
      "text/plain": [
       "0.2667706708268331"
      ]
     },
     "metadata": {},
     "output_type": "display_data"
    }
   ],
   "source": [
    "B_quantity = product_quantity.query('quantity >= 2 and quantity <= 3')\n",
    "B_quantity_count = B_quantity['quantity'].count()\n",
    "B_quantity_mean = B_quantity_count / product_quantity['product'].count()\n",
    "display(f'Кол-во товаров в категории B по количеству продаж: ', B_quantity_count)\n",
    "display(f'Доля товаров в категории B по количеству продаж: ', B_quantity_mean)"
   ]
  },
  {
   "cell_type": "code",
   "execution_count": 90,
   "metadata": {},
   "outputs": [
    {
     "data": {
      "text/plain": [
       "'Кол-во товаров в категории С по количеству продаж: '"
      ]
     },
     "metadata": {},
     "output_type": "display_data"
    },
    {
     "data": {
      "text/plain": [
       "854"
      ]
     },
     "metadata": {},
     "output_type": "display_data"
    },
    {
     "data": {
      "text/plain": [
       "'Доля товаров в категории С по количеству продаж: '"
      ]
     },
     "metadata": {},
     "output_type": "display_data"
    },
    {
     "data": {
      "text/plain": [
       "0.44409776391055644"
      ]
     },
     "metadata": {},
     "output_type": "display_data"
    }
   ],
   "source": [
    "C_quantity = product_quantity.query('quantity == 1')\n",
    "C_quantity_count = C_quantity['quantity'].count()\n",
    "C_quantity_mean = C_quantity_count / product_quantity['product'].count()\n",
    "display(f'Кол-во товаров в категории С по количеству продаж: ', C_quantity_count)\n",
    "display(f'Доля товаров в категории С по количеству продаж: ', C_quantity_mean)"
   ]
  },
  {
   "cell_type": "markdown",
   "metadata": {},
   "source": [
    "**Таким образом, можно разделить товар по количеству на следующие группы:**\n",
    "\n",
    "- А - часто продаваемые 4-112 шт.\n",
    "\n",
    "- В - средние по количеству продаж 2-3 шт.\n",
    "\n",
    "- С - реже продаваемые 1 шт.\n",
    "\n",
    "Самая крупная по количеству товаров - категория С (854 наименования и 44% от всех товаров), самая небольшая категория В (513 наименований и доля 27%). Необходимо увеличивать количество продаж в категории С."
   ]
  },
  {
   "cell_type": "markdown",
   "metadata": {},
   "source": [
    "__2).  Выяснить структуру цены ассортимента:__\n",
    "\n",
    "a) товары по ценовому диапазону. Какой самый дорогой и самый дешевый товар?"
   ]
  },
  {
   "cell_type": "markdown",
   "metadata": {},
   "source": [
    "Проверим по одной и той же цене продавались товары в течение года или нет?"
   ]
  },
  {
   "cell_type": "code",
   "execution_count": 91,
   "metadata": {},
   "outputs": [
    {
     "data": {
      "text/html": [
       "<div>\n",
       "<style scoped>\n",
       "    .dataframe tbody tr th:only-of-type {\n",
       "        vertical-align: middle;\n",
       "    }\n",
       "\n",
       "    .dataframe tbody tr th {\n",
       "        vertical-align: top;\n",
       "    }\n",
       "\n",
       "    .dataframe thead th {\n",
       "        text-align: right;\n",
       "    }\n",
       "</style>\n",
       "<table border=\"1\" class=\"dataframe\">\n",
       "  <thead>\n",
       "    <tr style=\"text-align: right;\">\n",
       "      <th></th>\n",
       "      <th>product</th>\n",
       "      <th>price</th>\n",
       "    </tr>\n",
       "  </thead>\n",
       "  <tbody>\n",
       "    <tr>\n",
       "      <td>3</td>\n",
       "      <td>Ёрш унитазный с деревянной ручкой , Ваир 1712012</td>\n",
       "      <td>2</td>\n",
       "    </tr>\n",
       "    <tr>\n",
       "      <td>13</td>\n",
       "      <td>Аквилегия обыкновенная Барлоу микс объем 1 л</td>\n",
       "      <td>2</td>\n",
       "    </tr>\n",
       "    <tr>\n",
       "      <td>18</td>\n",
       "      <td>Алоэ Вера d-12 см h-25 см</td>\n",
       "      <td>2</td>\n",
       "    </tr>\n",
       "    <tr>\n",
       "      <td>25</td>\n",
       "      <td>Антуриум Тропик Найт НИДЕРЛАНДЫ 1 штука в упаковке</td>\n",
       "      <td>2</td>\n",
       "    </tr>\n",
       "    <tr>\n",
       "      <td>27</td>\n",
       "      <td>Антуриум андрианум Ванилла d-12 см</td>\n",
       "      <td>2</td>\n",
       "    </tr>\n",
       "    <tr>\n",
       "      <td>...</td>\n",
       "      <td>...</td>\n",
       "      <td>...</td>\n",
       "    </tr>\n",
       "    <tr>\n",
       "      <td>1753</td>\n",
       "      <td>Чехол для одежды Hausmann со стенкой из ПВХ и ручками 60х140 см синий HM-701402NG</td>\n",
       "      <td>2</td>\n",
       "    </tr>\n",
       "    <tr>\n",
       "      <td>1765</td>\n",
       "      <td>Швабра многофункциональная, Rozenbal, R212522</td>\n",
       "      <td>2</td>\n",
       "    </tr>\n",
       "    <tr>\n",
       "      <td>1790</td>\n",
       "      <td>Штора для ванной комнаты 240х200 Verga белая текстильная 240х200 см 6040</td>\n",
       "      <td>2</td>\n",
       "    </tr>\n",
       "    <tr>\n",
       "      <td>1792</td>\n",
       "      <td>Штора для ванной комнаты Bacchetta Dama текстильная 180х200 см 3655</td>\n",
       "      <td>2</td>\n",
       "    </tr>\n",
       "    <tr>\n",
       "      <td>1826</td>\n",
       "      <td>Щетка-сметка 3-х рядная деревянная 450 мм (плоская ручка), Поиск Риф 1801095</td>\n",
       "      <td>2</td>\n",
       "    </tr>\n",
       "  </tbody>\n",
       "</table>\n",
       "<p>193 rows × 2 columns</p>\n",
       "</div>"
      ],
      "text/plain": [
       "                                                                                product  \\\n",
       "3     Ёрш унитазный с деревянной ручкой , Ваир 1712012                                    \n",
       "13    Аквилегия обыкновенная Барлоу микс объем 1 л                                        \n",
       "18    Алоэ Вера d-12 см h-25 см                                                           \n",
       "25    Антуриум Тропик Найт НИДЕРЛАНДЫ 1 штука в упаковке                                  \n",
       "27    Антуриум андрианум Ванилла d-12 см                                                  \n",
       "...                                  ...                                                  \n",
       "1753  Чехол для одежды Hausmann со стенкой из ПВХ и ручками 60х140 см синий HM-701402NG   \n",
       "1765  Швабра многофункциональная, Rozenbal, R212522                                       \n",
       "1790  Штора для ванной комнаты 240х200 Verga белая текстильная 240х200 см 6040            \n",
       "1792  Штора для ванной комнаты Bacchetta Dama текстильная 180х200 см 3655                 \n",
       "1826  Щетка-сметка 3-х рядная деревянная 450 мм (плоская ручка), Поиск Риф 1801095        \n",
       "\n",
       "      price  \n",
       "3     2      \n",
       "13    2      \n",
       "18    2      \n",
       "25    2      \n",
       "27    2      \n",
       "...  ..      \n",
       "1753  2      \n",
       "1765  2      \n",
       "1790  2      \n",
       "1792  2      \n",
       "1826  2      \n",
       "\n",
       "[193 rows x 2 columns]"
      ]
     },
     "metadata": {},
     "output_type": "display_data"
    }
   ],
   "source": [
    "price_nunique = data_clean.pivot_table(index=['product'], values='price', aggfunc={'price':'nunique'}).reset_index()\n",
    "not_one_price = price_nunique.query('price >= 2')\n",
    "display(not_one_price)"
   ]
  },
  {
   "cell_type": "markdown",
   "metadata": {},
   "source": [
    "Около 193 товара имеют 2 цены. Узнаем количество товаров в датасете (не уникальных, т.к. товары могут быть разной комплектации и продаваться в течение года по разной цене)"
   ]
  },
  {
   "cell_type": "code",
   "execution_count": 92,
   "metadata": {},
   "outputs": [
    {
     "name": "stdout",
     "output_type": "stream",
     "text": [
      "Количество товаров: 5925\n"
     ]
    }
   ],
   "source": [
    "total_product_quantity = data_clean['product'].count()\n",
    "print(f'Количество товаров:', total_product_quantity)"
   ]
  },
  {
   "cell_type": "markdown",
   "metadata": {},
   "source": [
    "Узнаем самый дорогой и самый дешевый товар."
   ]
  },
  {
   "cell_type": "code",
   "execution_count": 93,
   "metadata": {},
   "outputs": [
    {
     "data": {
      "text/html": [
       "<div>\n",
       "<style scoped>\n",
       "    .dataframe tbody tr th:only-of-type {\n",
       "        vertical-align: middle;\n",
       "    }\n",
       "\n",
       "    .dataframe tbody tr th {\n",
       "        vertical-align: top;\n",
       "    }\n",
       "\n",
       "    .dataframe thead th {\n",
       "        text-align: right;\n",
       "    }\n",
       "</style>\n",
       "<table border=\"1\" class=\"dataframe\">\n",
       "  <thead>\n",
       "    <tr style=\"text-align: right;\">\n",
       "      <th></th>\n",
       "      <th>product</th>\n",
       "      <th>price</th>\n",
       "    </tr>\n",
       "  </thead>\n",
       "  <tbody>\n",
       "    <tr>\n",
       "      <td>729</td>\n",
       "      <td>Набор фужеров для вина МАСКАРАД 6шт 250мл, G5544, Luminarc, Франция</td>\n",
       "      <td>1275.0</td>\n",
       "    </tr>\n",
       "    <tr>\n",
       "      <td>1005</td>\n",
       "      <td>Корзина для белья KNIT 57 л темно-коричневая, Curver, 03676-X59-00</td>\n",
       "      <td>1274.0</td>\n",
       "    </tr>\n",
       "    <tr>\n",
       "      <td>5988</td>\n",
       "      <td>Весы электронные кухонные Soehnle (круглые,20 см. стеклянные) серебро 5кг/1гр. 66161</td>\n",
       "      <td>1274.0</td>\n",
       "    </tr>\n",
       "    <tr>\n",
       "      <td>2990</td>\n",
       "      <td>Весы электронные кухонные Soehnle (круглые,20 см. стеклянные) серебро 5кг/1гр. 66161</td>\n",
       "      <td>1274.0</td>\n",
       "    </tr>\n",
       "    <tr>\n",
       "      <td>1384</td>\n",
       "      <td>Набор столовых приборов 24 предмета FARANDOLE Domenik DM9635</td>\n",
       "      <td>1274.0</td>\n",
       "    </tr>\n",
       "    <tr>\n",
       "      <td>...</td>\n",
       "      <td>...</td>\n",
       "      <td>...</td>\n",
       "    </tr>\n",
       "    <tr>\n",
       "      <td>6378</td>\n",
       "      <td>Петрушка Итальянский гигант 2 г 4660010776553</td>\n",
       "      <td>10.0</td>\n",
       "    </tr>\n",
       "    <tr>\n",
       "      <td>2159</td>\n",
       "      <td>Горох Амброзия 10,0 г 4660010772616</td>\n",
       "      <td>9.0</td>\n",
       "    </tr>\n",
       "    <tr>\n",
       "      <td>1069</td>\n",
       "      <td>Алиссум (лобулярия) Снежные одежды 0,2 г 4650091480302</td>\n",
       "      <td>9.0</td>\n",
       "    </tr>\n",
       "    <tr>\n",
       "      <td>5642</td>\n",
       "      <td>Алиссум (лобулярия) Снежные одежды 0,2 г 4650091480302</td>\n",
       "      <td>9.0</td>\n",
       "    </tr>\n",
       "    <tr>\n",
       "      <td>1078</td>\n",
       "      <td>Львиный зев Волшебный ковер 0,05 г 4660010779639</td>\n",
       "      <td>9.0</td>\n",
       "    </tr>\n",
       "  </tbody>\n",
       "</table>\n",
       "<p>5925 rows × 2 columns</p>\n",
       "</div>"
      ],
      "text/plain": [
       "                                                                                   product  \\\n",
       "729   Набор фужеров для вина МАСКАРАД 6шт 250мл, G5544, Luminarc, Франция                    \n",
       "1005  Корзина для белья KNIT 57 л темно-коричневая, Curver, 03676-X59-00                     \n",
       "5988  Весы электронные кухонные Soehnle (круглые,20 см. стеклянные) серебро 5кг/1гр. 66161   \n",
       "2990  Весы электронные кухонные Soehnle (круглые,20 см. стеклянные) серебро 5кг/1гр. 66161   \n",
       "1384  Набор столовых приборов 24 предмета FARANDOLE Domenik DM9635                           \n",
       "...                                                            ...                           \n",
       "6378  Петрушка Итальянский гигант 2 г 4660010776553                                          \n",
       "2159  Горох Амброзия 10,0 г 4660010772616                                                    \n",
       "1069  Алиссум (лобулярия) Снежные одежды 0,2 г 4650091480302                                 \n",
       "5642  Алиссум (лобулярия) Снежные одежды 0,2 г 4650091480302                                 \n",
       "1078  Львиный зев Волшебный ковер 0,05 г 4660010779639                                       \n",
       "\n",
       "       price  \n",
       "729   1275.0  \n",
       "1005  1274.0  \n",
       "5988  1274.0  \n",
       "2990  1274.0  \n",
       "1384  1274.0  \n",
       "...      ...  \n",
       "6378  10.0    \n",
       "2159  9.0     \n",
       "1069  9.0     \n",
       "5642  9.0     \n",
       "1078  9.0     \n",
       "\n",
       "[5925 rows x 2 columns]"
      ]
     },
     "metadata": {},
     "output_type": "display_data"
    }
   ],
   "source": [
    "product_price = data_clean[['product', 'price']].sort_values(by='price', ascending=False)\n",
    "display(product_price)"
   ]
  },
  {
   "cell_type": "markdown",
   "metadata": {},
   "source": [
    "Самый дорогой товар - Набор фужеров для вина МАСКАРАД 6 шт (1 275 рублей), в тройке лидеров - Корзина для белья KNIT (1 274)  и Весы электронные кухонные Soehnle 1 274). Самые дешевые это семена - Львиного зева и Алиссума по 9 рублей."
   ]
  },
  {
   "cell_type": "markdown",
   "metadata": {},
   "source": [
    "Какова средняя цена товара? Вычислим медианное среднее, т.к. разница между самым дорогим и самым дешевым товаром очень большая и арифметическое среднее будет слишком высоким.\n"
   ]
  },
  {
   "cell_type": "code",
   "execution_count": 94,
   "metadata": {},
   "outputs": [
    {
     "name": "stdout",
     "output_type": "stream",
     "text": [
      "Средняя цена товара: 127.0\n"
     ]
    }
   ],
   "source": [
    "median_price = product_price['price'].median()\n",
    "print(f'Средняя цена товара:', median_price)"
   ]
  },
  {
   "cell_type": "code",
   "execution_count": 95,
   "metadata": {},
   "outputs": [
    {
     "data": {
      "text/plain": [
       "(0, 1500)"
      ]
     },
     "execution_count": 95,
     "metadata": {},
     "output_type": "execute_result"
    },
    {
     "data": {
      "image/png": "[encoded data removed]",
      "text/plain": [
       "<Figure size 1152x648 with 1 Axes>"
      ]
     },
     "metadata": {},
     "output_type": "display_data"
    }
   ],
   "source": [
    "product_price.plot(kind='line', x = 'product', y='price', title='Соотношение цены и количества товара', \n",
    "                   figsize=(16, 9), color='#00cd00', linewidth=4.00, linestyle='--', legend=True)\n",
    "sns.set_style(\"white\")\n",
    "plt.xlabel(\"товар\")\n",
    "plt.ylabel(\"цена товара\")\n",
    "plt.tick_params(axis='x', labelsize = 10, labelrotation=30)\n",
    "plt.ylim(0, 1500)\n"
   ]
  },
  {
   "cell_type": "markdown",
   "metadata": {},
   "source": [
    "Согласно графику можно сделать вывод, что дешевых товаров намного больше. Есть небольшая прослойка цены 1200-400. Все остальные товары ближе к 100-200.\n",
    "\n",
    "Разделим товары по цене на 5 групп"
   ]
  },
  {
   "cell_type": "code",
   "execution_count": 96,
   "metadata": {},
   "outputs": [
    {
     "data": {
      "text/plain": [
       "(82.0, 120.0]      1748\n",
       "(8.999, 82.0]      1199\n",
       "(299.0, 1275.0]    1154\n",
       "(149.0, 299.0]     1107\n",
       "(120.0, 149.0]     717 \n",
       "Name: price, dtype: int64"
      ]
     },
     "metadata": {},
     "output_type": "display_data"
    }
   ],
   "source": [
    "price_range = pd.qcut(product_price['price'], 5).value_counts()\n",
    "display(price_range)"
   ]
  },
  {
   "cell_type": "markdown",
   "metadata": {},
   "source": [
    "Теперь мы видим примерные ценовые диапазоны и можем их скорректировать с помощью графика и средней цены.\n",
    "\n",
    "Мы можем разделить товары по ценовому диапазону на следующие 5 групп:\n",
    "1. Самые дорогие:   300-1 275 р.\n",
    "2. Дорогие:         149-299 р.\n",
    "3. Средние:         120-148 р.\n",
    "4. Дешевые:         82-119 р.\n",
    "5. Самые дешевые:   9-81 р.\n",
    "\n",
    "Медианная средняя цена 127 р как раз входит в средний ценовой диапазон, поэтому данная разбивка корректна."
   ]
  },
  {
   "cell_type": "markdown",
   "metadata": {},
   "source": [
    "b) какова доля по количеству продаж самых дорогих и самых дешевых товаров?"
   ]
  },
  {
   "cell_type": "code",
   "execution_count": 97,
   "metadata": {},
   "outputs": [
    {
     "data": {
      "text/plain": [
       "product    1154\n",
       "price      1154\n",
       "dtype: int64"
      ]
     },
     "metadata": {},
     "output_type": "display_data"
    }
   ],
   "source": [
    "most_expensive = product_price.query('price >= 300 and price <= 1275').count() \n",
    "display(most_expensive)"
   ]
  },
  {
   "cell_type": "code",
   "execution_count": 98,
   "metadata": {},
   "outputs": [
    {
     "data": {
      "text/plain": [
       "'Доля самых дорогих товаров:'"
      ]
     },
     "metadata": {},
     "output_type": "display_data"
    },
    {
     "data": {
      "text/plain": [
       "product    0.194768\n",
       "price      0.194768\n",
       "dtype: float64"
      ]
     },
     "metadata": {},
     "output_type": "display_data"
    }
   ],
   "source": [
    "display(f'Доля самых дорогих товаров:', (most_expensive / total_product_quantity))"
   ]
  },
  {
   "cell_type": "code",
   "execution_count": 99,
   "metadata": {},
   "outputs": [
    {
     "data": {
      "text/plain": [
       "product    1077\n",
       "price      1077\n",
       "dtype: int64"
      ]
     },
     "metadata": {},
     "output_type": "display_data"
    }
   ],
   "source": [
    "cheapest = product_price.query('price >= 9 and price <= 81').count() \n",
    "display(cheapest)"
   ]
  },
  {
   "cell_type": "code",
   "execution_count": 100,
   "metadata": {},
   "outputs": [
    {
     "data": {
      "text/plain": [
       "'Доля самых дешевых товаров:'"
      ]
     },
     "metadata": {},
     "output_type": "display_data"
    },
    {
     "data": {
      "text/plain": [
       "product    0.181772\n",
       "price      0.181772\n",
       "dtype: float64"
      ]
     },
     "metadata": {},
     "output_type": "display_data"
    }
   ],
   "source": [
    "display(f'Доля самых дешевых товаров:', (cheapest / total_product_quantity))"
   ]
  },
  {
   "cell_type": "markdown",
   "metadata": {},
   "source": [
    "Проверим также долю среднего диапазона"
   ]
  },
  {
   "cell_type": "code",
   "execution_count": 101,
   "metadata": {},
   "outputs": [
    {
     "data": {
      "text/plain": [
       "product    1637\n",
       "price      1637\n",
       "dtype: int64"
      ]
     },
     "metadata": {},
     "output_type": "display_data"
    }
   ],
   "source": [
    "average = product_price.query('price >= 120 and price <= 148').count() \n",
    "display(average)"
   ]
  },
  {
   "cell_type": "code",
   "execution_count": 102,
   "metadata": {},
   "outputs": [
    {
     "data": {
      "text/plain": [
       "'Доля средних товаров:'"
      ]
     },
     "metadata": {},
     "output_type": "display_data"
    },
    {
     "data": {
      "text/plain": [
       "product    0.276287\n",
       "price      0.276287\n",
       "dtype: float64"
      ]
     },
     "metadata": {},
     "output_type": "display_data"
    }
   ],
   "source": [
    "display(f'Доля средних товаров:', (average / total_product_quantity))"
   ]
  },
  {
   "cell_type": "markdown",
   "metadata": {},
   "source": [
    "Мы видим, что самые дорогие и самые дешевые товары составляют примерно равные доли по 19% и 18% соответственно. Необходимо проверить, как распредяются доли выручки по данным крайним диапазонам, прежде чем исключать самые дорогие из ассортимента. Товары по средней цене составляют почти 28%, что не совсем логично.\n"
   ]
  },
  {
   "cell_type": "markdown",
   "metadata": {},
   "source": [
    "Рассчитаем долю от общей выручки самых дорогих товаров"
   ]
  },
  {
   "cell_type": "code",
   "execution_count": 104,
   "metadata": {},
   "outputs": [
    {
     "data": {
      "text/plain": [
       "turnover    0.177071\n",
       "dtype: float64"
      ]
     },
     "metadata": {},
     "output_type": "display_data"
    }
   ],
   "source": [
    "most_expensive_turnover = data_clean.query('price >= 300').groupby(['product']).agg({'turnover':'sum'}).sum()\n",
    "display(most_expensive_turnover / data['turnover'].sum())"
   ]
  },
  {
   "cell_type": "markdown",
   "metadata": {},
   "source": [
    "Самые дорогие товары составляют 18% от объема всей выручки, и в количестве - 19%.Это достаточно большая категория, поэтому объединять с самые дорогие с дорогими ценами нецелесообразно. Объединим диапазоны: дорогие и средние, дешевые и самые дешевые для сокращения групп с 5 до 3."
   ]
  },
  {
   "cell_type": "markdown",
   "metadata": {},
   "source": [
    "Применим метод АВС к ценовым категориям и создадим отдельные выборки товаров по цене."
   ]
  },
  {
   "cell_type": "code",
   "execution_count": 105,
   "metadata": {},
   "outputs": [
    {
     "data": {
      "text/plain": [
       "'Кол-во товаров в ценовой категории А: '"
      ]
     },
     "metadata": {},
     "output_type": "display_data"
    },
    {
     "data": {
      "text/plain": [
       "1154"
      ]
     },
     "metadata": {},
     "output_type": "display_data"
    },
    {
     "data": {
      "text/plain": [
       "'Доля товаров в ценовой категории А: '"
      ]
     },
     "metadata": {},
     "output_type": "display_data"
    },
    {
     "data": {
      "text/plain": [
       "0.19476793248945148"
      ]
     },
     "metadata": {},
     "output_type": "display_data"
    }
   ],
   "source": [
    "A_price = product_price.query('price >= 300')\n",
    "A_price_count = A_price['price'].count()\n",
    "A_price_mean = A_price_count / product_price['product'].count()\n",
    "display(f'Кол-во товаров в ценовой категории А: ', A_price_count)\n",
    "display(f'Доля товаров в ценовой категории А: ', A_price_mean)"
   ]
  },
  {
   "cell_type": "code",
   "execution_count": 106,
   "metadata": {},
   "outputs": [
    {
     "data": {
      "text/plain": [
       "'Кол-во товаров в ценовой категории B: '"
      ]
     },
     "metadata": {},
     "output_type": "display_data"
    },
    {
     "data": {
      "text/plain": [
       "2870"
      ]
     },
     "metadata": {},
     "output_type": "display_data"
    },
    {
     "data": {
      "text/plain": [
       "'Доля товаров в ценовой категории B: '"
      ]
     },
     "metadata": {},
     "output_type": "display_data"
    },
    {
     "data": {
      "text/plain": [
       "0.48438818565400843"
      ]
     },
     "metadata": {},
     "output_type": "display_data"
    }
   ],
   "source": [
    "B_price = product_price.query('price >= 120 and price <= 299')\n",
    "B_price_count = B_price['price'].count()\n",
    "B_price_mean = B_price_count / product_price['product'].count()\n",
    "display(f'Кол-во товаров в ценовой категории B: ', B_price_count)\n",
    "display(f'Доля товаров в ценовой категории B: ', B_price_mean)"
   ]
  },
  {
   "cell_type": "code",
   "execution_count": 107,
   "metadata": {},
   "outputs": [
    {
     "data": {
      "text/plain": [
       "'Кол-во товаров в ценовой категории C: '"
      ]
     },
     "metadata": {},
     "output_type": "display_data"
    },
    {
     "data": {
      "text/plain": [
       "1901"
      ]
     },
     "metadata": {},
     "output_type": "display_data"
    },
    {
     "data": {
      "text/plain": [
       "'Доля товаров в ценовой категории C: '"
      ]
     },
     "metadata": {},
     "output_type": "display_data"
    },
    {
     "data": {
      "text/plain": [
       "0.32084388185654006"
      ]
     },
     "metadata": {},
     "output_type": "display_data"
    }
   ],
   "source": [
    "C_price = product_price.query('price < 120')\n",
    "C_price_count = C_price['price'].count()\n",
    "C_price_mean = C_price_count / product_price['product'].count()\n",
    "display(f'Кол-во товаров в ценовой категории C: ', C_price_count)\n",
    "display(f'Доля товаров в ценовой категории C: ', C_price_mean)"
   ]
  },
  {
   "cell_type": "markdown",
   "metadata": {},
   "source": [
    "**Таким образом, АВС группы по цене товара можно выделить в следующих диапазонах:**\n",
    "\n",
    "- А - дорогие - 300-1 275 р.\n",
    "- В - средние по цене - 120 -299 р.\n",
    "- С - дешевые - 9-119 р."
   ]
  },
  {
   "cell_type": "markdown",
   "metadata": {},
   "source": [
    "Больше всего в магазине средних товаров категории В - 48% со стоимостью 120-299 рублей, меньше всего дорогих - категория А - 19%. Категория С составляет 32%. "
   ]
  },
  {
   "cell_type": "markdown",
   "metadata": {},
   "source": [
    "с) **_проанализируем категории АВС, выбранные по количеству, на предмет цены._**"
   ]
  },
  {
   "cell_type": "code",
   "execution_count": 108,
   "metadata": {},
   "outputs": [
    {
     "data": {
      "text/plain": [
       "[38.0]                   54\n",
       "[120.0]                  27\n",
       "[74.0]                   14\n",
       "[59.0]                   14\n",
       "[52.0]                   12\n",
       "                         ..\n",
       "[150.0, 188.0, 169.0]    1 \n",
       "[82.0, 90.0]             1 \n",
       "[742.0, 727.0, 734.0]    1 \n",
       "[1124.0]                 1 \n",
       "[464.0]                  1 \n",
       "Name: price, Length: 258, dtype: int64"
      ]
     },
     "metadata": {},
     "output_type": "display_data"
    }
   ],
   "source": [
    "display(A_quantity['price'].value_counts(ascending=False))"
   ]
  },
  {
   "cell_type": "markdown",
   "metadata": {},
   "source": [
    "В самой продаваемой категории А цены логично невысокие. Самые популярные ценники - 38-120 рублей, т.е. здесь представлен самый дешевый товар (из ценовой категории С)."
   ]
  },
  {
   "cell_type": "code",
   "execution_count": 109,
   "metadata": {},
   "outputs": [
    {
     "data": {
      "text/plain": [
       "[38.0]            27\n",
       "[120.0]           16\n",
       "[164.0]           14\n",
       "[30.0]            13\n",
       "[22.0]            13\n",
       "                  ..\n",
       "[600.0]           1 \n",
       "[284.0]           1 \n",
       "[300.0, 487.0]    1 \n",
       "[404.0]           1 \n",
       "[412.0, 299.0]    1 \n",
       "Name: price, Length: 167, dtype: int64"
      ]
     },
     "metadata": {},
     "output_type": "display_data"
    }
   ],
   "source": [
    "display(B_quantity['price'].value_counts(ascending=False))"
   ]
  },
  {
   "cell_type": "markdown",
   "metadata": {},
   "source": [
    "В средне продаваемой категории В цены - 22-164 рубля, а также есть дорогие товары от 300 рублей т.е. встречаются товары из всех категорий, но больше всего из ценовой категории С с небольшим заходом в категорию В)."
   ]
  },
  {
   "cell_type": "code",
   "execution_count": 110,
   "metadata": {},
   "outputs": [
    {
     "data": {
      "text/plain": [
       "[120.0]     42\n",
       "[38.0]      30\n",
       "[188.0]     29\n",
       "[187.0]     19\n",
       "[112.0]     18\n",
       "            ..\n",
       "[1034.0]    1 \n",
       "[1275.0]    1 \n",
       "[697.0]     1 \n",
       "[622.0]     1 \n",
       "[13.0]      1 \n",
       "Name: price, Length: 155, dtype: int64"
      ]
     },
     "metadata": {},
     "output_type": "display_data"
    }
   ],
   "source": [
    "display(C_quantity['price'].value_counts(ascending=False))"
   ]
  },
  {
   "cell_type": "markdown",
   "metadata": {},
   "source": [
    "Можно сделать вывод, что реже всего продаются товары из средней и дорогой категории, т.к. в реже продаваемой категории С самые высокие цены - 38-188, а также от 600 рублей."
   ]
  },
  {
   "cell_type": "markdown",
   "metadata": {},
   "source": [
    "__3). Классификация товара по объему и доле выручки:__\n",
    "\n",
    "a) какова ежемесячная динамика выручки (самый прибыльный/неприбыльный месяц, наблюдается ли сезонность в объемах выручки)?"
   ]
  },
  {
   "cell_type": "markdown",
   "metadata": {},
   "source": [
    "Найдем общий объем выручки за год"
   ]
  },
  {
   "cell_type": "code",
   "execution_count": 111,
   "metadata": {},
   "outputs": [
    {
     "name": "stdout",
     "output_type": "stream",
     "text": [
      "Годовой объем выручки: 1673431.0\n"
     ]
    }
   ],
   "source": [
    "total_turnover = data_clean['turnover'].sum()\n",
    "print(f'Годовой объем выручки:', total_turnover)"
   ]
  },
  {
   "cell_type": "markdown",
   "metadata": {},
   "source": [
    "Какова выручка за месяц и как она распределена?"
   ]
  },
  {
   "cell_type": "code",
   "execution_count": 112,
   "metadata": {},
   "outputs": [
    {
     "name": "stdout",
     "output_type": "stream",
     "text": [
      "Средняя выручка за месяц: 139452.58333333334\n"
     ]
    },
    {
     "data": {
      "text/html": [
       "<div>\n",
       "<style scoped>\n",
       "    .dataframe tbody tr th:only-of-type {\n",
       "        vertical-align: middle;\n",
       "    }\n",
       "\n",
       "    .dataframe tbody tr th {\n",
       "        vertical-align: top;\n",
       "    }\n",
       "\n",
       "    .dataframe thead th {\n",
       "        text-align: right;\n",
       "    }\n",
       "</style>\n",
       "<table border=\"1\" class=\"dataframe\">\n",
       "  <thead>\n",
       "    <tr style=\"text-align: right;\">\n",
       "      <th></th>\n",
       "      <th>month</th>\n",
       "      <th>turnover</th>\n",
       "    </tr>\n",
       "  </thead>\n",
       "  <tbody>\n",
       "    <tr>\n",
       "      <td>0</td>\n",
       "      <td>1</td>\n",
       "      <td>67955.0</td>\n",
       "    </tr>\n",
       "    <tr>\n",
       "      <td>1</td>\n",
       "      <td>2</td>\n",
       "      <td>131052.0</td>\n",
       "    </tr>\n",
       "    <tr>\n",
       "      <td>2</td>\n",
       "      <td>3</td>\n",
       "      <td>121775.0</td>\n",
       "    </tr>\n",
       "    <tr>\n",
       "      <td>3</td>\n",
       "      <td>4</td>\n",
       "      <td>184787.0</td>\n",
       "    </tr>\n",
       "    <tr>\n",
       "      <td>4</td>\n",
       "      <td>5</td>\n",
       "      <td>152691.0</td>\n",
       "    </tr>\n",
       "    <tr>\n",
       "      <td>5</td>\n",
       "      <td>6</td>\n",
       "      <td>230974.0</td>\n",
       "    </tr>\n",
       "    <tr>\n",
       "      <td>6</td>\n",
       "      <td>7</td>\n",
       "      <td>99185.0</td>\n",
       "    </tr>\n",
       "    <tr>\n",
       "      <td>7</td>\n",
       "      <td>8</td>\n",
       "      <td>80863.0</td>\n",
       "    </tr>\n",
       "    <tr>\n",
       "      <td>8</td>\n",
       "      <td>9</td>\n",
       "      <td>81597.0</td>\n",
       "    </tr>\n",
       "    <tr>\n",
       "      <td>9</td>\n",
       "      <td>10</td>\n",
       "      <td>259147.0</td>\n",
       "    </tr>\n",
       "    <tr>\n",
       "      <td>10</td>\n",
       "      <td>11</td>\n",
       "      <td>121896.0</td>\n",
       "    </tr>\n",
       "    <tr>\n",
       "      <td>11</td>\n",
       "      <td>12</td>\n",
       "      <td>141509.0</td>\n",
       "    </tr>\n",
       "  </tbody>\n",
       "</table>\n",
       "</div>"
      ],
      "text/plain": [
       "    month  turnover\n",
       "0   1      67955.0 \n",
       "1   2      131052.0\n",
       "2   3      121775.0\n",
       "3   4      184787.0\n",
       "4   5      152691.0\n",
       "5   6      230974.0\n",
       "6   7      99185.0 \n",
       "7   8      80863.0 \n",
       "8   9      81597.0 \n",
       "9   10     259147.0\n",
       "10  11     121896.0\n",
       "11  12     141509.0"
      ]
     },
     "metadata": {},
     "output_type": "display_data"
    }
   ],
   "source": [
    "month_turnover = data_clean.groupby(['month']).agg({'turnover':'sum'}).reset_index()\n",
    "print(f'Средняя выручка за месяц:', month_turnover['turnover'].mean())\n",
    "display(month_turnover)"
   ]
  },
  {
   "cell_type": "code",
   "execution_count": 113,
   "metadata": {},
   "outputs": [
    {
     "data": {
      "text/plain": [
       "<Figure size 1152x648 with 0 Axes>"
      ]
     },
     "metadata": {},
     "output_type": "display_data"
    },
    {
     "data": {
      "image/png": "[encoded data removed]",
      "text/plain": [
       "<Figure size 1152x648 with 1 Axes>"
      ]
     },
     "metadata": {},
     "output_type": "display_data"
    }
   ],
   "source": [
    "plt.figure(figsize=(16,9))\n",
    "month_turnover.plot(kind='line', x = 'month', y='turnover', title='Динамика ежемесячной выручки', \n",
    "                   figsize=(16, 9), color='#8e90f5', linewidth=5.00, legend=True, grid=True)\n",
    "sns.set_style(\"whitegrid\")\n",
    "plt.xlabel(\"месяц\")\n",
    "plt.ylabel(\"выручка\")\n",
    "plt.tick_params(axis='x', labelsize = 12, labelrotation=360)\n"
   ]
  },
  {
   "cell_type": "markdown",
   "metadata": {},
   "source": [
    "Как и с количеством товара есть сезонные пики - июнь (225 тыс.) и октябрь (250 тыс.). На 3-м месте апрель, т.к. по количеству товара он не был в лидерах. Возможно, в качестве подарков покупают более дорогие товары, которые при меньшем количестве дают высокие объемы выручки. Падение ниже среднего (139 тыс.) почти в 2 раза также в январе, августе и сентябре."
   ]
  },
  {
   "cell_type": "markdown",
   "metadata": {},
   "source": [
    "Найдем среднюю выручку в неделю и ее динамику"
   ]
  },
  {
   "cell_type": "code",
   "execution_count": 114,
   "metadata": {},
   "outputs": [
    {
     "name": "stdout",
     "output_type": "stream",
     "text": [
      "Средняя выручка в неделю: 32181.365384615383\n"
     ]
    },
    {
     "data": {
      "text/html": [
       "<div>\n",
       "<style scoped>\n",
       "    .dataframe tbody tr th:only-of-type {\n",
       "        vertical-align: middle;\n",
       "    }\n",
       "\n",
       "    .dataframe tbody tr th {\n",
       "        vertical-align: top;\n",
       "    }\n",
       "\n",
       "    .dataframe thead th {\n",
       "        text-align: right;\n",
       "    }\n",
       "</style>\n",
       "<table border=\"1\" class=\"dataframe\">\n",
       "  <thead>\n",
       "    <tr style=\"text-align: right;\">\n",
       "      <th></th>\n",
       "      <th>week</th>\n",
       "      <th>turnover</th>\n",
       "    </tr>\n",
       "  </thead>\n",
       "  <tbody>\n",
       "    <tr>\n",
       "      <td>0</td>\n",
       "      <td>1</td>\n",
       "      <td>9940.0</td>\n",
       "    </tr>\n",
       "    <tr>\n",
       "      <td>1</td>\n",
       "      <td>2</td>\n",
       "      <td>21116.0</td>\n",
       "    </tr>\n",
       "    <tr>\n",
       "      <td>2</td>\n",
       "      <td>3</td>\n",
       "      <td>11297.0</td>\n",
       "    </tr>\n",
       "    <tr>\n",
       "      <td>3</td>\n",
       "      <td>4</td>\n",
       "      <td>16116.0</td>\n",
       "    </tr>\n",
       "    <tr>\n",
       "      <td>4</td>\n",
       "      <td>5</td>\n",
       "      <td>16032.0</td>\n",
       "    </tr>\n",
       "  </tbody>\n",
       "</table>\n",
       "</div>"
      ],
      "text/plain": [
       "   week  turnover\n",
       "0  1     9940.0  \n",
       "1  2     21116.0 \n",
       "2  3     11297.0 \n",
       "3  4     16116.0 \n",
       "4  5     16032.0 "
      ]
     },
     "metadata": {},
     "output_type": "display_data"
    }
   ],
   "source": [
    "week_turnover = data_clean.groupby(['week']).agg({'turnover':'sum'}).reset_index()\n",
    "print(f'Средняя выручка в неделю:', week_turnover['turnover'].mean())\n",
    "display(week_turnover.head())"
   ]
  },
  {
   "cell_type": "code",
   "execution_count": 59,
   "metadata": {},
   "outputs": [
    {
     "data": {
      "text/plain": [
       "<Figure size 1152x648 with 0 Axes>"
      ]
     },
     "metadata": {},
     "output_type": "display_data"
    },
    {
     "data": {
      "image/png": "[encoded data removed]",
      "text/plain": [
       "<Figure size 1152x648 with 1 Axes>"
      ]
     },
     "metadata": {},
     "output_type": "display_data"
    }
   ],
   "source": [
    "plt.figure(figsize=(16,9))\n",
    "week_turnover.plot(kind='line', x = 'week', y='turnover', title='Динамика еженедельной выручки', \n",
    "                   figsize=(16, 9), color='#ee608b', linewidth=5.00, legend=True, grid=True)\n",
    "sns.set_style(\"whitegrid\")\n",
    "plt.xlabel(\"неделя\")\n",
    "plt.ylabel(\"выручка\")\n",
    "plt.tick_params(axis='x', labelsize = 12, labelrotation=360)"
   ]
  },
  {
   "cell_type": "markdown",
   "metadata": {},
   "source": [
    "Наблюдаются сезонные пики до 90 000 р. в неделю - это больше ежемесячной выручки. Основной диапазон выручки - 20-60 тыс. при средней недельной выручке 32 тыс."
   ]
  },
  {
   "cell_type": "markdown",
   "metadata": {},
   "source": [
    "Рассмотрим соотношение уникального товара и выручки."
   ]
  },
  {
   "cell_type": "code",
   "execution_count": 115,
   "metadata": {},
   "outputs": [
    {
     "data": {
      "text/html": [
       "<div>\n",
       "<style scoped>\n",
       "    .dataframe tbody tr th:only-of-type {\n",
       "        vertical-align: middle;\n",
       "    }\n",
       "\n",
       "    .dataframe tbody tr th {\n",
       "        vertical-align: top;\n",
       "    }\n",
       "\n",
       "    .dataframe thead th {\n",
       "        text-align: right;\n",
       "    }\n",
       "</style>\n",
       "<table border=\"1\" class=\"dataframe\">\n",
       "  <thead>\n",
       "    <tr style=\"text-align: right;\">\n",
       "      <th></th>\n",
       "      <th>product</th>\n",
       "      <th>quantity</th>\n",
       "      <th>turnover</th>\n",
       "      <th>price</th>\n",
       "    </tr>\n",
       "  </thead>\n",
       "  <tbody>\n",
       "    <tr>\n",
       "      <td>1356</td>\n",
       "      <td>Сумка-тележка 2-х колесная Gimi Argo красная</td>\n",
       "      <td>70.0</td>\n",
       "      <td>76090.0</td>\n",
       "      <td>[1087.0]</td>\n",
       "    </tr>\n",
       "    <tr>\n",
       "      <td>1357</td>\n",
       "      <td>Сумка-тележка 2-х колесная Gimi Argo синяя</td>\n",
       "      <td>61.0</td>\n",
       "      <td>65281.0</td>\n",
       "      <td>[1049.0, 1087.0]</td>\n",
       "    </tr>\n",
       "    <tr>\n",
       "      <td>1453</td>\n",
       "      <td>Тагетис крупноцветковый рассада однолетних цветов в кассете по 10 шт</td>\n",
       "      <td>79.0</td>\n",
       "      <td>16590.0</td>\n",
       "      <td>[210.0]</td>\n",
       "    </tr>\n",
       "    <tr>\n",
       "      <td>864</td>\n",
       "      <td>Пеларгония розебудная Red Pandora укорененный черенок</td>\n",
       "      <td>94.0</td>\n",
       "      <td>12670.0</td>\n",
       "      <td>[135.0, 134.0, 149.0]</td>\n",
       "    </tr>\n",
       "    <tr>\n",
       "      <td>839</td>\n",
       "      <td>Пеларгония зональная диам. 12 см сиреневый полумахровый</td>\n",
       "      <td>71.0</td>\n",
       "      <td>12284.0</td>\n",
       "      <td>[150.0, 188.0, 169.0]</td>\n",
       "    </tr>\n",
       "    <tr>\n",
       "      <td>...</td>\n",
       "      <td>...</td>\n",
       "      <td>...</td>\n",
       "      <td>...</td>\n",
       "      <td>...</td>\n",
       "    </tr>\n",
       "    <tr>\n",
       "      <td>880</td>\n",
       "      <td>Петрушка Итальянский гигант 2 г 4660010776553</td>\n",
       "      <td>1.0</td>\n",
       "      <td>10.0</td>\n",
       "      <td>[10.0]</td>\n",
       "    </tr>\n",
       "    <tr>\n",
       "      <td>621</td>\n",
       "      <td>Морковь Детская сладость 2 г 4660010775921</td>\n",
       "      <td>1.0</td>\n",
       "      <td>10.0</td>\n",
       "      <td>[10.0]</td>\n",
       "    </tr>\n",
       "    <tr>\n",
       "      <td>746</td>\n",
       "      <td>Незабудка смесь 0,1 г 4650091480340</td>\n",
       "      <td>1.0</td>\n",
       "      <td>10.0</td>\n",
       "      <td>[10.0]</td>\n",
       "    </tr>\n",
       "    <tr>\n",
       "      <td>235</td>\n",
       "      <td>Горох Амброзия 10,0 г 4660010772616</td>\n",
       "      <td>1.0</td>\n",
       "      <td>9.0</td>\n",
       "      <td>[9.0]</td>\n",
       "    </tr>\n",
       "    <tr>\n",
       "      <td>589</td>\n",
       "      <td>Львиный зев Волшебный ковер 0,05 г 4660010779639</td>\n",
       "      <td>1.0</td>\n",
       "      <td>9.0</td>\n",
       "      <td>[9.0]</td>\n",
       "    </tr>\n",
       "  </tbody>\n",
       "</table>\n",
       "<p>1923 rows × 4 columns</p>\n",
       "</div>"
      ],
      "text/plain": [
       "                                                                   product  \\\n",
       "1356  Сумка-тележка 2-х колесная Gimi Argo красная                           \n",
       "1357  Сумка-тележка 2-х колесная Gimi Argo синяя                             \n",
       "1453  Тагетис крупноцветковый рассада однолетних цветов в кассете по 10 шт   \n",
       "864   Пеларгония розебудная Red Pandora укорененный черенок                  \n",
       "839   Пеларгония зональная диам. 12 см сиреневый полумахровый                \n",
       "...                                                       ...                \n",
       "880   Петрушка Итальянский гигант 2 г 4660010776553                          \n",
       "621   Морковь Детская сладость 2 г 4660010775921                             \n",
       "746   Незабудка смесь 0,1 г 4650091480340                                    \n",
       "235   Горох Амброзия 10,0 г 4660010772616                                    \n",
       "589   Львиный зев Волшебный ковер 0,05 г 4660010779639                       \n",
       "\n",
       "      quantity  turnover                  price  \n",
       "1356  70.0      76090.0   [1087.0]               \n",
       "1357  61.0      65281.0   [1049.0, 1087.0]       \n",
       "1453  79.0      16590.0   [210.0]                \n",
       "864   94.0      12670.0   [135.0, 134.0, 149.0]  \n",
       "839   71.0      12284.0   [150.0, 188.0, 169.0]  \n",
       "...    ...          ...                     ...  \n",
       "880   1.0       10.0      [10.0]                 \n",
       "621   1.0       10.0      [10.0]                 \n",
       "746   1.0       10.0      [10.0]                 \n",
       "235   1.0       9.0       [9.0]                  \n",
       "589   1.0       9.0       [9.0]                  \n",
       "\n",
       "[1923 rows x 4 columns]"
      ]
     },
     "metadata": {},
     "output_type": "display_data"
    }
   ],
   "source": [
    "product_turnover = product_quantity.sort_values(by='turnover', ascending=False)\n",
    "display(product_turnover)"
   ]
  },
  {
   "cell_type": "markdown",
   "metadata": {},
   "source": [
    "Больше всего выручки принесла продажа товара - Сумка-тележка 2-х колесная Gimi Argo красная (76 090 рублей), Сумка-тележка 2-х колесная Gimi Argo синяя (65 281 рублей) и Тагетис крупноцветковый рассада однолетних цветов (16 590). \n",
    "Меньше всего - семена гороха и львиного зева - по 9 рублей за весь год."
   ]
  },
  {
   "cell_type": "markdown",
   "metadata": {},
   "source": [
    "Разделим выручку на диапазоны."
   ]
  },
  {
   "cell_type": "code",
   "execution_count": 116,
   "metadata": {},
   "outputs": [
    {
     "data": {
      "text/plain": [
       "(719.333, 76090.0]    641\n",
       "(198.333, 719.333]    641\n",
       "(8.999, 198.333]      641\n",
       "Name: turnover, dtype: int64"
      ]
     },
     "metadata": {},
     "output_type": "display_data"
    }
   ],
   "source": [
    "turnover_range = pd.qcut(product_turnover['turnover'], 3).value_counts()\n",
    "display(turnover_range)"
   ]
  },
  {
   "cell_type": "markdown",
   "metadata": {},
   "source": [
    "Проведем АВС анализ по объему выручки\n",
    "\n",
    "- А -самый высокий объем выручки - 719-76 090 рублей\n",
    "- В -средний объем выручки - 198-718 рублей\n",
    "- С -самый низкий объем выручки - 9-197 рублей"
   ]
  },
  {
   "cell_type": "code",
   "execution_count": 117,
   "metadata": {},
   "outputs": [
    {
     "data": {
      "text/plain": [
       "'Кол-во товаров в категории A по объему выручки: '"
      ]
     },
     "metadata": {},
     "output_type": "display_data"
    },
    {
     "data": {
      "text/plain": [
       "641"
      ]
     },
     "metadata": {},
     "output_type": "display_data"
    },
    {
     "data": {
      "text/plain": [
       "'Доля товаров в категории A по объему выручки: '"
      ]
     },
     "metadata": {},
     "output_type": "display_data"
    },
    {
     "data": {
      "text/plain": [
       "0.3333333333333333"
      ]
     },
     "metadata": {},
     "output_type": "display_data"
    }
   ],
   "source": [
    "A_turnover = product_turnover.query('turnover > 719')\n",
    "A_turnover_count = A_turnover['turnover'].count()\n",
    "A_turnover_mean = A_turnover_count / product_turnover['turnover'].count()\n",
    "display(f'Кол-во товаров в категории A по объему выручки: ', A_turnover_count)\n",
    "display(f'Доля товаров в категории A по объему выручки: ', A_turnover_mean)"
   ]
  },
  {
   "cell_type": "code",
   "execution_count": 118,
   "metadata": {},
   "outputs": [
    {
     "data": {
      "text/plain": [
       "'Кол-во товаров в категории В по объему выручки: '"
      ]
     },
     "metadata": {},
     "output_type": "display_data"
    },
    {
     "data": {
      "text/plain": [
       "639"
      ]
     },
     "metadata": {},
     "output_type": "display_data"
    },
    {
     "data": {
      "text/plain": [
       "'Доля товаров в категории В по объему выручки: '"
      ]
     },
     "metadata": {},
     "output_type": "display_data"
    },
    {
     "data": {
      "text/plain": [
       "0.33229329173166927"
      ]
     },
     "metadata": {},
     "output_type": "display_data"
    }
   ],
   "source": [
    "B_turnover = product_turnover.query('turnover > 198 and turnover < 718')\n",
    "B_turnover_count = B_turnover['turnover'].count()\n",
    "B_turnover_mean = B_turnover_count / product_turnover['turnover'].count()\n",
    "display(f'Кол-во товаров в категории В по объему выручки: ', B_turnover_count)\n",
    "display(f'Доля товаров в категории В по объему выручки: ', B_turnover_mean)"
   ]
  },
  {
   "cell_type": "code",
   "execution_count": 119,
   "metadata": {},
   "outputs": [
    {
     "data": {
      "text/plain": [
       "'Кол-во товаров в категории C по объему выручки: '"
      ]
     },
     "metadata": {},
     "output_type": "display_data"
    },
    {
     "data": {
      "text/plain": [
       "641"
      ]
     },
     "metadata": {},
     "output_type": "display_data"
    },
    {
     "data": {
      "text/plain": [
       "'Доля товаров в категории C по объему выручки: '"
      ]
     },
     "metadata": {},
     "output_type": "display_data"
    },
    {
     "data": {
      "text/plain": [
       "0.3333333333333333"
      ]
     },
     "metadata": {},
     "output_type": "display_data"
    }
   ],
   "source": [
    "C_turnover = product_turnover.query('turnover < 197')\n",
    "C_turnover_count = C_turnover['turnover'].count()\n",
    "C_turnover_mean = C_turnover_count / product_turnover['turnover'].count()\n",
    "display(f'Кол-во товаров в категории C по объему выручки: ', C_turnover_count)\n",
    "display(f'Доля товаров в категории C по объему выручки: ', C_turnover_mean)"
   ]
  },
  {
   "cell_type": "markdown",
   "metadata": {},
   "source": [
    "Все категории разделены по выручке равномерно - по 33%"
   ]
  },
  {
   "cell_type": "markdown",
   "metadata": {},
   "source": [
    "b) **_проанализируем категории АВС, выбранные по количеству, на предмет выручки._**\n",
    "\n",
    "Посмотрим, как в каждой группе по количеству распределены категории по выручке."
   ]
  },
  {
   "cell_type": "code",
   "execution_count": 120,
   "metadata": {},
   "outputs": [
    {
     "data": {
      "text/plain": [
       "152.0     11\n",
       "304.0     8 \n",
       "840.0     7 \n",
       "480.0     7 \n",
       "600.0     7 \n",
       "         .. \n",
       "1048.0    1 \n",
       "418.0     1 \n",
       "740.0     1 \n",
       "450.0     1 \n",
       "2184.0    1 \n",
       "Name: turnover, Length: 385, dtype: int64"
      ]
     },
     "metadata": {},
     "output_type": "display_data"
    }
   ],
   "source": [
    "display(A_quantity['turnover'].value_counts(ascending=False))"
   ]
  },
  {
   "cell_type": "markdown",
   "metadata": {},
   "source": [
    "В категории А есть товары из всех трех групп. Больше всего, из средней категории В. Обозначим эту категорию АВ"
   ]
  },
  {
   "cell_type": "code",
   "execution_count": 121,
   "metadata": {},
   "outputs": [
    {
     "data": {
      "text/plain": [
       "114.0     17\n",
       "90.0      13\n",
       "180.0     12\n",
       "76.0      10\n",
       "240.0     10\n",
       "          ..\n",
       "2354.0    1 \n",
       "1437.0    1 \n",
       "554.0     1 \n",
       "658.0     1 \n",
       "463.0     1 \n",
       "Name: turnover, Length: 209, dtype: int64"
      ]
     },
     "metadata": {},
     "output_type": "display_data"
    }
   ],
   "source": [
    "display(B_quantity['turnover'].value_counts(ascending=False))"
   ]
  },
  {
   "cell_type": "markdown",
   "metadata": {},
   "source": [
    " В категории В преимущественно товары из категории С. Обозначим категорию ВС."
   ]
  },
  {
   "cell_type": "code",
   "execution_count": 122,
   "metadata": {},
   "outputs": [
    {
     "data": {
      "text/plain": [
       "120.0     42\n",
       "38.0      30\n",
       "188.0     29\n",
       "187.0     19\n",
       "112.0     18\n",
       "          ..\n",
       "802.0     1 \n",
       "232.0     1 \n",
       "697.0     1 \n",
       "1214.0    1 \n",
       "1207.0    1 \n",
       "Name: turnover, Length: 155, dtype: int64"
      ]
     },
     "metadata": {},
     "output_type": "display_data"
    }
   ],
   "source": [
    "display(C_quantity['turnover'].value_counts(ascending=False))"
   ]
  },
  {
   "cell_type": "markdown",
   "metadata": {},
   "source": [
    "В категории С также товары из категории С по выручке. Пока обозначим категорию СС, но необходимо посчитать общую выручку.\n",
    "\n",
    "Узнаем общую выручку для каждой группы и выработаем   рекомендации "
   ]
  },
  {
   "cell_type": "markdown",
   "metadata": {},
   "source": [
    "Сравним динамику выручки в каждой количественной группе помесячно.\n",
    "\n",
    "Для этого построим таблицы по каждой группе, которые потом объединим в одну общую."
   ]
  },
  {
   "cell_type": "code",
   "execution_count": 123,
   "metadata": {},
   "outputs": [],
   "source": [
    "month_turnover_A = data_clean.query('quantity >= 4').groupby(['month']).agg({'turnover':'sum'}).reset_index()"
   ]
  },
  {
   "cell_type": "code",
   "execution_count": 124,
   "metadata": {},
   "outputs": [],
   "source": [
    "month_turnover_B = data_clean.query('quantity >= 2 and quantity <= 3').groupby(['month']).agg({'turnover':'sum'}).reset_index()"
   ]
  },
  {
   "cell_type": "code",
   "execution_count": 125,
   "metadata": {},
   "outputs": [],
   "source": [
    "month_turnover_C = data_clean.query('quantity == 1').groupby(['month']).agg({'turnover':'sum'}).reset_index()\n"
   ]
  },
  {
   "cell_type": "markdown",
   "metadata": {},
   "source": [
    "Соединим все таблицы и переименуем столбцы."
   ]
  },
  {
   "cell_type": "code",
   "execution_count": 126,
   "metadata": {},
   "outputs": [],
   "source": [
    "month_turnover_ABC = month_turnover_A.merge(month_turnover_B, on='month').merge(month_turnover_C, on='month')"
   ]
  },
  {
   "cell_type": "code",
   "execution_count": 127,
   "metadata": {},
   "outputs": [],
   "source": [
    "month_turnover_ABC = month_turnover_ABC.rename(columns={\"turnover_x\":\"turnover_A\", \"turnover_y\":\"turnover_B\", \"turnover\":\"turnover_C\"})\n",
    "                                         "
   ]
  },
  {
   "cell_type": "code",
   "execution_count": 128,
   "metadata": {},
   "outputs": [
    {
     "data": {
      "text/html": [
       "<div>\n",
       "<style scoped>\n",
       "    .dataframe tbody tr th:only-of-type {\n",
       "        vertical-align: middle;\n",
       "    }\n",
       "\n",
       "    .dataframe tbody tr th {\n",
       "        vertical-align: top;\n",
       "    }\n",
       "\n",
       "    .dataframe thead th {\n",
       "        text-align: right;\n",
       "    }\n",
       "</style>\n",
       "<table border=\"1\" class=\"dataframe\">\n",
       "  <thead>\n",
       "    <tr style=\"text-align: right;\">\n",
       "      <th></th>\n",
       "      <th>month</th>\n",
       "      <th>turnover_A</th>\n",
       "      <th>turnover_B</th>\n",
       "      <th>turnover_C</th>\n",
       "    </tr>\n",
       "  </thead>\n",
       "  <tbody>\n",
       "    <tr>\n",
       "      <td>0</td>\n",
       "      <td>1</td>\n",
       "      <td>5719.0</td>\n",
       "      <td>8814.0</td>\n",
       "      <td>53422.0</td>\n",
       "    </tr>\n",
       "    <tr>\n",
       "      <td>1</td>\n",
       "      <td>2</td>\n",
       "      <td>21720.0</td>\n",
       "      <td>12513.0</td>\n",
       "      <td>96819.0</td>\n",
       "    </tr>\n",
       "    <tr>\n",
       "      <td>2</td>\n",
       "      <td>3</td>\n",
       "      <td>20128.0</td>\n",
       "      <td>15300.0</td>\n",
       "      <td>86347.0</td>\n",
       "    </tr>\n",
       "    <tr>\n",
       "      <td>3</td>\n",
       "      <td>4</td>\n",
       "      <td>29073.0</td>\n",
       "      <td>28994.0</td>\n",
       "      <td>126720.0</td>\n",
       "    </tr>\n",
       "    <tr>\n",
       "      <td>4</td>\n",
       "      <td>5</td>\n",
       "      <td>21149.0</td>\n",
       "      <td>20669.0</td>\n",
       "      <td>110873.0</td>\n",
       "    </tr>\n",
       "    <tr>\n",
       "      <td>5</td>\n",
       "      <td>6</td>\n",
       "      <td>13343.0</td>\n",
       "      <td>21293.0</td>\n",
       "      <td>196338.0</td>\n",
       "    </tr>\n",
       "    <tr>\n",
       "      <td>6</td>\n",
       "      <td>7</td>\n",
       "      <td>14356.0</td>\n",
       "      <td>10519.0</td>\n",
       "      <td>74310.0</td>\n",
       "    </tr>\n",
       "    <tr>\n",
       "      <td>7</td>\n",
       "      <td>8</td>\n",
       "      <td>11361.0</td>\n",
       "      <td>6520.0</td>\n",
       "      <td>62982.0</td>\n",
       "    </tr>\n",
       "    <tr>\n",
       "      <td>8</td>\n",
       "      <td>9</td>\n",
       "      <td>6819.0</td>\n",
       "      <td>6383.0</td>\n",
       "      <td>68395.0</td>\n",
       "    </tr>\n",
       "    <tr>\n",
       "      <td>9</td>\n",
       "      <td>10</td>\n",
       "      <td>27596.0</td>\n",
       "      <td>31048.0</td>\n",
       "      <td>200503.0</td>\n",
       "    </tr>\n",
       "    <tr>\n",
       "      <td>10</td>\n",
       "      <td>11</td>\n",
       "      <td>15857.0</td>\n",
       "      <td>10643.0</td>\n",
       "      <td>95396.0</td>\n",
       "    </tr>\n",
       "    <tr>\n",
       "      <td>11</td>\n",
       "      <td>12</td>\n",
       "      <td>17091.0</td>\n",
       "      <td>17621.0</td>\n",
       "      <td>106797.0</td>\n",
       "    </tr>\n",
       "  </tbody>\n",
       "</table>\n",
       "</div>"
      ],
      "text/plain": [
       "    month  turnover_A  turnover_B  turnover_C\n",
       "0   1      5719.0      8814.0      53422.0   \n",
       "1   2      21720.0     12513.0     96819.0   \n",
       "2   3      20128.0     15300.0     86347.0   \n",
       "3   4      29073.0     28994.0     126720.0  \n",
       "4   5      21149.0     20669.0     110873.0  \n",
       "5   6      13343.0     21293.0     196338.0  \n",
       "6   7      14356.0     10519.0     74310.0   \n",
       "7   8      11361.0     6520.0      62982.0   \n",
       "8   9      6819.0      6383.0      68395.0   \n",
       "9   10     27596.0     31048.0     200503.0  \n",
       "10  11     15857.0     10643.0     95396.0   \n",
       "11  12     17091.0     17621.0     106797.0  "
      ]
     },
     "metadata": {},
     "output_type": "display_data"
    }
   ],
   "source": [
    "display(month_turnover_ABC)"
   ]
  },
  {
   "cell_type": "markdown",
   "metadata": {},
   "source": [
    "Строим график динамики выручки по категориям."
   ]
  },
  {
   "cell_type": "code",
   "execution_count": 129,
   "metadata": {},
   "outputs": [
    {
     "data": {
      "text/plain": [
       "<Figure size 1152x648 with 0 Axes>"
      ]
     },
     "metadata": {},
     "output_type": "display_data"
    },
    {
     "data": {
      "image/png": "[encoded data removed]",
      "text/plain": [
       "<Figure size 1152x648 with 1 Axes>"
      ]
     },
     "metadata": {},
     "output_type": "display_data"
    }
   ],
   "source": [
    "plt.figure(figsize=(16,9))\n",
    "month_turnover_ABC.plot(kind='bar', x='month', title='Ежемесячная динамика выручки по количественным категориям', figsize=(16,9), grid=True, alpha=0.8) \n",
    "sns.set_style(\"whitegrid\")\n",
    "plt.xlabel(\"месяц\")\n",
    "plt.ylabel(\"выручка\")\n",
    "plt.tick_params(axis='x', labelsize = 12, labelrotation=360)"
   ]
  },
  {
   "cell_type": "markdown",
   "metadata": {},
   "source": [
    "Категория С (кол-во товаров - по 1 шт.) лидирует по выручке, повторяет сезонность с пиком в октябре, июне, апреле, где превышает среднюю выручку. Категория В ниже ср.выручки, повторяет динамику сезонности, с пиком продаж в октябре, апреле, октябре и июне.\n",
    "Аналогично категория А с пиками в апреле октябре и феврале находится в диапазоне от 5 000 до 29 000. Можно сделать вывод, что в единичном количестве товар реализуется лучше и приносит больше прибыли, возможно, за счет широкого ассортимента. Но категорию А стоит развивать, т.к. товары проданные в количестве от 4 до 112 штук вносят ощутимый вклад в общую выручку. Стоит детально рассмотреть товары, проданные в количестве 2-3 шт., т.к. несмотря на ср.количество они принесли меньше прибыли, чем товар, проданный по 1 шт."
   ]
  },
  {
   "cell_type": "markdown",
   "metadata": {},
   "source": [
    "Посчитаем общую выручку  и ее долю по каждой категории и построим круговую диаграмму."
   ]
  },
  {
   "cell_type": "code",
   "execution_count": 130,
   "metadata": {},
   "outputs": [
    {
     "data": {
      "text/plain": [
       "month         78.0     \n",
       "turnover_A    204212.0 \n",
       "turnover_B    190317.0 \n",
       "turnover_C    1278902.0\n",
       "dtype: float64"
      ]
     },
     "execution_count": 130,
     "metadata": {},
     "output_type": "execute_result"
    }
   ],
   "source": [
    "month_turnover_ABC.sum()"
   ]
  },
  {
   "cell_type": "code",
   "execution_count": 131,
   "metadata": {},
   "outputs": [
    {
     "data": {
      "text/plain": [
       "Text(0.5, 1.0, 'Доля общей выручки по количественным категориям')"
      ]
     },
     "execution_count": 131,
     "metadata": {},
     "output_type": "execute_result"
    },
    {
     "data": {
      "text/plain": [
       "<Figure size 1152x648 with 0 Axes>"
      ]
     },
     "metadata": {},
     "output_type": "display_data"
    },
    {
     "data": {
      "image/png": "[encoded data removed]",
      "text/plain": [
       "<Figure size 432x288 with 1 Axes>"
      ]
     },
     "metadata": {},
     "output_type": "display_data"
    }
   ],
   "source": [
    "plt.figure(figsize=(16,9))\n",
    "vals = [204212, 190317, 1278902]\n",
    "labels = [\"turnover A\", \"turnover B\", \"turnover C\"]\n",
    "fig, ax = plt.subplots()\n",
    "ax.pie(vals, labels=labels, autopct='%1.1f%%', shadow=True, wedgeprops={'lw':1, 'ls':'--','edgecolor':\"k\"})\n",
    "ax.axis(\"equal\")\n",
    "plt.title('Доля общей выручки по количественным категориям')\n"
   ]
  },
  {
   "cell_type": "markdown",
   "metadata": {},
   "source": [
    "76.4% выручки приносит категория С, 12.2% - категория А, 11.4% - категория В. Следует детально рассмотреть ассортимент В, возможно сократить ее ассортимент и продолжать развивать категорию С с целью довести объем выручки до 80%. Категорию А  следует увеличить до 19%."
   ]
  },
  {
   "cell_type": "markdown",
   "metadata": {},
   "source": [
    "c) рекомендации по оптимизации ассортимента, классифицированного по количеству проданного товара и полученной выручке.\n",
    "\n",
    "Мы присвоили количественным категориям АВС такие же категории по выручке.\n",
    "\n",
    "Категория АВ - товары с высоким показателем по количеству продаж и средним по выручке. Необходимо контролировать данную категорию и не снижать показатели, а также проводить мониторинг у конкурентов. Следует повышать уровень ежемесячной ср.выручки.\n",
    "\n",
    "Категория ВС - товары со средним уровнем оборачиваемости и низким объемом выручки. Необходимо либо перевести данные товары в категорию СС, увеличивая объем выручки путем продвижения товара и тем самым поднять объем категории С до 80%.\n",
    "\n",
    "Категория СА - товары продаются по 1 шт. и каждый из них приносит немного прибыли. Возможно, они служат для привлечения узкой категории клиентов и для создания статуса уникальности ассортимента. Тем не менее, в общем количестве данные товары принесли больше всего выручки, т.е. магазин взял объемом различных недорогих товаров, но, может быть, в чем-то уникальных. Если такова была стратегия продаж, от в отношении выручки она сработала.\n"
   ]
  },
  {
   "cell_type": "markdown",
   "metadata": {},
   "source": [
    "__4). Классификация ассортимента по количеству заказов:__\n",
    "\n",
    "a) ср.количество заказов и их распределение по дням, месяцам или сезонам\n"
   ]
  },
  {
   "cell_type": "code",
   "execution_count": 132,
   "metadata": {},
   "outputs": [
    {
     "data": {
      "text/plain": [
       "'Общее количество покупателей:'"
      ]
     },
     "metadata": {},
     "output_type": "display_data"
    },
    {
     "data": {
      "text/plain": [
       "1913"
      ]
     },
     "metadata": {},
     "output_type": "display_data"
    }
   ],
   "source": [
    "total_customer_quantity = data_clean['customer_id'].nunique()\n",
    "display(f'Общее количество покупателей:', total_customer_quantity)"
   ]
  },
  {
   "cell_type": "code",
   "execution_count": 139,
   "metadata": {},
   "outputs": [
    {
     "data": {
      "text/plain": [
       "'Общее количество заказов:'"
      ]
     },
     "metadata": {},
     "output_type": "display_data"
    },
    {
     "data": {
      "text/plain": [
       "2159"
      ]
     },
     "metadata": {},
     "output_type": "display_data"
    }
   ],
   "source": [
    "total_order_quantity = data_clean['order_id'].nunique()\n",
    "display(f'Общее количество заказов:', total_order_quantity)"
   ]
  },
  {
   "cell_type": "code",
   "execution_count": 140,
   "metadata": {},
   "outputs": [
    {
     "data": {
      "text/plain": [
       "'Среднее количество заказов на пользователя:'"
      ]
     },
     "metadata": {},
     "output_type": "display_data"
    },
    {
     "data": {
      "text/plain": [
       "1.1285938316779927"
      ]
     },
     "metadata": {},
     "output_type": "display_data"
    }
   ],
   "source": [
    "mean_order = (total_order_quantity / total_customer_quantity)\n",
    "display(f'Среднее количество заказов на пользователя:', mean_order)"
   ]
  },
  {
   "cell_type": "code",
   "execution_count": 135,
   "metadata": {},
   "outputs": [
    {
     "name": "stdout",
     "output_type": "stream",
     "text": [
      "Среднее количество заказов в месяц: 179.91666666666666\n"
     ]
    },
    {
     "data": {
      "text/html": [
       "<div>\n",
       "<style scoped>\n",
       "    .dataframe tbody tr th:only-of-type {\n",
       "        vertical-align: middle;\n",
       "    }\n",
       "\n",
       "    .dataframe tbody tr th {\n",
       "        vertical-align: top;\n",
       "    }\n",
       "\n",
       "    .dataframe thead th {\n",
       "        text-align: right;\n",
       "    }\n",
       "</style>\n",
       "<table border=\"1\" class=\"dataframe\">\n",
       "  <thead>\n",
       "    <tr style=\"text-align: right;\">\n",
       "      <th></th>\n",
       "      <th>month</th>\n",
       "      <th>order_id</th>\n",
       "    </tr>\n",
       "  </thead>\n",
       "  <tbody>\n",
       "    <tr>\n",
       "      <td>0</td>\n",
       "      <td>1</td>\n",
       "      <td>119</td>\n",
       "    </tr>\n",
       "    <tr>\n",
       "      <td>1</td>\n",
       "      <td>2</td>\n",
       "      <td>221</td>\n",
       "    </tr>\n",
       "    <tr>\n",
       "      <td>2</td>\n",
       "      <td>3</td>\n",
       "      <td>193</td>\n",
       "    </tr>\n",
       "    <tr>\n",
       "      <td>3</td>\n",
       "      <td>4</td>\n",
       "      <td>222</td>\n",
       "    </tr>\n",
       "    <tr>\n",
       "      <td>4</td>\n",
       "      <td>5</td>\n",
       "      <td>148</td>\n",
       "    </tr>\n",
       "    <tr>\n",
       "      <td>5</td>\n",
       "      <td>6</td>\n",
       "      <td>131</td>\n",
       "    </tr>\n",
       "    <tr>\n",
       "      <td>6</td>\n",
       "      <td>7</td>\n",
       "      <td>151</td>\n",
       "    </tr>\n",
       "    <tr>\n",
       "      <td>7</td>\n",
       "      <td>8</td>\n",
       "      <td>136</td>\n",
       "    </tr>\n",
       "    <tr>\n",
       "      <td>8</td>\n",
       "      <td>9</td>\n",
       "      <td>139</td>\n",
       "    </tr>\n",
       "    <tr>\n",
       "      <td>9</td>\n",
       "      <td>10</td>\n",
       "      <td>335</td>\n",
       "    </tr>\n",
       "    <tr>\n",
       "      <td>10</td>\n",
       "      <td>11</td>\n",
       "      <td>155</td>\n",
       "    </tr>\n",
       "    <tr>\n",
       "      <td>11</td>\n",
       "      <td>12</td>\n",
       "      <td>209</td>\n",
       "    </tr>\n",
       "  </tbody>\n",
       "</table>\n",
       "</div>"
      ],
      "text/plain": [
       "    month  order_id\n",
       "0   1      119     \n",
       "1   2      221     \n",
       "2   3      193     \n",
       "3   4      222     \n",
       "4   5      148     \n",
       "5   6      131     \n",
       "6   7      151     \n",
       "7   8      136     \n",
       "8   9      139     \n",
       "9   10     335     \n",
       "10  11     155     \n",
       "11  12     209     "
      ]
     },
     "metadata": {},
     "output_type": "display_data"
    }
   ],
   "source": [
    "order_month_quantity = data_clean.groupby(['month']).agg({'order_id':'count'}).reset_index()\n",
    "print(f'Среднее количество заказов в месяц:', order_month_quantity['order_id'].mean())\n",
    "display(order_month_quantity)"
   ]
  },
  {
   "cell_type": "code",
   "execution_count": 136,
   "metadata": {
    "scrolled": true
   },
   "outputs": [
    {
     "data": {
      "image/png": "[encoded data removed]",
      "text/plain": [
       "<Figure size 1152x648 with 1 Axes>"
      ]
     },
     "metadata": {},
     "output_type": "display_data"
    }
   ],
   "source": [
    "order_month_quantity.plot(kind='line', x='month', title='График динамики количества заказов по месяцам', figsize=(16, 9), linewidth=5.00, linestyle='-.', color='#d2b715', legend=True)\n",
    "sns.set_style(\"whitegrid\")\n",
    "plt.xlabel(\"месяц\")\n",
    "plt.ylabel(\"количество заказов\")\n",
    "plt.tick_params(axis='x', labelsize = 10, labelrotation=360)\n"
   ]
  },
  {
   "cell_type": "markdown",
   "metadata": {},
   "source": [
    "В сезонные пики - октябрь, февраль, апрель - количество заказов достигает 220-350 в месяц, в июне-августе и январе количество падает ниже среднего - 180."
   ]
  },
  {
   "cell_type": "code",
   "execution_count": 137,
   "metadata": {},
   "outputs": [
    {
     "name": "stdout",
     "output_type": "stream",
     "text": [
      "Минимальное кол-во заказов в день:  0\n",
      "Ср.кол-во заказов в день:  5.50765306122449\n"
     ]
    },
    {
     "data": {
      "image/png": "[encoded data removed]",
      "text/plain": [
       "<Figure size 1152x648 with 1 Axes>"
      ]
     },
     "metadata": {},
     "output_type": "display_data"
    }
   ],
   "source": [
    "day_month_quantity = data_clean.groupby(['day']).agg({'order_id':'count'}).reset_index()\n",
    "print(f'Минимальное кол-во заказов в день: ', day_month_quantity['order_id'].min())\n",
    "print(f'Ср.кол-во заказов в день: ', day_month_quantity['order_id'].mean())\n",
    "day_month_quantity.plot(kind='line', x='day', title='График динамики количества заказов по дням', figsize=(16, 9), linewidth=5.00, linestyle=':', color='#ff7792', legend=True)\n",
    "sns.set_style(\"whitegrid\")\n",
    "plt.xlabel(\"день\")\n",
    "plt.ylabel(\"количество заказов\")\n",
    "plt.tick_params(axis='x', labelsize = 10, labelrotation=360)\n"
   ]
  },
  {
   "cell_type": "markdown",
   "metadata": {},
   "source": [
    "Заказы поступают от 0 до 10 в день. В среднем поступает 5 заказов в день. В сезон от 2 до 14 заказов."
   ]
  },
  {
   "cell_type": "markdown",
   "metadata": {},
   "source": [
    "b) какова структура среднего чека, т.е. суммы выручки всех совершенных клиентами покупок за определенный период времени, деленная на количество чеков/заказов за тот же период.  \n"
   ]
  },
  {
   "cell_type": "code",
   "execution_count": 145,
   "metadata": {},
   "outputs": [
    {
     "data": {
      "text/plain": [
       "'Средний чек за весь период: '"
      ]
     },
     "metadata": {},
     "output_type": "display_data"
    },
    {
     "data": {
      "text/plain": [
       "775.0954145437703"
      ]
     },
     "metadata": {},
     "output_type": "display_data"
    }
   ],
   "source": [
    "average_bill = total_turnover / total_order_quantity\n",
    "display(f'Средний чек за весь период: ', average_bill)"
   ]
  },
  {
   "cell_type": "markdown",
   "metadata": {},
   "source": [
    "Найдем самый крупный/мелкий заказ за весь период"
   ]
  },
  {
   "cell_type": "code",
   "execution_count": 141,
   "metadata": {},
   "outputs": [
    {
     "data": {
      "text/html": [
       "<div>\n",
       "<style scoped>\n",
       "    .dataframe tbody tr th:only-of-type {\n",
       "        vertical-align: middle;\n",
       "    }\n",
       "\n",
       "    .dataframe tbody tr th {\n",
       "        vertical-align: top;\n",
       "    }\n",
       "\n",
       "    .dataframe thead th {\n",
       "        text-align: right;\n",
       "    }\n",
       "</style>\n",
       "<table border=\"1\" class=\"dataframe\">\n",
       "  <thead>\n",
       "    <tr style=\"text-align: right;\">\n",
       "      <th></th>\n",
       "      <th>order_id</th>\n",
       "      <th>turnover</th>\n",
       "    </tr>\n",
       "  </thead>\n",
       "  <tbody>\n",
       "    <tr>\n",
       "      <td>1142</td>\n",
       "      <td>70537.0</td>\n",
       "      <td>1288.0</td>\n",
       "    </tr>\n",
       "    <tr>\n",
       "      <td>341</td>\n",
       "      <td>68553.0</td>\n",
       "      <td>1281.0</td>\n",
       "    </tr>\n",
       "    <tr>\n",
       "      <td>1607</td>\n",
       "      <td>71770.0</td>\n",
       "      <td>1275.0</td>\n",
       "    </tr>\n",
       "    <tr>\n",
       "      <td>514</td>\n",
       "      <td>68930.0</td>\n",
       "      <td>1275.0</td>\n",
       "    </tr>\n",
       "    <tr>\n",
       "      <td>948</td>\n",
       "      <td>70095.0</td>\n",
       "      <td>1275.0</td>\n",
       "    </tr>\n",
       "    <tr>\n",
       "      <td>...</td>\n",
       "      <td>...</td>\n",
       "      <td>...</td>\n",
       "    </tr>\n",
       "    <tr>\n",
       "      <td>1555</td>\n",
       "      <td>71634.0</td>\n",
       "      <td>14.0</td>\n",
       "    </tr>\n",
       "    <tr>\n",
       "      <td>285</td>\n",
       "      <td>14932.0</td>\n",
       "      <td>11.0</td>\n",
       "    </tr>\n",
       "    <tr>\n",
       "      <td>23</td>\n",
       "      <td>14512.0</td>\n",
       "      <td>11.0</td>\n",
       "    </tr>\n",
       "    <tr>\n",
       "      <td>111</td>\n",
       "      <td>14655.0</td>\n",
       "      <td>11.0</td>\n",
       "    </tr>\n",
       "    <tr>\n",
       "      <td>254</td>\n",
       "      <td>14887.0</td>\n",
       "      <td>9.0</td>\n",
       "    </tr>\n",
       "  </tbody>\n",
       "</table>\n",
       "<p>2159 rows × 2 columns</p>\n",
       "</div>"
      ],
      "text/plain": [
       "      order_id  turnover\n",
       "1142  70537.0   1288.0  \n",
       "341   68553.0   1281.0  \n",
       "1607  71770.0   1275.0  \n",
       "514   68930.0   1275.0  \n",
       "948   70095.0   1275.0  \n",
       "...       ...      ...  \n",
       "1555  71634.0   14.0    \n",
       "285   14932.0   11.0    \n",
       "23    14512.0   11.0    \n",
       "111   14655.0   11.0    \n",
       "254   14887.0   9.0     \n",
       "\n",
       "[2159 rows x 2 columns]"
      ]
     },
     "metadata": {},
     "output_type": "display_data"
    }
   ],
   "source": [
    "order_quantity = data_clean.groupby(['order_id']).agg({'turnover':'sum'}).reset_index()\n",
    "display(order_quantity.sort_values(by='turnover', ascending=False))"
   ]
  },
  {
   "cell_type": "markdown",
   "metadata": {},
   "source": [
    "Самый крупный заказ по выручке составил 1 288, а мелкий -  9 рублей. При этом, средний чек составляет 775 рублей."
   ]
  },
  {
   "cell_type": "markdown",
   "metadata": {},
   "source": [
    "c) сравним ср. чек по количественным категориям, предварительно посчитав количество заказов"
   ]
  },
  {
   "cell_type": "code",
   "execution_count": 142,
   "metadata": {},
   "outputs": [
    {
     "name": "stdout",
     "output_type": "stream",
     "text": [
      "Кол-во заказов в количественной категории А:  233\n",
      "Доля заказов в количественной категории А:  0.1079203334877258\n",
      "Ср.чек количественной категории А:  552.9356223175965\n"
     ]
    }
   ],
   "source": [
    "order_quantity_A = data_clean.query('quantity >= 4').groupby(['order_id']).agg({'turnover':'sum'}).reset_index()\n",
    "total_order_quantity_A = order_quantity_A['order_id'].count()\n",
    "turnover_order_quantity_A =  order_quantity_A['turnover'].sum()\n",
    "print(f'Кол-во заказов в количественной категории А: ', total_order_quantity_A)\n",
    "print(f'Доля заказов в количественной категории А: ', total_order_quantity_A / total_order_quantity)\n",
    "print(f'Ср.чек количественной категории А: ', turnover_order_quantity_A / total_order_quantity_A)"
   ]
  },
  {
   "cell_type": "code",
   "execution_count": 143,
   "metadata": {},
   "outputs": [
    {
     "name": "stdout",
     "output_type": "stream",
     "text": [
      "Кол-во заказов в количественной категории B:  275\n",
      "Доля заказов в количественной категории B:  0.12737378415933304\n",
      "Ср.чек количественной категории B:  401.3309090909091\n"
     ]
    }
   ],
   "source": [
    "order_quantity_B = data_clean.query('quantity >= 2 and quantity <= 3').groupby(['order_id']).agg({'turnover':'sum'}).reset_index()\n",
    "total_order_quantity_B = order_quantity_B['order_id'].count()\n",
    "turnover_order_quantity_B = order_quantity_B['turnover'].sum()\n",
    "print(f'Кол-во заказов в количественной категории B: ', total_order_quantity_B)\n",
    "print(f'Доля заказов в количественной категории B: ', total_order_quantity_B / total_order_quantity)\n",
    "print(f'Ср.чек количественной категории B: ', turnover_order_quantity_B / total_order_quantity_B)"
   ]
  },
  {
   "cell_type": "code",
   "execution_count": 144,
   "metadata": {},
   "outputs": [
    {
     "name": "stdout",
     "output_type": "stream",
     "text": [
      "Кол-во заказов в количественной категории C:  1651\n",
      "Доля заказов в количественной категории C:  0.7647058823529411\n",
      "Ср.чек количественной категории C:  429.633555420957\n"
     ]
    }
   ],
   "source": [
    "order_quantity_C = data_clean.query('quantity == 1').groupby(['order_id']).agg({'turnover':'sum'}).reset_index()\n",
    "total_order_quantity_C = order_quantity_C['order_id'].count()\n",
    "turnover_order_quantity_C = order_quantity_C['turnover'].sum()\n",
    "print(f'Кол-во заказов в количественной категории C: ', total_order_quantity_C)\n",
    "print(f'Доля заказов в количественной категории C: ', total_order_quantity_C / total_order_quantity)\n",
    "print(f'Ср.чек количественной категории C: ', turnover_order_quantity_C  / total_order_quantity_C )"
   ]
  },
  {
   "cell_type": "markdown",
   "metadata": {},
   "source": [
    "На градация ср.чека влияет показатели выручки и количества заказов в группе: категория А - самый высокий ср.чек 552 р., самый низкий у категории В - 401, средний у категории С - 429, при этом, ср.чек 2-х последних категорий ниже среднего по всему ассортименту. Кроме большого количества товаров с высокой выручкой, в категории А меньше всего заказов (233), поэтому ср.чек такой высокий. В категории С помимо самой большой выручки и самое большое количество заказов, поэтому ср.чек средний согласно логике"
   ]
  },
  {
   "cell_type": "markdown",
   "metadata": {},
   "source": [
    "В целом, классифицировали весь ассортимент с позиции АВС-анализа по следующим критериям:\n",
    "\n",
    "- количество проданного товара (шт.): А(4-112), В(2-3), С(1);\n",
    "- выручка за каждый товар (р. за весь период): А(719-76 090), В(198-718), С(9-197);\n",
    "- цена товара (р. за 1 шт.): А(300-1 275), В(120-299), С(9-119).\n",
    "\n",
    "\n",
    "Приняв решение, отталкиваться от категоризации по количеству продаж классифицировали данные категории по основным фин.показателям.\n",
    "\n",
    "Категории по количеству товара АВС рассмотрели по показателям:\n",
    "\n",
    "- выручки: А(204 212/12%), В(190 317/11%), С(1 278 902/76%);\n",
    "- цены: А(38-120), В(22-164, от 300), С(38-188, от 600);\n",
    "- ср.чека: А(552), В(401), С(429);\n",
    "- заказов: А(233/10%), В(275/13%),С(1 651/76%).\n",
    "\n",
    "Категория А - это  средняя по числу уникальных товаров категория (553/29%), где находятся самые часто продаваемые и дешевые товары, с самым высоким ср.чеком, средней выручкой, но самым небольшим количеством заказов.\n",
    "\n",
    "Категория В - самая небольшая по числу товаров категория (513/27%): нормально продаваемые товары с дешевой и средней ценой, с маленьким ср.чеком, маленькой выручкой и ср.кол-вом заказов.\n",
    "\n",
    "Категория С - самая крупная по числу товаров категория (854/44%): реже всего продаваемые товары всех ценовых категорий, с нормальным ср.чеком, самими большими выручкой и кол-вом заказов.\n",
    "\n",
    "* Флагман товарного ассортимента это категория С, т.к. приносит больше всего выручки, хотя продается штучно. Необходимо строго периодично поддерживать такой широкий ассортимент и постоянно его обновлять. Повысить выручку до 80%.\n",
    "* Категорию В пересмотреть, часть товаров перевести в С, часть удалить из ассортимента. \n",
    "* Категория А в хорошем состоянии, необходимо увеличивать объем выручки до 19%, а также строго следить за поставками, т.к. данный товар продается в больших количествах."
   ]
  },
  {
   "cell_type": "markdown",
   "metadata": {},
   "source": [
    "<a id=\"hypothesis\"></a>\n",
    "### 3. Проверка статистических гипотез"
   ]
  },
  {
   "cell_type": "markdown",
   "metadata": {},
   "source": [
    "**1).\tПроверим гипотезу о соответствии ср.чека** товаров категории С (менее продаваемых) ср.чеку категории В (нормально продаваемых).\n",
    "\n",
    "Для проверки гипотезы применим непараметрический тест Уилкоксона-Манна-Уитни, который проранжирует две выборки по порядку от меньшего к большему и сравнит ранги одних и тех же значений, попавших в обе выборки. Типичный сдвиг - разница между рангами одних и тех же значений одинакова. Нетипичный сдвиг по рангу - изменение. Сумма рангов таких сдвигов и выступает значением критерия. Чем он выше — тем больше вероятность, что для этих выборок интересующая нас величина различается.\n",
    "\n",
    "Перед проверкой найдем арифметическую разницу между ср.чека категории С и категории В. "
   ]
  },
  {
   "cell_type": "code",
   "execution_count": 146,
   "metadata": {},
   "outputs": [
    {
     "name": "stdout",
     "output_type": "stream",
     "text": [
      "Разница ср.чека:  0.071\n"
     ]
    }
   ],
   "source": [
    "print('Разница ср.чека: ', \"{0:.3f}\".format((turnover_order_quantity_C / total_order_quantity_C) / (turnover_order_quantity_B / total_order_quantity_B)- 1))\n"
   ]
  },
  {
   "cell_type": "markdown",
   "metadata": {},
   "source": [
    "Проверим гипотезу, что средние чеки обеих категорий С и В равны друг другу.\n",
    "\n",
    "Формируем нулевую гипотезу:\n",
    "\n",
    "H₀ = \"ср.чек категории С равен ср.чеку категории В\"¶.\n",
    "\n",
    "Из H₀ формулируем альтернативную гипотезу: H₁ = \"ср.чек категории С не равен ср.чеку категории В. \n",
    "Уровень статистической значимости установим 5%.\n"
   ]
  },
  {
   "cell_type": "code",
   "execution_count": 155,
   "metadata": {},
   "outputs": [
    {
     "name": "stdout",
     "output_type": "stream",
     "text": [
      "p-значение:  0.432\n",
      "Не получилось отвергнуть нулевую гипотезу, вывод о различии сделать нельзя\n"
     ]
    }
   ],
   "source": [
    "alpha = .05\n",
    "\n",
    "sampleB = order_quantity_B['turnover']\n",
    "sampleC = order_quantity_C['turnover']\n",
    "\n",
    "results = stats.mannwhitneyu(sampleB, sampleC)\n",
    "    \n",
    "print('p-значение: ', \"{0:.3f}\".format(results.pvalue))\n",
    "    \n",
    "if (results.pvalue < alpha):\n",
    "    print(\"Отвергаем нулевую гипотезу: разница статистически значима'\")\n",
    "else:\n",
    "    print(\"Не получилось отвергнуть нулевую гипотезу, вывод о различии сделать нельзя\")"
   ]
  },
  {
   "cell_type": "markdown",
   "metadata": {},
   "source": [
    "P-value ниже уровня значимости 0.05, поэтому 'не получилось отвергнуть нулевую гипотезу, вывод о различии сделать нельзя'. \n",
    "Средний чек категории С выше ср.чека категории В на 7%, что статистически не значимо.\n"
   ]
  },
  {
   "cell_type": "markdown",
   "metadata": {},
   "source": [
    "**2).\tПроверить гипотезу о соответствии доли заказов** категории А(самых продаваемых) доле заказов категории В (нормально продаваемых).\n",
    "\n",
    "Нам необходимо проверить гипотезу о равенстве долей. Если некоторая доля генеральной совокупности обладает признаком, а другая её часть — нет, об этой доле можно судить по выборке из генеральной совокупности. Выборочные доли будут нормально распределены вокруг настоящей."
   ]
  },
  {
   "cell_type": "markdown",
   "metadata": {},
   "source": [
    "Предварительно найдем кол-во заказов и их доли, а также проверим разницу в долях заказов"
   ]
  },
  {
   "cell_type": "code",
   "execution_count": 154,
   "metadata": {},
   "outputs": [
    {
     "name": "stdout",
     "output_type": "stream",
     "text": [
      "Общее кол-во заказов:  2159\n",
      "Кол-во заказов в количественной категории А:  233\n",
      "Доля заказов в количественной категории А:  0.1079203334877258\n",
      "Кол-во заказов в количественной категории B:  275\n",
      "Доля заказов в количественной категории B:  0.12737378415933304\n",
      "Разница в доле заказов:  0.019\n"
     ]
    }
   ],
   "source": [
    "print(f'Общее кол-во заказов: ', total_order_quantity)\n",
    "print(f'Кол-во заказов в количественной категории А: ', total_order_quantity_A)\n",
    "print(f'Доля заказов в количественной категории А: ', total_order_quantity_A / total_order_quantity)\n",
    "print(f'Кол-во заказов в количественной категории B: ', total_order_quantity_B)\n",
    "print(f'Доля заказов в количественной категории B: ', total_order_quantity_B / total_order_quantity)\n",
    "print('Разница в доле заказов: ', \"{0:.3f}\".format((total_order_quantity_B / total_order_quantity) -  (total_order_quantity_A / total_order_quantity)))\n"
   ]
  },
  {
   "cell_type": "markdown",
   "metadata": {},
   "source": [
    "Проверим гипотезу, что доли заказов обеих категории А и В равны друг другу.\n",
    "\n",
    "Формируем нулевую гипотезу: H₀ = \"доля заказов категории А равна доле заказов категории В\"¶.\n",
    "\n",
    "Из H₀ формулируем альтернативную гипотезу: H₁ = \"доля заказов категории А не равна доле категории В\". \n",
    "\n",
    "Уровень статистической значимости установим 5%."
   ]
  },
  {
   "cell_type": "code",
   "execution_count": 149,
   "metadata": {},
   "outputs": [
    {
     "data": {
      "text/plain": [
       "-0.04882909815645241"
      ]
     },
     "metadata": {},
     "output_type": "display_data"
    }
   ],
   "source": [
    "alpha = .05 \n",
    "\n",
    "successes = np.array([228, 326])\n",
    "trials = np.array([2007, 2007])\n",
    "\n",
    "p1 = successes[0]/trials[0]\n",
    "p2 = successes[1]/trials[1]\n",
    "\n",
    "p_combined = (successes[0] + successes[1]) / (trials[0] + trials[1])\n",
    "difference = p1 - p2\n",
    "display(difference)\n"
   ]
  },
  {
   "cell_type": "markdown",
   "metadata": {},
   "source": [
    "Если доли были бы равны, то разница между ними должна была быть равна нулю. Считаем статистику в стандартных отклонениях стандартного нормального распределения с заданными параметрами (среднее 0, ст.отклонение 1)\n",
    "Проверим статистическую разницу z-критерием.\n"
   ]
  },
  {
   "cell_type": "code",
   "execution_count": 150,
   "metadata": {},
   "outputs": [
    {
     "data": {
      "text/plain": [
       "-4.484580539532629"
      ]
     },
     "metadata": {},
     "output_type": "display_data"
    }
   ],
   "source": [
    "z_value = difference / mth.sqrt(p_combined * (1 - p_combined) * (1/trials[0] + 1/trials[1]))\n",
    "distr = st.norm(0, 1)\n",
    "display(z_value)"
   ]
  },
  {
   "cell_type": "markdown",
   "metadata": {},
   "source": [
    "Так как распределение статистики нормальное, вызовем метод cdf(). Тест двусторонний, поэтому возьмем статистику по модулю методом abs() и удваиваем результат"
   ]
  },
  {
   "cell_type": "code",
   "execution_count": 152,
   "metadata": {},
   "outputs": [
    {
     "name": "stdout",
     "output_type": "stream",
     "text": [
      "p-значение:  7.3057508045426545e-06\n",
      "Отвергаем нулевую гипотезу: между долями есть значимая разница\n"
     ]
    }
   ],
   "source": [
    "p_value = (1 - distr.cdf(abs(z_value))) * 2\n",
    "print('p-значение: ', p_value)\n",
    "if (p_value < alpha):\n",
    "    print(\"Отвергаем нулевую гипотезу: между долями есть значимая разница\")\n",
    "else:\n",
    "    print(\"Не получилось отвергнуть нулевую гипотезу, нет оснований считать доли разными\")\n"
   ]
  },
  {
   "cell_type": "markdown",
   "metadata": {},
   "source": [
    "p-value ниже уровня значимости 0.05, поэтому 'отвергаем нулевую гипотезу: между долями есть значимая разница'. \n",
    "\n",
    "Мы получили подтверждение, что доли заказов категорий А и В статистически не равны, хотя разница между ними только 2%. \n",
    "Мы указываем, что различия достоверны на 5%-ом уровне значимости, т.е. вероятность того, что они все-таки недостоверны, составляет 0,05."
   ]
  },
  {
   "cell_type": "markdown",
   "metadata": {},
   "source": [
    "<a id=\"output\"></a>\n",
    "### 4. Общий вывод"
   ]
  },
  {
   "cell_type": "markdown",
   "metadata": {},
   "source": [
    "Проанализировав данные по товарному ассортименту интернет-магазина товаров для дома и быта «Пока все ещё тут» за период 01.10.2018-31.10.2019 мы пришли к следующим выводам:\n",
    "\n",
    "**1. Исследовательских анализ данных.**\n",
    "\n",
    "a) Количество товара:\n",
    "- общее кол-во проданного товара: 9 719;\n",
    "- кол-во уникальных товаров: 2 342;\n",
    "- ср.кол-во проданных товаров в месяц: 809;\n",
    "- сезонные пики по кол-ву: июнь, апрель, октябрь\n",
    "\n",
    "b) Цена товара:\n",
    "- диапазон цен: от 9 до 1 275р. (18% самые дешевые, 19% самые дорогие);\n",
    "- ср.цена: 127 р.;\n",
    "\n",
    "c) Выручка:\n",
    "- годовая выручка: 1 673 431 р.;\n",
    "- ср.выручка в месяц: 139 452 р.;\n",
    "- сезонные пики по выручке: октябрь, июнь, апрель\n",
    "\n",
    "d) Заказы:\n",
    "- общее кол-во заказов: 2 159;\n",
    "- общее кол-во покупателей: 1 913;\n",
    "- ср.кол-во заказов на одного покупателя: 1,1\n",
    "- ср.кол-во заказов в месяц: 180;\n",
    "- диапазон стоимости заказов: 9-1 288 р.;\n",
    "- ср.чек: 775 р.;\n",
    "- сезонные пики по заказам: октябрь, февраль, апрель\n",
    "\n",
    "e) Хиты продаж:\n",
    "- по кол-ву: 'стяжка оконная' - 112 штук;\n",
    "- по выручке: 'сумка-тележка Gimi Argo' - 76 090 рублей;\n",
    "\n",
    "f) Аутсайдеры продаж:\n",
    "- по кол-ву: 'подставка для цветов' - 1 шт;\n",
    "- по выручке: 'семена львиного зева' - 9 рублей "
   ]
  },
  {
   "cell_type": "markdown",
   "metadata": {},
   "source": [
    "**2. Анализ товарного ассортимента**\n",
    "\n",
    "Мы классифицировали весь ассортимент с позиции АВС-анализа по следующим критериям (**в скобках диапазон категорий в соответствующих единицах):**\n",
    "\n",
    "- количество проданного товара (шт.): А(4-112), В(2-3), С(1);\n",
    "- выручка за каждый товар (р. за весь период): А(719-76 090), В(198-718), С(9-197);\n",
    "- цена товара (р. за 1 шт.): А(300-1 275), В(120-299), С(9-119).\n",
    "\n",
    "Приняв решение сфокусироваться на  _категоризации по количеству продаж,_ классифицировали выбранные категории по основным финансовым и торговым показателям.\n",
    "\n",
    "Категории по количеству товара АВС рассмотрели по показателям:\n",
    "\n",
    "- выручки: А(204 212/12%), В(190 317/11%), С(1 278 902/76%);\n",
    "- цены: А(38-120), В(22-164, от 300), С(38-188, от 600);\n",
    "- ср.чека: А(552), В(401), С(429);\n",
    "- заказов: А(233/10%), В(275/13%),С(1 651/76%).\n",
    "\n",
    "\n",
    "**Категория А** - это  средняя по числу уникальных товаров категория (553/29%), где находятся самые часто продаваемые и дешевые товары, с самым высоким ср.чеком, средней выручкой, но самым небольшим количеством заказов.\n",
    "\n",
    "**Категория В** - самая небольшая по числу товаров категория (513/27%): нормально продаваемые товары с дешевой и средней ценой, с маленьким ср.чеком, маленькой выручкой и ср.кол-вом заказов.\n",
    "\n",
    "**Категория С** - самая крупная по числу товаров категория (854/44%): реже всего продаваемые товары всех ценовых категорий, с нормальным ср.чеком, самими большими выручкой и кол-вом заказов.\n",
    "\n",
    "Можно сделать вывод, что данный магазин специализируется на штучных, но недорогих товарах, поэтому представлен такой широкий ассортимент, где каждый покупатель найдет что-то для себя даже в единичном экземпляре. "
   ]
  },
  {
   "cell_type": "markdown",
   "metadata": {},
   "source": [
    "**3. Рекомендации**\n",
    "\n",
    "__a) рекомендации по категориям АВС по количеству продаж:__\n",
    "\n",
    "- Флагман товарного ассортимента это категория С, т.к. приносит больше всего выручки, хотя продается в единичных экземплярах. Необходимо строго периодично поддерживать такой широкий ассортимент и постоянно его обновлять. \n",
    "- Категорию В необходимо пересмотреть, какую-то часть товаров перевести в категорию С, часть удалить из ассортимента. По оставшемуся товару принять меры по усилению продвижения. \n",
    "- Категория А в хорошем состоянии, необходимо увеличивать объем выручки до 19%, а также строго следить за поставками, т.к. данный товар продается в больших количествах.\n",
    "\n",
    "__b) дополнительные рекомендации по оптимизации ассортимента, классифицированного по количеству проданного товара и полученной выручке.__\n",
    "\n",
    "Мы присвоили выбранным количественным категориям АВС такие же категории, но по выручке, и сопоставили два критерия.\n",
    "\n",
    "* Категория АВ - товары с высоким показателем по количеству продаж и средним по выручке. Необходимо контролировать данную категорию и не снижать показатели, а также проводить мониторинг у конкурентов. Следует повышать уровень ежемесячной ср.выручки до общего показателя - 139 452 р.\n",
    "\n",
    "* Категория ВС - товары со средним уровнем оборачиваемости и низким объемом выручки. Необходимо либо перевести данные товары в категорию СС, увеличивая объем выручки путем продвижения товара и тем самым поднять объем выручки категории С до 80% для соответствия принципу Парето.\n",
    "\n",
    "* Категория СА - товары продаются по 1 шт. и каждый из них приносит немного прибыли. Возможно, они служат для привлечения узкой категории клиентов и для создания статуса уникальности ассортимента. Тем не менее, в общем количестве данные товары принесли больше всего выручки, т.е. магазин взял объемом различных недорогих товаров, но, может быть, в чем-то уникальных. Если такова была стратегия продаж, от в отношении выручки она сработала.\n",
    "\n"
   ]
  },
  {
   "cell_type": "code",
   "execution_count": null,
   "metadata": {},
   "outputs": [],
   "source": []
  }
 ],
 "metadata": {
  "kernelspec": {
   "display_name": "Python 3",
   "language": "python",
   "name": "python3"
  },
  "language_info": {
   "codemirror_mode": {
    "name": "ipython",
    "version": 3
   },
   "file_extension": ".py",
   "mimetype": "text/x-python",
   "name": "python",
   "nbconvert_exporter": "python",
   "pygments_lexer": "ipython3",
   "version": "3.7.6"
  }
 },
 "nbformat": 4,
 "nbformat_minor": 4
}
