{
 "cells": [
  {
   "cell_type": "markdown",
   "metadata": {},
   "source": [
    "# Аналитика в Яндекс.Афише"
   ]
  },
  {
   "cell_type": "markdown",
   "metadata": {},
   "source": [
    "### Описание проекта\n",
    "Вас пригласили на стажировку в отдел аналитики Яндекс.Афиши. Первое задание: помочь маркетологам оптимизировать маркетинговые затраты.\n",
    "У вас в распоряжении есть данные от Яндекс.Афиши с июня 2017 по конец мая 2018 года:\n",
    "  \n",
    "•\tлог сервера с данными о посещениях сайта Яндекс.Афиши,\n",
    "\n",
    "•\tвыгрузка всех заказов за этот период,   \n",
    "\n",
    "•\tстатистика рекламных расходов.\n",
    "\n",
    "Вы изучите:\n",
    "\n",
    "•\tкак люди пользуются продуктом,\n",
    "\n",
    "•\tкогда они начинают покупать,\n",
    "\n",
    "•\tсколько денег приносит каждый клиент\n",
    "\n",
    "•\tкогда клиент окупается.\n",
    "\n"
   ]
  },
  {
   "cell_type": "markdown",
   "metadata": {},
   "source": [
    "### Содержание"
   ]
  },
  {
   "cell_type": "markdown",
   "metadata": {},
   "source": [
    "- [Подготовка данных](#id-Подготовка_данных)\n",
    "- [Анализ_данных](#id-Анализ_данных)\n",
    "- [Вывод](#id-Вывод)"
   ]
  },
  {
   "cell_type": "markdown",
   "metadata": {},
   "source": [
    "<div id='id-Подготовка_данных'/>\n",
    "\n",
    "### Шаг 1.Подготовка данных."
   ]
  },
  {
   "cell_type": "code",
   "execution_count": 3,
   "metadata": {},
   "outputs": [],
   "source": [
    "import pandas as pd\n",
    "import matplotlib.pyplot as plt\n",
    "import numpy as np\n",
    "import seaborn as sns\n",
    "from datetime import datetime, timedelta"
   ]
  },
  {
   "cell_type": "markdown",
   "metadata": {},
   "source": [
    "Откроем и изучим файл visits (лог сервера с информацией о посещениях сайта)."
   ]
  },
  {
   "cell_type": "code",
   "execution_count": 4,
   "metadata": {},
   "outputs": [
    {
     "data": {
      "text/html": [
       "<div>\n",
       "<style scoped>\n",
       "    .dataframe tbody tr th:only-of-type {\n",
       "        vertical-align: middle;\n",
       "    }\n",
       "\n",
       "    .dataframe tbody tr th {\n",
       "        vertical-align: top;\n",
       "    }\n",
       "\n",
       "    .dataframe thead th {\n",
       "        text-align: right;\n",
       "    }\n",
       "</style>\n",
       "<table border=\"1\" class=\"dataframe\">\n",
       "  <thead>\n",
       "    <tr style=\"text-align: right;\">\n",
       "      <th></th>\n",
       "      <th>Device</th>\n",
       "      <th>End Ts</th>\n",
       "      <th>Source Id</th>\n",
       "      <th>Start Ts</th>\n",
       "      <th>Uid</th>\n",
       "    </tr>\n",
       "  </thead>\n",
       "  <tbody>\n",
       "    <tr>\n",
       "      <td>0</td>\n",
       "      <td>touch</td>\n",
       "      <td>2017-12-20 17:38:00</td>\n",
       "      <td>4</td>\n",
       "      <td>2017-12-20 17:20:00</td>\n",
       "      <td>16879256277535980062</td>\n",
       "    </tr>\n",
       "    <tr>\n",
       "      <td>1</td>\n",
       "      <td>desktop</td>\n",
       "      <td>2018-02-19 17:21:00</td>\n",
       "      <td>2</td>\n",
       "      <td>2018-02-19 16:53:00</td>\n",
       "      <td>104060357244891740</td>\n",
       "    </tr>\n",
       "    <tr>\n",
       "      <td>2</td>\n",
       "      <td>touch</td>\n",
       "      <td>2017-07-01 01:54:00</td>\n",
       "      <td>5</td>\n",
       "      <td>2017-07-01 01:54:00</td>\n",
       "      <td>7459035603376831527</td>\n",
       "    </tr>\n",
       "    <tr>\n",
       "      <td>3</td>\n",
       "      <td>desktop</td>\n",
       "      <td>2018-05-20 11:23:00</td>\n",
       "      <td>9</td>\n",
       "      <td>2018-05-20 10:59:00</td>\n",
       "      <td>16174680259334210214</td>\n",
       "    </tr>\n",
       "    <tr>\n",
       "      <td>4</td>\n",
       "      <td>desktop</td>\n",
       "      <td>2017-12-27 14:06:00</td>\n",
       "      <td>3</td>\n",
       "      <td>2017-12-27 14:06:00</td>\n",
       "      <td>9969694820036681168</td>\n",
       "    </tr>\n",
       "  </tbody>\n",
       "</table>\n",
       "</div>"
      ],
      "text/plain": [
       "    Device               End Ts  Source Id             Start Ts  \\\n",
       "0    touch  2017-12-20 17:38:00          4  2017-12-20 17:20:00   \n",
       "1  desktop  2018-02-19 17:21:00          2  2018-02-19 16:53:00   \n",
       "2    touch  2017-07-01 01:54:00          5  2017-07-01 01:54:00   \n",
       "3  desktop  2018-05-20 11:23:00          9  2018-05-20 10:59:00   \n",
       "4  desktop  2017-12-27 14:06:00          3  2017-12-27 14:06:00   \n",
       "\n",
       "                    Uid  \n",
       "0  16879256277535980062  \n",
       "1    104060357244891740  \n",
       "2   7459035603376831527  \n",
       "3  16174680259334210214  \n",
       "4   9969694820036681168  "
      ]
     },
     "metadata": {},
     "output_type": "display_data"
    },
    {
     "name": "stdout",
     "output_type": "stream",
     "text": [
      "<class 'pandas.core.frame.DataFrame'>\n",
      "RangeIndex: 359400 entries, 0 to 359399\n",
      "Data columns (total 5 columns):\n",
      "Device       359400 non-null object\n",
      "End Ts       359400 non-null object\n",
      "Source Id    359400 non-null int64\n",
      "Start Ts     359400 non-null object\n",
      "Uid          359400 non-null uint64\n",
      "dtypes: int64(1), object(3), uint64(1)\n",
      "memory usage: 13.7+ MB\n"
     ]
    }
   ],
   "source": [
    "visits_data = pd.read_csv('/datasets/visits_log.csv', sep=',')\n",
    "display(visits_data.head())\n",
    "visits_data.info()"
   ]
  },
  {
   "cell_type": "markdown",
   "metadata": {},
   "source": [
    "В датасете visits_data содержится 5 столбцов и 359 400 строк. Пропущенных значений нет. \n",
    "Некорректный тип данных у столбцов с датами - строчный. Тип данных 'целые числа' для столбцов Source_Id  и uid корректен. Названия столбцов указаны в двух регистрах.\n",
    "\n",
    "Названия столбцов:\n",
    "\n",
    "•\tUid — уникальный идентификатор пользователя \n",
    "\n",
    "•\tDevice — категория устройства пользователя \n",
    "\n",
    "•\tStart Ts — дата и время начала сессии \n",
    "\n",
    "•\tEnd Ts — дата и время окончания сессии \n",
    "\n",
    "•\tSource Id — идентификатор рекламного источника, из которого пришел пользователь \n",
    "\n",
    "\n",
    "\n"
   ]
  },
  {
   "cell_type": "markdown",
   "metadata": {},
   "source": [
    "Откроем и изучим файл orders (информация о заказах)"
   ]
  },
  {
   "cell_type": "code",
   "execution_count": 5,
   "metadata": {},
   "outputs": [
    {
     "data": {
      "text/html": [
       "<div>\n",
       "<style scoped>\n",
       "    .dataframe tbody tr th:only-of-type {\n",
       "        vertical-align: middle;\n",
       "    }\n",
       "\n",
       "    .dataframe tbody tr th {\n",
       "        vertical-align: top;\n",
       "    }\n",
       "\n",
       "    .dataframe thead th {\n",
       "        text-align: right;\n",
       "    }\n",
       "</style>\n",
       "<table border=\"1\" class=\"dataframe\">\n",
       "  <thead>\n",
       "    <tr style=\"text-align: right;\">\n",
       "      <th></th>\n",
       "      <th>Buy Ts</th>\n",
       "      <th>Revenue</th>\n",
       "      <th>Uid</th>\n",
       "    </tr>\n",
       "  </thead>\n",
       "  <tbody>\n",
       "    <tr>\n",
       "      <td>0</td>\n",
       "      <td>2017-06-01 00:10:00</td>\n",
       "      <td>17.00</td>\n",
       "      <td>10329302124590727494</td>\n",
       "    </tr>\n",
       "    <tr>\n",
       "      <td>1</td>\n",
       "      <td>2017-06-01 00:25:00</td>\n",
       "      <td>0.55</td>\n",
       "      <td>11627257723692907447</td>\n",
       "    </tr>\n",
       "    <tr>\n",
       "      <td>2</td>\n",
       "      <td>2017-06-01 00:27:00</td>\n",
       "      <td>0.37</td>\n",
       "      <td>17903680561304213844</td>\n",
       "    </tr>\n",
       "    <tr>\n",
       "      <td>3</td>\n",
       "      <td>2017-06-01 00:29:00</td>\n",
       "      <td>0.55</td>\n",
       "      <td>16109239769442553005</td>\n",
       "    </tr>\n",
       "    <tr>\n",
       "      <td>4</td>\n",
       "      <td>2017-06-01 07:58:00</td>\n",
       "      <td>0.37</td>\n",
       "      <td>14200605875248379450</td>\n",
       "    </tr>\n",
       "  </tbody>\n",
       "</table>\n",
       "</div>"
      ],
      "text/plain": [
       "                Buy Ts  Revenue                   Uid\n",
       "0  2017-06-01 00:10:00    17.00  10329302124590727494\n",
       "1  2017-06-01 00:25:00     0.55  11627257723692907447\n",
       "2  2017-06-01 00:27:00     0.37  17903680561304213844\n",
       "3  2017-06-01 00:29:00     0.55  16109239769442553005\n",
       "4  2017-06-01 07:58:00     0.37  14200605875248379450"
      ]
     },
     "metadata": {},
     "output_type": "display_data"
    },
    {
     "name": "stdout",
     "output_type": "stream",
     "text": [
      "<class 'pandas.core.frame.DataFrame'>\n",
      "RangeIndex: 50415 entries, 0 to 50414\n",
      "Data columns (total 3 columns):\n",
      "Buy Ts     50415 non-null object\n",
      "Revenue    50415 non-null float64\n",
      "Uid        50415 non-null uint64\n",
      "dtypes: float64(1), object(1), uint64(1)\n",
      "memory usage: 1.2+ MB\n"
     ]
    }
   ],
   "source": [
    "orders_data = pd.read_csv('/datasets/orders_log.csv', sep=',')\n",
    "display(orders_data.head())\n",
    "orders_data.info()"
   ]
  },
  {
   "cell_type": "markdown",
   "metadata": {},
   "source": [
    "Датасет orders_data содержит 3 столбца и 50 415 строк. Пропущенных значений нет. Некорректный тип данных у столбца с датой Buy Ts - строчный. Типы данных 'целые числа' для столбца Uid  и 'вещественные числа' для столбца Revenue корректны. Названия столбцов указаны в двух регистрах.\n",
    "\n",
    "Названия столбцов:\n",
    "\n",
    "•\tUid — уникальный id пользователя, который сделал заказ\n",
    "\n",
    "•\tBuy Ts — дата и время заказа\n",
    "\n",
    "•\tRevenue — выручка Яндекс.Афиши с этого заказа\n",
    "\n",
    "\n",
    "\n"
   ]
  },
  {
   "cell_type": "markdown",
   "metadata": {},
   "source": [
    "Откроем и изучим файл costs (информация о затратах на маркетинг)."
   ]
  },
  {
   "cell_type": "code",
   "execution_count": 6,
   "metadata": {},
   "outputs": [
    {
     "data": {
      "text/html": [
       "<div>\n",
       "<style scoped>\n",
       "    .dataframe tbody tr th:only-of-type {\n",
       "        vertical-align: middle;\n",
       "    }\n",
       "\n",
       "    .dataframe tbody tr th {\n",
       "        vertical-align: top;\n",
       "    }\n",
       "\n",
       "    .dataframe thead th {\n",
       "        text-align: right;\n",
       "    }\n",
       "</style>\n",
       "<table border=\"1\" class=\"dataframe\">\n",
       "  <thead>\n",
       "    <tr style=\"text-align: right;\">\n",
       "      <th></th>\n",
       "      <th>source_id</th>\n",
       "      <th>dt</th>\n",
       "      <th>costs</th>\n",
       "    </tr>\n",
       "  </thead>\n",
       "  <tbody>\n",
       "    <tr>\n",
       "      <td>0</td>\n",
       "      <td>1</td>\n",
       "      <td>2017-06-01</td>\n",
       "      <td>75.20</td>\n",
       "    </tr>\n",
       "    <tr>\n",
       "      <td>1</td>\n",
       "      <td>1</td>\n",
       "      <td>2017-06-02</td>\n",
       "      <td>62.25</td>\n",
       "    </tr>\n",
       "    <tr>\n",
       "      <td>2</td>\n",
       "      <td>1</td>\n",
       "      <td>2017-06-03</td>\n",
       "      <td>36.53</td>\n",
       "    </tr>\n",
       "    <tr>\n",
       "      <td>3</td>\n",
       "      <td>1</td>\n",
       "      <td>2017-06-04</td>\n",
       "      <td>55.00</td>\n",
       "    </tr>\n",
       "    <tr>\n",
       "      <td>4</td>\n",
       "      <td>1</td>\n",
       "      <td>2017-06-05</td>\n",
       "      <td>57.08</td>\n",
       "    </tr>\n",
       "  </tbody>\n",
       "</table>\n",
       "</div>"
      ],
      "text/plain": [
       "   source_id          dt  costs\n",
       "0          1  2017-06-01  75.20\n",
       "1          1  2017-06-02  62.25\n",
       "2          1  2017-06-03  36.53\n",
       "3          1  2017-06-04  55.00\n",
       "4          1  2017-06-05  57.08"
      ]
     },
     "metadata": {},
     "output_type": "display_data"
    },
    {
     "name": "stdout",
     "output_type": "stream",
     "text": [
      "<class 'pandas.core.frame.DataFrame'>\n",
      "RangeIndex: 2542 entries, 0 to 2541\n",
      "Data columns (total 3 columns):\n",
      "source_id    2542 non-null int64\n",
      "dt           2542 non-null object\n",
      "costs        2542 non-null float64\n",
      "dtypes: float64(1), int64(1), object(1)\n",
      "memory usage: 59.7+ KB\n"
     ]
    }
   ],
   "source": [
    "costs_data = pd.read_csv('/datasets/costs.csv', sep=',')\n",
    "display(costs_data.head())\n",
    "costs_data.info()\n"
   ]
  },
  {
   "cell_type": "markdown",
   "metadata": {},
   "source": [
    "В датасете costs_data 3 столбца и 2 542 строки. Пропущенных значений нет. Тип данных в столбце dt должен быть 'временной', а не 'строчный'. Остальные типы данных корректны - 'целые числа' в столбце source_id  и 'вещественные числа' в столбце costs.\n",
    "\n",
    "Названия столбцов:\n",
    "\n",
    "•\tsource_id — идентификатор рекламного источника\n",
    "\n",
    "•\tdt — дата\n",
    "\n",
    "•\tcosts — затраты на этот рекламный источник в этот день\n",
    "\n",
    "\n"
   ]
  },
  {
   "cell_type": "markdown",
   "metadata": {},
   "source": [
    "Переведем названия столбцов в visits_data  и orders_data в нижний регистр для удобства при возможном объединении."
   ]
  },
  {
   "cell_type": "code",
   "execution_count": 7,
   "metadata": {},
   "outputs": [],
   "source": [
    "visits_data.columns = visits_data.columns.str.lower()\n",
    "orders_data.columns = orders_data.columns.str.lower()"
   ]
  },
  {
   "cell_type": "markdown",
   "metadata": {},
   "source": [
    "Переименуем ключевой столбец 'source_id' в costs_data  в целях последующего объединения"
   ]
  },
  {
   "cell_type": "code",
   "execution_count": 8,
   "metadata": {},
   "outputs": [
    {
     "data": {
      "text/html": [
       "<div>\n",
       "<style scoped>\n",
       "    .dataframe tbody tr th:only-of-type {\n",
       "        vertical-align: middle;\n",
       "    }\n",
       "\n",
       "    .dataframe tbody tr th {\n",
       "        vertical-align: top;\n",
       "    }\n",
       "\n",
       "    .dataframe thead th {\n",
       "        text-align: right;\n",
       "    }\n",
       "</style>\n",
       "<table border=\"1\" class=\"dataframe\">\n",
       "  <thead>\n",
       "    <tr style=\"text-align: right;\">\n",
       "      <th></th>\n",
       "      <th>source id</th>\n",
       "      <th>dt</th>\n",
       "      <th>costs</th>\n",
       "    </tr>\n",
       "  </thead>\n",
       "  <tbody>\n",
       "    <tr>\n",
       "      <td>0</td>\n",
       "      <td>1</td>\n",
       "      <td>2017-06-01</td>\n",
       "      <td>75.20</td>\n",
       "    </tr>\n",
       "    <tr>\n",
       "      <td>1</td>\n",
       "      <td>1</td>\n",
       "      <td>2017-06-02</td>\n",
       "      <td>62.25</td>\n",
       "    </tr>\n",
       "    <tr>\n",
       "      <td>2</td>\n",
       "      <td>1</td>\n",
       "      <td>2017-06-03</td>\n",
       "      <td>36.53</td>\n",
       "    </tr>\n",
       "    <tr>\n",
       "      <td>3</td>\n",
       "      <td>1</td>\n",
       "      <td>2017-06-04</td>\n",
       "      <td>55.00</td>\n",
       "    </tr>\n",
       "    <tr>\n",
       "      <td>4</td>\n",
       "      <td>1</td>\n",
       "      <td>2017-06-05</td>\n",
       "      <td>57.08</td>\n",
       "    </tr>\n",
       "  </tbody>\n",
       "</table>\n",
       "</div>"
      ],
      "text/plain": [
       "   source id          dt  costs\n",
       "0          1  2017-06-01  75.20\n",
       "1          1  2017-06-02  62.25\n",
       "2          1  2017-06-03  36.53\n",
       "3          1  2017-06-04  55.00\n",
       "4          1  2017-06-05  57.08"
      ]
     },
     "metadata": {},
     "output_type": "display_data"
    }
   ],
   "source": [
    "costs_data = costs_data.rename(columns={\"source_id\": \"source id\"})\n",
    "display(costs_data.head())"
   ]
  },
  {
   "cell_type": "markdown",
   "metadata": {},
   "source": [
    "Во всех датасетах изменим тип данных в столбцах с датами"
   ]
  },
  {
   "cell_type": "code",
   "execution_count": 9,
   "metadata": {},
   "outputs": [],
   "source": [
    "visits_data['end ts'] = pd.to_datetime(visits_data['end ts'], format = '%Y-%m-%d %H:%M')\n",
    "visits_data['start ts'] = pd.to_datetime(visits_data['start ts'], format = '%Y-%m-%d %H:%M')\n",
    "orders_data['buy ts'] = pd.to_datetime(orders_data['buy ts'], format = '%Y-%m-%d %H:%M')\n",
    "costs_data['dt'] = pd.to_datetime(costs_data['dt'], format = '%Y-%m-%d')"
   ]
  },
  {
   "cell_type": "markdown",
   "metadata": {},
   "source": [
    "Уточним, одновременно ли начато ведение всех файлов"
   ]
  },
  {
   "cell_type": "code",
   "execution_count": 10,
   "metadata": {},
   "outputs": [
    {
     "data": {
      "text/plain": [
       "count                  359400\n",
       "unique                 224303\n",
       "top       2017-11-24 16:06:00\n",
       "freq                       19\n",
       "first     2017-06-01 00:01:00\n",
       "last      2018-05-31 23:59:00\n",
       "Name: start ts, dtype: object"
      ]
     },
     "execution_count": 10,
     "metadata": {},
     "output_type": "execute_result"
    }
   ],
   "source": [
    "visits_data['start ts'].describe()"
   ]
  },
  {
   "cell_type": "code",
   "execution_count": 11,
   "metadata": {},
   "outputs": [
    {
     "data": {
      "text/plain": [
       "count                   50415\n",
       "unique                  45991\n",
       "top       2018-05-31 10:13:00\n",
       "freq                        9\n",
       "first     2017-06-01 00:10:00\n",
       "last      2018-06-01 00:02:00\n",
       "Name: buy ts, dtype: object"
      ]
     },
     "execution_count": 11,
     "metadata": {},
     "output_type": "execute_result"
    }
   ],
   "source": [
    "orders_data['buy ts'].describe()"
   ]
  },
  {
   "cell_type": "code",
   "execution_count": 12,
   "metadata": {},
   "outputs": [
    {
     "data": {
      "text/plain": [
       "count                    2542\n",
       "unique                    364\n",
       "top       2018-03-03 00:00:00\n",
       "freq                        7\n",
       "first     2017-06-01 00:00:00\n",
       "last      2018-05-31 00:00:00\n",
       "Name: dt, dtype: object"
      ]
     },
     "execution_count": 12,
     "metadata": {},
     "output_type": "execute_result"
    }
   ],
   "source": [
    "costs_data['dt'].describe()"
   ]
  },
  {
   "cell_type": "markdown",
   "metadata": {},
   "source": [
    "Все файлы начаты в одно время - 01.06.2017 и завершены 31.05.2018, кроме orders_data, который закончен 01.06.2018, возможно, необходимо полностью внести данные за последний день месяца включительно."
   ]
  },
  {
   "cell_type": "code",
   "execution_count": 13,
   "metadata": {},
   "outputs": [
    {
     "name": "stdout",
     "output_type": "stream",
     "text": [
      "<class 'pandas.core.frame.DataFrame'>\n",
      "RangeIndex: 359400 entries, 0 to 359399\n",
      "Data columns (total 5 columns):\n",
      "device       359400 non-null object\n",
      "end ts       359400 non-null datetime64[ns]\n",
      "source id    359400 non-null int64\n",
      "start ts     359400 non-null datetime64[ns]\n",
      "uid          359400 non-null uint64\n",
      "dtypes: datetime64[ns](2), int64(1), object(1), uint64(1)\n",
      "memory usage: 13.7+ MB\n",
      "<class 'pandas.core.frame.DataFrame'>\n",
      "RangeIndex: 50415 entries, 0 to 50414\n",
      "Data columns (total 3 columns):\n",
      "buy ts     50415 non-null datetime64[ns]\n",
      "revenue    50415 non-null float64\n",
      "uid        50415 non-null uint64\n",
      "dtypes: datetime64[ns](1), float64(1), uint64(1)\n",
      "memory usage: 1.2 MB\n",
      "<class 'pandas.core.frame.DataFrame'>\n",
      "RangeIndex: 2542 entries, 0 to 2541\n",
      "Data columns (total 3 columns):\n",
      "source id    2542 non-null int64\n",
      "dt           2542 non-null datetime64[ns]\n",
      "costs        2542 non-null float64\n",
      "dtypes: datetime64[ns](1), float64(1), int64(1)\n",
      "memory usage: 59.7 KB\n"
     ]
    }
   ],
   "source": [
    "visits_data.info()\n",
    "orders_data.info()\n",
    "costs_data.info()"
   ]
  },
  {
   "cell_type": "markdown",
   "metadata": {},
   "source": [
    "<div id='id-Анализ_данных'/>\n",
    "\n",
    "### Шаг 2. Анализ данных."
   ]
  },
  {
   "cell_type": "markdown",
   "metadata": {},
   "source": [
    "#### 1. Анализ данных по продукту:\n",
    "\n",
    "##### Сколько людей пользуются в день, неделю, месяц?\n",
    "Выделим в отдельные столбцы год, месяц, неделю и полную дату пользовательской сессии и сгруппируем по уникальным пользователям."
   ]
  },
  {
   "cell_type": "code",
   "execution_count": 14,
   "metadata": {},
   "outputs": [
    {
     "data": {
      "text/plain": [
       "907"
      ]
     },
     "metadata": {},
     "output_type": "display_data"
    },
    {
     "data": {
      "text/plain": [
       "5716"
      ]
     },
     "metadata": {},
     "output_type": "display_data"
    },
    {
     "data": {
      "text/plain": [
       "23228"
      ]
     },
     "metadata": {},
     "output_type": "display_data"
    }
   ],
   "source": [
    "visits_data['session_year']  = visits_data['start ts'].dt.year\n",
    "visits_data['session_month'] = visits_data['start ts'].dt.month\n",
    "visits_data['session_week']  = visits_data['start ts'].dt.week\n",
    "visits_data['session_date'] = visits_data['start ts'].dt.date\n",
    "\n",
    "dau_total = visits_data.groupby('session_date').agg({'uid': 'nunique'}).mean()\n",
    "wau_total = visits_data.groupby(['session_year', 'session_week']).agg({'uid': 'nunique'}).mean()\n",
    "mau_total = visits_data.groupby(['session_year', 'session_month']).agg({'uid': 'nunique'}).mean()\n",
    "display(int(dau_total))\n",
    "display(int(wau_total))\n",
    "display(int(mau_total))"
   ]
  },
  {
   "cell_type": "markdown",
   "metadata": {},
   "source": [
    "Среднее количество пользователей сайта: 907 человек в день, 5 716 человек в неделю, 23 228 человек в месяц."
   ]
  },
  {
   "cell_type": "markdown",
   "metadata": {},
   "source": [
    "Создадим таблицу уникальных пользователей"
   ]
  },
  {
   "cell_type": "code",
   "execution_count": 15,
   "metadata": {},
   "outputs": [
    {
     "name": "stdout",
     "output_type": "stream",
     "text": [
      "228169\n"
     ]
    }
   ],
   "source": [
    "unique_user = visits_data.groupby(['uid'])['start ts'].min().reset_index()\n",
    "unique_user.columns = ['customer','reg_date']\n",
    "unique_users_qty = unique_user['customer'].count()\n",
    "print(unique_users_qty)"
   ]
  },
  {
   "cell_type": "markdown",
   "metadata": {},
   "source": [
    "##### Сколько сессий в день? \n",
    "Сгруппируем по дате сессии и посчитаем количество сессий и пользователей.\n",
    "Чтобы найти среднее количество сессий в день на одного пользователя, разделим число сессий на количество пользователей в день. Для наглядности построим гистограмму количества сессий."
   ]
  },
  {
   "cell_type": "code",
   "execution_count": 16,
   "metadata": {},
   "outputs": [
    {
     "name": "stdout",
     "output_type": "stream",
     "text": [
      "Среднее кол-во сессий в день на одного пользователя:  1.08\n"
     ]
    },
    {
     "data": {
      "text/html": [
       "<div>\n",
       "<style scoped>\n",
       "    .dataframe tbody tr th:only-of-type {\n",
       "        vertical-align: middle;\n",
       "    }\n",
       "\n",
       "    .dataframe tbody tr th {\n",
       "        vertical-align: top;\n",
       "    }\n",
       "\n",
       "    .dataframe thead th {\n",
       "        text-align: right;\n",
       "    }\n",
       "</style>\n",
       "<table border=\"1\" class=\"dataframe\">\n",
       "  <thead>\n",
       "    <tr style=\"text-align: right;\">\n",
       "      <th></th>\n",
       "      <th>n_sessions</th>\n",
       "      <th>n_users</th>\n",
       "      <th>sessions_per_user</th>\n",
       "    </tr>\n",
       "    <tr>\n",
       "      <th>session_date</th>\n",
       "      <th></th>\n",
       "      <th></th>\n",
       "      <th></th>\n",
       "    </tr>\n",
       "  </thead>\n",
       "  <tbody>\n",
       "    <tr>\n",
       "      <td>2017-06-01</td>\n",
       "      <td>664</td>\n",
       "      <td>605</td>\n",
       "      <td>1.097521</td>\n",
       "    </tr>\n",
       "    <tr>\n",
       "      <td>2017-06-02</td>\n",
       "      <td>658</td>\n",
       "      <td>608</td>\n",
       "      <td>1.082237</td>\n",
       "    </tr>\n",
       "    <tr>\n",
       "      <td>2017-06-03</td>\n",
       "      <td>477</td>\n",
       "      <td>445</td>\n",
       "      <td>1.071910</td>\n",
       "    </tr>\n",
       "    <tr>\n",
       "      <td>2017-06-04</td>\n",
       "      <td>510</td>\n",
       "      <td>476</td>\n",
       "      <td>1.071429</td>\n",
       "    </tr>\n",
       "    <tr>\n",
       "      <td>2017-06-05</td>\n",
       "      <td>893</td>\n",
       "      <td>820</td>\n",
       "      <td>1.089024</td>\n",
       "    </tr>\n",
       "    <tr>\n",
       "      <td>...</td>\n",
       "      <td>...</td>\n",
       "      <td>...</td>\n",
       "      <td>...</td>\n",
       "    </tr>\n",
       "    <tr>\n",
       "      <td>2018-05-27</td>\n",
       "      <td>672</td>\n",
       "      <td>620</td>\n",
       "      <td>1.083871</td>\n",
       "    </tr>\n",
       "    <tr>\n",
       "      <td>2018-05-28</td>\n",
       "      <td>1156</td>\n",
       "      <td>1039</td>\n",
       "      <td>1.112608</td>\n",
       "    </tr>\n",
       "    <tr>\n",
       "      <td>2018-05-29</td>\n",
       "      <td>1035</td>\n",
       "      <td>948</td>\n",
       "      <td>1.091772</td>\n",
       "    </tr>\n",
       "    <tr>\n",
       "      <td>2018-05-30</td>\n",
       "      <td>1410</td>\n",
       "      <td>1289</td>\n",
       "      <td>1.093871</td>\n",
       "    </tr>\n",
       "    <tr>\n",
       "      <td>2018-05-31</td>\n",
       "      <td>2256</td>\n",
       "      <td>1997</td>\n",
       "      <td>1.129695</td>\n",
       "    </tr>\n",
       "  </tbody>\n",
       "</table>\n",
       "<p>364 rows × 3 columns</p>\n",
       "</div>"
      ],
      "text/plain": [
       "              n_sessions  n_users  sessions_per_user\n",
       "session_date                                        \n",
       "2017-06-01           664      605           1.097521\n",
       "2017-06-02           658      608           1.082237\n",
       "2017-06-03           477      445           1.071910\n",
       "2017-06-04           510      476           1.071429\n",
       "2017-06-05           893      820           1.089024\n",
       "...                  ...      ...                ...\n",
       "2018-05-27           672      620           1.083871\n",
       "2018-05-28          1156     1039           1.112608\n",
       "2018-05-29          1035      948           1.091772\n",
       "2018-05-30          1410     1289           1.093871\n",
       "2018-05-31          2256     1997           1.129695\n",
       "\n",
       "[364 rows x 3 columns]"
      ]
     },
     "metadata": {},
     "output_type": "display_data"
    },
    {
     "data": {
      "text/plain": [
       "Text(0, 0.5, 'кол-во пользователей')"
      ]
     },
     "execution_count": 16,
     "metadata": {},
     "output_type": "execute_result"
    },
    {
     "data": {
      "image/png": "[encoded data removed]",
      "text/plain": [
       "<Figure size 432x288 with 1 Axes>"
      ]
     },
     "metadata": {
      "needs_background": "light"
     },
     "output_type": "display_data"
    }
   ],
   "source": [
    "sessions_per_user = visits_data.groupby(['session_date']).agg({'uid': ['count', 'nunique']})\n",
    "sessions_per_user.columns = ['n_sessions', 'n_users']\n",
    "sessions_per_user['sessions_per_user'] = sessions_per_user['n_sessions'] / sessions_per_user['n_users']\n",
    "mean_session = sessions_per_user['sessions_per_user'].mean().round(2)\n",
    "print('Среднее кол-во сессий в день на одного пользователя: ', mean_session)\n",
    "display(sessions_per_user)\n",
    "sessions_per_user['sessions_per_user'].hist(bins=50)\n",
    "plt.title(\"Количество сессий в день\")\n",
    "plt.xlabel(\"кол-во сессий\")\n",
    "plt.ylabel(\"кол-во пользователей\")"
   ]
  },
  {
   "cell_type": "markdown",
   "metadata": {},
   "source": [
    "В среднем, один пользователь проводит 1(одну) сессию в день на сайте Яндекс.Афиша. Это хороший показатель, т.к. он может означать, что пользователь посещает сайт ежедневно."
   ]
  },
  {
   "cell_type": "markdown",
   "metadata": {},
   "source": [
    "##### Сколько длится одна сессия?\n",
    "Найдем среднюю продолжительность сессии или ASL в секундах. Построим гистограмму продолжительности сессии."
   ]
  },
  {
   "cell_type": "code",
   "execution_count": 17,
   "metadata": {},
   "outputs": [
    {
     "name": "stdout",
     "output_type": "stream",
     "text": [
      "ASL:  0    60\n",
      "dtype: int64\n",
      "Средняя продолжительность сессии:  643.51\n",
      "Медианная продолжительность сессии:  300.0\n"
     ]
    },
    {
     "data": {
      "image/png": "[encoded data removed]",
      "text/plain": [
       "<Figure size 432x288 with 1 Axes>"
      ]
     },
     "metadata": {
      "needs_background": "light"
     },
     "output_type": "display_data"
    }
   ],
   "source": [
    "visits_data['session_duration'] = (visits_data['end ts'] - visits_data['start ts']).dt.seconds\n",
    "visits_data['session_duration'].hist(bins=50, range=(0,1500))\n",
    "plt.title(\"Ср.продолжительность сессии\")\n",
    "plt.xlabel(\"продолжительность, сек.\")\n",
    "plt.ylabel(\"кол-во пользователей\")\n",
    "asl = visits_data['session_duration'].mode()\n",
    "print('ASL: ', asl)\n",
    "session_mean = visits_data['session_duration'].mean().round(2)\n",
    "print('Средняя продолжительность сессии: ', session_mean)\n",
    "session_median = visits_data['session_duration'].median()\n",
    "print('Медианная продолжительность сессии: ', session_median)"
   ]
  },
  {
   "cell_type": "markdown",
   "metadata": {},
   "source": [
    "##### Как часто люди возвращаются?\n",
    "Рассчитаем \"коэффициент удержания\" или Retention Rate по формуле: кол-во активных пользователей на n-ый lifetime / кол-во активных пользователей на 0 lifetime * 100%. \n",
    "Для этого сформируем когорты по месяцам активности и рассчитаем lifetime."
   ]
  },
  {
   "cell_type": "code",
   "execution_count": 18,
   "metadata": {},
   "outputs": [],
   "source": [
    "first_activity_date = visits_data.groupby(['uid'])['start ts'].min()\n",
    "first_activity_date.name = 'first_activity_date'\n",
    "visits_data = visits_data.merge(first_activity_date, on='uid', how='left')\n",
    "visits_data['activity_month'] = visits_data['start ts'].astype('datetime64[M]')\n",
    "visits_data['first_activity_month'] = visits_data['first_activity_date'].astype('datetime64[M]')\n",
    "visits_data['cohort_lifetime'] = visits_data['activity_month'] - visits_data['first_activity_month']\n",
    "visits_data['cohort_lifetime'] = (visits_data['cohort_lifetime'] / np.timedelta64(1,'M')).round().astype('int')\n",
    "\n",
    "visits_data['first_activity_month'] = pd.to_datetime(visits_data['first_activity_month'], format = '%Y-%m-%d %H:%M')\n",
    "visits_data['first_activity_month'] = visits_data['first_activity_month'].dt.date\n",
    "visits_data['first_activity_date'] = pd.to_datetime(visits_data['first_activity_date'], format = '%Y-%m-%d %H:%M')"
   ]
  },
  {
   "cell_type": "markdown",
   "metadata": {},
   "source": [
    "Сгруппируем данные по когорте и определим в ней пользователей для каждой недели lifetime.\n",
    "Найдем исходное количество пользователей. "
   ]
  },
  {
   "cell_type": "code",
   "execution_count": 19,
   "metadata": {},
   "outputs": [],
   "source": [
    "cohorts = visits_data.groupby(['first_activity_month','cohort_lifetime']).agg({'uid':'nunique'}).reset_index()\n",
    "initial_users_count = cohorts[cohorts['cohort_lifetime'] == 0][['first_activity_month','uid']]\n",
    "initial_users_count = initial_users_count.rename(columns={'uid':'cohort_users'})\n",
    "cohorts = cohorts.merge(initial_users_count,on='first_activity_month')\n"
   ]
  },
  {
   "cell_type": "markdown",
   "metadata": {},
   "source": [
    "Рассчитаем Retention Rate. Для этого разделим количество пользователей в каждую последующую неделю на исходное количество пользователей в когорте и построим сводную таблицу со значением Retention Rate."
   ]
  },
  {
   "cell_type": "code",
   "execution_count": 20,
   "metadata": {},
   "outputs": [],
   "source": [
    "cohorts['retention_rate'] = cohorts['uid'] / cohorts['cohort_users']\n",
    "retention_pivot = cohorts.pivot_table(index='first_activity_month',columns='cohort_lifetime',values='retention_rate',aggfunc='sum').round(2)\n",
    "#display(retention_pivot)"
   ]
  },
  {
   "cell_type": "code",
   "execution_count": 21,
   "metadata": {},
   "outputs": [
    {
     "data": {
      "text/html": [
       "<div>\n",
       "<style scoped>\n",
       "    .dataframe tbody tr th:only-of-type {\n",
       "        vertical-align: middle;\n",
       "    }\n",
       "\n",
       "    .dataframe tbody tr th {\n",
       "        vertical-align: top;\n",
       "    }\n",
       "\n",
       "    .dataframe thead th {\n",
       "        text-align: right;\n",
       "    }\n",
       "</style>\n",
       "<table border=\"1\" class=\"dataframe\">\n",
       "  <thead>\n",
       "    <tr style=\"text-align: right;\">\n",
       "      <th>cohort_lifetime</th>\n",
       "      <th>0</th>\n",
       "      <th>1</th>\n",
       "      <th>2</th>\n",
       "      <th>3</th>\n",
       "      <th>4</th>\n",
       "      <th>5</th>\n",
       "      <th>6</th>\n",
       "      <th>7</th>\n",
       "      <th>8</th>\n",
       "      <th>9</th>\n",
       "      <th>10</th>\n",
       "      <th>11</th>\n",
       "    </tr>\n",
       "    <tr>\n",
       "      <th>first_activity_month</th>\n",
       "      <th></th>\n",
       "      <th></th>\n",
       "      <th></th>\n",
       "      <th></th>\n",
       "      <th></th>\n",
       "      <th></th>\n",
       "      <th></th>\n",
       "      <th></th>\n",
       "      <th></th>\n",
       "      <th></th>\n",
       "      <th></th>\n",
       "      <th></th>\n",
       "    </tr>\n",
       "  </thead>\n",
       "  <tbody>\n",
       "    <tr>\n",
       "      <td>2017-06-01</td>\n",
       "      <td>1.0</td>\n",
       "      <td>0.08</td>\n",
       "      <td>0.05</td>\n",
       "      <td>0.06</td>\n",
       "      <td>0.07</td>\n",
       "      <td>0.07</td>\n",
       "      <td>0.06</td>\n",
       "      <td>0.06</td>\n",
       "      <td>0.05</td>\n",
       "      <td>0.05</td>\n",
       "      <td>0.04</td>\n",
       "      <td>0.04</td>\n",
       "    </tr>\n",
       "    <tr>\n",
       "      <td>2017-07-01</td>\n",
       "      <td>1.0</td>\n",
       "      <td>0.06</td>\n",
       "      <td>0.05</td>\n",
       "      <td>0.06</td>\n",
       "      <td>0.06</td>\n",
       "      <td>0.05</td>\n",
       "      <td>0.05</td>\n",
       "      <td>0.05</td>\n",
       "      <td>0.04</td>\n",
       "      <td>0.03</td>\n",
       "      <td>0.03</td>\n",
       "      <td></td>\n",
       "    </tr>\n",
       "    <tr>\n",
       "      <td>2017-08-01</td>\n",
       "      <td>1.0</td>\n",
       "      <td>0.08</td>\n",
       "      <td>0.06</td>\n",
       "      <td>0.06</td>\n",
       "      <td>0.05</td>\n",
       "      <td>0.04</td>\n",
       "      <td>0.04</td>\n",
       "      <td>0.04</td>\n",
       "      <td>0.03</td>\n",
       "      <td>0.03</td>\n",
       "      <td></td>\n",
       "      <td></td>\n",
       "    </tr>\n",
       "    <tr>\n",
       "      <td>2017-09-01</td>\n",
       "      <td>1.0</td>\n",
       "      <td>0.09</td>\n",
       "      <td>0.07</td>\n",
       "      <td>0.05</td>\n",
       "      <td>0.04</td>\n",
       "      <td>0.04</td>\n",
       "      <td>0.04</td>\n",
       "      <td>0.02</td>\n",
       "      <td>0.02</td>\n",
       "      <td></td>\n",
       "      <td></td>\n",
       "      <td></td>\n",
       "    </tr>\n",
       "    <tr>\n",
       "      <td>2017-10-01</td>\n",
       "      <td>1.0</td>\n",
       "      <td>0.08</td>\n",
       "      <td>0.05</td>\n",
       "      <td>0.04</td>\n",
       "      <td>0.03</td>\n",
       "      <td>0.03</td>\n",
       "      <td>0.02</td>\n",
       "      <td>0.02</td>\n",
       "      <td></td>\n",
       "      <td></td>\n",
       "      <td></td>\n",
       "      <td></td>\n",
       "    </tr>\n",
       "    <tr>\n",
       "      <td>2017-11-01</td>\n",
       "      <td>1.0</td>\n",
       "      <td>0.08</td>\n",
       "      <td>0.04</td>\n",
       "      <td>0.04</td>\n",
       "      <td>0.03</td>\n",
       "      <td>0.02</td>\n",
       "      <td>0.02</td>\n",
       "      <td></td>\n",
       "      <td></td>\n",
       "      <td></td>\n",
       "      <td></td>\n",
       "      <td></td>\n",
       "    </tr>\n",
       "    <tr>\n",
       "      <td>2017-12-01</td>\n",
       "      <td>1.0</td>\n",
       "      <td>0.06</td>\n",
       "      <td>0.04</td>\n",
       "      <td>0.03</td>\n",
       "      <td>0.02</td>\n",
       "      <td>0.02</td>\n",
       "      <td></td>\n",
       "      <td></td>\n",
       "      <td></td>\n",
       "      <td></td>\n",
       "      <td></td>\n",
       "      <td></td>\n",
       "    </tr>\n",
       "    <tr>\n",
       "      <td>2018-01-01</td>\n",
       "      <td>1.0</td>\n",
       "      <td>0.06</td>\n",
       "      <td>0.04</td>\n",
       "      <td>0.02</td>\n",
       "      <td>0.02</td>\n",
       "      <td></td>\n",
       "      <td></td>\n",
       "      <td></td>\n",
       "      <td></td>\n",
       "      <td></td>\n",
       "      <td></td>\n",
       "      <td></td>\n",
       "    </tr>\n",
       "    <tr>\n",
       "      <td>2018-02-01</td>\n",
       "      <td>1.0</td>\n",
       "      <td>0.06</td>\n",
       "      <td>0.03</td>\n",
       "      <td>0.02</td>\n",
       "      <td></td>\n",
       "      <td></td>\n",
       "      <td></td>\n",
       "      <td></td>\n",
       "      <td></td>\n",
       "      <td></td>\n",
       "      <td></td>\n",
       "      <td></td>\n",
       "    </tr>\n",
       "    <tr>\n",
       "      <td>2018-03-01</td>\n",
       "      <td>1.0</td>\n",
       "      <td>0.04</td>\n",
       "      <td>0.03</td>\n",
       "      <td></td>\n",
       "      <td></td>\n",
       "      <td></td>\n",
       "      <td></td>\n",
       "      <td></td>\n",
       "      <td></td>\n",
       "      <td></td>\n",
       "      <td></td>\n",
       "      <td></td>\n",
       "    </tr>\n",
       "    <tr>\n",
       "      <td>2018-04-01</td>\n",
       "      <td>1.0</td>\n",
       "      <td>0.05</td>\n",
       "      <td></td>\n",
       "      <td></td>\n",
       "      <td></td>\n",
       "      <td></td>\n",
       "      <td></td>\n",
       "      <td></td>\n",
       "      <td></td>\n",
       "      <td></td>\n",
       "      <td></td>\n",
       "      <td></td>\n",
       "    </tr>\n",
       "    <tr>\n",
       "      <td>2018-05-01</td>\n",
       "      <td>1.0</td>\n",
       "      <td></td>\n",
       "      <td></td>\n",
       "      <td></td>\n",
       "      <td></td>\n",
       "      <td></td>\n",
       "      <td></td>\n",
       "      <td></td>\n",
       "      <td></td>\n",
       "      <td></td>\n",
       "      <td></td>\n",
       "      <td></td>\n",
       "    </tr>\n",
       "  </tbody>\n",
       "</table>\n",
       "</div>"
      ],
      "text/plain": [
       "cohort_lifetime        0     1     2     3     4     5     6     7     8   \\\n",
       "first_activity_month                                                        \n",
       "2017-06-01            1.0  0.08  0.05  0.06  0.07  0.07  0.06  0.06  0.05   \n",
       "2017-07-01            1.0  0.06  0.05  0.06  0.06  0.05  0.05  0.05  0.04   \n",
       "2017-08-01            1.0  0.08  0.06  0.06  0.05  0.04  0.04  0.04  0.03   \n",
       "2017-09-01            1.0  0.09  0.07  0.05  0.04  0.04  0.04  0.02  0.02   \n",
       "2017-10-01            1.0  0.08  0.05  0.04  0.03  0.03  0.02  0.02         \n",
       "2017-11-01            1.0  0.08  0.04  0.04  0.03  0.02  0.02               \n",
       "2017-12-01            1.0  0.06  0.04  0.03  0.02  0.02                     \n",
       "2018-01-01            1.0  0.06  0.04  0.02  0.02                           \n",
       "2018-02-01            1.0  0.06  0.03  0.02                                 \n",
       "2018-03-01            1.0  0.04  0.03                                       \n",
       "2018-04-01            1.0  0.05                                             \n",
       "2018-05-01            1.0                                                   \n",
       "\n",
       "cohort_lifetime         9     10    11  \n",
       "first_activity_month                    \n",
       "2017-06-01            0.05  0.04  0.04  \n",
       "2017-07-01            0.03  0.03        \n",
       "2017-08-01            0.03              \n",
       "2017-09-01                              \n",
       "2017-10-01                              \n",
       "2017-11-01                              \n",
       "2017-12-01                              \n",
       "2018-01-01                              \n",
       "2018-02-01                              \n",
       "2018-03-01                              \n",
       "2018-04-01                              \n",
       "2018-05-01                              "
      ]
     },
     "execution_count": 21,
     "metadata": {},
     "output_type": "execute_result"
    }
   ],
   "source": [
    "retention_pivot.fillna(' ')"
   ]
  },
  {
   "cell_type": "markdown",
   "metadata": {},
   "source": [
    "Построим тепловую карту для наглядности Retention Rate"
   ]
  },
  {
   "cell_type": "code",
   "execution_count": 22,
   "metadata": {},
   "outputs": [
    {
     "data": {
      "text/plain": [
       "<matplotlib.axes._subplots.AxesSubplot at 0x7fdf91734550>"
      ]
     },
     "execution_count": 22,
     "metadata": {},
     "output_type": "execute_result"
    },
    {
     "data": {
      "image/png": "[encoded data removed]",
      "text/plain": [
       "<Figure size 1152x576 with 2 Axes>"
      ]
     },
     "metadata": {},
     "output_type": "display_data"
    }
   ],
   "source": [
    "sns.set(style='white')\n",
    "plt.figure(figsize=(16, 8))\n",
    "plt.title('Коэффициент удержания для Яндекс.Афиша июнь 2017-май 2018')\n",
    "sns.heatmap(retention_pivot, annot=True, fmt='.1%', vmin=-0.05, vmax=0.05, center= 0, cmap= 'tab20', linewidths=1, linecolor='gray')"
   ]
  },
  {
   "cell_type": "markdown",
   "metadata": {},
   "source": [
    "Согласно тепловой карте Retention Rate убывает и горизонтально по всем 12 периодам lifetime, и вертикально вниз по недельным когортам. От первой когорты 01.06.2017 - 01.07.2017 до последней 01.05.18-31.05.18 коэффициент упал с 7,9% до 4,8%, причем на самой первом месяце жизни всех когорт. С каждой новой когортой возвращается все меньше пользователей. После прохождения половины срока жизни когорты (около 6 месяцев) в среднем возвращается около 4% пользователей. Возможно, необходимо детальнее сравнить, с какого устройства пользователи чаще пользуются сервисом, может быть, есть существенная разница в удобстве мобильной и настольной версии."
   ]
  },
  {
   "cell_type": "markdown",
   "metadata": {},
   "source": [
    "####  2. Продажи\n",
    "##### Когда люди начинают покупать?\n",
    "\n",
    "Необходимо исследовать поведение пользователя при заказе. Как быстро пользователь начинает делать заказ после первичного посещения? Какова продолжительность сессии при заказе? На каком периоде lifetime пользователь готов к покупкам?\n",
    "\n",
    "\n"
   ]
  },
  {
   "cell_type": "markdown",
   "metadata": {},
   "source": [
    "Узнаем количество уникальных покупателей"
   ]
  },
  {
   "cell_type": "code",
   "execution_count": 23,
   "metadata": {},
   "outputs": [
    {
     "name": "stdout",
     "output_type": "stream",
     "text": [
      "Кол-во уникальных покупателей: 36523\n"
     ]
    }
   ],
   "source": [
    "unique_purchaser = orders_data.groupby(['uid'])['buy ts'].min().reset_index()\n",
    "unique_purchaser.columns = ['purchaser','buy_date']\n",
    "print('Кол-во уникальных покупателей:', unique_purchaser['purchaser'].count())"
   ]
  },
  {
   "cell_type": "markdown",
   "metadata": {},
   "source": [
    "Объединим датасеты visits_data  и orders_data в общий датасет по пользователям users."
   ]
  },
  {
   "cell_type": "code",
   "execution_count": 172,
   "metadata": {},
   "outputs": [
    {
     "data": {
      "text/html": [
       "<div>\n",
       "<style scoped>\n",
       "    .dataframe tbody tr th:only-of-type {\n",
       "        vertical-align: middle;\n",
       "    }\n",
       "\n",
       "    .dataframe tbody tr th {\n",
       "        vertical-align: top;\n",
       "    }\n",
       "\n",
       "    .dataframe thead th {\n",
       "        text-align: right;\n",
       "    }\n",
       "</style>\n",
       "<table border=\"1\" class=\"dataframe\">\n",
       "  <thead>\n",
       "    <tr style=\"text-align: right;\">\n",
       "      <th></th>\n",
       "      <th>device</th>\n",
       "      <th>end ts</th>\n",
       "      <th>source id</th>\n",
       "      <th>start ts</th>\n",
       "      <th>uid</th>\n",
       "      <th>session_year</th>\n",
       "      <th>session_month</th>\n",
       "      <th>session_week</th>\n",
       "      <th>session_date</th>\n",
       "      <th>session_duration</th>\n",
       "      <th>first_activity_date</th>\n",
       "      <th>activity_month</th>\n",
       "      <th>first_activity_month</th>\n",
       "      <th>cohort_lifetime</th>\n",
       "      <th>buy ts</th>\n",
       "      <th>revenue</th>\n",
       "    </tr>\n",
       "  </thead>\n",
       "  <tbody>\n",
       "    <tr>\n",
       "      <td>0</td>\n",
       "      <td>desktop</td>\n",
       "      <td>2018-05-20 11:23:00</td>\n",
       "      <td>9</td>\n",
       "      <td>2018-05-20 10:59:00</td>\n",
       "      <td>16174680259334210214</td>\n",
       "      <td>2018</td>\n",
       "      <td>5</td>\n",
       "      <td>20</td>\n",
       "      <td>2018-05-20</td>\n",
       "      <td>1440</td>\n",
       "      <td>2018-03-09 20:05:00</td>\n",
       "      <td>2018-05-01</td>\n",
       "      <td>2018-03-01</td>\n",
       "      <td>2</td>\n",
       "      <td>2018-03-09 20:25:00</td>\n",
       "      <td>2.33</td>\n",
       "    </tr>\n",
       "    <tr>\n",
       "      <td>1</td>\n",
       "      <td>desktop</td>\n",
       "      <td>2018-03-09 20:33:00</td>\n",
       "      <td>4</td>\n",
       "      <td>2018-03-09 20:05:00</td>\n",
       "      <td>16174680259334210214</td>\n",
       "      <td>2018</td>\n",
       "      <td>3</td>\n",
       "      <td>10</td>\n",
       "      <td>2018-03-09</td>\n",
       "      <td>1680</td>\n",
       "      <td>2018-03-09 20:05:00</td>\n",
       "      <td>2018-03-01</td>\n",
       "      <td>2018-03-01</td>\n",
       "      <td>0</td>\n",
       "      <td>2018-03-09 20:25:00</td>\n",
       "      <td>2.33</td>\n",
       "    </tr>\n",
       "    <tr>\n",
       "      <td>2</td>\n",
       "      <td>desktop</td>\n",
       "      <td>2017-09-03 21:36:00</td>\n",
       "      <td>5</td>\n",
       "      <td>2017-09-03 21:35:00</td>\n",
       "      <td>16007536194108375387</td>\n",
       "      <td>2017</td>\n",
       "      <td>9</td>\n",
       "      <td>35</td>\n",
       "      <td>2017-09-03</td>\n",
       "      <td>60</td>\n",
       "      <td>2017-09-03 21:35:00</td>\n",
       "      <td>2017-09-01</td>\n",
       "      <td>2017-09-01</td>\n",
       "      <td>0</td>\n",
       "      <td>2017-09-04 12:46:00</td>\n",
       "      <td>2.44</td>\n",
       "    </tr>\n",
       "    <tr>\n",
       "      <td>3</td>\n",
       "      <td>desktop</td>\n",
       "      <td>2017-09-03 21:36:00</td>\n",
       "      <td>5</td>\n",
       "      <td>2017-09-03 21:35:00</td>\n",
       "      <td>16007536194108375387</td>\n",
       "      <td>2017</td>\n",
       "      <td>9</td>\n",
       "      <td>35</td>\n",
       "      <td>2017-09-03</td>\n",
       "      <td>60</td>\n",
       "      <td>2017-09-03 21:35:00</td>\n",
       "      <td>2017-09-01</td>\n",
       "      <td>2017-09-01</td>\n",
       "      <td>0</td>\n",
       "      <td>2017-10-28 00:01:00</td>\n",
       "      <td>1.53</td>\n",
       "    </tr>\n",
       "    <tr>\n",
       "      <td>4</td>\n",
       "      <td>desktop</td>\n",
       "      <td>2017-09-03 21:36:00</td>\n",
       "      <td>5</td>\n",
       "      <td>2017-09-03 21:35:00</td>\n",
       "      <td>16007536194108375387</td>\n",
       "      <td>2017</td>\n",
       "      <td>9</td>\n",
       "      <td>35</td>\n",
       "      <td>2017-09-03</td>\n",
       "      <td>60</td>\n",
       "      <td>2017-09-03 21:35:00</td>\n",
       "      <td>2017-09-01</td>\n",
       "      <td>2017-09-01</td>\n",
       "      <td>0</td>\n",
       "      <td>2017-10-28 19:16:00</td>\n",
       "      <td>1.53</td>\n",
       "    </tr>\n",
       "  </tbody>\n",
       "</table>\n",
       "</div>"
      ],
      "text/plain": [
       "    device              end ts  source id            start ts  \\\n",
       "0  desktop 2018-05-20 11:23:00          9 2018-05-20 10:59:00   \n",
       "1  desktop 2018-03-09 20:33:00          4 2018-03-09 20:05:00   \n",
       "2  desktop 2017-09-03 21:36:00          5 2017-09-03 21:35:00   \n",
       "3  desktop 2017-09-03 21:36:00          5 2017-09-03 21:35:00   \n",
       "4  desktop 2017-09-03 21:36:00          5 2017-09-03 21:35:00   \n",
       "\n",
       "                    uid  session_year  session_month  session_week  \\\n",
       "0  16174680259334210214          2018              5            20   \n",
       "1  16174680259334210214          2018              3            10   \n",
       "2  16007536194108375387          2017              9            35   \n",
       "3  16007536194108375387          2017              9            35   \n",
       "4  16007536194108375387          2017              9            35   \n",
       "\n",
       "  session_date  session_duration first_activity_date activity_month  \\\n",
       "0   2018-05-20              1440 2018-03-09 20:05:00     2018-05-01   \n",
       "1   2018-03-09              1680 2018-03-09 20:05:00     2018-03-01   \n",
       "2   2017-09-03                60 2017-09-03 21:35:00     2017-09-01   \n",
       "3   2017-09-03                60 2017-09-03 21:35:00     2017-09-01   \n",
       "4   2017-09-03                60 2017-09-03 21:35:00     2017-09-01   \n",
       "\n",
       "  first_activity_month  cohort_lifetime              buy ts  revenue  \n",
       "0           2018-03-01                2 2018-03-09 20:25:00     2.33  \n",
       "1           2018-03-01                0 2018-03-09 20:25:00     2.33  \n",
       "2           2017-09-01                0 2017-09-04 12:46:00     2.44  \n",
       "3           2017-09-01                0 2017-10-28 00:01:00     1.53  \n",
       "4           2017-09-01                0 2017-10-28 19:16:00     1.53  "
      ]
     },
     "metadata": {},
     "output_type": "display_data"
    }
   ],
   "source": [
    "users = visits_data.merge(orders_data, on='uid')\n",
    "display(users.head())\n"
   ]
  },
  {
   "cell_type": "markdown",
   "metadata": {},
   "source": [
    "Найдем разницу между первым посещением и первым заказом на сайте.\n",
    "Создадим отдельный столбец с разницей между двумя датами в днях."
   ]
  },
  {
   "cell_type": "code",
   "execution_count": 275,
   "metadata": {},
   "outputs": [
    {
     "data": {
      "text/html": [
       "<div>\n",
       "<style scoped>\n",
       "    .dataframe tbody tr th:only-of-type {\n",
       "        vertical-align: middle;\n",
       "    }\n",
       "\n",
       "    .dataframe tbody tr th {\n",
       "        vertical-align: top;\n",
       "    }\n",
       "\n",
       "    .dataframe thead th {\n",
       "        text-align: right;\n",
       "    }\n",
       "</style>\n",
       "<table border=\"1\" class=\"dataframe\">\n",
       "  <thead>\n",
       "    <tr style=\"text-align: right;\">\n",
       "      <th></th>\n",
       "      <th>device</th>\n",
       "      <th>end ts</th>\n",
       "      <th>source id</th>\n",
       "      <th>start ts</th>\n",
       "      <th>uid</th>\n",
       "      <th>session_year</th>\n",
       "      <th>session_month</th>\n",
       "      <th>session_week</th>\n",
       "      <th>session_date</th>\n",
       "      <th>session_duration</th>\n",
       "      <th>...</th>\n",
       "      <th>activity_month</th>\n",
       "      <th>first_activity_month</th>\n",
       "      <th>cohort_lifetime</th>\n",
       "      <th>buy ts</th>\n",
       "      <th>revenue</th>\n",
       "      <th>buy_day</th>\n",
       "      <th>first_day</th>\n",
       "      <th>visit_order_dif</th>\n",
       "      <th>first_order_date</th>\n",
       "      <th>first_order_month</th>\n",
       "    </tr>\n",
       "  </thead>\n",
       "  <tbody>\n",
       "    <tr>\n",
       "      <td>0</td>\n",
       "      <td>desktop</td>\n",
       "      <td>2018-05-20 11:23:00</td>\n",
       "      <td>9</td>\n",
       "      <td>2018-05-20 10:59:00</td>\n",
       "      <td>16174680259334210214</td>\n",
       "      <td>2018</td>\n",
       "      <td>5</td>\n",
       "      <td>20</td>\n",
       "      <td>2018-05-20</td>\n",
       "      <td>1440</td>\n",
       "      <td>...</td>\n",
       "      <td>2018-05-01</td>\n",
       "      <td>2018-03-01</td>\n",
       "      <td>2</td>\n",
       "      <td>2018-03-09 20:25:00</td>\n",
       "      <td>2.33</td>\n",
       "      <td>2018-03-05 20:25:00</td>\n",
       "      <td>2018-03-05 20:05:00</td>\n",
       "      <td>0</td>\n",
       "      <td>2018-03-09 20:25:00</td>\n",
       "      <td>2018-03-01</td>\n",
       "    </tr>\n",
       "    <tr>\n",
       "      <td>1</td>\n",
       "      <td>desktop</td>\n",
       "      <td>2018-03-09 20:33:00</td>\n",
       "      <td>4</td>\n",
       "      <td>2018-03-09 20:05:00</td>\n",
       "      <td>16174680259334210214</td>\n",
       "      <td>2018</td>\n",
       "      <td>3</td>\n",
       "      <td>10</td>\n",
       "      <td>2018-03-09</td>\n",
       "      <td>1680</td>\n",
       "      <td>...</td>\n",
       "      <td>2018-03-01</td>\n",
       "      <td>2018-03-01</td>\n",
       "      <td>0</td>\n",
       "      <td>2018-03-09 20:25:00</td>\n",
       "      <td>2.33</td>\n",
       "      <td>2018-03-05 20:25:00</td>\n",
       "      <td>2018-03-05 20:05:00</td>\n",
       "      <td>0</td>\n",
       "      <td>2018-03-09 20:25:00</td>\n",
       "      <td>2018-03-01</td>\n",
       "    </tr>\n",
       "    <tr>\n",
       "      <td>2</td>\n",
       "      <td>desktop</td>\n",
       "      <td>2017-09-03 21:36:00</td>\n",
       "      <td>5</td>\n",
       "      <td>2017-09-03 21:35:00</td>\n",
       "      <td>16007536194108375387</td>\n",
       "      <td>2017</td>\n",
       "      <td>9</td>\n",
       "      <td>35</td>\n",
       "      <td>2017-09-03</td>\n",
       "      <td>60</td>\n",
       "      <td>...</td>\n",
       "      <td>2017-09-01</td>\n",
       "      <td>2017-09-01</td>\n",
       "      <td>0</td>\n",
       "      <td>2017-09-04 12:46:00</td>\n",
       "      <td>2.44</td>\n",
       "      <td>2017-09-04 12:46:00</td>\n",
       "      <td>2017-08-28 21:35:00</td>\n",
       "      <td>6</td>\n",
       "      <td>2017-09-04 12:46:00</td>\n",
       "      <td>2017-09-01</td>\n",
       "    </tr>\n",
       "    <tr>\n",
       "      <td>3</td>\n",
       "      <td>desktop</td>\n",
       "      <td>2017-09-03 21:36:00</td>\n",
       "      <td>5</td>\n",
       "      <td>2017-09-03 21:35:00</td>\n",
       "      <td>16007536194108375387</td>\n",
       "      <td>2017</td>\n",
       "      <td>9</td>\n",
       "      <td>35</td>\n",
       "      <td>2017-09-03</td>\n",
       "      <td>60</td>\n",
       "      <td>...</td>\n",
       "      <td>2017-09-01</td>\n",
       "      <td>2017-09-01</td>\n",
       "      <td>0</td>\n",
       "      <td>2017-10-28 00:01:00</td>\n",
       "      <td>1.53</td>\n",
       "      <td>2017-10-23 00:01:00</td>\n",
       "      <td>2017-08-28 21:35:00</td>\n",
       "      <td>55</td>\n",
       "      <td>2017-09-04 12:46:00</td>\n",
       "      <td>2017-09-01</td>\n",
       "    </tr>\n",
       "    <tr>\n",
       "      <td>4</td>\n",
       "      <td>desktop</td>\n",
       "      <td>2017-09-03 21:36:00</td>\n",
       "      <td>5</td>\n",
       "      <td>2017-09-03 21:35:00</td>\n",
       "      <td>16007536194108375387</td>\n",
       "      <td>2017</td>\n",
       "      <td>9</td>\n",
       "      <td>35</td>\n",
       "      <td>2017-09-03</td>\n",
       "      <td>60</td>\n",
       "      <td>...</td>\n",
       "      <td>2017-09-01</td>\n",
       "      <td>2017-09-01</td>\n",
       "      <td>0</td>\n",
       "      <td>2017-10-28 19:16:00</td>\n",
       "      <td>1.53</td>\n",
       "      <td>2017-10-23 19:16:00</td>\n",
       "      <td>2017-08-28 21:35:00</td>\n",
       "      <td>55</td>\n",
       "      <td>2017-09-04 12:46:00</td>\n",
       "      <td>2017-09-01</td>\n",
       "    </tr>\n",
       "  </tbody>\n",
       "</table>\n",
       "<p>5 rows × 21 columns</p>\n",
       "</div>"
      ],
      "text/plain": [
       "    device              end ts  source id            start ts  \\\n",
       "0  desktop 2018-05-20 11:23:00          9 2018-05-20 10:59:00   \n",
       "1  desktop 2018-03-09 20:33:00          4 2018-03-09 20:05:00   \n",
       "2  desktop 2017-09-03 21:36:00          5 2017-09-03 21:35:00   \n",
       "3  desktop 2017-09-03 21:36:00          5 2017-09-03 21:35:00   \n",
       "4  desktop 2017-09-03 21:36:00          5 2017-09-03 21:35:00   \n",
       "\n",
       "                    uid  session_year  session_month  session_week  \\\n",
       "0  16174680259334210214          2018              5            20   \n",
       "1  16174680259334210214          2018              3            10   \n",
       "2  16007536194108375387          2017              9            35   \n",
       "3  16007536194108375387          2017              9            35   \n",
       "4  16007536194108375387          2017              9            35   \n",
       "\n",
       "  session_date  session_duration  ... activity_month first_activity_month  \\\n",
       "0   2018-05-20              1440  ...     2018-05-01           2018-03-01   \n",
       "1   2018-03-09              1680  ...     2018-03-01           2018-03-01   \n",
       "2   2017-09-03                60  ...     2017-09-01           2017-09-01   \n",
       "3   2017-09-03                60  ...     2017-09-01           2017-09-01   \n",
       "4   2017-09-03                60  ...     2017-09-01           2017-09-01   \n",
       "\n",
       "  cohort_lifetime              buy ts revenue             buy_day  \\\n",
       "0               2 2018-03-09 20:25:00    2.33 2018-03-05 20:25:00   \n",
       "1               0 2018-03-09 20:25:00    2.33 2018-03-05 20:25:00   \n",
       "2               0 2017-09-04 12:46:00    2.44 2017-09-04 12:46:00   \n",
       "3               0 2017-10-28 00:01:00    1.53 2017-10-23 00:01:00   \n",
       "4               0 2017-10-28 19:16:00    1.53 2017-10-23 19:16:00   \n",
       "\n",
       "            first_day visit_order_dif    first_order_date first_order_month  \n",
       "0 2018-03-05 20:05:00               0 2018-03-09 20:25:00        2018-03-01  \n",
       "1 2018-03-05 20:05:00               0 2018-03-09 20:25:00        2018-03-01  \n",
       "2 2017-08-28 21:35:00               6 2017-09-04 12:46:00        2017-09-01  \n",
       "3 2017-08-28 21:35:00              55 2017-09-04 12:46:00        2017-09-01  \n",
       "4 2017-08-28 21:35:00              55 2017-09-04 12:46:00        2017-09-01  \n",
       "\n",
       "[5 rows x 21 columns]"
      ]
     },
     "metadata": {},
     "output_type": "display_data"
    }
   ],
   "source": [
    "users['buy_day'] = pd.to_datetime(users['buy ts'], unit='d') - pd.to_timedelta(users['buy ts'].dt.dayofweek,  unit='d')\n",
    "users['first_day'] = pd.to_datetime(users['first_activity_date'], unit='d') - pd.to_timedelta(users['first_activity_date'].dt.dayofweek, unit='d')\n",
    "users['visit_order_dif'] = users['buy_day'] - users['first_day']\n",
    "users['visit_order_dif'] = users['visit_order_dif'] / np.timedelta64(1,'D')\n",
    "users['visit_order_dif'] = users['visit_order_dif'].astype('int')\n",
    "first_order_date = users.groupby('uid')['buy ts'].min()\n",
    "first_order_date.name = 'first_order_date'\n",
    "users = users.merge(first_order_date,on='uid')\n",
    "users['first_order_month'] = users['first_order_date'].astype('datetime64[M]')\n",
    "display(users.head())"
   ]
  },
  {
   "cell_type": "markdown",
   "metadata": {},
   "source": [
    "Выясним, в какой период заказывает большинство пользователей"
   ]
  },
  {
   "cell_type": "code",
   "execution_count": 174,
   "metadata": {},
   "outputs": [
    {
     "data": {
      "text/plain": [
       "<matplotlib.axes._subplots.AxesSubplot at 0x7f77435db1d0>"
      ]
     },
     "execution_count": 174,
     "metadata": {},
     "output_type": "execute_result"
    },
    {
     "data": {
      "image/png": "[encoded data removed]",
      "text/plain": [
       "<Figure size 432x288 with 1 Axes>"
      ]
     },
     "metadata": {},
     "output_type": "display_data"
    }
   ],
   "source": [
    "users['visit_order_dif'].hist(bins=30)"
   ]
  },
  {
   "cell_type": "markdown",
   "metadata": {},
   "source": [
    "Интересно узнать, как долго проводит заказывающий пользователь на сайте, сколько может быть у него сессий в день."
   ]
  },
  {
   "cell_type": "code",
   "execution_count": 175,
   "metadata": {},
   "outputs": [
    {
     "name": "stdout",
     "output_type": "stream",
     "text": [
      "Ср.продолжительность сессии у заказывающего пользователя в секундах:  1259\n",
      "Ср.кол-во сессий в день на заказывающего пользователя:  9\n"
     ]
    }
   ],
   "source": [
    "session_order = users.query('revenue > 0')\n",
    "sessions_order_per_user= session_order.groupby(['session_date']).agg({'uid': ['count', 'nunique']})\n",
    "sessions_order_per_user.columns = ['n_sessions', 'n_users']\n",
    "sessions_order_per_user['sessions_per_user'] = sessions_order_per_user['n_sessions'] / sessions_order_per_user['n_users']\n",
    "mean_session_order = sessions_order_per_user['sessions_per_user'].mean().astype('int')\n",
    "print('Ср.продолжительность сессии у заказывающего пользователя в секундах: ',  session_order['session_duration'].mean().astype('int'))\n",
    "print('Ср.кол-во сессий в день на заказывающего пользователя: ', mean_session_order)\n"
   ]
  },
  {
   "cell_type": "markdown",
   "metadata": {},
   "source": [
    "Проверим продолжительность сессии и количество сессий  у пользователей, не принесших выручку. Необходимо учесть, что таких пользователей гораздо больше, т.к. далеко не все делают заказы."
   ]
  },
  {
   "cell_type": "code",
   "execution_count": 176,
   "metadata": {},
   "outputs": [
    {
     "name": "stdout",
     "output_type": "stream",
     "text": [
      "Ср.продолжительность сессии у пользователя, не делающего заказы, в секундах:  1407.85\n",
      "Ср.кол-во сессий в день на пользователя, не делающего заказы:  0.04\n"
     ]
    }
   ],
   "source": [
    "session_not_order = users.query('revenue == 0')\n",
    "sessions_not_order_per_user= session_not_order.groupby(['session_date']).agg({'uid': ['count', 'nunique']})\n",
    "sessions_not_order_per_user.columns = ['n_sessions', 'n_users']\n",
    "sessions_not_order_per_user['sessions_per_user'] = sessions_not_order_per_user['n_sessions'] / sessions_order_per_user['n_users']\n",
    "mean_session_not_order = sessions_not_order_per_user['sessions_per_user'].mean().round(2)\n",
    "print('Ср.продолжительность сессии у пользователя, не делающего заказы, в секундах: ',  session_not_order['session_duration'].mean().round(2))\n",
    "print('Ср.кол-во сессий в день на пользователя, не делающего заказы: ', mean_session_not_order)\n",
    "\n"
   ]
  },
  {
   "cell_type": "markdown",
   "metadata": {},
   "source": [
    "Мы выяснили, что пользователю достаточно 9 сессий в день, чтобы начать делать заказы. При этом продолжительность одной сессии составляет 1259 секунд или 20 минут. Это достаточно много времени - пользователь реально детально изучает предложения или процедура заказов такая долгая? Напротив, пользователь, не делающий заказы, заходит на сайт гораздо реже, точно не каждый день. Хотя продолжительность сессии у него дольше - до 1407 секунд/23 минут. Возможно, нужно так привлекать пользователя, чтобы он заходил на сайт ежедневно и более одного раза."
   ]
  },
  {
   "cell_type": "markdown",
   "metadata": {},
   "source": [
    "##### Сколько раз покупают за период?\n",
    "Посчитаем количество покупок за следующие периоды:\n",
    "- год (с июня 2017 г. по май 2018 г.)\n",
    "- месяц\n",
    "- день"
   ]
  },
  {
   "cell_type": "code",
   "execution_count": 177,
   "metadata": {},
   "outputs": [
    {
     "name": "stdout",
     "output_type": "stream",
     "text": [
      "Общее количество покупок за период июнь 2017 - май 2018:  50415\n",
      "Общее количество покупок в месяц:  8402\n",
      "Общее количество покупок в день:  138\n"
     ]
    }
   ],
   "source": [
    "purchase_qty = orders_data['revenue'].count().sum()\n",
    "mean_purchase_month = (purchase_qty / 6).astype('int')\n",
    "mean_purchase_day = (purchase_qty / 365).astype('int')\n",
    "print('Общее количество покупок за период июнь 2017 - май 2018: ', purchase_qty)\n",
    "print('Общее количество покупок в месяц: ', mean_purchase_month)\n",
    "print('Общее количество покупок в день: ', mean_purchase_day)\n",
    "\n"
   ]
  },
  {
   "cell_type": "markdown",
   "metadata": {},
   "source": [
    "Рассчитаем среднее количество покупок в год, месяц и день на одного пользователя, используя переменные по ср.кол-ву пользователей в данные периоды."
   ]
  },
  {
   "cell_type": "code",
   "execution_count": 178,
   "metadata": {},
   "outputs": [
    {
     "name": "stdout",
     "output_type": "stream",
     "text": [
      "Среднее количество покупок в год на одного пользователя:  0.22\n",
      "Среднее количество покупок в месяц на одного пользователя:  uid    0.36\n",
      "dtype: float64\n",
      "Среднее количество покупок в день на одного пользователя:  uid    0.15\n",
      "dtype: float64\n"
     ]
    }
   ],
   "source": [
    "print('Среднее количество покупок в год на одного пользователя: ', (purchase_qty / unique_users_qty).round(2))\n",
    "print('Среднее количество покупок в месяц на одного пользователя: ', (mean_purchase_month / mau_total).round(2))\n",
    "print('Среднее количество покупок в день на одного пользователя: ', (mean_purchase_day / dau_total).round(2))\n"
   ]
  },
  {
   "cell_type": "markdown",
   "metadata": {},
   "source": [
    "##### Какой средний чек?\n"
   ]
  },
  {
   "cell_type": "markdown",
   "metadata": {},
   "source": [
    "Посчитаем общий средний чек по всем продажам"
   ]
  },
  {
   "cell_type": "code",
   "execution_count": 179,
   "metadata": {},
   "outputs": [
    {
     "name": "stdout",
     "output_type": "stream",
     "text": [
      "Общая выручка за период в рублях:  252057.2\n",
      "Общий средний чек в рублях:  5.0\n"
     ]
    }
   ],
   "source": [
    "total_revenue = orders_data['revenue'].sum().round(2)\n",
    "print('Общая выручка за период в рублях: ', total_revenue)\n",
    "print('Общий средний чек в рублях: ', (orders_data['revenue'].sum() / purchase_qty).round(2))\n"
   ]
  },
  {
   "cell_type": "markdown",
   "metadata": {},
   "source": [
    "Рассчитаем изменение среднего чека по когортам, которые сгруппируем по дате заказа.\n",
    "\n",
    "Определим первый месяц заказа"
   ]
  },
  {
   "cell_type": "code",
   "execution_count": 180,
   "metadata": {},
   "outputs": [
    {
     "data": {
      "text/html": [
       "<div>\n",
       "<style scoped>\n",
       "    .dataframe tbody tr th:only-of-type {\n",
       "        vertical-align: middle;\n",
       "    }\n",
       "\n",
       "    .dataframe tbody tr th {\n",
       "        vertical-align: top;\n",
       "    }\n",
       "\n",
       "    .dataframe thead th {\n",
       "        text-align: right;\n",
       "    }\n",
       "</style>\n",
       "<table border=\"1\" class=\"dataframe\">\n",
       "  <thead>\n",
       "    <tr style=\"text-align: right;\">\n",
       "      <th></th>\n",
       "      <th>buy ts</th>\n",
       "      <th>revenue</th>\n",
       "      <th>uid</th>\n",
       "      <th>first_order_date</th>\n",
       "      <th>first_order_month</th>\n",
       "      <th>order_month</th>\n",
       "    </tr>\n",
       "  </thead>\n",
       "  <tbody>\n",
       "    <tr>\n",
       "      <td>0</td>\n",
       "      <td>2017-06-01 00:10:00</td>\n",
       "      <td>17.00</td>\n",
       "      <td>10329302124590727494</td>\n",
       "      <td>2017-06-01 00:10:00</td>\n",
       "      <td>2017-06-01</td>\n",
       "      <td>2017-06-01</td>\n",
       "    </tr>\n",
       "    <tr>\n",
       "      <td>1</td>\n",
       "      <td>2017-06-01 00:25:00</td>\n",
       "      <td>0.55</td>\n",
       "      <td>11627257723692907447</td>\n",
       "      <td>2017-06-01 00:25:00</td>\n",
       "      <td>2017-06-01</td>\n",
       "      <td>2017-06-01</td>\n",
       "    </tr>\n",
       "    <tr>\n",
       "      <td>2</td>\n",
       "      <td>2017-06-01 00:27:00</td>\n",
       "      <td>0.37</td>\n",
       "      <td>17903680561304213844</td>\n",
       "      <td>2017-06-01 00:27:00</td>\n",
       "      <td>2017-06-01</td>\n",
       "      <td>2017-06-01</td>\n",
       "    </tr>\n",
       "    <tr>\n",
       "      <td>3</td>\n",
       "      <td>2017-06-01 00:29:00</td>\n",
       "      <td>0.55</td>\n",
       "      <td>16109239769442553005</td>\n",
       "      <td>2017-06-01 00:29:00</td>\n",
       "      <td>2017-06-01</td>\n",
       "      <td>2017-06-01</td>\n",
       "    </tr>\n",
       "    <tr>\n",
       "      <td>4</td>\n",
       "      <td>2017-06-01 07:58:00</td>\n",
       "      <td>0.37</td>\n",
       "      <td>14200605875248379450</td>\n",
       "      <td>2017-06-01 07:58:00</td>\n",
       "      <td>2017-06-01</td>\n",
       "      <td>2017-06-01</td>\n",
       "    </tr>\n",
       "  </tbody>\n",
       "</table>\n",
       "</div>"
      ],
      "text/plain": [
       "               buy ts  revenue                   uid    first_order_date  \\\n",
       "0 2017-06-01 00:10:00    17.00  10329302124590727494 2017-06-01 00:10:00   \n",
       "1 2017-06-01 00:25:00     0.55  11627257723692907447 2017-06-01 00:25:00   \n",
       "2 2017-06-01 00:27:00     0.37  17903680561304213844 2017-06-01 00:27:00   \n",
       "3 2017-06-01 00:29:00     0.55  16109239769442553005 2017-06-01 00:29:00   \n",
       "4 2017-06-01 07:58:00     0.37  14200605875248379450 2017-06-01 07:58:00   \n",
       "\n",
       "  first_order_month order_month  \n",
       "0        2017-06-01  2017-06-01  \n",
       "1        2017-06-01  2017-06-01  \n",
       "2        2017-06-01  2017-06-01  \n",
       "3        2017-06-01  2017-06-01  \n",
       "4        2017-06-01  2017-06-01  "
      ]
     },
     "metadata": {},
     "output_type": "display_data"
    }
   ],
   "source": [
    "first_order_date = orders_data.groupby('uid')['buy ts'].min()\n",
    "first_order_date.name = 'first_order_date'\n",
    "orders = orders_data.merge(first_order_date,on='uid')\n",
    "orders['first_order_month'] = orders['first_order_date'].astype('datetime64[M]')\n",
    "orders['order_month'] = orders['buy ts'].astype('datetime64[M]')\n",
    "display(orders.head())"
   ]
  },
  {
   "cell_type": "markdown",
   "metadata": {},
   "source": [
    "Определим количество покупателей в месяц"
   ]
  },
  {
   "cell_type": "code",
   "execution_count": 181,
   "metadata": {},
   "outputs": [
    {
     "data": {
      "text/html": [
       "<div>\n",
       "<style scoped>\n",
       "    .dataframe tbody tr th:only-of-type {\n",
       "        vertical-align: middle;\n",
       "    }\n",
       "\n",
       "    .dataframe tbody tr th {\n",
       "        vertical-align: top;\n",
       "    }\n",
       "\n",
       "    .dataframe thead th {\n",
       "        text-align: right;\n",
       "    }\n",
       "</style>\n",
       "<table border=\"1\" class=\"dataframe\">\n",
       "  <thead>\n",
       "    <tr style=\"text-align: right;\">\n",
       "      <th></th>\n",
       "      <th>first_order_month</th>\n",
       "      <th>buyers</th>\n",
       "    </tr>\n",
       "  </thead>\n",
       "  <tbody>\n",
       "    <tr>\n",
       "      <td>0</td>\n",
       "      <td>2017-06-01</td>\n",
       "      <td>2023</td>\n",
       "    </tr>\n",
       "    <tr>\n",
       "      <td>1</td>\n",
       "      <td>2017-07-01</td>\n",
       "      <td>1923</td>\n",
       "    </tr>\n",
       "    <tr>\n",
       "      <td>2</td>\n",
       "      <td>2017-08-01</td>\n",
       "      <td>1370</td>\n",
       "    </tr>\n",
       "    <tr>\n",
       "      <td>3</td>\n",
       "      <td>2017-09-01</td>\n",
       "      <td>2581</td>\n",
       "    </tr>\n",
       "    <tr>\n",
       "      <td>4</td>\n",
       "      <td>2017-10-01</td>\n",
       "      <td>4340</td>\n",
       "    </tr>\n",
       "    <tr>\n",
       "      <td>5</td>\n",
       "      <td>2017-11-01</td>\n",
       "      <td>4081</td>\n",
       "    </tr>\n",
       "    <tr>\n",
       "      <td>6</td>\n",
       "      <td>2017-12-01</td>\n",
       "      <td>4383</td>\n",
       "    </tr>\n",
       "    <tr>\n",
       "      <td>7</td>\n",
       "      <td>2018-01-01</td>\n",
       "      <td>3373</td>\n",
       "    </tr>\n",
       "    <tr>\n",
       "      <td>8</td>\n",
       "      <td>2018-02-01</td>\n",
       "      <td>3651</td>\n",
       "    </tr>\n",
       "    <tr>\n",
       "      <td>9</td>\n",
       "      <td>2018-03-01</td>\n",
       "      <td>3533</td>\n",
       "    </tr>\n",
       "    <tr>\n",
       "      <td>10</td>\n",
       "      <td>2018-04-01</td>\n",
       "      <td>2276</td>\n",
       "    </tr>\n",
       "    <tr>\n",
       "      <td>11</td>\n",
       "      <td>2018-05-01</td>\n",
       "      <td>2988</td>\n",
       "    </tr>\n",
       "    <tr>\n",
       "      <td>12</td>\n",
       "      <td>2018-06-01</td>\n",
       "      <td>1</td>\n",
       "    </tr>\n",
       "  </tbody>\n",
       "</table>\n",
       "</div>"
      ],
      "text/plain": [
       "   first_order_month  buyers\n",
       "0         2017-06-01    2023\n",
       "1         2017-07-01    1923\n",
       "2         2017-08-01    1370\n",
       "3         2017-09-01    2581\n",
       "4         2017-10-01    4340\n",
       "5         2017-11-01    4081\n",
       "6         2017-12-01    4383\n",
       "7         2018-01-01    3373\n",
       "8         2018-02-01    3651\n",
       "9         2018-03-01    3533\n",
       "10        2018-04-01    2276\n",
       "11        2018-05-01    2988\n",
       "12        2018-06-01       1"
      ]
     },
     "metadata": {},
     "output_type": "display_data"
    }
   ],
   "source": [
    "buyers = orders.groupby('first_order_month').agg({'uid': 'nunique'}).reset_index()\n",
    "buyers.columns = ['first_order_month', 'buyers']\n",
    "display(buyers)\n"
   ]
  },
  {
   "cell_type": "markdown",
   "metadata": {},
   "source": [
    "Сгруппируем таблицу заказов по месяцу первой покупки и месяцу каждого заказа и сложим выручку. "
   ]
  },
  {
   "cell_type": "code",
   "execution_count": 182,
   "metadata": {},
   "outputs": [
    {
     "data": {
      "text/html": [
       "<div>\n",
       "<style scoped>\n",
       "    .dataframe tbody tr th:only-of-type {\n",
       "        vertical-align: middle;\n",
       "    }\n",
       "\n",
       "    .dataframe tbody tr th {\n",
       "        vertical-align: top;\n",
       "    }\n",
       "\n",
       "    .dataframe thead th {\n",
       "        text-align: right;\n",
       "    }\n",
       "</style>\n",
       "<table border=\"1\" class=\"dataframe\">\n",
       "  <thead>\n",
       "    <tr style=\"text-align: right;\">\n",
       "      <th></th>\n",
       "      <th>first_order_month</th>\n",
       "      <th>order_month</th>\n",
       "      <th>revenue</th>\n",
       "    </tr>\n",
       "  </thead>\n",
       "  <tbody>\n",
       "    <tr>\n",
       "      <td>0</td>\n",
       "      <td>2017-06-01</td>\n",
       "      <td>2017-06-01</td>\n",
       "      <td>9557.49</td>\n",
       "    </tr>\n",
       "    <tr>\n",
       "      <td>1</td>\n",
       "      <td>2017-06-01</td>\n",
       "      <td>2017-07-01</td>\n",
       "      <td>981.82</td>\n",
       "    </tr>\n",
       "    <tr>\n",
       "      <td>2</td>\n",
       "      <td>2017-06-01</td>\n",
       "      <td>2017-08-01</td>\n",
       "      <td>885.34</td>\n",
       "    </tr>\n",
       "    <tr>\n",
       "      <td>3</td>\n",
       "      <td>2017-06-01</td>\n",
       "      <td>2017-09-01</td>\n",
       "      <td>1931.30</td>\n",
       "    </tr>\n",
       "    <tr>\n",
       "      <td>4</td>\n",
       "      <td>2017-06-01</td>\n",
       "      <td>2017-10-01</td>\n",
       "      <td>2068.58</td>\n",
       "    </tr>\n",
       "    <tr>\n",
       "      <td>...</td>\n",
       "      <td>...</td>\n",
       "      <td>...</td>\n",
       "      <td>...</td>\n",
       "    </tr>\n",
       "    <tr>\n",
       "      <td>74</td>\n",
       "      <td>2018-03-01</td>\n",
       "      <td>2018-05-01</td>\n",
       "      <td>1114.87</td>\n",
       "    </tr>\n",
       "    <tr>\n",
       "      <td>75</td>\n",
       "      <td>2018-04-01</td>\n",
       "      <td>2018-04-01</td>\n",
       "      <td>10600.69</td>\n",
       "    </tr>\n",
       "    <tr>\n",
       "      <td>76</td>\n",
       "      <td>2018-04-01</td>\n",
       "      <td>2018-05-01</td>\n",
       "      <td>1209.92</td>\n",
       "    </tr>\n",
       "    <tr>\n",
       "      <td>77</td>\n",
       "      <td>2018-05-01</td>\n",
       "      <td>2018-05-01</td>\n",
       "      <td>13925.76</td>\n",
       "    </tr>\n",
       "    <tr>\n",
       "      <td>78</td>\n",
       "      <td>2018-06-01</td>\n",
       "      <td>2018-06-01</td>\n",
       "      <td>3.42</td>\n",
       "    </tr>\n",
       "  </tbody>\n",
       "</table>\n",
       "<p>79 rows × 3 columns</p>\n",
       "</div>"
      ],
      "text/plain": [
       "   first_order_month order_month   revenue\n",
       "0         2017-06-01  2017-06-01   9557.49\n",
       "1         2017-06-01  2017-07-01    981.82\n",
       "2         2017-06-01  2017-08-01    885.34\n",
       "3         2017-06-01  2017-09-01   1931.30\n",
       "4         2017-06-01  2017-10-01   2068.58\n",
       "..               ...         ...       ...\n",
       "74        2018-03-01  2018-05-01   1114.87\n",
       "75        2018-04-01  2018-04-01  10600.69\n",
       "76        2018-04-01  2018-05-01   1209.92\n",
       "77        2018-05-01  2018-05-01  13925.76\n",
       "78        2018-06-01  2018-06-01      3.42\n",
       "\n",
       "[79 rows x 3 columns]"
      ]
     },
     "metadata": {},
     "output_type": "display_data"
    }
   ],
   "source": [
    "orders_cohorts = orders.groupby(['first_order_month', 'order_month']).agg({'revenue':'sum'}).reset_index()\n",
    "display(orders_cohorts)\n"
   ]
  },
  {
   "cell_type": "markdown",
   "metadata": {},
   "source": [
    "Объединим таблицы, чтобы добавить первичных покупателей"
   ]
  },
  {
   "cell_type": "code",
   "execution_count": 183,
   "metadata": {},
   "outputs": [
    {
     "name": "stdout",
     "output_type": "stream",
     "text": [
      "  first_order_month  buyers order_month  revenue\n",
      "0        2017-06-01    2023  2017-06-01  9557.49\n",
      "1        2017-06-01    2023  2017-07-01   981.82\n",
      "2        2017-06-01    2023  2017-08-01   885.34\n",
      "3        2017-06-01    2023  2017-09-01  1931.30\n",
      "4        2017-06-01    2023  2017-10-01  2068.58\n"
     ]
    }
   ],
   "source": [
    "report = pd.merge(buyers, orders_cohorts, on='first_order_month')\n",
    "print(report.head())\n"
   ]
  },
  {
   "cell_type": "markdown",
   "metadata": {},
   "source": [
    "Найдем средний чек по каждой когорте и построим сводную таблицу его изменения по ежемесячным когортам и lifetime.\n"
   ]
  },
  {
   "cell_type": "code",
   "execution_count": 184,
   "metadata": {},
   "outputs": [],
   "source": [
    "\n",
    "report['revenue_per_cohort'] = (report['revenue'] / report['buyers']).round(2)\n",
    "report['cohort_lifetime'] = report['order_month'] - report['first_order_month']\n",
    "report['cohort_lifetime'] = (report['cohort_lifetime'] / np.timedelta64(1,'M')).round().astype('int')\n",
    "report['first_order_month'].dt.strftime('%d.%m.%Y')\n",
    "\n",
    "revenue_per_cohort_pivot = report.pivot_table(index='first_order_month',columns='cohort_lifetime',values='revenue_per_cohort',aggfunc='mean')\n",
    "#display(revenue_per_user_pivot)\n"
   ]
  },
  {
   "cell_type": "code",
   "execution_count": 185,
   "metadata": {},
   "outputs": [
    {
     "data": {
      "text/html": [
       "<div>\n",
       "<style scoped>\n",
       "    .dataframe tbody tr th:only-of-type {\n",
       "        vertical-align: middle;\n",
       "    }\n",
       "\n",
       "    .dataframe tbody tr th {\n",
       "        vertical-align: top;\n",
       "    }\n",
       "\n",
       "    .dataframe thead th {\n",
       "        text-align: right;\n",
       "    }\n",
       "</style>\n",
       "<table border=\"1\" class=\"dataframe\">\n",
       "  <thead>\n",
       "    <tr style=\"text-align: right;\">\n",
       "      <th>cohort_lifetime</th>\n",
       "      <th>0</th>\n",
       "      <th>1</th>\n",
       "      <th>2</th>\n",
       "      <th>3</th>\n",
       "      <th>4</th>\n",
       "      <th>5</th>\n",
       "      <th>6</th>\n",
       "      <th>7</th>\n",
       "      <th>8</th>\n",
       "      <th>9</th>\n",
       "      <th>10</th>\n",
       "      <th>11</th>\n",
       "    </tr>\n",
       "    <tr>\n",
       "      <th>first_order_month</th>\n",
       "      <th></th>\n",
       "      <th></th>\n",
       "      <th></th>\n",
       "      <th></th>\n",
       "      <th></th>\n",
       "      <th></th>\n",
       "      <th></th>\n",
       "      <th></th>\n",
       "      <th></th>\n",
       "      <th></th>\n",
       "      <th></th>\n",
       "      <th></th>\n",
       "    </tr>\n",
       "  </thead>\n",
       "  <tbody>\n",
       "    <tr>\n",
       "      <td>2017-06-01</td>\n",
       "      <td>4.72</td>\n",
       "      <td>0.49</td>\n",
       "      <td>0.44</td>\n",
       "      <td>0.95</td>\n",
       "      <td>1.02</td>\n",
       "      <td>0.74</td>\n",
       "      <td>0.95</td>\n",
       "      <td>0.58</td>\n",
       "      <td>0.55</td>\n",
       "      <td>0.61</td>\n",
       "      <td>0.57</td>\n",
       "      <td>0.26</td>\n",
       "    </tr>\n",
       "    <tr>\n",
       "      <td>2017-07-01</td>\n",
       "      <td>6.01</td>\n",
       "      <td>0.34</td>\n",
       "      <td>0.62</td>\n",
       "      <td>0.36</td>\n",
       "      <td>0.18</td>\n",
       "      <td>0.16</td>\n",
       "      <td>0.12</td>\n",
       "      <td>0.14</td>\n",
       "      <td>0.16</td>\n",
       "      <td>0.15</td>\n",
       "      <td>0.16</td>\n",
       "      <td></td>\n",
       "    </tr>\n",
       "    <tr>\n",
       "      <td>2017-08-01</td>\n",
       "      <td>5.28</td>\n",
       "      <td>0.47</td>\n",
       "      <td>0.46</td>\n",
       "      <td>0.39</td>\n",
       "      <td>0.49</td>\n",
       "      <td>0.28</td>\n",
       "      <td>0.21</td>\n",
       "      <td>0.41</td>\n",
       "      <td>0.29</td>\n",
       "      <td>0.19</td>\n",
       "      <td></td>\n",
       "      <td></td>\n",
       "    </tr>\n",
       "    <tr>\n",
       "      <td>2017-09-01</td>\n",
       "      <td>5.64</td>\n",
       "      <td>1.12</td>\n",
       "      <td>0.52</td>\n",
       "      <td>3.98</td>\n",
       "      <td>0.4</td>\n",
       "      <td>0.65</td>\n",
       "      <td>0.7</td>\n",
       "      <td>0.24</td>\n",
       "      <td>0.18</td>\n",
       "      <td></td>\n",
       "      <td></td>\n",
       "      <td></td>\n",
       "    </tr>\n",
       "    <tr>\n",
       "      <td>2017-10-01</td>\n",
       "      <td>5.00</td>\n",
       "      <td>0.54</td>\n",
       "      <td>0.19</td>\n",
       "      <td>0.16</td>\n",
       "      <td>0.15</td>\n",
       "      <td>0.12</td>\n",
       "      <td>0.08</td>\n",
       "      <td>0.12</td>\n",
       "      <td></td>\n",
       "      <td></td>\n",
       "      <td></td>\n",
       "      <td></td>\n",
       "    </tr>\n",
       "    <tr>\n",
       "      <td>2017-11-01</td>\n",
       "      <td>5.15</td>\n",
       "      <td>0.4</td>\n",
       "      <td>0.2</td>\n",
       "      <td>0.32</td>\n",
       "      <td>0.15</td>\n",
       "      <td>0.05</td>\n",
       "      <td>0.11</td>\n",
       "      <td></td>\n",
       "      <td></td>\n",
       "      <td></td>\n",
       "      <td></td>\n",
       "      <td></td>\n",
       "    </tr>\n",
       "    <tr>\n",
       "      <td>2017-12-01</td>\n",
       "      <td>4.74</td>\n",
       "      <td>0.26</td>\n",
       "      <td>0.93</td>\n",
       "      <td>1.07</td>\n",
       "      <td>0.31</td>\n",
       "      <td>0.34</td>\n",
       "      <td></td>\n",
       "      <td></td>\n",
       "      <td></td>\n",
       "      <td></td>\n",
       "      <td></td>\n",
       "      <td></td>\n",
       "    </tr>\n",
       "    <tr>\n",
       "      <td>2018-01-01</td>\n",
       "      <td>4.14</td>\n",
       "      <td>0.29</td>\n",
       "      <td>0.3</td>\n",
       "      <td>0.14</td>\n",
       "      <td>0.06</td>\n",
       "      <td></td>\n",
       "      <td></td>\n",
       "      <td></td>\n",
       "      <td></td>\n",
       "      <td></td>\n",
       "      <td></td>\n",
       "      <td></td>\n",
       "    </tr>\n",
       "    <tr>\n",
       "      <td>2018-02-01</td>\n",
       "      <td>4.16</td>\n",
       "      <td>0.28</td>\n",
       "      <td>0.08</td>\n",
       "      <td>0.07</td>\n",
       "      <td></td>\n",
       "      <td></td>\n",
       "      <td></td>\n",
       "      <td></td>\n",
       "      <td></td>\n",
       "      <td></td>\n",
       "      <td></td>\n",
       "      <td></td>\n",
       "    </tr>\n",
       "    <tr>\n",
       "      <td>2018-03-01</td>\n",
       "      <td>4.84</td>\n",
       "      <td>0.3</td>\n",
       "      <td>0.32</td>\n",
       "      <td></td>\n",
       "      <td></td>\n",
       "      <td></td>\n",
       "      <td></td>\n",
       "      <td></td>\n",
       "      <td></td>\n",
       "      <td></td>\n",
       "      <td></td>\n",
       "      <td></td>\n",
       "    </tr>\n",
       "    <tr>\n",
       "      <td>2018-04-01</td>\n",
       "      <td>4.66</td>\n",
       "      <td>0.53</td>\n",
       "      <td></td>\n",
       "      <td></td>\n",
       "      <td></td>\n",
       "      <td></td>\n",
       "      <td></td>\n",
       "      <td></td>\n",
       "      <td></td>\n",
       "      <td></td>\n",
       "      <td></td>\n",
       "      <td></td>\n",
       "    </tr>\n",
       "    <tr>\n",
       "      <td>2018-05-01</td>\n",
       "      <td>4.66</td>\n",
       "      <td></td>\n",
       "      <td></td>\n",
       "      <td></td>\n",
       "      <td></td>\n",
       "      <td></td>\n",
       "      <td></td>\n",
       "      <td></td>\n",
       "      <td></td>\n",
       "      <td></td>\n",
       "      <td></td>\n",
       "      <td></td>\n",
       "    </tr>\n",
       "    <tr>\n",
       "      <td>2018-06-01</td>\n",
       "      <td>3.42</td>\n",
       "      <td></td>\n",
       "      <td></td>\n",
       "      <td></td>\n",
       "      <td></td>\n",
       "      <td></td>\n",
       "      <td></td>\n",
       "      <td></td>\n",
       "      <td></td>\n",
       "      <td></td>\n",
       "      <td></td>\n",
       "      <td></td>\n",
       "    </tr>\n",
       "  </tbody>\n",
       "</table>\n",
       "</div>"
      ],
      "text/plain": [
       "cohort_lifetime      0     1     2     3     4     5     6     7     8     9   \\\n",
       "first_order_month                                                               \n",
       "2017-06-01         4.72  0.49  0.44  0.95  1.02  0.74  0.95  0.58  0.55  0.61   \n",
       "2017-07-01         6.01  0.34  0.62  0.36  0.18  0.16  0.12  0.14  0.16  0.15   \n",
       "2017-08-01         5.28  0.47  0.46  0.39  0.49  0.28  0.21  0.41  0.29  0.19   \n",
       "2017-09-01         5.64  1.12  0.52  3.98   0.4  0.65   0.7  0.24  0.18         \n",
       "2017-10-01         5.00  0.54  0.19  0.16  0.15  0.12  0.08  0.12               \n",
       "2017-11-01         5.15   0.4   0.2  0.32  0.15  0.05  0.11                     \n",
       "2017-12-01         4.74  0.26  0.93  1.07  0.31  0.34                           \n",
       "2018-01-01         4.14  0.29   0.3  0.14  0.06                                 \n",
       "2018-02-01         4.16  0.28  0.08  0.07                                       \n",
       "2018-03-01         4.84   0.3  0.32                                             \n",
       "2018-04-01         4.66  0.53                                                   \n",
       "2018-05-01         4.66                                                         \n",
       "2018-06-01         3.42                                                         \n",
       "\n",
       "cohort_lifetime      10    11  \n",
       "first_order_month              \n",
       "2017-06-01         0.57  0.26  \n",
       "2017-07-01         0.16        \n",
       "2017-08-01                     \n",
       "2017-09-01                     \n",
       "2017-10-01                     \n",
       "2017-11-01                     \n",
       "2017-12-01                     \n",
       "2018-01-01                     \n",
       "2018-02-01                     \n",
       "2018-03-01                     \n",
       "2018-04-01                     \n",
       "2018-05-01                     \n",
       "2018-06-01                     "
      ]
     },
     "execution_count": 185,
     "metadata": {},
     "output_type": "execute_result"
    }
   ],
   "source": [
    "revenue_per_cohort_pivot.fillna(' ')"
   ]
  },
  {
   "cell_type": "markdown",
   "metadata": {},
   "source": [
    "Посчитаем сумму выручки на каждую когорту"
   ]
  },
  {
   "cell_type": "code",
   "execution_count": 186,
   "metadata": {},
   "outputs": [
    {
     "data": {
      "text/html": [
       "<div>\n",
       "<style scoped>\n",
       "    .dataframe tbody tr th:only-of-type {\n",
       "        vertical-align: middle;\n",
       "    }\n",
       "\n",
       "    .dataframe tbody tr th {\n",
       "        vertical-align: top;\n",
       "    }\n",
       "\n",
       "    .dataframe thead th {\n",
       "        text-align: right;\n",
       "    }\n",
       "</style>\n",
       "<table border=\"1\" class=\"dataframe\">\n",
       "  <thead>\n",
       "    <tr style=\"text-align: right;\">\n",
       "      <th></th>\n",
       "      <th>revenue</th>\n",
       "    </tr>\n",
       "    <tr>\n",
       "      <th>first_order_month</th>\n",
       "      <th></th>\n",
       "    </tr>\n",
       "  </thead>\n",
       "  <tbody>\n",
       "    <tr>\n",
       "      <td>2017-06-01</td>\n",
       "      <td>24031.69</td>\n",
       "    </tr>\n",
       "    <tr>\n",
       "      <td>2017-07-01</td>\n",
       "      <td>16127.92</td>\n",
       "    </tr>\n",
       "    <tr>\n",
       "      <td>2017-08-01</td>\n",
       "      <td>11606.26</td>\n",
       "    </tr>\n",
       "    <tr>\n",
       "      <td>2017-09-01</td>\n",
       "      <td>34676.32</td>\n",
       "    </tr>\n",
       "    <tr>\n",
       "      <td>2017-10-01</td>\n",
       "      <td>27603.45</td>\n",
       "    </tr>\n",
       "    <tr>\n",
       "      <td>2017-11-01</td>\n",
       "      <td>26098.99</td>\n",
       "    </tr>\n",
       "    <tr>\n",
       "      <td>2017-12-01</td>\n",
       "      <td>33485.74</td>\n",
       "    </tr>\n",
       "    <tr>\n",
       "      <td>2018-01-01</td>\n",
       "      <td>16663.13</td>\n",
       "    </tr>\n",
       "    <tr>\n",
       "      <td>2018-02-01</td>\n",
       "      <td>16750.50</td>\n",
       "    </tr>\n",
       "    <tr>\n",
       "      <td>2018-03-01</td>\n",
       "      <td>19273.41</td>\n",
       "    </tr>\n",
       "    <tr>\n",
       "      <td>2018-04-01</td>\n",
       "      <td>11810.61</td>\n",
       "    </tr>\n",
       "    <tr>\n",
       "      <td>2018-05-01</td>\n",
       "      <td>13925.76</td>\n",
       "    </tr>\n",
       "    <tr>\n",
       "      <td>2018-06-01</td>\n",
       "      <td>3.42</td>\n",
       "    </tr>\n",
       "  </tbody>\n",
       "</table>\n",
       "</div>"
      ],
      "text/plain": [
       "                    revenue\n",
       "first_order_month          \n",
       "2017-06-01         24031.69\n",
       "2017-07-01         16127.92\n",
       "2017-08-01         11606.26\n",
       "2017-09-01         34676.32\n",
       "2017-10-01         27603.45\n",
       "2017-11-01         26098.99\n",
       "2017-12-01         33485.74\n",
       "2018-01-01         16663.13\n",
       "2018-02-01         16750.50\n",
       "2018-03-01         19273.41\n",
       "2018-04-01         11810.61\n",
       "2018-05-01         13925.76\n",
       "2018-06-01             3.42"
      ]
     },
     "metadata": {},
     "output_type": "display_data"
    }
   ],
   "source": [
    "revenue_per_cohort = report.pivot_table(index='first_order_month', values='revenue',aggfunc='sum')\n",
    "display(revenue_per_cohort)"
   ]
  },
  {
   "cell_type": "markdown",
   "metadata": {},
   "source": [
    "С каждой новой когортой в первом сроке ее жизни наблюдается падение среднего чека с 6 до 3 рублей.\n",
    "Чек уменьшается с каждым lifetime. Плюс почти все когорты сразу начинают с суммы,  близко к среднему чеку - 5 рублей, но в следующем месяце продажи падают. Самые высокие чеки в первые месяцы жизни когорт. Возможно, пользователи заходят, чтобы сделать заказ однократно. Самыми прибыльными по общей выручке были сентябрьская и декабрьская когорты."
   ]
  },
  {
   "cell_type": "markdown",
   "metadata": {},
   "source": [
    "##### Сколько денег приносят? (LTV)\n",
    "\n",
    "Нам нужно рассчитать LTV - lifetime value, т.е. сколько итоговой валовой прибыли в среднем приносит один заказчик.\n",
    "\n",
    "У нас уже есть таблица по месячным когортам. \n",
    "Примем за валовую прибыль известную нам выручку"
   ]
  },
  {
   "cell_type": "markdown",
   "metadata": {},
   "source": [
    "Чтобы найти LTV разделим выручку когорт за каждый месяц на общее число пользователей в каждой когорте и создадим сводную таблицу со средним значением LTV в каждой когорте"
   ]
  },
  {
   "cell_type": "code",
   "execution_count": 187,
   "metadata": {},
   "outputs": [],
   "source": [
    "report['ltv'] = (report['revenue'] / report['buyers']).round(2)\n",
    "ltv_pivot = report.pivot_table(\n",
    "        index='first_order_month', \n",
    "        columns='cohort_lifetime', \n",
    "        values='ltv', \n",
    "        aggfunc='mean')\n",
    "#display(ltv_pivot)\n"
   ]
  },
  {
   "cell_type": "code",
   "execution_count": 188,
   "metadata": {},
   "outputs": [
    {
     "data": {
      "text/html": [
       "<div>\n",
       "<style scoped>\n",
       "    .dataframe tbody tr th:only-of-type {\n",
       "        vertical-align: middle;\n",
       "    }\n",
       "\n",
       "    .dataframe tbody tr th {\n",
       "        vertical-align: top;\n",
       "    }\n",
       "\n",
       "    .dataframe thead th {\n",
       "        text-align: right;\n",
       "    }\n",
       "</style>\n",
       "<table border=\"1\" class=\"dataframe\">\n",
       "  <thead>\n",
       "    <tr style=\"text-align: right;\">\n",
       "      <th>cohort_lifetime</th>\n",
       "      <th>0</th>\n",
       "      <th>1</th>\n",
       "      <th>2</th>\n",
       "      <th>3</th>\n",
       "      <th>4</th>\n",
       "      <th>5</th>\n",
       "      <th>6</th>\n",
       "      <th>7</th>\n",
       "      <th>8</th>\n",
       "      <th>9</th>\n",
       "      <th>10</th>\n",
       "      <th>11</th>\n",
       "    </tr>\n",
       "    <tr>\n",
       "      <th>first_order_month</th>\n",
       "      <th></th>\n",
       "      <th></th>\n",
       "      <th></th>\n",
       "      <th></th>\n",
       "      <th></th>\n",
       "      <th></th>\n",
       "      <th></th>\n",
       "      <th></th>\n",
       "      <th></th>\n",
       "      <th></th>\n",
       "      <th></th>\n",
       "      <th></th>\n",
       "    </tr>\n",
       "  </thead>\n",
       "  <tbody>\n",
       "    <tr>\n",
       "      <td>2017-06-01</td>\n",
       "      <td>4.72</td>\n",
       "      <td>0.49</td>\n",
       "      <td>0.44</td>\n",
       "      <td>0.95</td>\n",
       "      <td>1.02</td>\n",
       "      <td>0.74</td>\n",
       "      <td>0.95</td>\n",
       "      <td>0.58</td>\n",
       "      <td>0.55</td>\n",
       "      <td>0.61</td>\n",
       "      <td>0.57</td>\n",
       "      <td>0.26</td>\n",
       "    </tr>\n",
       "    <tr>\n",
       "      <td>2017-07-01</td>\n",
       "      <td>6.01</td>\n",
       "      <td>0.34</td>\n",
       "      <td>0.62</td>\n",
       "      <td>0.36</td>\n",
       "      <td>0.18</td>\n",
       "      <td>0.16</td>\n",
       "      <td>0.12</td>\n",
       "      <td>0.14</td>\n",
       "      <td>0.16</td>\n",
       "      <td>0.15</td>\n",
       "      <td>0.16</td>\n",
       "      <td></td>\n",
       "    </tr>\n",
       "    <tr>\n",
       "      <td>2017-08-01</td>\n",
       "      <td>5.28</td>\n",
       "      <td>0.47</td>\n",
       "      <td>0.46</td>\n",
       "      <td>0.39</td>\n",
       "      <td>0.49</td>\n",
       "      <td>0.28</td>\n",
       "      <td>0.21</td>\n",
       "      <td>0.41</td>\n",
       "      <td>0.29</td>\n",
       "      <td>0.19</td>\n",
       "      <td></td>\n",
       "      <td></td>\n",
       "    </tr>\n",
       "    <tr>\n",
       "      <td>2017-09-01</td>\n",
       "      <td>5.64</td>\n",
       "      <td>1.12</td>\n",
       "      <td>0.52</td>\n",
       "      <td>3.98</td>\n",
       "      <td>0.4</td>\n",
       "      <td>0.65</td>\n",
       "      <td>0.7</td>\n",
       "      <td>0.24</td>\n",
       "      <td>0.18</td>\n",
       "      <td></td>\n",
       "      <td></td>\n",
       "      <td></td>\n",
       "    </tr>\n",
       "    <tr>\n",
       "      <td>2017-10-01</td>\n",
       "      <td>5.00</td>\n",
       "      <td>0.54</td>\n",
       "      <td>0.19</td>\n",
       "      <td>0.16</td>\n",
       "      <td>0.15</td>\n",
       "      <td>0.12</td>\n",
       "      <td>0.08</td>\n",
       "      <td>0.12</td>\n",
       "      <td></td>\n",
       "      <td></td>\n",
       "      <td></td>\n",
       "      <td></td>\n",
       "    </tr>\n",
       "    <tr>\n",
       "      <td>2017-11-01</td>\n",
       "      <td>5.15</td>\n",
       "      <td>0.4</td>\n",
       "      <td>0.2</td>\n",
       "      <td>0.32</td>\n",
       "      <td>0.15</td>\n",
       "      <td>0.05</td>\n",
       "      <td>0.11</td>\n",
       "      <td></td>\n",
       "      <td></td>\n",
       "      <td></td>\n",
       "      <td></td>\n",
       "      <td></td>\n",
       "    </tr>\n",
       "    <tr>\n",
       "      <td>2017-12-01</td>\n",
       "      <td>4.74</td>\n",
       "      <td>0.26</td>\n",
       "      <td>0.93</td>\n",
       "      <td>1.07</td>\n",
       "      <td>0.31</td>\n",
       "      <td>0.34</td>\n",
       "      <td></td>\n",
       "      <td></td>\n",
       "      <td></td>\n",
       "      <td></td>\n",
       "      <td></td>\n",
       "      <td></td>\n",
       "    </tr>\n",
       "    <tr>\n",
       "      <td>2018-01-01</td>\n",
       "      <td>4.14</td>\n",
       "      <td>0.29</td>\n",
       "      <td>0.3</td>\n",
       "      <td>0.14</td>\n",
       "      <td>0.06</td>\n",
       "      <td></td>\n",
       "      <td></td>\n",
       "      <td></td>\n",
       "      <td></td>\n",
       "      <td></td>\n",
       "      <td></td>\n",
       "      <td></td>\n",
       "    </tr>\n",
       "    <tr>\n",
       "      <td>2018-02-01</td>\n",
       "      <td>4.16</td>\n",
       "      <td>0.28</td>\n",
       "      <td>0.08</td>\n",
       "      <td>0.07</td>\n",
       "      <td></td>\n",
       "      <td></td>\n",
       "      <td></td>\n",
       "      <td></td>\n",
       "      <td></td>\n",
       "      <td></td>\n",
       "      <td></td>\n",
       "      <td></td>\n",
       "    </tr>\n",
       "    <tr>\n",
       "      <td>2018-03-01</td>\n",
       "      <td>4.84</td>\n",
       "      <td>0.3</td>\n",
       "      <td>0.32</td>\n",
       "      <td></td>\n",
       "      <td></td>\n",
       "      <td></td>\n",
       "      <td></td>\n",
       "      <td></td>\n",
       "      <td></td>\n",
       "      <td></td>\n",
       "      <td></td>\n",
       "      <td></td>\n",
       "    </tr>\n",
       "    <tr>\n",
       "      <td>2018-04-01</td>\n",
       "      <td>4.66</td>\n",
       "      <td>0.53</td>\n",
       "      <td></td>\n",
       "      <td></td>\n",
       "      <td></td>\n",
       "      <td></td>\n",
       "      <td></td>\n",
       "      <td></td>\n",
       "      <td></td>\n",
       "      <td></td>\n",
       "      <td></td>\n",
       "      <td></td>\n",
       "    </tr>\n",
       "    <tr>\n",
       "      <td>2018-05-01</td>\n",
       "      <td>4.66</td>\n",
       "      <td></td>\n",
       "      <td></td>\n",
       "      <td></td>\n",
       "      <td></td>\n",
       "      <td></td>\n",
       "      <td></td>\n",
       "      <td></td>\n",
       "      <td></td>\n",
       "      <td></td>\n",
       "      <td></td>\n",
       "      <td></td>\n",
       "    </tr>\n",
       "    <tr>\n",
       "      <td>2018-06-01</td>\n",
       "      <td>3.42</td>\n",
       "      <td></td>\n",
       "      <td></td>\n",
       "      <td></td>\n",
       "      <td></td>\n",
       "      <td></td>\n",
       "      <td></td>\n",
       "      <td></td>\n",
       "      <td></td>\n",
       "      <td></td>\n",
       "      <td></td>\n",
       "      <td></td>\n",
       "    </tr>\n",
       "  </tbody>\n",
       "</table>\n",
       "</div>"
      ],
      "text/plain": [
       "cohort_lifetime      0     1     2     3     4     5     6     7     8     9   \\\n",
       "first_order_month                                                               \n",
       "2017-06-01         4.72  0.49  0.44  0.95  1.02  0.74  0.95  0.58  0.55  0.61   \n",
       "2017-07-01         6.01  0.34  0.62  0.36  0.18  0.16  0.12  0.14  0.16  0.15   \n",
       "2017-08-01         5.28  0.47  0.46  0.39  0.49  0.28  0.21  0.41  0.29  0.19   \n",
       "2017-09-01         5.64  1.12  0.52  3.98   0.4  0.65   0.7  0.24  0.18         \n",
       "2017-10-01         5.00  0.54  0.19  0.16  0.15  0.12  0.08  0.12               \n",
       "2017-11-01         5.15   0.4   0.2  0.32  0.15  0.05  0.11                     \n",
       "2017-12-01         4.74  0.26  0.93  1.07  0.31  0.34                           \n",
       "2018-01-01         4.14  0.29   0.3  0.14  0.06                                 \n",
       "2018-02-01         4.16  0.28  0.08  0.07                                       \n",
       "2018-03-01         4.84   0.3  0.32                                             \n",
       "2018-04-01         4.66  0.53                                                   \n",
       "2018-05-01         4.66                                                         \n",
       "2018-06-01         3.42                                                         \n",
       "\n",
       "cohort_lifetime      10    11  \n",
       "first_order_month              \n",
       "2017-06-01         0.57  0.26  \n",
       "2017-07-01         0.16        \n",
       "2017-08-01                     \n",
       "2017-09-01                     \n",
       "2017-10-01                     \n",
       "2017-11-01                     \n",
       "2017-12-01                     \n",
       "2018-01-01                     \n",
       "2018-02-01                     \n",
       "2018-03-01                     \n",
       "2018-04-01                     \n",
       "2018-05-01                     \n",
       "2018-06-01                     "
      ]
     },
     "execution_count": 188,
     "metadata": {},
     "output_type": "execute_result"
    }
   ],
   "source": [
    "ltv_pivot.fillna(' ')"
   ]
  },
  {
   "cell_type": "markdown",
   "metadata": {},
   "source": [
    "Посчитаем средний LTV по каждой когорте отдельно и по всем когортам суммируем общий показатель"
   ]
  },
  {
   "cell_type": "code",
   "execution_count": 189,
   "metadata": {},
   "outputs": [
    {
     "data": {
      "text/html": [
       "<div>\n",
       "<style scoped>\n",
       "    .dataframe tbody tr th:only-of-type {\n",
       "        vertical-align: middle;\n",
       "    }\n",
       "\n",
       "    .dataframe tbody tr th {\n",
       "        vertical-align: top;\n",
       "    }\n",
       "\n",
       "    .dataframe thead th {\n",
       "        text-align: right;\n",
       "    }\n",
       "</style>\n",
       "<table border=\"1\" class=\"dataframe\">\n",
       "  <thead>\n",
       "    <tr style=\"text-align: right;\">\n",
       "      <th></th>\n",
       "      <th>first_order_month</th>\n",
       "      <th>ltv_sum</th>\n",
       "      <th>ltv_mean</th>\n",
       "    </tr>\n",
       "  </thead>\n",
       "  <tbody>\n",
       "    <tr>\n",
       "      <td>0</td>\n",
       "      <td>2017-06-01</td>\n",
       "      <td>11.88</td>\n",
       "      <td>0.99</td>\n",
       "    </tr>\n",
       "    <tr>\n",
       "      <td>1</td>\n",
       "      <td>2017-07-01</td>\n",
       "      <td>8.40</td>\n",
       "      <td>0.76</td>\n",
       "    </tr>\n",
       "    <tr>\n",
       "      <td>2</td>\n",
       "      <td>2017-08-01</td>\n",
       "      <td>8.47</td>\n",
       "      <td>0.85</td>\n",
       "    </tr>\n",
       "    <tr>\n",
       "      <td>3</td>\n",
       "      <td>2017-09-01</td>\n",
       "      <td>13.43</td>\n",
       "      <td>1.49</td>\n",
       "    </tr>\n",
       "    <tr>\n",
       "      <td>4</td>\n",
       "      <td>2017-10-01</td>\n",
       "      <td>6.36</td>\n",
       "      <td>0.80</td>\n",
       "    </tr>\n",
       "    <tr>\n",
       "      <td>5</td>\n",
       "      <td>2017-11-01</td>\n",
       "      <td>6.38</td>\n",
       "      <td>0.91</td>\n",
       "    </tr>\n",
       "    <tr>\n",
       "      <td>6</td>\n",
       "      <td>2017-12-01</td>\n",
       "      <td>7.65</td>\n",
       "      <td>1.27</td>\n",
       "    </tr>\n",
       "    <tr>\n",
       "      <td>7</td>\n",
       "      <td>2018-01-01</td>\n",
       "      <td>4.93</td>\n",
       "      <td>0.99</td>\n",
       "    </tr>\n",
       "    <tr>\n",
       "      <td>8</td>\n",
       "      <td>2018-02-01</td>\n",
       "      <td>4.59</td>\n",
       "      <td>1.15</td>\n",
       "    </tr>\n",
       "    <tr>\n",
       "      <td>9</td>\n",
       "      <td>2018-03-01</td>\n",
       "      <td>5.46</td>\n",
       "      <td>1.82</td>\n",
       "    </tr>\n",
       "    <tr>\n",
       "      <td>10</td>\n",
       "      <td>2018-04-01</td>\n",
       "      <td>5.19</td>\n",
       "      <td>2.60</td>\n",
       "    </tr>\n",
       "    <tr>\n",
       "      <td>11</td>\n",
       "      <td>2018-05-01</td>\n",
       "      <td>4.66</td>\n",
       "      <td>4.66</td>\n",
       "    </tr>\n",
       "    <tr>\n",
       "      <td>12</td>\n",
       "      <td>2018-06-01</td>\n",
       "      <td>3.42</td>\n",
       "      <td>3.42</td>\n",
       "    </tr>\n",
       "  </tbody>\n",
       "</table>\n",
       "</div>"
      ],
      "text/plain": [
       "   first_order_month  ltv_sum  ltv_mean\n",
       "0         2017-06-01    11.88      0.99\n",
       "1         2017-07-01     8.40      0.76\n",
       "2         2017-08-01     8.47      0.85\n",
       "3         2017-09-01    13.43      1.49\n",
       "4         2017-10-01     6.36      0.80\n",
       "5         2017-11-01     6.38      0.91\n",
       "6         2017-12-01     7.65      1.27\n",
       "7         2018-01-01     4.93      0.99\n",
       "8         2018-02-01     4.59      1.15\n",
       "9         2018-03-01     5.46      1.82\n",
       "10        2018-04-01     5.19      2.60\n",
       "11        2018-05-01     4.66      4.66\n",
       "12        2018-06-01     3.42      3.42"
      ]
     },
     "metadata": {},
     "output_type": "display_data"
    }
   ],
   "source": [
    "ltv_cohorts =report.groupby(['first_order_month']).agg({'ltv':['sum','mean']}).round(2).reset_index()\n",
    "ltv_cohorts.columns = ['first_order_month','ltv_sum', 'ltv_mean']\n",
    "display(ltv_cohorts)\n"
   ]
  },
  {
   "cell_type": "code",
   "execution_count": 190,
   "metadata": {},
   "outputs": [
    {
     "name": "stdout",
     "output_type": "stream",
     "text": [
      "Общий средний LTV: 6.99\n"
     ]
    }
   ],
   "source": [
    "ltv_mean = ltv_cohorts['ltv_sum'].mean().round(2)\n",
    "print('Общий средний LTV:', ltv_mean) "
   ]
  },
  {
   "cell_type": "markdown",
   "metadata": {},
   "source": [
    "Значит, каждый покупатель из нулевой когорты принес прибыли по 11.88 рублей за весь срок жизни когорты, из когорты 9 - 5.46 рубля. В среднем, каждый покупатель всех когорт принес по 6.99 рублей.\n",
    "При этом каждый покупатель из нулевой когорты ежемесячно приносил по 0.99, а из когорты 11 - по 1.82 (так как ее срок жизни гораздо меньше)."
   ]
  },
  {
   "cell_type": "markdown",
   "metadata": {},
   "source": [
    "Построим 'ящик с усами' для визуализации среднего значения LTV"
   ]
  },
  {
   "cell_type": "code",
   "execution_count": 191,
   "metadata": {},
   "outputs": [
    {
     "data": {
      "text/plain": [
       "Text(0, 0.5, 'LTV')"
      ]
     },
     "execution_count": 191,
     "metadata": {},
     "output_type": "execute_result"
    },
    {
     "data": {
      "image/png": "[encoded data removed]",
      "text/plain": [
       "<Figure size 432x288 with 1 Axes>"
      ]
     },
     "metadata": {},
     "output_type": "display_data"
    }
   ],
   "source": [
    "ltv_cohorts.boxplot(['ltv_sum'])\n",
    "plt.ylim(4, 9)\n",
    "plt.title('Ср.показатель LTV')\n",
    "plt.ylabel('LTV')"
   ]
  },
  {
   "cell_type": "markdown",
   "metadata": {},
   "source": [
    "Среднее значение суммированного по когортам LTV составляет около 6.5-7 рублей за весь срок жизни всех когорт. Самой доходной была когорта '2017-09-01' с LTV 13 рублей. Последние по дате когорты приносили прибыли ниже среднего в 2-3 раза, причем в сумме."
   ]
  },
  {
   "cell_type": "markdown",
   "metadata": {},
   "source": [
    "#### 3.Маркетинг\n",
    "\n",
    "##### Сколько денег потратили? Всего / на каждый источник / по времени\n",
    "\n",
    "Переходим к работе над датасетом costs_data. Необходимо понять структуру затрат на маркетинг.\n",
    "\n",
    "Выясним, сколько всего потратили денег на маркетинговые расходы"
   ]
  },
  {
   "cell_type": "code",
   "execution_count": 192,
   "metadata": {},
   "outputs": [
    {
     "name": "stdout",
     "output_type": "stream",
     "text": [
      "Общие затраты на маркетинг за период в рублях:  329131.62\n"
     ]
    }
   ],
   "source": [
    "total_costs = costs_data['costs'].sum().round(2)\n",
    "print('Общие затраты на маркетинг за период в рублях: ', total_costs)\n"
   ]
  },
  {
   "cell_type": "markdown",
   "metadata": {},
   "source": [
    "Затраты на маркетинг достаточно высокие, они превышают выручку за тот же период - 252 057 рублей на 77 074 рубля, но, возможно, это вопрос распределения и реструктуризации маркетингового бюджета. "
   ]
  },
  {
   "cell_type": "markdown",
   "metadata": {},
   "source": [
    "###### Выясним, сколько денег потратили на каждый рекламный источник"
   ]
  },
  {
   "cell_type": "code",
   "execution_count": 193,
   "metadata": {},
   "outputs": [
    {
     "name": "stdout",
     "output_type": "stream",
     "text": [
      "Ср.маркетинговые расходы на рекламный источник 47019.0\n"
     ]
    },
    {
     "data": {
      "text/html": [
       "<div>\n",
       "<style scoped>\n",
       "    .dataframe tbody tr th:only-of-type {\n",
       "        vertical-align: middle;\n",
       "    }\n",
       "\n",
       "    .dataframe tbody tr th {\n",
       "        vertical-align: top;\n",
       "    }\n",
       "\n",
       "    .dataframe thead th {\n",
       "        text-align: right;\n",
       "    }\n",
       "</style>\n",
       "<table border=\"1\" class=\"dataframe\">\n",
       "  <thead>\n",
       "    <tr style=\"text-align: right;\">\n",
       "      <th></th>\n",
       "      <th>source_costs</th>\n",
       "    </tr>\n",
       "    <tr>\n",
       "      <th>source id</th>\n",
       "      <th></th>\n",
       "    </tr>\n",
       "  </thead>\n",
       "  <tbody>\n",
       "    <tr>\n",
       "      <td>1</td>\n",
       "      <td>20833.27</td>\n",
       "    </tr>\n",
       "    <tr>\n",
       "      <td>2</td>\n",
       "      <td>42806.04</td>\n",
       "    </tr>\n",
       "    <tr>\n",
       "      <td>3</td>\n",
       "      <td>141321.63</td>\n",
       "    </tr>\n",
       "    <tr>\n",
       "      <td>4</td>\n",
       "      <td>61073.60</td>\n",
       "    </tr>\n",
       "    <tr>\n",
       "      <td>5</td>\n",
       "      <td>51757.10</td>\n",
       "    </tr>\n",
       "    <tr>\n",
       "      <td>9</td>\n",
       "      <td>5517.49</td>\n",
       "    </tr>\n",
       "    <tr>\n",
       "      <td>10</td>\n",
       "      <td>5822.49</td>\n",
       "    </tr>\n",
       "  </tbody>\n",
       "</table>\n",
       "</div>"
      ],
      "text/plain": [
       "           source_costs\n",
       "source id              \n",
       "1              20833.27\n",
       "2              42806.04\n",
       "3             141321.63\n",
       "4              61073.60\n",
       "5              51757.10\n",
       "9               5517.49\n",
       "10              5822.49"
      ]
     },
     "metadata": {},
     "output_type": "display_data"
    }
   ],
   "source": [
    "costs_per_source = costs_data.groupby(['source id']).agg({'costs': ['sum']})\n",
    "costs_per_source.columns = ['source_costs']\n",
    "costs_per_source['source_costs'].mean()\n",
    "print('Ср.маркетинговые расходы на рекламный источник', costs_per_source['source_costs'].mean().round(0))\n",
    "display(costs_per_source)"
   ]
  },
  {
   "cell_type": "markdown",
   "metadata": {},
   "source": [
    "Построим гистограмму ТОП-рекламных источников по финансированию"
   ]
  },
  {
   "cell_type": "code",
   "execution_count": 194,
   "metadata": {},
   "outputs": [
    {
     "data": {
      "text/plain": [
       "Text(0, 0.5, 'сумма маркетинговых расходов')"
      ]
     },
     "execution_count": 194,
     "metadata": {},
     "output_type": "execute_result"
    },
    {
     "data": {
      "image/png": "[encoded data removed]",
      "text/plain": [
       "<Figure size 720x360 with 1 Axes>"
      ]
     },
     "metadata": {},
     "output_type": "display_data"
    }
   ],
   "source": [
    "costs_per_source.sort_values(by='source_costs', ascending=False).plot(y='source_costs', kind='bar', figsize=(10, 5), color='violet')\n",
    "plt.title(\"TOP-10 рекламных источников по маркетинговым расходам\")\n",
    "plt.xlabel(\"тип источника\")\n",
    "plt.ylabel(\"сумма маркетинговых расходов\")\n"
   ]
  },
  {
   "cell_type": "markdown",
   "metadata": {},
   "source": [
    "Всего использовано 10 видов рекламных источников. В среднем, на каждый источник выделено 47 019 рублей. Больше всего вложено денег  в источник 3 (141 322 рубля), что составляет почти 43% годового маркетингового бюджета. В источники 4, 5, 2 вложено в 2-3 раза меньше - около 40-60 000 рублей. Наименее финансируемые - источники 10 и 9 по 5500 рублей. На рекламные источники 6, 7, 8 финансирования не выделялось."
   ]
  },
  {
   "cell_type": "markdown",
   "metadata": {},
   "source": [
    "###### Рассмотрим, как деньги распределены по времени"
   ]
  },
  {
   "cell_type": "markdown",
   "metadata": {},
   "source": [
    "Построим временные когорты по месяцу для исследования маркетинговых затрат"
   ]
  },
  {
   "cell_type": "code",
   "execution_count": 195,
   "metadata": {},
   "outputs": [
    {
     "data": {
      "text/html": [
       "<div>\n",
       "<style scoped>\n",
       "    .dataframe tbody tr th:only-of-type {\n",
       "        vertical-align: middle;\n",
       "    }\n",
       "\n",
       "    .dataframe tbody tr th {\n",
       "        vertical-align: top;\n",
       "    }\n",
       "\n",
       "    .dataframe thead th {\n",
       "        text-align: right;\n",
       "    }\n",
       "</style>\n",
       "<table border=\"1\" class=\"dataframe\">\n",
       "  <thead>\n",
       "    <tr style=\"text-align: right;\">\n",
       "      <th></th>\n",
       "      <th>first_costs_month</th>\n",
       "      <th>costs_month</th>\n",
       "      <th>source id</th>\n",
       "      <th>costs</th>\n",
       "    </tr>\n",
       "  </thead>\n",
       "  <tbody>\n",
       "    <tr>\n",
       "      <td>0</td>\n",
       "      <td>2017-06-01</td>\n",
       "      <td>2017-06-01</td>\n",
       "      <td>1</td>\n",
       "      <td>1125.61</td>\n",
       "    </tr>\n",
       "    <tr>\n",
       "      <td>1</td>\n",
       "      <td>2017-06-01</td>\n",
       "      <td>2017-06-01</td>\n",
       "      <td>2</td>\n",
       "      <td>2427.38</td>\n",
       "    </tr>\n",
       "    <tr>\n",
       "      <td>2</td>\n",
       "      <td>2017-06-01</td>\n",
       "      <td>2017-06-01</td>\n",
       "      <td>3</td>\n",
       "      <td>7731.65</td>\n",
       "    </tr>\n",
       "    <tr>\n",
       "      <td>3</td>\n",
       "      <td>2017-06-01</td>\n",
       "      <td>2017-06-01</td>\n",
       "      <td>4</td>\n",
       "      <td>3514.80</td>\n",
       "    </tr>\n",
       "    <tr>\n",
       "      <td>4</td>\n",
       "      <td>2017-06-01</td>\n",
       "      <td>2017-06-01</td>\n",
       "      <td>5</td>\n",
       "      <td>2616.12</td>\n",
       "    </tr>\n",
       "    <tr>\n",
       "      <td>5</td>\n",
       "      <td>2017-06-01</td>\n",
       "      <td>2017-06-01</td>\n",
       "      <td>9</td>\n",
       "      <td>285.22</td>\n",
       "    </tr>\n",
       "    <tr>\n",
       "      <td>6</td>\n",
       "      <td>2017-06-01</td>\n",
       "      <td>2017-06-01</td>\n",
       "      <td>10</td>\n",
       "      <td>314.22</td>\n",
       "    </tr>\n",
       "    <tr>\n",
       "      <td>7</td>\n",
       "      <td>2017-06-01</td>\n",
       "      <td>2017-07-01</td>\n",
       "      <td>1</td>\n",
       "      <td>1072.88</td>\n",
       "    </tr>\n",
       "    <tr>\n",
       "      <td>8</td>\n",
       "      <td>2017-06-01</td>\n",
       "      <td>2017-07-01</td>\n",
       "      <td>2</td>\n",
       "      <td>2333.11</td>\n",
       "    </tr>\n",
       "    <tr>\n",
       "      <td>9</td>\n",
       "      <td>2017-06-01</td>\n",
       "      <td>2017-07-01</td>\n",
       "      <td>3</td>\n",
       "      <td>7674.37</td>\n",
       "    </tr>\n",
       "    <tr>\n",
       "      <td>10</td>\n",
       "      <td>2017-06-01</td>\n",
       "      <td>2017-07-01</td>\n",
       "      <td>4</td>\n",
       "      <td>3529.73</td>\n",
       "    </tr>\n",
       "    <tr>\n",
       "      <td>11</td>\n",
       "      <td>2017-06-01</td>\n",
       "      <td>2017-07-01</td>\n",
       "      <td>5</td>\n",
       "      <td>2998.14</td>\n",
       "    </tr>\n",
       "    <tr>\n",
       "      <td>12</td>\n",
       "      <td>2017-06-01</td>\n",
       "      <td>2017-07-01</td>\n",
       "      <td>9</td>\n",
       "      <td>302.54</td>\n",
       "    </tr>\n",
       "    <tr>\n",
       "      <td>13</td>\n",
       "      <td>2017-06-01</td>\n",
       "      <td>2017-07-01</td>\n",
       "      <td>10</td>\n",
       "      <td>329.82</td>\n",
       "    </tr>\n",
       "    <tr>\n",
       "      <td>14</td>\n",
       "      <td>2017-06-01</td>\n",
       "      <td>2017-08-01</td>\n",
       "      <td>1</td>\n",
       "      <td>951.81</td>\n",
       "    </tr>\n",
       "    <tr>\n",
       "      <td>15</td>\n",
       "      <td>2017-06-01</td>\n",
       "      <td>2017-08-01</td>\n",
       "      <td>2</td>\n",
       "      <td>1811.05</td>\n",
       "    </tr>\n",
       "    <tr>\n",
       "      <td>16</td>\n",
       "      <td>2017-06-01</td>\n",
       "      <td>2017-08-01</td>\n",
       "      <td>3</td>\n",
       "      <td>6143.54</td>\n",
       "    </tr>\n",
       "    <tr>\n",
       "      <td>17</td>\n",
       "      <td>2017-06-01</td>\n",
       "      <td>2017-08-01</td>\n",
       "      <td>4</td>\n",
       "      <td>3217.36</td>\n",
       "    </tr>\n",
       "    <tr>\n",
       "      <td>18</td>\n",
       "      <td>2017-06-01</td>\n",
       "      <td>2017-08-01</td>\n",
       "      <td>5</td>\n",
       "      <td>2185.28</td>\n",
       "    </tr>\n",
       "    <tr>\n",
       "      <td>19</td>\n",
       "      <td>2017-06-01</td>\n",
       "      <td>2017-08-01</td>\n",
       "      <td>9</td>\n",
       "      <td>248.93</td>\n",
       "    </tr>\n",
       "  </tbody>\n",
       "</table>\n",
       "</div>"
      ],
      "text/plain": [
       "   first_costs_month costs_month  source id    costs\n",
       "0         2017-06-01  2017-06-01          1  1125.61\n",
       "1         2017-06-01  2017-06-01          2  2427.38\n",
       "2         2017-06-01  2017-06-01          3  7731.65\n",
       "3         2017-06-01  2017-06-01          4  3514.80\n",
       "4         2017-06-01  2017-06-01          5  2616.12\n",
       "5         2017-06-01  2017-06-01          9   285.22\n",
       "6         2017-06-01  2017-06-01         10   314.22\n",
       "7         2017-06-01  2017-07-01          1  1072.88\n",
       "8         2017-06-01  2017-07-01          2  2333.11\n",
       "9         2017-06-01  2017-07-01          3  7674.37\n",
       "10        2017-06-01  2017-07-01          4  3529.73\n",
       "11        2017-06-01  2017-07-01          5  2998.14\n",
       "12        2017-06-01  2017-07-01          9   302.54\n",
       "13        2017-06-01  2017-07-01         10   329.82\n",
       "14        2017-06-01  2017-08-01          1   951.81\n",
       "15        2017-06-01  2017-08-01          2  1811.05\n",
       "16        2017-06-01  2017-08-01          3  6143.54\n",
       "17        2017-06-01  2017-08-01          4  3217.36\n",
       "18        2017-06-01  2017-08-01          5  2185.28\n",
       "19        2017-06-01  2017-08-01          9   248.93"
      ]
     },
     "metadata": {},
     "output_type": "display_data"
    }
   ],
   "source": [
    "first_costs_date = costs_data.groupby(['source id'])['dt'].min()\n",
    "first_costs_date.name = 'first_costs_date'\n",
    "costs = costs_data.join(first_costs_date,on='source id')\n",
    "costs['first_costs_month'] = costs['first_costs_date'].astype('datetime64[M]')\n",
    "costs['costs_month'] = costs['dt'].astype('datetime64[M]')\n",
    "\n",
    "costs_cohorts = costs.groupby(['first_costs_month', 'costs_month', 'source id']).agg({'costs':'sum'}).reset_index()\n",
    "display(costs_cohorts.head(20))"
   ]
  },
  {
   "cell_type": "markdown",
   "metadata": {},
   "source": [
    "Выясним, какие суммы ежемесячно тратились на маркетинг. Сформируем когорты по месяцу расходов, т.к. первый месяц у всех равен дате начала ведения файла."
   ]
  },
  {
   "cell_type": "code",
   "execution_count": 196,
   "metadata": {},
   "outputs": [
    {
     "data": {
      "text/html": [
       "<div>\n",
       "<style scoped>\n",
       "    .dataframe tbody tr th:only-of-type {\n",
       "        vertical-align: middle;\n",
       "    }\n",
       "\n",
       "    .dataframe tbody tr th {\n",
       "        vertical-align: top;\n",
       "    }\n",
       "\n",
       "    .dataframe thead th {\n",
       "        text-align: right;\n",
       "    }\n",
       "</style>\n",
       "<table border=\"1\" class=\"dataframe\">\n",
       "  <thead>\n",
       "    <tr style=\"text-align: right;\">\n",
       "      <th></th>\n",
       "      <th>costs</th>\n",
       "    </tr>\n",
       "    <tr>\n",
       "      <th>costs_month</th>\n",
       "      <th></th>\n",
       "    </tr>\n",
       "  </thead>\n",
       "  <tbody>\n",
       "    <tr>\n",
       "      <td>2017-06-01</td>\n",
       "      <td>18015.00</td>\n",
       "    </tr>\n",
       "    <tr>\n",
       "      <td>2017-07-01</td>\n",
       "      <td>18240.59</td>\n",
       "    </tr>\n",
       "    <tr>\n",
       "      <td>2017-08-01</td>\n",
       "      <td>14790.54</td>\n",
       "    </tr>\n",
       "    <tr>\n",
       "      <td>2017-09-01</td>\n",
       "      <td>24368.91</td>\n",
       "    </tr>\n",
       "    <tr>\n",
       "      <td>2017-10-01</td>\n",
       "      <td>36322.88</td>\n",
       "    </tr>\n",
       "    <tr>\n",
       "      <td>2017-11-01</td>\n",
       "      <td>37907.88</td>\n",
       "    </tr>\n",
       "    <tr>\n",
       "      <td>2017-12-01</td>\n",
       "      <td>38315.35</td>\n",
       "    </tr>\n",
       "    <tr>\n",
       "      <td>2018-01-01</td>\n",
       "      <td>33518.52</td>\n",
       "    </tr>\n",
       "    <tr>\n",
       "      <td>2018-02-01</td>\n",
       "      <td>32723.03</td>\n",
       "    </tr>\n",
       "    <tr>\n",
       "      <td>2018-03-01</td>\n",
       "      <td>30415.27</td>\n",
       "    </tr>\n",
       "    <tr>\n",
       "      <td>2018-04-01</td>\n",
       "      <td>22289.38</td>\n",
       "    </tr>\n",
       "    <tr>\n",
       "      <td>2018-05-01</td>\n",
       "      <td>22224.27</td>\n",
       "    </tr>\n",
       "  </tbody>\n",
       "</table>\n",
       "</div>"
      ],
      "text/plain": [
       "                costs\n",
       "costs_month          \n",
       "2017-06-01   18015.00\n",
       "2017-07-01   18240.59\n",
       "2017-08-01   14790.54\n",
       "2017-09-01   24368.91\n",
       "2017-10-01   36322.88\n",
       "2017-11-01   37907.88\n",
       "2017-12-01   38315.35\n",
       "2018-01-01   33518.52\n",
       "2018-02-01   32723.03\n",
       "2018-03-01   30415.27\n",
       "2018-04-01   22289.38\n",
       "2018-05-01   22224.27"
      ]
     },
     "metadata": {},
     "output_type": "display_data"
    }
   ],
   "source": [
    "costs_cohorts['costs_per_source'] = (costs_cohorts['costs'] / costs_cohorts['source id']).round(2)\n",
    "costs_cohorts['cohort_lifetime'] = costs_cohorts['costs_month'] - costs_cohorts['first_costs_month']\n",
    "costs_cohorts['cohort_lifetime'] = (costs_cohorts['cohort_lifetime'] / np.timedelta64(1,'M')).round().astype('int')\n",
    "costs_cohorts['costs_month'].dt.strftime('%d.%m.%Y')\n",
    "costs_per_month_pivot = costs_cohorts.pivot_table(index=['costs_month'],values='costs', aggfunc='sum')\n",
    "display(costs_per_month_pivot)"
   ]
  },
  {
   "cell_type": "markdown",
   "metadata": {},
   "source": [
    "Согласно данной таблице мы видим, что больше всего финансировались маркетинговые мероприятия с октября по ноябрь. Возможно, в связи с предпраздничными мероприятими.  Первые три месяца - с июня по август расходы были меньше всего. "
   ]
  },
  {
   "cell_type": "markdown",
   "metadata": {},
   "source": [
    "###### исправлено"
   ]
  },
  {
   "cell_type": "markdown",
   "metadata": {},
   "source": [
    "Рассчитаем средний расход в месяц"
   ]
  },
  {
   "cell_type": "code",
   "execution_count": 197,
   "metadata": {},
   "outputs": [
    {
     "name": "stdout",
     "output_type": "stream",
     "text": [
      "Ср.маркетинговые расходы в месяц 27428.0\n"
     ]
    }
   ],
   "source": [
    "costs_per_month = costs_cohorts.groupby('costs_month').agg({'costs': 'sum'})\n",
    "costs_per_month.columns = ['month_costs']\n",
    "costs_per_month['month_costs'].mean()\n",
    "print('Ср.маркетинговые расходы в месяц', costs_per_month['month_costs'].mean().round())\n",
    "#display(costs_per_month)"
   ]
  },
  {
   "cell_type": "markdown",
   "metadata": {},
   "source": [
    "Расходы на маркетинг выделялись ежемесячно с сезонными пиками с октября 2017 г. до марта 2018 г., т.е. в праздничные периоды расходы увеличивались. Больше всего было выделено в декабре 2017 г. - 38 315 рублей. В среднем общий ежемесячный маркетинговый бюджет составлял 27 428 рублей."
   ]
  },
  {
   "cell_type": "markdown",
   "metadata": {},
   "source": [
    "Посмотрим, сколько выделялось каждый месяц на конкретный рекламный источник"
   ]
  },
  {
   "cell_type": "code",
   "execution_count": 198,
   "metadata": {},
   "outputs": [
    {
     "data": {
      "text/html": [
       "<div>\n",
       "<style scoped>\n",
       "    .dataframe tbody tr th:only-of-type {\n",
       "        vertical-align: middle;\n",
       "    }\n",
       "\n",
       "    .dataframe tbody tr th {\n",
       "        vertical-align: top;\n",
       "    }\n",
       "\n",
       "    .dataframe thead th {\n",
       "        text-align: right;\n",
       "    }\n",
       "</style>\n",
       "<table border=\"1\" class=\"dataframe\">\n",
       "  <thead>\n",
       "    <tr style=\"text-align: right;\">\n",
       "      <th>source id</th>\n",
       "      <th>1</th>\n",
       "      <th>2</th>\n",
       "      <th>3</th>\n",
       "      <th>4</th>\n",
       "      <th>5</th>\n",
       "      <th>9</th>\n",
       "      <th>10</th>\n",
       "    </tr>\n",
       "    <tr>\n",
       "      <th>costs_month</th>\n",
       "      <th></th>\n",
       "      <th></th>\n",
       "      <th></th>\n",
       "      <th></th>\n",
       "      <th></th>\n",
       "      <th></th>\n",
       "      <th></th>\n",
       "    </tr>\n",
       "  </thead>\n",
       "  <tbody>\n",
       "    <tr>\n",
       "      <td>2017-06-01</td>\n",
       "      <td>1125.61</td>\n",
       "      <td>1213.69</td>\n",
       "      <td>2577.22</td>\n",
       "      <td>878.70</td>\n",
       "      <td>523.22</td>\n",
       "      <td>31.69</td>\n",
       "      <td>31.42</td>\n",
       "    </tr>\n",
       "    <tr>\n",
       "      <td>2017-07-01</td>\n",
       "      <td>1072.88</td>\n",
       "      <td>1166.55</td>\n",
       "      <td>2558.12</td>\n",
       "      <td>882.43</td>\n",
       "      <td>599.63</td>\n",
       "      <td>33.62</td>\n",
       "      <td>32.98</td>\n",
       "    </tr>\n",
       "    <tr>\n",
       "      <td>2017-08-01</td>\n",
       "      <td>951.81</td>\n",
       "      <td>905.53</td>\n",
       "      <td>2047.85</td>\n",
       "      <td>804.34</td>\n",
       "      <td>437.06</td>\n",
       "      <td>27.66</td>\n",
       "      <td>23.26</td>\n",
       "    </tr>\n",
       "    <tr>\n",
       "      <td>2017-09-01</td>\n",
       "      <td>1502.01</td>\n",
       "      <td>1492.83</td>\n",
       "      <td>3321.18</td>\n",
       "      <td>1298.06</td>\n",
       "      <td>769.83</td>\n",
       "      <td>46.18</td>\n",
       "      <td>46.07</td>\n",
       "    </tr>\n",
       "    <tr>\n",
       "      <td>2017-10-01</td>\n",
       "      <td>2315.75</td>\n",
       "      <td>2422.50</td>\n",
       "      <td>5245.75</td>\n",
       "      <td>1605.21</td>\n",
       "      <td>1153.48</td>\n",
       "      <td>67.71</td>\n",
       "      <td>62.72</td>\n",
       "    </tr>\n",
       "    <tr>\n",
       "      <td>2017-11-01</td>\n",
       "      <td>2445.16</td>\n",
       "      <td>2623.84</td>\n",
       "      <td>5675.11</td>\n",
       "      <td>1347.21</td>\n",
       "      <td>1265.07</td>\n",
       "      <td>75.91</td>\n",
       "      <td>79.24</td>\n",
       "    </tr>\n",
       "    <tr>\n",
       "      <td>2017-12-01</td>\n",
       "      <td>2341.20</td>\n",
       "      <td>2448.90</td>\n",
       "      <td>5406.51</td>\n",
       "      <td>1920.12</td>\n",
       "      <td>1174.50</td>\n",
       "      <td>73.11</td>\n",
       "      <td>64.59</td>\n",
       "    </tr>\n",
       "    <tr>\n",
       "      <td>2018-01-01</td>\n",
       "      <td>2186.18</td>\n",
       "      <td>2078.87</td>\n",
       "      <td>4936.26</td>\n",
       "      <td>1458.20</td>\n",
       "      <td>1074.30</td>\n",
       "      <td>60.80</td>\n",
       "      <td>61.43</td>\n",
       "    </tr>\n",
       "    <tr>\n",
       "      <td>2018-02-01</td>\n",
       "      <td>2204.48</td>\n",
       "      <td>2237.17</td>\n",
       "      <td>4742.85</td>\n",
       "      <td>1427.99</td>\n",
       "      <td>1014.26</td>\n",
       "      <td>61.28</td>\n",
       "      <td>48.09</td>\n",
       "    </tr>\n",
       "    <tr>\n",
       "      <td>2018-03-01</td>\n",
       "      <td>1893.09</td>\n",
       "      <td>1971.57</td>\n",
       "      <td>4360.28</td>\n",
       "      <td>1490.47</td>\n",
       "      <td>905.92</td>\n",
       "      <td>53.37</td>\n",
       "      <td>52.64</td>\n",
       "    </tr>\n",
       "    <tr>\n",
       "      <td>2018-04-01</td>\n",
       "      <td>1327.49</td>\n",
       "      <td>1496.85</td>\n",
       "      <td>3098.94</td>\n",
       "      <td>1102.12</td>\n",
       "      <td>700.23</td>\n",
       "      <td>41.50</td>\n",
       "      <td>38.83</td>\n",
       "    </tr>\n",
       "    <tr>\n",
       "      <td>2018-05-01</td>\n",
       "      <td>1467.61</td>\n",
       "      <td>1344.72</td>\n",
       "      <td>3137.14</td>\n",
       "      <td>1053.55</td>\n",
       "      <td>733.91</td>\n",
       "      <td>40.24</td>\n",
       "      <td>40.99</td>\n",
       "    </tr>\n",
       "  </tbody>\n",
       "</table>\n",
       "</div>"
      ],
      "text/plain": [
       "source id         1        2        3        4        5      9      10\n",
       "costs_month                                                           \n",
       "2017-06-01   1125.61  1213.69  2577.22   878.70   523.22  31.69  31.42\n",
       "2017-07-01   1072.88  1166.55  2558.12   882.43   599.63  33.62  32.98\n",
       "2017-08-01    951.81   905.53  2047.85   804.34   437.06  27.66  23.26\n",
       "2017-09-01   1502.01  1492.83  3321.18  1298.06   769.83  46.18  46.07\n",
       "2017-10-01   2315.75  2422.50  5245.75  1605.21  1153.48  67.71  62.72\n",
       "2017-11-01   2445.16  2623.84  5675.11  1347.21  1265.07  75.91  79.24\n",
       "2017-12-01   2341.20  2448.90  5406.51  1920.12  1174.50  73.11  64.59\n",
       "2018-01-01   2186.18  2078.87  4936.26  1458.20  1074.30  60.80  61.43\n",
       "2018-02-01   2204.48  2237.17  4742.85  1427.99  1014.26  61.28  48.09\n",
       "2018-03-01   1893.09  1971.57  4360.28  1490.47   905.92  53.37  52.64\n",
       "2018-04-01   1327.49  1496.85  3098.94  1102.12   700.23  41.50  38.83\n",
       "2018-05-01   1467.61  1344.72  3137.14  1053.55   733.91  40.24  40.99"
      ]
     },
     "metadata": {},
     "output_type": "display_data"
    }
   ],
   "source": [
    "costs_per_source = costs_cohorts.pivot_table(index=['costs_month'], columns='source id',values='costs_per_source', aggfunc='sum')\n",
    "display(costs_per_source)"
   ]
  },
  {
   "cell_type": "markdown",
   "metadata": {},
   "source": [
    "Построим график распределения расходов по каждому рекламному источнику в месяц"
   ]
  },
  {
   "cell_type": "code",
   "execution_count": 362,
   "metadata": {},
   "outputs": [
    {
     "data": {
      "text/plain": [
       "(0, 2700)"
      ]
     },
     "execution_count": 362,
     "metadata": {},
     "output_type": "execute_result"
    },
    {
     "data": {
      "image/png": "[encoded data removed]",
      "text/plain": [
       "<Figure size 936x720 with 1 Axes>"
      ]
     },
     "metadata": {},
     "output_type": "display_data"
    }
   ],
   "source": [
    "costs_per_source.plot(kind='bar', figsize=(13, 10), legend=True)\n",
    "plt.title(\"Ежемесячное распределение марк. расходов по источникам\")\n",
    "plt.xlabel(\"месяц расхода\")\n",
    "plt.ylabel(\"сумма расходов\")\n",
    "plt.ylim(0, 2700)"
   ]
  },
  {
   "cell_type": "markdown",
   "metadata": {},
   "source": [
    "Ежемесячные расходы распределялись между источниками неравномерно. Как мы выяснили ранее, самый финансируемый источник 3, ежемесячно на него также выделялось гораздо больше средств, особенно в праздничный сезон. Источники 1 и 2 на 2-месте по ежемесячному финансированию, далее источники 4 и 5. Самые нефинансируемые - 9 и 10. Можно сделать вывод, что приоритизация источников равномерно сохранена на протяжение всего года. Не наблюдается пиков финансирования разных источников от месяца к месяцу."
   ]
  },
  {
   "cell_type": "markdown",
   "metadata": {},
   "source": [
    "##### Устройства пользователей\n",
    "\n",
    "Определим, сколько всего устройств пользователей, и как они распределены по рекламным источникам.\n",
    "Сгуппируем visits_data по типу устройств пользователя и рекламному источнику"
   ]
  },
  {
   "cell_type": "code",
   "execution_count": 200,
   "metadata": {},
   "outputs": [
    {
     "data": {
      "text/html": [
       "<div>\n",
       "<style scoped>\n",
       "    .dataframe tbody tr th:only-of-type {\n",
       "        vertical-align: middle;\n",
       "    }\n",
       "\n",
       "    .dataframe tbody tr th {\n",
       "        vertical-align: top;\n",
       "    }\n",
       "\n",
       "    .dataframe thead tr th {\n",
       "        text-align: left;\n",
       "    }\n",
       "\n",
       "    .dataframe thead tr:last-of-type th {\n",
       "        text-align: right;\n",
       "    }\n",
       "</style>\n",
       "<table border=\"1\" class=\"dataframe\">\n",
       "  <thead>\n",
       "    <tr>\n",
       "      <th></th>\n",
       "      <th colspan=\"9\" halign=\"left\">nunique</th>\n",
       "    </tr>\n",
       "    <tr>\n",
       "      <th>source id</th>\n",
       "      <th>1</th>\n",
       "      <th>2</th>\n",
       "      <th>3</th>\n",
       "      <th>4</th>\n",
       "      <th>5</th>\n",
       "      <th>6</th>\n",
       "      <th>7</th>\n",
       "      <th>9</th>\n",
       "      <th>10</th>\n",
       "    </tr>\n",
       "    <tr>\n",
       "      <th>device</th>\n",
       "      <th></th>\n",
       "      <th></th>\n",
       "      <th></th>\n",
       "      <th></th>\n",
       "      <th></th>\n",
       "      <th></th>\n",
       "      <th></th>\n",
       "      <th></th>\n",
       "      <th></th>\n",
       "    </tr>\n",
       "  </thead>\n",
       "  <tbody>\n",
       "    <tr>\n",
       "      <td>desktop</td>\n",
       "      <td>13172</td>\n",
       "      <td>18257</td>\n",
       "      <td>57420</td>\n",
       "      <td>55607</td>\n",
       "      <td>42053</td>\n",
       "      <td>5</td>\n",
       "      <td>26</td>\n",
       "      <td>7079</td>\n",
       "      <td>5763</td>\n",
       "    </tr>\n",
       "    <tr>\n",
       "      <td>touch</td>\n",
       "      <td>6094</td>\n",
       "      <td>8609</td>\n",
       "      <td>18600</td>\n",
       "      <td>29313</td>\n",
       "      <td>15375</td>\n",
       "      <td>1</td>\n",
       "      <td>8</td>\n",
       "      <td>2402</td>\n",
       "      <td>2381</td>\n",
       "    </tr>\n",
       "  </tbody>\n",
       "</table>\n",
       "</div>"
      ],
      "text/plain": [
       "          nunique                                               \n",
       "source id      1      2      3      4      5  6   7     9     10\n",
       "device                                                          \n",
       "desktop     13172  18257  57420  55607  42053  5  26  7079  5763\n",
       "touch        6094   8609  18600  29313  15375  1   8  2402  2381"
      ]
     },
     "metadata": {},
     "output_type": "display_data"
    }
   ],
   "source": [
    "devices = visits_data.pivot_table(index=['device'], columns ='source id', values='uid', aggfunc=['nunique'])\n",
    "display(devices.head())\n"
   ]
  },
  {
   "cell_type": "markdown",
   "metadata": {},
   "source": [
    "Вычислим, сколько всего устройств каждого типа"
   ]
  },
  {
   "cell_type": "code",
   "execution_count": 201,
   "metadata": {},
   "outputs": [
    {
     "name": "stdout",
     "output_type": "stream",
     "text": [
      "Общее количество устройств пользователя типа desktop:  199382\n",
      "Общее количество устройств пользователя типа touch:  82783\n",
      "Всего устройств пользователя за период:  282165\n"
     ]
    }
   ],
   "source": [
    "desktop_sum = devices.loc['desktop'].sum()\n",
    "touch_sum = devices.loc['touch'].sum()\n",
    "device_sum = desktop_sum + touch_sum\n",
    "print('Общее количество устройств пользователя типа desktop: ', desktop_sum)\n",
    "print('Общее количество устройств пользователя типа touch: ', touch_sum)\n",
    "print('Всего устройств пользователя за период: ', device_sum)"
   ]
  },
  {
   "cell_type": "markdown",
   "metadata": {},
   "source": [
    "Построим график сравнения по количеству устройств каждого типа"
   ]
  },
  {
   "cell_type": "code",
   "execution_count": 202,
   "metadata": {},
   "outputs": [
    {
     "data": {
      "text/plain": [
       "Text(0, 0.5, 'кол-во новых пользователей')"
      ]
     },
     "execution_count": 202,
     "metadata": {},
     "output_type": "execute_result"
    },
    {
     "data": {
      "image/png": "[encoded data removed]",
      "text/plain": [
       "<Figure size 432x288 with 1 Axes>"
      ]
     },
     "metadata": {},
     "output_type": "display_data"
    }
   ],
   "source": [
    "touch = [\"touch\"]\n",
    "ax = visits_data.query('device == @touch').groupby('source id')['device'].count().plot(x='source id', y='device', kind='line', title='Сравнение кол-ва пользователей по типам устройств', label=\"touch\", linewidth=4, grid=True, legend=True)\n",
    "\n",
    "def_device = [\"desktop\"]\n",
    "for element in def_device:\n",
    "    visits_data.query('device == @element').groupby('source id')['device'].count().plot(x='source id', y='device', kind='line', title='Сравнение кол-ва пользователей по типам устройств', ax=ax, label=element, linewidth=4, legend=True, grid=True)\n",
    "plt.xlabel(\"тип источника\")\n",
    "plt.ylabel(\"кол-во новых пользователей\")"
   ]
  },
  {
   "cell_type": "markdown",
   "metadata": {},
   "source": [
    "Общее количество устройств 282 165 больше, чем 228 169 уникальных пользователей, т.е. некоторые пользователи пользуются и настольными, и мобильными устройствами. При этом мобильных устройств используется только 30% от общего количества устройств. Наибольшее количество пользователей пришли из рекламных источников 3, 4, 5, куда было вложено больше всего расходов. Далее идут пользователи из источников 1 и 2, наименьшее количество от источников 9 и 10. Практически не сработали источники 6, 7, 8, но на них и не было расходов. Количество новых пользователей соответствует объему маркетинговых расходов."
   ]
  },
  {
   "cell_type": "code",
   "execution_count": 203,
   "metadata": {},
   "outputs": [
    {
     "data": {
      "text/plain": [
       "Text(0, 0.5, 'кол-во новых пользователей')"
      ]
     },
     "execution_count": 203,
     "metadata": {},
     "output_type": "execute_result"
    },
    {
     "data": {
      "image/png": "[encoded data removed]",
      "text/plain": [
       "<Figure size 1152x648 with 1 Axes>"
      ]
     },
     "metadata": {},
     "output_type": "display_data"
    }
   ],
   "source": [
    "devices2 = visits_data.pivot_table(index=['source id'], columns ='device', values='uid', aggfunc=['nunique'])\n",
    "devices2.columns = ['desktop', 'touch']\n",
    "#display(devices2.head())\n",
    "\n",
    "devices3 = devices2.pivot_table(index=\"source id\", values={\"desktop\", \"touch\"}, aggfunc=\"sum\").sort_values(by='desktop', ascending = False)\n",
    "#display(devices3)\n",
    "devices3.plot(kind='bar', title='TOP-10 рекламных источников', figsize=(16,9), grid=True, alpha=0.8) \n",
    "plt.xlabel(\"тип источника\")\n",
    "plt.ylabel(\"кол-во новых пользователей\")"
   ]
  },
  {
   "cell_type": "markdown",
   "metadata": {},
   "source": [
    "Количество новых пользователей соотвествует объему маркетинговых расходов. Чем больше расходов на маркетинг в конкретном рекламном источнике, тем выше количество новых пользователей из данного источника. ТОП-10 практически идентична для обоих типов устройств, за исключением источника 4,  приоритетного для мобильных устройств."
   ]
  },
  {
   "cell_type": "markdown",
   "metadata": {},
   "source": [
    "Проверим, сколько новых пользователей по типам устройств появляется в месяц."
   ]
  },
  {
   "cell_type": "code",
   "execution_count": 204,
   "metadata": {},
   "outputs": [
    {
     "name": "stdout",
     "output_type": "stream",
     "text": [
      "Ср.кол-во новых пользователей в месяц (тип устройства desktop):  3802.0\n",
      "Ср.кол-во новых пользователей в месяц (тип устройства touch):  1047.0\n"
     ]
    },
    {
     "data": {
      "text/html": [
       "<div>\n",
       "<style scoped>\n",
       "    .dataframe tbody tr th:only-of-type {\n",
       "        vertical-align: middle;\n",
       "    }\n",
       "\n",
       "    .dataframe tbody tr th {\n",
       "        vertical-align: top;\n",
       "    }\n",
       "\n",
       "    .dataframe thead tr th {\n",
       "        text-align: left;\n",
       "    }\n",
       "\n",
       "    .dataframe thead tr:last-of-type th {\n",
       "        text-align: right;\n",
       "    }\n",
       "</style>\n",
       "<table border=\"1\" class=\"dataframe\">\n",
       "  <thead>\n",
       "    <tr>\n",
       "      <th></th>\n",
       "      <th colspan=\"12\" halign=\"left\">nunique</th>\n",
       "    </tr>\n",
       "    <tr>\n",
       "      <th>cohort_lifetime</th>\n",
       "      <th>0</th>\n",
       "      <th>1</th>\n",
       "      <th>2</th>\n",
       "      <th>3</th>\n",
       "      <th>4</th>\n",
       "      <th>5</th>\n",
       "      <th>6</th>\n",
       "      <th>7</th>\n",
       "      <th>8</th>\n",
       "      <th>9</th>\n",
       "      <th>10</th>\n",
       "      <th>11</th>\n",
       "    </tr>\n",
       "    <tr>\n",
       "      <th>device</th>\n",
       "      <th></th>\n",
       "      <th></th>\n",
       "      <th></th>\n",
       "      <th></th>\n",
       "      <th></th>\n",
       "      <th></th>\n",
       "      <th></th>\n",
       "      <th></th>\n",
       "      <th></th>\n",
       "      <th></th>\n",
       "      <th></th>\n",
       "      <th></th>\n",
       "    </tr>\n",
       "  </thead>\n",
       "  <tbody>\n",
       "    <tr>\n",
       "      <td>desktop</td>\n",
       "      <td>29803</td>\n",
       "      <td>3843</td>\n",
       "      <td>2551</td>\n",
       "      <td>2121</td>\n",
       "      <td>1796</td>\n",
       "      <td>1552</td>\n",
       "      <td>1227</td>\n",
       "      <td>960</td>\n",
       "      <td>672</td>\n",
       "      <td>515</td>\n",
       "      <td>331</td>\n",
       "      <td>259</td>\n",
       "    </tr>\n",
       "    <tr>\n",
       "      <td>touch</td>\n",
       "      <td>7764</td>\n",
       "      <td>1234</td>\n",
       "      <td>819</td>\n",
       "      <td>633</td>\n",
       "      <td>534</td>\n",
       "      <td>441</td>\n",
       "      <td>350</td>\n",
       "      <td>264</td>\n",
       "      <td>210</td>\n",
       "      <td>139</td>\n",
       "      <td>103</td>\n",
       "      <td>75</td>\n",
       "    </tr>\n",
       "  </tbody>\n",
       "</table>\n",
       "</div>"
      ],
      "text/plain": [
       "                nunique                                                     \\\n",
       "cohort_lifetime      0     1     2     3     4     5     6    7    8    9    \n",
       "device                                                                       \n",
       "desktop           29803  3843  2551  2121  1796  1552  1227  960  672  515   \n",
       "touch              7764  1234   819   633   534   441   350  264  210  139   \n",
       "\n",
       "                           \n",
       "cohort_lifetime   10   11  \n",
       "device                     \n",
       "desktop          331  259  \n",
       "touch            103   75  "
      ]
     },
     "metadata": {},
     "output_type": "display_data"
    }
   ],
   "source": [
    "device_per_month = users.pivot_table(index=['device'], columns ='cohort_lifetime', values='uid', aggfunc=['nunique'])\n",
    "print('Ср.кол-во новых пользователей в месяц (тип устройства desktop): ', (device_per_month.loc['desktop'].sum() / 12).round(0))\n",
    "print('Ср.кол-во новых пользователей в месяц (тип устройства touch): ', (device_per_month.loc['touch'].sum() / 12).round(0))\n",
    "display(device_per_month.head())\n",
    "\n",
    "\n"
   ]
  },
  {
   "cell_type": "markdown",
   "metadata": {},
   "source": [
    "Выясним, сколько всего пользователей посещало сайт каждый месяц в зависимости от типа устройства."
   ]
  },
  {
   "cell_type": "code",
   "execution_count": 205,
   "metadata": {},
   "outputs": [
    {
     "name": "stdout",
     "output_type": "stream",
     "text": [
      "Ср.кол-во активных пользователей в месяц (тип устройства desktop):  59433.0\n",
      "Ср.кол-во активных пользователей в месяц (тип устройства touch):  4051.0\n"
     ]
    },
    {
     "data": {
      "text/html": [
       "<div>\n",
       "<style scoped>\n",
       "    .dataframe tbody tr th:only-of-type {\n",
       "        vertical-align: middle;\n",
       "    }\n",
       "\n",
       "    .dataframe tbody tr th {\n",
       "        vertical-align: top;\n",
       "    }\n",
       "\n",
       "    .dataframe thead tr th {\n",
       "        text-align: left;\n",
       "    }\n",
       "\n",
       "    .dataframe thead tr:last-of-type th {\n",
       "        text-align: right;\n",
       "    }\n",
       "</style>\n",
       "<table border=\"1\" class=\"dataframe\">\n",
       "  <thead>\n",
       "    <tr>\n",
       "      <th></th>\n",
       "      <th colspan=\"12\" halign=\"left\">count</th>\n",
       "    </tr>\n",
       "    <tr>\n",
       "      <th>cohort_lifetime</th>\n",
       "      <th>0</th>\n",
       "      <th>1</th>\n",
       "      <th>2</th>\n",
       "      <th>3</th>\n",
       "      <th>4</th>\n",
       "      <th>5</th>\n",
       "      <th>6</th>\n",
       "      <th>7</th>\n",
       "      <th>8</th>\n",
       "      <th>9</th>\n",
       "      <th>10</th>\n",
       "      <th>11</th>\n",
       "    </tr>\n",
       "    <tr>\n",
       "      <th>device</th>\n",
       "      <th></th>\n",
       "      <th></th>\n",
       "      <th></th>\n",
       "      <th></th>\n",
       "      <th></th>\n",
       "      <th></th>\n",
       "      <th></th>\n",
       "      <th></th>\n",
       "      <th></th>\n",
       "      <th></th>\n",
       "      <th></th>\n",
       "      <th></th>\n",
       "    </tr>\n",
       "  </thead>\n",
       "  <tbody>\n",
       "    <tr>\n",
       "      <td>desktop</td>\n",
       "      <td>94527</td>\n",
       "      <td>81183</td>\n",
       "      <td>72817</td>\n",
       "      <td>77500</td>\n",
       "      <td>72048</td>\n",
       "      <td>54700</td>\n",
       "      <td>70871</td>\n",
       "      <td>50723</td>\n",
       "      <td>45161</td>\n",
       "      <td>43329</td>\n",
       "      <td>27127</td>\n",
       "      <td>23206</td>\n",
       "    </tr>\n",
       "    <tr>\n",
       "      <td>touch</td>\n",
       "      <td>16961</td>\n",
       "      <td>6424</td>\n",
       "      <td>3721</td>\n",
       "      <td>3596</td>\n",
       "      <td>2733</td>\n",
       "      <td>3000</td>\n",
       "      <td>2440</td>\n",
       "      <td>3289</td>\n",
       "      <td>2754</td>\n",
       "      <td>2186</td>\n",
       "      <td>536</td>\n",
       "      <td>975</td>\n",
       "    </tr>\n",
       "  </tbody>\n",
       "</table>\n",
       "</div>"
      ],
      "text/plain": [
       "                 count                                                   \\\n",
       "cohort_lifetime     0      1      2      3      4      5      6      7    \n",
       "device                                                                    \n",
       "desktop          94527  81183  72817  77500  72048  54700  70871  50723   \n",
       "touch            16961   6424   3721   3596   2733   3000   2440   3289   \n",
       "\n",
       "                                             \n",
       "cohort_lifetime     8      9      10     11  \n",
       "device                                       \n",
       "desktop          45161  43329  27127  23206  \n",
       "touch             2754   2186    536    975  "
      ]
     },
     "metadata": {},
     "output_type": "display_data"
    }
   ],
   "source": [
    "active_device_per_month = users.pivot_table(index=['device'], columns ='cohort_lifetime', values='uid', aggfunc=['count'])\n",
    "print('Ср.кол-во активных пользователей в месяц (тип устройства desktop): ', (active_device_per_month.loc['desktop'].sum() / 12).round(0))\n",
    "print('Ср.кол-во активных пользователей в месяц (тип устройства touch): ', (active_device_per_month.loc['touch'].sum() / 12).round(0))\n",
    "display(active_device_per_month.head())"
   ]
  },
  {
   "cell_type": "markdown",
   "metadata": {},
   "source": [
    "Появление новых пользователей по двум типам устройств снижается с каждой когортой, особенно пользователей с мобильными устройствами. В среднем, приходит 3 802 с настольным устройством и 1 047 с мобильным.\n",
    "\n",
    "В основном, активные пользователи - это первая когорта для обоих типов устройств. За весь период ежемесячно в среднем 59 433 посетителя сайта заходили с настольных устройств и 4051 с мобильных. Количество активных пользователей с мобильными устройствами заметно снижается - почти в 17 раз. "
   ]
  },
  {
   "cell_type": "markdown",
   "metadata": {},
   "source": [
    "##### Сколько стоило привлечение одного покупателя из каждого источника?\n",
    "\n",
    "Мы должны рассчитать CAC (от англ. customer acquisition cost) — стоимость привлечения клиента. \n",
    "При этом, LTV должно быть больше CAC, если с экономикой одного покупателя все в порядке.\n",
    "\n"
   ]
  },
  {
   "cell_type": "markdown",
   "metadata": {},
   "source": [
    "Группируем когорты расходов по столбцу с месяцем, необходимо учесть [ ] для того чтобы группировка стала названием столбца."
   ]
  },
  {
   "cell_type": "code",
   "execution_count": 206,
   "metadata": {},
   "outputs": [
    {
     "data": {
      "text/html": [
       "<div>\n",
       "<style scoped>\n",
       "    .dataframe tbody tr th:only-of-type {\n",
       "        vertical-align: middle;\n",
       "    }\n",
       "\n",
       "    .dataframe tbody tr th {\n",
       "        vertical-align: top;\n",
       "    }\n",
       "\n",
       "    .dataframe thead th {\n",
       "        text-align: right;\n",
       "    }\n",
       "</style>\n",
       "<table border=\"1\" class=\"dataframe\">\n",
       "  <thead>\n",
       "    <tr style=\"text-align: right;\">\n",
       "      <th></th>\n",
       "      <th>costs_month</th>\n",
       "      <th>costs</th>\n",
       "    </tr>\n",
       "  </thead>\n",
       "  <tbody>\n",
       "    <tr>\n",
       "      <td>0</td>\n",
       "      <td>2017-06-01</td>\n",
       "      <td>18015.00</td>\n",
       "    </tr>\n",
       "    <tr>\n",
       "      <td>1</td>\n",
       "      <td>2017-07-01</td>\n",
       "      <td>18240.59</td>\n",
       "    </tr>\n",
       "    <tr>\n",
       "      <td>2</td>\n",
       "      <td>2017-08-01</td>\n",
       "      <td>14790.54</td>\n",
       "    </tr>\n",
       "    <tr>\n",
       "      <td>3</td>\n",
       "      <td>2017-09-01</td>\n",
       "      <td>24368.91</td>\n",
       "    </tr>\n",
       "    <tr>\n",
       "      <td>4</td>\n",
       "      <td>2017-10-01</td>\n",
       "      <td>36322.88</td>\n",
       "    </tr>\n",
       "    <tr>\n",
       "      <td>5</td>\n",
       "      <td>2017-11-01</td>\n",
       "      <td>37907.88</td>\n",
       "    </tr>\n",
       "    <tr>\n",
       "      <td>6</td>\n",
       "      <td>2017-12-01</td>\n",
       "      <td>38315.35</td>\n",
       "    </tr>\n",
       "    <tr>\n",
       "      <td>7</td>\n",
       "      <td>2018-01-01</td>\n",
       "      <td>33518.52</td>\n",
       "    </tr>\n",
       "    <tr>\n",
       "      <td>8</td>\n",
       "      <td>2018-02-01</td>\n",
       "      <td>32723.03</td>\n",
       "    </tr>\n",
       "    <tr>\n",
       "      <td>9</td>\n",
       "      <td>2018-03-01</td>\n",
       "      <td>30415.27</td>\n",
       "    </tr>\n",
       "    <tr>\n",
       "      <td>10</td>\n",
       "      <td>2018-04-01</td>\n",
       "      <td>22289.38</td>\n",
       "    </tr>\n",
       "    <tr>\n",
       "      <td>11</td>\n",
       "      <td>2018-05-01</td>\n",
       "      <td>22224.27</td>\n",
       "    </tr>\n",
       "  </tbody>\n",
       "</table>\n",
       "</div>"
      ],
      "text/plain": [
       "   costs_month     costs\n",
       "0   2017-06-01  18015.00\n",
       "1   2017-07-01  18240.59\n",
       "2   2017-08-01  14790.54\n",
       "3   2017-09-01  24368.91\n",
       "4   2017-10-01  36322.88\n",
       "5   2017-11-01  37907.88\n",
       "6   2017-12-01  38315.35\n",
       "7   2018-01-01  33518.52\n",
       "8   2018-02-01  32723.03\n",
       "9   2018-03-01  30415.27\n",
       "10  2018-04-01  22289.38\n",
       "11  2018-05-01  22224.27"
      ]
     },
     "metadata": {},
     "output_type": "display_data"
    }
   ],
   "source": [
    "costs_month = costs_cohorts.groupby(['costs_month']).agg({'costs': 'sum'}).reset_index()\n",
    "display(costs_month)\n"
   ]
  },
  {
   "cell_type": "markdown",
   "metadata": {},
   "source": [
    "Добавим ежемесячные расходы в основной датасет report"
   ]
  },
  {
   "cell_type": "code",
   "execution_count": 207,
   "metadata": {},
   "outputs": [
    {
     "data": {
      "text/html": [
       "<div>\n",
       "<style scoped>\n",
       "    .dataframe tbody tr th:only-of-type {\n",
       "        vertical-align: middle;\n",
       "    }\n",
       "\n",
       "    .dataframe tbody tr th {\n",
       "        vertical-align: top;\n",
       "    }\n",
       "\n",
       "    .dataframe thead th {\n",
       "        text-align: right;\n",
       "    }\n",
       "</style>\n",
       "<table border=\"1\" class=\"dataframe\">\n",
       "  <thead>\n",
       "    <tr style=\"text-align: right;\">\n",
       "      <th></th>\n",
       "      <th>first_order_month</th>\n",
       "      <th>buyers</th>\n",
       "      <th>order_month</th>\n",
       "      <th>revenue</th>\n",
       "      <th>revenue_per_cohort</th>\n",
       "      <th>cohort_lifetime</th>\n",
       "      <th>ltv</th>\n",
       "      <th>costs_month</th>\n",
       "      <th>costs</th>\n",
       "    </tr>\n",
       "  </thead>\n",
       "  <tbody>\n",
       "    <tr>\n",
       "      <td>0</td>\n",
       "      <td>2017-06-01</td>\n",
       "      <td>2023</td>\n",
       "      <td>2017-06-01</td>\n",
       "      <td>9557.49</td>\n",
       "      <td>4.72</td>\n",
       "      <td>0</td>\n",
       "      <td>4.72</td>\n",
       "      <td>2017-06-01</td>\n",
       "      <td>18015.0</td>\n",
       "    </tr>\n",
       "    <tr>\n",
       "      <td>1</td>\n",
       "      <td>2017-06-01</td>\n",
       "      <td>2023</td>\n",
       "      <td>2017-07-01</td>\n",
       "      <td>981.82</td>\n",
       "      <td>0.49</td>\n",
       "      <td>1</td>\n",
       "      <td>0.49</td>\n",
       "      <td>2017-06-01</td>\n",
       "      <td>18015.0</td>\n",
       "    </tr>\n",
       "    <tr>\n",
       "      <td>2</td>\n",
       "      <td>2017-06-01</td>\n",
       "      <td>2023</td>\n",
       "      <td>2017-08-01</td>\n",
       "      <td>885.34</td>\n",
       "      <td>0.44</td>\n",
       "      <td>2</td>\n",
       "      <td>0.44</td>\n",
       "      <td>2017-06-01</td>\n",
       "      <td>18015.0</td>\n",
       "    </tr>\n",
       "    <tr>\n",
       "      <td>3</td>\n",
       "      <td>2017-06-01</td>\n",
       "      <td>2023</td>\n",
       "      <td>2017-09-01</td>\n",
       "      <td>1931.30</td>\n",
       "      <td>0.95</td>\n",
       "      <td>3</td>\n",
       "      <td>0.95</td>\n",
       "      <td>2017-06-01</td>\n",
       "      <td>18015.0</td>\n",
       "    </tr>\n",
       "    <tr>\n",
       "      <td>4</td>\n",
       "      <td>2017-06-01</td>\n",
       "      <td>2023</td>\n",
       "      <td>2017-10-01</td>\n",
       "      <td>2068.58</td>\n",
       "      <td>1.02</td>\n",
       "      <td>4</td>\n",
       "      <td>1.02</td>\n",
       "      <td>2017-06-01</td>\n",
       "      <td>18015.0</td>\n",
       "    </tr>\n",
       "  </tbody>\n",
       "</table>\n",
       "</div>"
      ],
      "text/plain": [
       "  first_order_month  buyers order_month  revenue  revenue_per_cohort  \\\n",
       "0        2017-06-01    2023  2017-06-01  9557.49                4.72   \n",
       "1        2017-06-01    2023  2017-07-01   981.82                0.49   \n",
       "2        2017-06-01    2023  2017-08-01   885.34                0.44   \n",
       "3        2017-06-01    2023  2017-09-01  1931.30                0.95   \n",
       "4        2017-06-01    2023  2017-10-01  2068.58                1.02   \n",
       "\n",
       "   cohort_lifetime   ltv costs_month    costs  \n",
       "0                0  4.72  2017-06-01  18015.0  \n",
       "1                1  0.49  2017-06-01  18015.0  \n",
       "2                2  0.44  2017-06-01  18015.0  \n",
       "3                3  0.95  2017-06-01  18015.0  \n",
       "4                4  1.02  2017-06-01  18015.0  "
      ]
     },
     "metadata": {},
     "output_type": "display_data"
    }
   ],
   "source": [
    "total = pd.merge(report, costs_month, left_on='first_order_month', right_on='costs_month')\n",
    "display(total.head())"
   ]
  },
  {
   "cell_type": "markdown",
   "metadata": {},
   "source": [
    "Рассчитаем САС по формуле ежемесячные расходы / кол-во покупателей в когорте"
   ]
  },
  {
   "cell_type": "code",
   "execution_count": 208,
   "metadata": {},
   "outputs": [
    {
     "data": {
      "text/html": [
       "<div>\n",
       "<style scoped>\n",
       "    .dataframe tbody tr th:only-of-type {\n",
       "        vertical-align: middle;\n",
       "    }\n",
       "\n",
       "    .dataframe tbody tr th {\n",
       "        vertical-align: top;\n",
       "    }\n",
       "\n",
       "    .dataframe thead th {\n",
       "        text-align: right;\n",
       "    }\n",
       "</style>\n",
       "<table border=\"1\" class=\"dataframe\">\n",
       "  <thead>\n",
       "    <tr style=\"text-align: right;\">\n",
       "      <th></th>\n",
       "      <th>first_order_month</th>\n",
       "      <th>buyers</th>\n",
       "      <th>order_month</th>\n",
       "      <th>revenue</th>\n",
       "      <th>revenue_per_cohort</th>\n",
       "      <th>cohort_lifetime</th>\n",
       "      <th>ltv</th>\n",
       "      <th>costs_month</th>\n",
       "      <th>costs</th>\n",
       "      <th>cac</th>\n",
       "    </tr>\n",
       "  </thead>\n",
       "  <tbody>\n",
       "    <tr>\n",
       "      <td>0</td>\n",
       "      <td>2017-06-01</td>\n",
       "      <td>2023</td>\n",
       "      <td>2017-06-01</td>\n",
       "      <td>9557.49</td>\n",
       "      <td>4.72</td>\n",
       "      <td>0</td>\n",
       "      <td>4.72</td>\n",
       "      <td>2017-06-01</td>\n",
       "      <td>18015.0</td>\n",
       "      <td>8.905091</td>\n",
       "    </tr>\n",
       "    <tr>\n",
       "      <td>1</td>\n",
       "      <td>2017-06-01</td>\n",
       "      <td>2023</td>\n",
       "      <td>2017-07-01</td>\n",
       "      <td>981.82</td>\n",
       "      <td>0.49</td>\n",
       "      <td>1</td>\n",
       "      <td>0.49</td>\n",
       "      <td>2017-06-01</td>\n",
       "      <td>18015.0</td>\n",
       "      <td>8.905091</td>\n",
       "    </tr>\n",
       "    <tr>\n",
       "      <td>2</td>\n",
       "      <td>2017-06-01</td>\n",
       "      <td>2023</td>\n",
       "      <td>2017-08-01</td>\n",
       "      <td>885.34</td>\n",
       "      <td>0.44</td>\n",
       "      <td>2</td>\n",
       "      <td>0.44</td>\n",
       "      <td>2017-06-01</td>\n",
       "      <td>18015.0</td>\n",
       "      <td>8.905091</td>\n",
       "    </tr>\n",
       "    <tr>\n",
       "      <td>3</td>\n",
       "      <td>2017-06-01</td>\n",
       "      <td>2023</td>\n",
       "      <td>2017-09-01</td>\n",
       "      <td>1931.30</td>\n",
       "      <td>0.95</td>\n",
       "      <td>3</td>\n",
       "      <td>0.95</td>\n",
       "      <td>2017-06-01</td>\n",
       "      <td>18015.0</td>\n",
       "      <td>8.905091</td>\n",
       "    </tr>\n",
       "    <tr>\n",
       "      <td>4</td>\n",
       "      <td>2017-06-01</td>\n",
       "      <td>2023</td>\n",
       "      <td>2017-10-01</td>\n",
       "      <td>2068.58</td>\n",
       "      <td>1.02</td>\n",
       "      <td>4</td>\n",
       "      <td>1.02</td>\n",
       "      <td>2017-06-01</td>\n",
       "      <td>18015.0</td>\n",
       "      <td>8.905091</td>\n",
       "    </tr>\n",
       "  </tbody>\n",
       "</table>\n",
       "</div>"
      ],
      "text/plain": [
       "  first_order_month  buyers order_month  revenue  revenue_per_cohort  \\\n",
       "0        2017-06-01    2023  2017-06-01  9557.49                4.72   \n",
       "1        2017-06-01    2023  2017-07-01   981.82                0.49   \n",
       "2        2017-06-01    2023  2017-08-01   885.34                0.44   \n",
       "3        2017-06-01    2023  2017-09-01  1931.30                0.95   \n",
       "4        2017-06-01    2023  2017-10-01  2068.58                1.02   \n",
       "\n",
       "   cohort_lifetime   ltv costs_month    costs       cac  \n",
       "0                0  4.72  2017-06-01  18015.0  8.905091  \n",
       "1                1  0.49  2017-06-01  18015.0  8.905091  \n",
       "2                2  0.44  2017-06-01  18015.0  8.905091  \n",
       "3                3  0.95  2017-06-01  18015.0  8.905091  \n",
       "4                4  1.02  2017-06-01  18015.0  8.905091  "
      ]
     },
     "execution_count": 208,
     "metadata": {},
     "output_type": "execute_result"
    }
   ],
   "source": [
    "total['cac'] = total['costs'] / total['buyers']\n",
    "total.head()"
   ]
  },
  {
   "cell_type": "markdown",
   "metadata": {},
   "source": [
    "Посмотрим, какой среднемесячный показатель САС в когортах"
   ]
  },
  {
   "cell_type": "code",
   "execution_count": 209,
   "metadata": {},
   "outputs": [
    {
     "data": {
      "text/html": [
       "<div>\n",
       "<style scoped>\n",
       "    .dataframe tbody tr th:only-of-type {\n",
       "        vertical-align: middle;\n",
       "    }\n",
       "\n",
       "    .dataframe tbody tr th {\n",
       "        vertical-align: top;\n",
       "    }\n",
       "\n",
       "    .dataframe thead th {\n",
       "        text-align: right;\n",
       "    }\n",
       "</style>\n",
       "<table border=\"1\" class=\"dataframe\">\n",
       "  <thead>\n",
       "    <tr style=\"text-align: right;\">\n",
       "      <th></th>\n",
       "      <th>cac</th>\n",
       "    </tr>\n",
       "    <tr>\n",
       "      <th>first_order_month</th>\n",
       "      <th></th>\n",
       "    </tr>\n",
       "  </thead>\n",
       "  <tbody>\n",
       "    <tr>\n",
       "      <td>2017-06-01</td>\n",
       "      <td>8.91</td>\n",
       "    </tr>\n",
       "    <tr>\n",
       "      <td>2017-07-01</td>\n",
       "      <td>9.49</td>\n",
       "    </tr>\n",
       "    <tr>\n",
       "      <td>2017-08-01</td>\n",
       "      <td>10.80</td>\n",
       "    </tr>\n",
       "    <tr>\n",
       "      <td>2017-09-01</td>\n",
       "      <td>9.44</td>\n",
       "    </tr>\n",
       "    <tr>\n",
       "      <td>2017-10-01</td>\n",
       "      <td>8.37</td>\n",
       "    </tr>\n",
       "    <tr>\n",
       "      <td>2017-11-01</td>\n",
       "      <td>9.29</td>\n",
       "    </tr>\n",
       "    <tr>\n",
       "      <td>2017-12-01</td>\n",
       "      <td>8.74</td>\n",
       "    </tr>\n",
       "    <tr>\n",
       "      <td>2018-01-01</td>\n",
       "      <td>9.94</td>\n",
       "    </tr>\n",
       "    <tr>\n",
       "      <td>2018-02-01</td>\n",
       "      <td>8.96</td>\n",
       "    </tr>\n",
       "    <tr>\n",
       "      <td>2018-03-01</td>\n",
       "      <td>8.61</td>\n",
       "    </tr>\n",
       "    <tr>\n",
       "      <td>2018-04-01</td>\n",
       "      <td>9.79</td>\n",
       "    </tr>\n",
       "    <tr>\n",
       "      <td>2018-05-01</td>\n",
       "      <td>7.44</td>\n",
       "    </tr>\n",
       "  </tbody>\n",
       "</table>\n",
       "</div>"
      ],
      "text/plain": [
       "                     cac\n",
       "first_order_month       \n",
       "2017-06-01          8.91\n",
       "2017-07-01          9.49\n",
       "2017-08-01         10.80\n",
       "2017-09-01          9.44\n",
       "2017-10-01          8.37\n",
       "2017-11-01          9.29\n",
       "2017-12-01          8.74\n",
       "2018-01-01          9.94\n",
       "2018-02-01          8.96\n",
       "2018-03-01          8.61\n",
       "2018-04-01          9.79\n",
       "2018-05-01          7.44"
      ]
     },
     "metadata": {},
     "output_type": "display_data"
    }
   ],
   "source": [
    "cac_pivot = total.pivot_table(\n",
    "        index='first_order_month', \n",
    "        values='cac', \n",
    "        aggfunc='mean').round(2).fillna(' ')\n",
    "display(cac_pivot)\n"
   ]
  },
  {
   "cell_type": "markdown",
   "metadata": {},
   "source": [
    "Самый высокий САС в когорте 2, т.к. в этот месяц было потрачено меньше всего, пользователей также было меньше, чем в другие периоды. В целом, САС ведет себя равномерно - нет резких взлетов или падений. Только к концу периода он снижается до 7.44\n",
    "\n",
    "Рассмотрим среднее значение данного коэффициента за весь период."
   ]
  },
  {
   "cell_type": "code",
   "execution_count": 210,
   "metadata": {},
   "outputs": [
    {
     "name": "stdout",
     "output_type": "stream",
     "text": [
      "Среднее значение САС:  9.32\n"
     ]
    },
    {
     "data": {
      "text/plain": [
       "(8.65, 9.6)"
      ]
     },
     "execution_count": 210,
     "metadata": {},
     "output_type": "execute_result"
    },
    {
     "data": {
      "image/png": "[encoded data removed]",
      "text/plain": [
       "<Figure size 432x288 with 1 Axes>"
      ]
     },
     "metadata": {},
     "output_type": "display_data"
    }
   ],
   "source": [
    "cac_mean = total['cac'].mean().round(2)\n",
    "print('Среднее значение САС: ', cac_mean)\n",
    "cac_pivot.boxplot(['cac'])\n",
    "plt.ylim(8.65, 9.6)\n",
    "#plt.xlabel(\"срок жизни когорты\")\n",
    "#plt.ylabel(\"значение САС\")"
   ]
  },
  {
   "cell_type": "markdown",
   "metadata": {},
   "source": [
    "Среднемесячный САС, т.е. затраты на привлечение одного покупателя, составляет диапазон 9.10-9.32 рублей. Привлечение пользователей из когорты 1, 3, 5 когорты обходились компании примерно в эту сумму. Выше среднего обошлась когорта 2, расходов было мало, следовательно, и пользователей появилось также мало. Когорты 0, 4, 6, 8, 9 потребовали вложений ниже среднего, т.к. в итоге привлекли много пользователей."
   ]
  },
  {
   "cell_type": "markdown",
   "metadata": {},
   "source": [
    "Выясним, какой из средних показателей данных коэффициентов по всем когортам меньше и сходится ли экономика одного покупателя."
   ]
  },
  {
   "cell_type": "code",
   "execution_count": 211,
   "metadata": {},
   "outputs": [
    {
     "data": {
      "text/plain": [
       "6.99"
      ]
     },
     "metadata": {},
     "output_type": "display_data"
    },
    {
     "data": {
      "text/plain": [
       "9.32"
      ]
     },
     "metadata": {},
     "output_type": "display_data"
    },
    {
     "name": "stdout",
     "output_type": "stream",
     "text": [
      "Экономика одного покупателя не сходится\n"
     ]
    }
   ],
   "source": [
    "display(ltv_mean)\n",
    "display(cac_mean)\n",
    "if ltv_mean > cac_mean:\n",
    "    print('Экономика одного покупателя сходится')\n",
    "else:\n",
    "    print('Экономика одного покупателя не сходится')"
   ]
  },
  {
   "cell_type": "markdown",
   "metadata": {},
   "source": [
    "В среднем, CAC гораздо выше LTV. Компания потратила 9.32 рубля на привлечение каждого пользователя, но прибыль с каждого получилась ниже - около 7 рублей. Необходимо сокращать расходы или повышать прибыль."
   ]
  },
  {
   "cell_type": "markdown",
   "metadata": {},
   "source": [
    "##### На сколько окупились расходы? (ROI) \n",
    "\n",
    "Чтобы определить окупаемость расходов нам нужно рассчитать ROI (от англ. return on investments) или точнее ROMI (от англ. return on marketing investments), т.к. речь идет о маркетинговых расходах. Точка окупаемости - ROMI=100%\n",
    "\n",
    "Добавим столбец расчета ROMI по сокращенной формуле: \n",
    "\n",
    "ROMI рекламной кампании = валовая прибыль из этой кампании / затраты."
   ]
  },
  {
   "cell_type": "code",
   "execution_count": 212,
   "metadata": {},
   "outputs": [
    {
     "data": {
      "text/html": [
       "<div>\n",
       "<style scoped>\n",
       "    .dataframe tbody tr th:only-of-type {\n",
       "        vertical-align: middle;\n",
       "    }\n",
       "\n",
       "    .dataframe tbody tr th {\n",
       "        vertical-align: top;\n",
       "    }\n",
       "\n",
       "    .dataframe thead th {\n",
       "        text-align: right;\n",
       "    }\n",
       "</style>\n",
       "<table border=\"1\" class=\"dataframe\">\n",
       "  <thead>\n",
       "    <tr style=\"text-align: right;\">\n",
       "      <th>cohort_lifetime</th>\n",
       "      <th>0</th>\n",
       "      <th>1</th>\n",
       "      <th>2</th>\n",
       "      <th>3</th>\n",
       "      <th>4</th>\n",
       "      <th>5</th>\n",
       "      <th>6</th>\n",
       "      <th>7</th>\n",
       "      <th>8</th>\n",
       "      <th>9</th>\n",
       "      <th>10</th>\n",
       "      <th>11</th>\n",
       "    </tr>\n",
       "    <tr>\n",
       "      <th>first_order_month</th>\n",
       "      <th></th>\n",
       "      <th></th>\n",
       "      <th></th>\n",
       "      <th></th>\n",
       "      <th></th>\n",
       "      <th></th>\n",
       "      <th></th>\n",
       "      <th></th>\n",
       "      <th></th>\n",
       "      <th></th>\n",
       "      <th></th>\n",
       "      <th></th>\n",
       "    </tr>\n",
       "  </thead>\n",
       "  <tbody>\n",
       "    <tr>\n",
       "      <td>2017-06-01</td>\n",
       "      <td>0.53</td>\n",
       "      <td>0.59</td>\n",
       "      <td>0.63</td>\n",
       "      <td>0.74</td>\n",
       "      <td>0.86</td>\n",
       "      <td>0.94</td>\n",
       "      <td>1.05</td>\n",
       "      <td>1.11</td>\n",
       "      <td>1.17</td>\n",
       "      <td>1.24</td>\n",
       "      <td>1.3</td>\n",
       "      <td>1.33</td>\n",
       "    </tr>\n",
       "    <tr>\n",
       "      <td>2017-07-01</td>\n",
       "      <td>0.63</td>\n",
       "      <td>0.67</td>\n",
       "      <td>0.73</td>\n",
       "      <td>0.77</td>\n",
       "      <td>0.79</td>\n",
       "      <td>0.81</td>\n",
       "      <td>0.82</td>\n",
       "      <td>0.84</td>\n",
       "      <td>0.85</td>\n",
       "      <td>0.87</td>\n",
       "      <td>0.89</td>\n",
       "      <td></td>\n",
       "    </tr>\n",
       "    <tr>\n",
       "      <td>2017-08-01</td>\n",
       "      <td>0.49</td>\n",
       "      <td>0.53</td>\n",
       "      <td>0.58</td>\n",
       "      <td>0.61</td>\n",
       "      <td>0.66</td>\n",
       "      <td>0.68</td>\n",
       "      <td>0.7</td>\n",
       "      <td>0.74</td>\n",
       "      <td>0.77</td>\n",
       "      <td>0.78</td>\n",
       "      <td></td>\n",
       "      <td></td>\n",
       "    </tr>\n",
       "    <tr>\n",
       "      <td>2017-09-01</td>\n",
       "      <td>0.60</td>\n",
       "      <td>0.72</td>\n",
       "      <td>0.77</td>\n",
       "      <td>1.19</td>\n",
       "      <td>1.23</td>\n",
       "      <td>1.3</td>\n",
       "      <td>1.38</td>\n",
       "      <td>1.4</td>\n",
       "      <td>1.42</td>\n",
       "      <td></td>\n",
       "      <td></td>\n",
       "      <td></td>\n",
       "    </tr>\n",
       "    <tr>\n",
       "      <td>2017-10-01</td>\n",
       "      <td>0.60</td>\n",
       "      <td>0.66</td>\n",
       "      <td>0.68</td>\n",
       "      <td>0.7</td>\n",
       "      <td>0.72</td>\n",
       "      <td>0.74</td>\n",
       "      <td>0.75</td>\n",
       "      <td>0.76</td>\n",
       "      <td></td>\n",
       "      <td></td>\n",
       "      <td></td>\n",
       "      <td></td>\n",
       "    </tr>\n",
       "    <tr>\n",
       "      <td>2017-11-01</td>\n",
       "      <td>0.55</td>\n",
       "      <td>0.6</td>\n",
       "      <td>0.62</td>\n",
       "      <td>0.65</td>\n",
       "      <td>0.67</td>\n",
       "      <td>0.68</td>\n",
       "      <td>0.69</td>\n",
       "      <td></td>\n",
       "      <td></td>\n",
       "      <td></td>\n",
       "      <td></td>\n",
       "      <td></td>\n",
       "    </tr>\n",
       "    <tr>\n",
       "      <td>2017-12-01</td>\n",
       "      <td>0.54</td>\n",
       "      <td>0.57</td>\n",
       "      <td>0.68</td>\n",
       "      <td>0.8</td>\n",
       "      <td>0.84</td>\n",
       "      <td>0.88</td>\n",
       "      <td></td>\n",
       "      <td></td>\n",
       "      <td></td>\n",
       "      <td></td>\n",
       "      <td></td>\n",
       "      <td></td>\n",
       "    </tr>\n",
       "    <tr>\n",
       "      <td>2018-01-01</td>\n",
       "      <td>0.42</td>\n",
       "      <td>0.45</td>\n",
       "      <td>0.48</td>\n",
       "      <td>0.49</td>\n",
       "      <td>0.5</td>\n",
       "      <td></td>\n",
       "      <td></td>\n",
       "      <td></td>\n",
       "      <td></td>\n",
       "      <td></td>\n",
       "      <td></td>\n",
       "      <td></td>\n",
       "    </tr>\n",
       "    <tr>\n",
       "      <td>2018-02-01</td>\n",
       "      <td>0.46</td>\n",
       "      <td>0.5</td>\n",
       "      <td>0.5</td>\n",
       "      <td>0.51</td>\n",
       "      <td></td>\n",
       "      <td></td>\n",
       "      <td></td>\n",
       "      <td></td>\n",
       "      <td></td>\n",
       "      <td></td>\n",
       "      <td></td>\n",
       "      <td></td>\n",
       "    </tr>\n",
       "    <tr>\n",
       "      <td>2018-03-01</td>\n",
       "      <td>0.56</td>\n",
       "      <td>0.6</td>\n",
       "      <td>0.63</td>\n",
       "      <td></td>\n",
       "      <td></td>\n",
       "      <td></td>\n",
       "      <td></td>\n",
       "      <td></td>\n",
       "      <td></td>\n",
       "      <td></td>\n",
       "      <td></td>\n",
       "      <td></td>\n",
       "    </tr>\n",
       "    <tr>\n",
       "      <td>2018-04-01</td>\n",
       "      <td>0.48</td>\n",
       "      <td>0.53</td>\n",
       "      <td></td>\n",
       "      <td></td>\n",
       "      <td></td>\n",
       "      <td></td>\n",
       "      <td></td>\n",
       "      <td></td>\n",
       "      <td></td>\n",
       "      <td></td>\n",
       "      <td></td>\n",
       "      <td></td>\n",
       "    </tr>\n",
       "    <tr>\n",
       "      <td>2018-05-01</td>\n",
       "      <td>0.63</td>\n",
       "      <td></td>\n",
       "      <td></td>\n",
       "      <td></td>\n",
       "      <td></td>\n",
       "      <td></td>\n",
       "      <td></td>\n",
       "      <td></td>\n",
       "      <td></td>\n",
       "      <td></td>\n",
       "      <td></td>\n",
       "      <td></td>\n",
       "    </tr>\n",
       "  </tbody>\n",
       "</table>\n",
       "</div>"
      ],
      "text/plain": [
       "cohort_lifetime      0     1     2     3     4     5     6     7     8     9   \\\n",
       "first_order_month                                                               \n",
       "2017-06-01         0.53  0.59  0.63  0.74  0.86  0.94  1.05  1.11  1.17  1.24   \n",
       "2017-07-01         0.63  0.67  0.73  0.77  0.79  0.81  0.82  0.84  0.85  0.87   \n",
       "2017-08-01         0.49  0.53  0.58  0.61  0.66  0.68   0.7  0.74  0.77  0.78   \n",
       "2017-09-01         0.60  0.72  0.77  1.19  1.23   1.3  1.38   1.4  1.42         \n",
       "2017-10-01         0.60  0.66  0.68   0.7  0.72  0.74  0.75  0.76               \n",
       "2017-11-01         0.55   0.6  0.62  0.65  0.67  0.68  0.69                     \n",
       "2017-12-01         0.54  0.57  0.68   0.8  0.84  0.88                           \n",
       "2018-01-01         0.42  0.45  0.48  0.49   0.5                                 \n",
       "2018-02-01         0.46   0.5   0.5  0.51                                       \n",
       "2018-03-01         0.56   0.6  0.63                                             \n",
       "2018-04-01         0.48  0.53                                                   \n",
       "2018-05-01         0.63                                                         \n",
       "\n",
       "cohort_lifetime      10    11  \n",
       "first_order_month              \n",
       "2017-06-01          1.3  1.33  \n",
       "2017-07-01         0.89        \n",
       "2017-08-01                     \n",
       "2017-09-01                     \n",
       "2017-10-01                     \n",
       "2017-11-01                     \n",
       "2017-12-01                     \n",
       "2018-01-01                     \n",
       "2018-02-01                     \n",
       "2018-03-01                     \n",
       "2018-04-01                     \n",
       "2018-05-01                     "
      ]
     },
     "execution_count": 212,
     "metadata": {},
     "output_type": "execute_result"
    }
   ],
   "source": [
    "total['romi'] = total['ltv'] / total['cac']\n",
    "result = total.pivot_table(\n",
    "        index='first_order_month', \n",
    "        columns='cohort_lifetime', \n",
    "        values='romi', \n",
    "        aggfunc='mean')\n",
    "\n",
    "result.cumsum(axis=1).round(2).fillna(' ')"
   ]
  },
  {
   "cell_type": "markdown",
   "metadata": {},
   "source": [
    "Мы видим следующее:\n",
    "    - Нулевая когорта окупилась на 6 месяц (ROMI = 1.05).\n",
    "    - Третья когорта(сентябрь) окупилась быстрее всего на третий месяц (ROMI=1.19)\n",
    "    - Только нулевая и третья когорта окупили себя.\n"
   ]
  },
  {
   "cell_type": "markdown",
   "metadata": {},
   "source": [
    "Проверим среднее ROMI по каждому сроку жизни когорты"
   ]
  },
  {
   "cell_type": "code",
   "execution_count": 213,
   "metadata": {},
   "outputs": [
    {
     "data": {
      "text/plain": [
       "cohort_lifetime\n",
       "0     0.540788\n",
       "1     0.582061\n",
       "2     0.631207\n",
       "3     0.719778\n",
       "4     0.782841\n",
       "5     0.859997\n",
       "6     0.896532\n",
       "7     0.969995\n",
       "8     1.053654\n",
       "9     0.964703\n",
       "10    1.095217\n",
       "11    1.334068\n",
       "dtype: float64"
      ]
     },
     "execution_count": 213,
     "metadata": {},
     "output_type": "execute_result"
    }
   ],
   "source": [
    "result.cumsum(axis=1).mean(axis=0)"
   ]
  },
  {
   "cell_type": "code",
   "execution_count": 333,
   "metadata": {},
   "outputs": [
    {
     "name": "stdout",
     "output_type": "stream",
     "text": [
      "Общий средний ROMI:  0.87\n"
     ]
    }
   ],
   "source": [
    "print('Общий средний ROMI: ', result.cumsum(axis=1).mean(axis=0).mean().round(2))"
   ]
  },
  {
   "cell_type": "markdown",
   "metadata": {},
   "source": [
    "Когорты окупают себя к 8, 10 или 11-му месяцу жизни. Можно сказать, что инвестиции от рекламной компании были долгосрочные, поэтому половина когорт еще не вышла на срок окупаемости и, возможно, через год от даты начала покупательной активности пользователе они окупятся."
   ]
  },
  {
   "cell_type": "markdown",
   "metadata": {},
   "source": [
    "Рассмотрим ROMI для каждого источника, чтобы определить убыточные и прибыльные.\n",
    "Мы сделаем срез данных по каждому источнику и повторим всю процедуру расчета LTV и CAC для определения ROMI. Источники 6, 7, 8 не рассматриваем, т.к.финансирования они не получали."
   ]
  },
  {
   "cell_type": "markdown",
   "metadata": {},
   "source": [
    "Создаем срез данных для источника 1, начиная с таблицы по группировке ежемесячных расходов по когортам."
   ]
  },
  {
   "cell_type": "code",
   "execution_count": 283,
   "metadata": {},
   "outputs": [],
   "source": [
    "costs_month_source_1 = costs_cohorts[costs_cohorts['source id'] == 1].groupby(['costs_month']).agg({'costs': 'sum'}).reset_index()\n",
    "#display(costs_month_source_1)"
   ]
  },
  {
   "cell_type": "markdown",
   "metadata": {},
   "source": [
    "Создаем срез данных по выручке для источника 1"
   ]
  },
  {
   "cell_type": "code",
   "execution_count": 292,
   "metadata": {},
   "outputs": [
    {
     "data": {
      "text/html": [
       "<div>\n",
       "<style scoped>\n",
       "    .dataframe tbody tr th:only-of-type {\n",
       "        vertical-align: middle;\n",
       "    }\n",
       "\n",
       "    .dataframe tbody tr th {\n",
       "        vertical-align: top;\n",
       "    }\n",
       "\n",
       "    .dataframe thead th {\n",
       "        text-align: right;\n",
       "    }\n",
       "</style>\n",
       "<table border=\"1\" class=\"dataframe\">\n",
       "  <thead>\n",
       "    <tr style=\"text-align: right;\">\n",
       "      <th></th>\n",
       "      <th>device</th>\n",
       "      <th>end ts</th>\n",
       "      <th>source id</th>\n",
       "      <th>start ts</th>\n",
       "      <th>uid</th>\n",
       "      <th>session_year</th>\n",
       "      <th>session_month</th>\n",
       "      <th>session_week</th>\n",
       "      <th>session_date</th>\n",
       "      <th>session_duration</th>\n",
       "      <th>...</th>\n",
       "      <th>activity_month</th>\n",
       "      <th>first_activity_month</th>\n",
       "      <th>cohort_lifetime</th>\n",
       "      <th>buy ts</th>\n",
       "      <th>revenue</th>\n",
       "      <th>buy_day</th>\n",
       "      <th>first_day</th>\n",
       "      <th>visit_order_dif</th>\n",
       "      <th>first_order_date</th>\n",
       "      <th>first_order_month</th>\n",
       "    </tr>\n",
       "  </thead>\n",
       "  <tbody>\n",
       "    <tr>\n",
       "      <td>64</td>\n",
       "      <td>desktop</td>\n",
       "      <td>2017-10-31 14:45:00</td>\n",
       "      <td>1</td>\n",
       "      <td>2017-10-31 14:32:00</td>\n",
       "      <td>8056418121947262981</td>\n",
       "      <td>2017</td>\n",
       "      <td>10</td>\n",
       "      <td>44</td>\n",
       "      <td>2017-10-31</td>\n",
       "      <td>780</td>\n",
       "      <td>...</td>\n",
       "      <td>2017-10-01</td>\n",
       "      <td>2017-06-01</td>\n",
       "      <td>4</td>\n",
       "      <td>2017-06-25 08:54:00</td>\n",
       "      <td>3.67</td>\n",
       "      <td>2017-06-19 08:54:00</td>\n",
       "      <td>2017-05-29 14:17:00</td>\n",
       "      <td>20</td>\n",
       "      <td>2017-06-25 08:54:00</td>\n",
       "      <td>2017-06-01</td>\n",
       "    </tr>\n",
       "    <tr>\n",
       "      <td>65</td>\n",
       "      <td>desktop</td>\n",
       "      <td>2017-10-31 14:45:00</td>\n",
       "      <td>1</td>\n",
       "      <td>2017-10-31 14:32:00</td>\n",
       "      <td>8056418121947262981</td>\n",
       "      <td>2017</td>\n",
       "      <td>10</td>\n",
       "      <td>44</td>\n",
       "      <td>2017-10-31</td>\n",
       "      <td>780</td>\n",
       "      <td>...</td>\n",
       "      <td>2017-10-01</td>\n",
       "      <td>2017-06-01</td>\n",
       "      <td>4</td>\n",
       "      <td>2017-06-26 09:14:00</td>\n",
       "      <td>3.67</td>\n",
       "      <td>2017-06-26 09:14:00</td>\n",
       "      <td>2017-05-29 14:17:00</td>\n",
       "      <td>27</td>\n",
       "      <td>2017-06-25 08:54:00</td>\n",
       "      <td>2017-06-01</td>\n",
       "    </tr>\n",
       "    <tr>\n",
       "      <td>66</td>\n",
       "      <td>desktop</td>\n",
       "      <td>2017-10-31 14:45:00</td>\n",
       "      <td>1</td>\n",
       "      <td>2017-10-31 14:32:00</td>\n",
       "      <td>8056418121947262981</td>\n",
       "      <td>2017</td>\n",
       "      <td>10</td>\n",
       "      <td>44</td>\n",
       "      <td>2017-10-31</td>\n",
       "      <td>780</td>\n",
       "      <td>...</td>\n",
       "      <td>2017-10-01</td>\n",
       "      <td>2017-06-01</td>\n",
       "      <td>4</td>\n",
       "      <td>2017-06-26 12:12:00</td>\n",
       "      <td>12.22</td>\n",
       "      <td>2017-06-26 12:12:00</td>\n",
       "      <td>2017-05-29 14:17:00</td>\n",
       "      <td>27</td>\n",
       "      <td>2017-06-25 08:54:00</td>\n",
       "      <td>2017-06-01</td>\n",
       "    </tr>\n",
       "    <tr>\n",
       "      <td>67</td>\n",
       "      <td>desktop</td>\n",
       "      <td>2017-10-31 14:45:00</td>\n",
       "      <td>1</td>\n",
       "      <td>2017-10-31 14:32:00</td>\n",
       "      <td>8056418121947262981</td>\n",
       "      <td>2017</td>\n",
       "      <td>10</td>\n",
       "      <td>44</td>\n",
       "      <td>2017-10-31</td>\n",
       "      <td>780</td>\n",
       "      <td>...</td>\n",
       "      <td>2017-10-01</td>\n",
       "      <td>2017-06-01</td>\n",
       "      <td>4</td>\n",
       "      <td>2017-06-28 19:25:00</td>\n",
       "      <td>23.22</td>\n",
       "      <td>2017-06-26 19:25:00</td>\n",
       "      <td>2017-05-29 14:17:00</td>\n",
       "      <td>28</td>\n",
       "      <td>2017-06-25 08:54:00</td>\n",
       "      <td>2017-06-01</td>\n",
       "    </tr>\n",
       "    <tr>\n",
       "      <td>68</td>\n",
       "      <td>desktop</td>\n",
       "      <td>2017-10-31 14:45:00</td>\n",
       "      <td>1</td>\n",
       "      <td>2017-10-31 14:32:00</td>\n",
       "      <td>8056418121947262981</td>\n",
       "      <td>2017</td>\n",
       "      <td>10</td>\n",
       "      <td>44</td>\n",
       "      <td>2017-10-31</td>\n",
       "      <td>780</td>\n",
       "      <td>...</td>\n",
       "      <td>2017-10-01</td>\n",
       "      <td>2017-06-01</td>\n",
       "      <td>4</td>\n",
       "      <td>2017-09-07 20:09:00</td>\n",
       "      <td>27.25</td>\n",
       "      <td>2017-09-04 20:09:00</td>\n",
       "      <td>2017-05-29 14:17:00</td>\n",
       "      <td>98</td>\n",
       "      <td>2017-06-25 08:54:00</td>\n",
       "      <td>2017-06-01</td>\n",
       "    </tr>\n",
       "  </tbody>\n",
       "</table>\n",
       "<p>5 rows × 21 columns</p>\n",
       "</div>"
      ],
      "text/plain": [
       "     device              end ts  source id            start ts  \\\n",
       "64  desktop 2017-10-31 14:45:00          1 2017-10-31 14:32:00   \n",
       "65  desktop 2017-10-31 14:45:00          1 2017-10-31 14:32:00   \n",
       "66  desktop 2017-10-31 14:45:00          1 2017-10-31 14:32:00   \n",
       "67  desktop 2017-10-31 14:45:00          1 2017-10-31 14:32:00   \n",
       "68  desktop 2017-10-31 14:45:00          1 2017-10-31 14:32:00   \n",
       "\n",
       "                    uid  session_year  session_month  session_week  \\\n",
       "64  8056418121947262981          2017             10            44   \n",
       "65  8056418121947262981          2017             10            44   \n",
       "66  8056418121947262981          2017             10            44   \n",
       "67  8056418121947262981          2017             10            44   \n",
       "68  8056418121947262981          2017             10            44   \n",
       "\n",
       "   session_date  session_duration  ... activity_month first_activity_month  \\\n",
       "64   2017-10-31               780  ...     2017-10-01           2017-06-01   \n",
       "65   2017-10-31               780  ...     2017-10-01           2017-06-01   \n",
       "66   2017-10-31               780  ...     2017-10-01           2017-06-01   \n",
       "67   2017-10-31               780  ...     2017-10-01           2017-06-01   \n",
       "68   2017-10-31               780  ...     2017-10-01           2017-06-01   \n",
       "\n",
       "   cohort_lifetime              buy ts revenue             buy_day  \\\n",
       "64               4 2017-06-25 08:54:00    3.67 2017-06-19 08:54:00   \n",
       "65               4 2017-06-26 09:14:00    3.67 2017-06-26 09:14:00   \n",
       "66               4 2017-06-26 12:12:00   12.22 2017-06-26 12:12:00   \n",
       "67               4 2017-06-28 19:25:00   23.22 2017-06-26 19:25:00   \n",
       "68               4 2017-09-07 20:09:00   27.25 2017-09-04 20:09:00   \n",
       "\n",
       "             first_day visit_order_dif    first_order_date first_order_month  \n",
       "64 2017-05-29 14:17:00              20 2017-06-25 08:54:00        2017-06-01  \n",
       "65 2017-05-29 14:17:00              27 2017-06-25 08:54:00        2017-06-01  \n",
       "66 2017-05-29 14:17:00              27 2017-06-25 08:54:00        2017-06-01  \n",
       "67 2017-05-29 14:17:00              28 2017-06-25 08:54:00        2017-06-01  \n",
       "68 2017-05-29 14:17:00              98 2017-06-25 08:54:00        2017-06-01  \n",
       "\n",
       "[5 rows x 21 columns]"
      ]
     },
     "metadata": {},
     "output_type": "display_data"
    }
   ],
   "source": [
    "users_source_1 = users[users['source id'] == 1]\n",
    "display(users_source.head())"
   ]
  },
  {
   "cell_type": "markdown",
   "metadata": {},
   "source": [
    "Добавим количество пользователей  к данным по выручке"
   ]
  },
  {
   "cell_type": "code",
   "execution_count": 294,
   "metadata": {},
   "outputs": [
    {
     "data": {
      "text/html": [
       "<div>\n",
       "<style scoped>\n",
       "    .dataframe tbody tr th:only-of-type {\n",
       "        vertical-align: middle;\n",
       "    }\n",
       "\n",
       "    .dataframe tbody tr th {\n",
       "        vertical-align: top;\n",
       "    }\n",
       "\n",
       "    .dataframe thead th {\n",
       "        text-align: right;\n",
       "    }\n",
       "</style>\n",
       "<table border=\"1\" class=\"dataframe\">\n",
       "  <thead>\n",
       "    <tr style=\"text-align: right;\">\n",
       "      <th></th>\n",
       "      <th>first_order_month</th>\n",
       "      <th>buyers</th>\n",
       "      <th>device</th>\n",
       "      <th>end ts</th>\n",
       "      <th>source id</th>\n",
       "      <th>start ts</th>\n",
       "      <th>uid</th>\n",
       "      <th>session_year</th>\n",
       "      <th>session_month</th>\n",
       "      <th>session_week</th>\n",
       "      <th>...</th>\n",
       "      <th>first_activity_date</th>\n",
       "      <th>activity_month</th>\n",
       "      <th>first_activity_month</th>\n",
       "      <th>cohort_lifetime</th>\n",
       "      <th>buy ts</th>\n",
       "      <th>revenue</th>\n",
       "      <th>buy_day</th>\n",
       "      <th>first_day</th>\n",
       "      <th>visit_order_dif</th>\n",
       "      <th>first_order_date</th>\n",
       "    </tr>\n",
       "  </thead>\n",
       "  <tbody>\n",
       "    <tr>\n",
       "      <td>0</td>\n",
       "      <td>2017-06-01</td>\n",
       "      <td>2023</td>\n",
       "      <td>desktop</td>\n",
       "      <td>2017-10-31 14:45:00</td>\n",
       "      <td>1</td>\n",
       "      <td>2017-10-31 14:32:00</td>\n",
       "      <td>8056418121947262981</td>\n",
       "      <td>2017</td>\n",
       "      <td>10</td>\n",
       "      <td>44</td>\n",
       "      <td>...</td>\n",
       "      <td>2017-06-04 14:17:00</td>\n",
       "      <td>2017-10-01</td>\n",
       "      <td>2017-06-01</td>\n",
       "      <td>4</td>\n",
       "      <td>2017-06-25 08:54:00</td>\n",
       "      <td>3.67</td>\n",
       "      <td>2017-06-19 08:54:00</td>\n",
       "      <td>2017-05-29 14:17:00</td>\n",
       "      <td>20</td>\n",
       "      <td>2017-06-25 08:54:00</td>\n",
       "    </tr>\n",
       "    <tr>\n",
       "      <td>1</td>\n",
       "      <td>2017-06-01</td>\n",
       "      <td>2023</td>\n",
       "      <td>desktop</td>\n",
       "      <td>2017-10-31 14:45:00</td>\n",
       "      <td>1</td>\n",
       "      <td>2017-10-31 14:32:00</td>\n",
       "      <td>8056418121947262981</td>\n",
       "      <td>2017</td>\n",
       "      <td>10</td>\n",
       "      <td>44</td>\n",
       "      <td>...</td>\n",
       "      <td>2017-06-04 14:17:00</td>\n",
       "      <td>2017-10-01</td>\n",
       "      <td>2017-06-01</td>\n",
       "      <td>4</td>\n",
       "      <td>2017-06-26 09:14:00</td>\n",
       "      <td>3.67</td>\n",
       "      <td>2017-06-26 09:14:00</td>\n",
       "      <td>2017-05-29 14:17:00</td>\n",
       "      <td>27</td>\n",
       "      <td>2017-06-25 08:54:00</td>\n",
       "    </tr>\n",
       "    <tr>\n",
       "      <td>2</td>\n",
       "      <td>2017-06-01</td>\n",
       "      <td>2023</td>\n",
       "      <td>desktop</td>\n",
       "      <td>2017-10-31 14:45:00</td>\n",
       "      <td>1</td>\n",
       "      <td>2017-10-31 14:32:00</td>\n",
       "      <td>8056418121947262981</td>\n",
       "      <td>2017</td>\n",
       "      <td>10</td>\n",
       "      <td>44</td>\n",
       "      <td>...</td>\n",
       "      <td>2017-06-04 14:17:00</td>\n",
       "      <td>2017-10-01</td>\n",
       "      <td>2017-06-01</td>\n",
       "      <td>4</td>\n",
       "      <td>2017-06-26 12:12:00</td>\n",
       "      <td>12.22</td>\n",
       "      <td>2017-06-26 12:12:00</td>\n",
       "      <td>2017-05-29 14:17:00</td>\n",
       "      <td>27</td>\n",
       "      <td>2017-06-25 08:54:00</td>\n",
       "    </tr>\n",
       "    <tr>\n",
       "      <td>3</td>\n",
       "      <td>2017-06-01</td>\n",
       "      <td>2023</td>\n",
       "      <td>desktop</td>\n",
       "      <td>2017-10-31 14:45:00</td>\n",
       "      <td>1</td>\n",
       "      <td>2017-10-31 14:32:00</td>\n",
       "      <td>8056418121947262981</td>\n",
       "      <td>2017</td>\n",
       "      <td>10</td>\n",
       "      <td>44</td>\n",
       "      <td>...</td>\n",
       "      <td>2017-06-04 14:17:00</td>\n",
       "      <td>2017-10-01</td>\n",
       "      <td>2017-06-01</td>\n",
       "      <td>4</td>\n",
       "      <td>2017-06-28 19:25:00</td>\n",
       "      <td>23.22</td>\n",
       "      <td>2017-06-26 19:25:00</td>\n",
       "      <td>2017-05-29 14:17:00</td>\n",
       "      <td>28</td>\n",
       "      <td>2017-06-25 08:54:00</td>\n",
       "    </tr>\n",
       "    <tr>\n",
       "      <td>4</td>\n",
       "      <td>2017-06-01</td>\n",
       "      <td>2023</td>\n",
       "      <td>desktop</td>\n",
       "      <td>2017-10-31 14:45:00</td>\n",
       "      <td>1</td>\n",
       "      <td>2017-10-31 14:32:00</td>\n",
       "      <td>8056418121947262981</td>\n",
       "      <td>2017</td>\n",
       "      <td>10</td>\n",
       "      <td>44</td>\n",
       "      <td>...</td>\n",
       "      <td>2017-06-04 14:17:00</td>\n",
       "      <td>2017-10-01</td>\n",
       "      <td>2017-06-01</td>\n",
       "      <td>4</td>\n",
       "      <td>2017-09-07 20:09:00</td>\n",
       "      <td>27.25</td>\n",
       "      <td>2017-09-04 20:09:00</td>\n",
       "      <td>2017-05-29 14:17:00</td>\n",
       "      <td>98</td>\n",
       "      <td>2017-06-25 08:54:00</td>\n",
       "    </tr>\n",
       "  </tbody>\n",
       "</table>\n",
       "<p>5 rows × 22 columns</p>\n",
       "</div>"
      ],
      "text/plain": [
       "  first_order_month  buyers   device              end ts  source id  \\\n",
       "0        2017-06-01    2023  desktop 2017-10-31 14:45:00          1   \n",
       "1        2017-06-01    2023  desktop 2017-10-31 14:45:00          1   \n",
       "2        2017-06-01    2023  desktop 2017-10-31 14:45:00          1   \n",
       "3        2017-06-01    2023  desktop 2017-10-31 14:45:00          1   \n",
       "4        2017-06-01    2023  desktop 2017-10-31 14:45:00          1   \n",
       "\n",
       "             start ts                  uid  session_year  session_month  \\\n",
       "0 2017-10-31 14:32:00  8056418121947262981          2017             10   \n",
       "1 2017-10-31 14:32:00  8056418121947262981          2017             10   \n",
       "2 2017-10-31 14:32:00  8056418121947262981          2017             10   \n",
       "3 2017-10-31 14:32:00  8056418121947262981          2017             10   \n",
       "4 2017-10-31 14:32:00  8056418121947262981          2017             10   \n",
       "\n",
       "   session_week  ... first_activity_date  activity_month first_activity_month  \\\n",
       "0            44  ... 2017-06-04 14:17:00      2017-10-01           2017-06-01   \n",
       "1            44  ... 2017-06-04 14:17:00      2017-10-01           2017-06-01   \n",
       "2            44  ... 2017-06-04 14:17:00      2017-10-01           2017-06-01   \n",
       "3            44  ... 2017-06-04 14:17:00      2017-10-01           2017-06-01   \n",
       "4            44  ... 2017-06-04 14:17:00      2017-10-01           2017-06-01   \n",
       "\n",
       "  cohort_lifetime              buy ts  revenue             buy_day  \\\n",
       "0               4 2017-06-25 08:54:00     3.67 2017-06-19 08:54:00   \n",
       "1               4 2017-06-26 09:14:00     3.67 2017-06-26 09:14:00   \n",
       "2               4 2017-06-26 12:12:00    12.22 2017-06-26 12:12:00   \n",
       "3               4 2017-06-28 19:25:00    23.22 2017-06-26 19:25:00   \n",
       "4               4 2017-09-07 20:09:00    27.25 2017-09-04 20:09:00   \n",
       "\n",
       "            first_day visit_order_dif    first_order_date  \n",
       "0 2017-05-29 14:17:00              20 2017-06-25 08:54:00  \n",
       "1 2017-05-29 14:17:00              27 2017-06-25 08:54:00  \n",
       "2 2017-05-29 14:17:00              27 2017-06-25 08:54:00  \n",
       "3 2017-05-29 14:17:00              28 2017-06-25 08:54:00  \n",
       "4 2017-05-29 14:17:00              98 2017-06-25 08:54:00  \n",
       "\n",
       "[5 rows x 22 columns]"
      ]
     },
     "metadata": {},
     "output_type": "display_data"
    }
   ],
   "source": [
    "report_source_1 = pd.merge(buyers, users_source_1, on='first_order_month')\n",
    "display(report_source.head())"
   ]
  },
  {
   "cell_type": "markdown",
   "metadata": {},
   "source": [
    "Объединяем новую таблицу с основными данными по выручке, расходам и покупателям. "
   ]
  },
  {
   "cell_type": "code",
   "execution_count": 295,
   "metadata": {},
   "outputs": [
    {
     "data": {
      "text/html": [
       "<div>\n",
       "<style scoped>\n",
       "    .dataframe tbody tr th:only-of-type {\n",
       "        vertical-align: middle;\n",
       "    }\n",
       "\n",
       "    .dataframe tbody tr th {\n",
       "        vertical-align: top;\n",
       "    }\n",
       "\n",
       "    .dataframe thead th {\n",
       "        text-align: right;\n",
       "    }\n",
       "</style>\n",
       "<table border=\"1\" class=\"dataframe\">\n",
       "  <thead>\n",
       "    <tr style=\"text-align: right;\">\n",
       "      <th></th>\n",
       "      <th>first_order_month</th>\n",
       "      <th>buyers</th>\n",
       "      <th>device</th>\n",
       "      <th>end ts</th>\n",
       "      <th>source id</th>\n",
       "      <th>start ts</th>\n",
       "      <th>uid</th>\n",
       "      <th>session_year</th>\n",
       "      <th>session_month</th>\n",
       "      <th>session_week</th>\n",
       "      <th>...</th>\n",
       "      <th>first_activity_month</th>\n",
       "      <th>cohort_lifetime</th>\n",
       "      <th>buy ts</th>\n",
       "      <th>revenue</th>\n",
       "      <th>buy_day</th>\n",
       "      <th>first_day</th>\n",
       "      <th>visit_order_dif</th>\n",
       "      <th>first_order_date</th>\n",
       "      <th>costs_month</th>\n",
       "      <th>costs</th>\n",
       "    </tr>\n",
       "  </thead>\n",
       "  <tbody>\n",
       "    <tr>\n",
       "      <td>0</td>\n",
       "      <td>2017-06-01</td>\n",
       "      <td>2023</td>\n",
       "      <td>desktop</td>\n",
       "      <td>2017-10-31 14:45:00</td>\n",
       "      <td>1</td>\n",
       "      <td>2017-10-31 14:32:00</td>\n",
       "      <td>8056418121947262981</td>\n",
       "      <td>2017</td>\n",
       "      <td>10</td>\n",
       "      <td>44</td>\n",
       "      <td>...</td>\n",
       "      <td>2017-06-01</td>\n",
       "      <td>4</td>\n",
       "      <td>2017-06-25 08:54:00</td>\n",
       "      <td>3.67</td>\n",
       "      <td>2017-06-19 08:54:00</td>\n",
       "      <td>2017-05-29 14:17:00</td>\n",
       "      <td>20</td>\n",
       "      <td>2017-06-25 08:54:00</td>\n",
       "      <td>2017-06-01</td>\n",
       "      <td>1125.61</td>\n",
       "    </tr>\n",
       "    <tr>\n",
       "      <td>1</td>\n",
       "      <td>2017-06-01</td>\n",
       "      <td>2023</td>\n",
       "      <td>desktop</td>\n",
       "      <td>2017-10-31 14:45:00</td>\n",
       "      <td>1</td>\n",
       "      <td>2017-10-31 14:32:00</td>\n",
       "      <td>8056418121947262981</td>\n",
       "      <td>2017</td>\n",
       "      <td>10</td>\n",
       "      <td>44</td>\n",
       "      <td>...</td>\n",
       "      <td>2017-06-01</td>\n",
       "      <td>4</td>\n",
       "      <td>2017-06-26 09:14:00</td>\n",
       "      <td>3.67</td>\n",
       "      <td>2017-06-26 09:14:00</td>\n",
       "      <td>2017-05-29 14:17:00</td>\n",
       "      <td>27</td>\n",
       "      <td>2017-06-25 08:54:00</td>\n",
       "      <td>2017-06-01</td>\n",
       "      <td>1125.61</td>\n",
       "    </tr>\n",
       "    <tr>\n",
       "      <td>2</td>\n",
       "      <td>2017-06-01</td>\n",
       "      <td>2023</td>\n",
       "      <td>desktop</td>\n",
       "      <td>2017-10-31 14:45:00</td>\n",
       "      <td>1</td>\n",
       "      <td>2017-10-31 14:32:00</td>\n",
       "      <td>8056418121947262981</td>\n",
       "      <td>2017</td>\n",
       "      <td>10</td>\n",
       "      <td>44</td>\n",
       "      <td>...</td>\n",
       "      <td>2017-06-01</td>\n",
       "      <td>4</td>\n",
       "      <td>2017-06-26 12:12:00</td>\n",
       "      <td>12.22</td>\n",
       "      <td>2017-06-26 12:12:00</td>\n",
       "      <td>2017-05-29 14:17:00</td>\n",
       "      <td>27</td>\n",
       "      <td>2017-06-25 08:54:00</td>\n",
       "      <td>2017-06-01</td>\n",
       "      <td>1125.61</td>\n",
       "    </tr>\n",
       "    <tr>\n",
       "      <td>3</td>\n",
       "      <td>2017-06-01</td>\n",
       "      <td>2023</td>\n",
       "      <td>desktop</td>\n",
       "      <td>2017-10-31 14:45:00</td>\n",
       "      <td>1</td>\n",
       "      <td>2017-10-31 14:32:00</td>\n",
       "      <td>8056418121947262981</td>\n",
       "      <td>2017</td>\n",
       "      <td>10</td>\n",
       "      <td>44</td>\n",
       "      <td>...</td>\n",
       "      <td>2017-06-01</td>\n",
       "      <td>4</td>\n",
       "      <td>2017-06-28 19:25:00</td>\n",
       "      <td>23.22</td>\n",
       "      <td>2017-06-26 19:25:00</td>\n",
       "      <td>2017-05-29 14:17:00</td>\n",
       "      <td>28</td>\n",
       "      <td>2017-06-25 08:54:00</td>\n",
       "      <td>2017-06-01</td>\n",
       "      <td>1125.61</td>\n",
       "    </tr>\n",
       "    <tr>\n",
       "      <td>4</td>\n",
       "      <td>2017-06-01</td>\n",
       "      <td>2023</td>\n",
       "      <td>desktop</td>\n",
       "      <td>2017-10-31 14:45:00</td>\n",
       "      <td>1</td>\n",
       "      <td>2017-10-31 14:32:00</td>\n",
       "      <td>8056418121947262981</td>\n",
       "      <td>2017</td>\n",
       "      <td>10</td>\n",
       "      <td>44</td>\n",
       "      <td>...</td>\n",
       "      <td>2017-06-01</td>\n",
       "      <td>4</td>\n",
       "      <td>2017-09-07 20:09:00</td>\n",
       "      <td>27.25</td>\n",
       "      <td>2017-09-04 20:09:00</td>\n",
       "      <td>2017-05-29 14:17:00</td>\n",
       "      <td>98</td>\n",
       "      <td>2017-06-25 08:54:00</td>\n",
       "      <td>2017-06-01</td>\n",
       "      <td>1125.61</td>\n",
       "    </tr>\n",
       "  </tbody>\n",
       "</table>\n",
       "<p>5 rows × 24 columns</p>\n",
       "</div>"
      ],
      "text/plain": [
       "  first_order_month  buyers   device              end ts  source id  \\\n",
       "0        2017-06-01    2023  desktop 2017-10-31 14:45:00          1   \n",
       "1        2017-06-01    2023  desktop 2017-10-31 14:45:00          1   \n",
       "2        2017-06-01    2023  desktop 2017-10-31 14:45:00          1   \n",
       "3        2017-06-01    2023  desktop 2017-10-31 14:45:00          1   \n",
       "4        2017-06-01    2023  desktop 2017-10-31 14:45:00          1   \n",
       "\n",
       "             start ts                  uid  session_year  session_month  \\\n",
       "0 2017-10-31 14:32:00  8056418121947262981          2017             10   \n",
       "1 2017-10-31 14:32:00  8056418121947262981          2017             10   \n",
       "2 2017-10-31 14:32:00  8056418121947262981          2017             10   \n",
       "3 2017-10-31 14:32:00  8056418121947262981          2017             10   \n",
       "4 2017-10-31 14:32:00  8056418121947262981          2017             10   \n",
       "\n",
       "   session_week  ... first_activity_month  cohort_lifetime  \\\n",
       "0            44  ...           2017-06-01                4   \n",
       "1            44  ...           2017-06-01                4   \n",
       "2            44  ...           2017-06-01                4   \n",
       "3            44  ...           2017-06-01                4   \n",
       "4            44  ...           2017-06-01                4   \n",
       "\n",
       "               buy ts revenue             buy_day           first_day  \\\n",
       "0 2017-06-25 08:54:00    3.67 2017-06-19 08:54:00 2017-05-29 14:17:00   \n",
       "1 2017-06-26 09:14:00    3.67 2017-06-26 09:14:00 2017-05-29 14:17:00   \n",
       "2 2017-06-26 12:12:00   12.22 2017-06-26 12:12:00 2017-05-29 14:17:00   \n",
       "3 2017-06-28 19:25:00   23.22 2017-06-26 19:25:00 2017-05-29 14:17:00   \n",
       "4 2017-09-07 20:09:00   27.25 2017-09-04 20:09:00 2017-05-29 14:17:00   \n",
       "\n",
       "  visit_order_dif    first_order_date costs_month    costs  \n",
       "0              20 2017-06-25 08:54:00  2017-06-01  1125.61  \n",
       "1              27 2017-06-25 08:54:00  2017-06-01  1125.61  \n",
       "2              27 2017-06-25 08:54:00  2017-06-01  1125.61  \n",
       "3              28 2017-06-25 08:54:00  2017-06-01  1125.61  \n",
       "4              98 2017-06-25 08:54:00  2017-06-01  1125.61  \n",
       "\n",
       "[5 rows x 24 columns]"
      ]
     },
     "metadata": {},
     "output_type": "display_data"
    }
   ],
   "source": [
    "total_source_1 = pd.merge(report_source_1, costs_month_source_1, left_on='first_order_month', right_on='costs_month')\n",
    "display(total_source_1.head())"
   ]
  },
  {
   "cell_type": "markdown",
   "metadata": {},
   "source": [
    "Рассчитываем ежемесячный и средний LTV для источника 1"
   ]
  },
  {
   "cell_type": "code",
   "execution_count": 301,
   "metadata": {},
   "outputs": [],
   "source": [
    "total_source_1['ltv'] = (total_source_1['revenue'] / total_source_1['buyers']).round(2)"
   ]
  },
  {
   "cell_type": "code",
   "execution_count": 314,
   "metadata": {},
   "outputs": [
    {
     "data": {
      "text/html": [
       "<div>\n",
       "<style scoped>\n",
       "    .dataframe tbody tr th:only-of-type {\n",
       "        vertical-align: middle;\n",
       "    }\n",
       "\n",
       "    .dataframe tbody tr th {\n",
       "        vertical-align: top;\n",
       "    }\n",
       "\n",
       "    .dataframe thead th {\n",
       "        text-align: right;\n",
       "    }\n",
       "</style>\n",
       "<table border=\"1\" class=\"dataframe\">\n",
       "  <thead>\n",
       "    <tr style=\"text-align: right;\">\n",
       "      <th></th>\n",
       "      <th>first_order_month</th>\n",
       "      <th>ltv_sum_1</th>\n",
       "      <th>ltv_mean_1</th>\n",
       "    </tr>\n",
       "  </thead>\n",
       "  <tbody>\n",
       "    <tr>\n",
       "      <td>0</td>\n",
       "      <td>2017-06-01</td>\n",
       "      <td>430.03</td>\n",
       "      <td>0.00</td>\n",
       "    </tr>\n",
       "    <tr>\n",
       "      <td>1</td>\n",
       "      <td>2017-07-01</td>\n",
       "      <td>122.97</td>\n",
       "      <td>0.01</td>\n",
       "    </tr>\n",
       "    <tr>\n",
       "      <td>2</td>\n",
       "      <td>2017-08-01</td>\n",
       "      <td>74.69</td>\n",
       "      <td>0.01</td>\n",
       "    </tr>\n",
       "    <tr>\n",
       "      <td>3</td>\n",
       "      <td>2017-09-01</td>\n",
       "      <td>67.12</td>\n",
       "      <td>0.01</td>\n",
       "    </tr>\n",
       "    <tr>\n",
       "      <td>4</td>\n",
       "      <td>2017-10-01</td>\n",
       "      <td>8.70</td>\n",
       "      <td>0.00</td>\n",
       "    </tr>\n",
       "    <tr>\n",
       "      <td>5</td>\n",
       "      <td>2017-11-01</td>\n",
       "      <td>21.49</td>\n",
       "      <td>0.00</td>\n",
       "    </tr>\n",
       "    <tr>\n",
       "      <td>6</td>\n",
       "      <td>2017-12-01</td>\n",
       "      <td>1.47</td>\n",
       "      <td>0.00</td>\n",
       "    </tr>\n",
       "    <tr>\n",
       "      <td>7</td>\n",
       "      <td>2018-01-01</td>\n",
       "      <td>11.34</td>\n",
       "      <td>0.00</td>\n",
       "    </tr>\n",
       "    <tr>\n",
       "      <td>8</td>\n",
       "      <td>2018-02-01</td>\n",
       "      <td>1.24</td>\n",
       "      <td>0.00</td>\n",
       "    </tr>\n",
       "    <tr>\n",
       "      <td>9</td>\n",
       "      <td>2018-03-01</td>\n",
       "      <td>36.81</td>\n",
       "      <td>0.00</td>\n",
       "    </tr>\n",
       "    <tr>\n",
       "      <td>10</td>\n",
       "      <td>2018-04-01</td>\n",
       "      <td>12.85</td>\n",
       "      <td>0.00</td>\n",
       "    </tr>\n",
       "    <tr>\n",
       "      <td>11</td>\n",
       "      <td>2018-05-01</td>\n",
       "      <td>0.66</td>\n",
       "      <td>0.00</td>\n",
       "    </tr>\n",
       "  </tbody>\n",
       "</table>\n",
       "</div>"
      ],
      "text/plain": [
       "   first_order_month  ltv_sum_1  ltv_mean_1\n",
       "0         2017-06-01     430.03        0.00\n",
       "1         2017-07-01     122.97        0.01\n",
       "2         2017-08-01      74.69        0.01\n",
       "3         2017-09-01      67.12        0.01\n",
       "4         2017-10-01       8.70        0.00\n",
       "5         2017-11-01      21.49        0.00\n",
       "6         2017-12-01       1.47        0.00\n",
       "7         2018-01-01      11.34        0.00\n",
       "8         2018-02-01       1.24        0.00\n",
       "9         2018-03-01      36.81        0.00\n",
       "10        2018-04-01      12.85        0.00\n",
       "11        2018-05-01       0.66        0.00"
      ]
     },
     "metadata": {},
     "output_type": "display_data"
    }
   ],
   "source": [
    "ltv_cohorts_source_1 =total_source_1.groupby(['first_order_month']).agg({'ltv':['sum','mean']}).round(2).reset_index()\n",
    "ltv_cohorts_source_1.columns = ['first_order_month','ltv_sum_1', 'ltv_mean_1']\n",
    "display(ltv_cohorts_source_1)\n"
   ]
  },
  {
   "cell_type": "code",
   "execution_count": 309,
   "metadata": {},
   "outputs": [
    {
     "name": "stdout",
     "output_type": "stream",
     "text": [
      "Общий средний LTV по источнику 1: 65.78\n"
     ]
    }
   ],
   "source": [
    "ltv_mean_source_1 = ltv_cohorts_source_1['ltv_sum_1'].mean().round(2)\n",
    "print('Общий средний LTV по источнику 1:', ltv_mean_source_1) "
   ]
  },
  {
   "cell_type": "markdown",
   "metadata": {},
   "source": [
    "Рассчитываем САС для источника 1"
   ]
  },
  {
   "cell_type": "code",
   "execution_count": 316,
   "metadata": {},
   "outputs": [
    {
     "data": {
      "text/html": [
       "<div>\n",
       "<style scoped>\n",
       "    .dataframe tbody tr th:only-of-type {\n",
       "        vertical-align: middle;\n",
       "    }\n",
       "\n",
       "    .dataframe tbody tr th {\n",
       "        vertical-align: top;\n",
       "    }\n",
       "\n",
       "    .dataframe thead th {\n",
       "        text-align: right;\n",
       "    }\n",
       "</style>\n",
       "<table border=\"1\" class=\"dataframe\">\n",
       "  <thead>\n",
       "    <tr style=\"text-align: right;\">\n",
       "      <th></th>\n",
       "      <th>first_order_month</th>\n",
       "      <th>buyers</th>\n",
       "      <th>device</th>\n",
       "      <th>end ts</th>\n",
       "      <th>source id</th>\n",
       "      <th>start ts</th>\n",
       "      <th>uid</th>\n",
       "      <th>session_year</th>\n",
       "      <th>session_month</th>\n",
       "      <th>session_week</th>\n",
       "      <th>...</th>\n",
       "      <th>buy ts</th>\n",
       "      <th>revenue</th>\n",
       "      <th>buy_day</th>\n",
       "      <th>first_day</th>\n",
       "      <th>visit_order_dif</th>\n",
       "      <th>first_order_date</th>\n",
       "      <th>costs_month</th>\n",
       "      <th>costs</th>\n",
       "      <th>ltv</th>\n",
       "      <th>cac</th>\n",
       "    </tr>\n",
       "  </thead>\n",
       "  <tbody>\n",
       "    <tr>\n",
       "      <td>0</td>\n",
       "      <td>2017-06-01</td>\n",
       "      <td>2023</td>\n",
       "      <td>desktop</td>\n",
       "      <td>2017-10-31 14:45:00</td>\n",
       "      <td>1</td>\n",
       "      <td>2017-10-31 14:32:00</td>\n",
       "      <td>8056418121947262981</td>\n",
       "      <td>2017</td>\n",
       "      <td>10</td>\n",
       "      <td>44</td>\n",
       "      <td>...</td>\n",
       "      <td>2017-06-25 08:54:00</td>\n",
       "      <td>3.67</td>\n",
       "      <td>2017-06-19 08:54:00</td>\n",
       "      <td>2017-05-29 14:17:00</td>\n",
       "      <td>20</td>\n",
       "      <td>2017-06-25 08:54:00</td>\n",
       "      <td>2017-06-01</td>\n",
       "      <td>1125.61</td>\n",
       "      <td>0.00</td>\n",
       "      <td>0.56</td>\n",
       "    </tr>\n",
       "    <tr>\n",
       "      <td>1</td>\n",
       "      <td>2017-06-01</td>\n",
       "      <td>2023</td>\n",
       "      <td>desktop</td>\n",
       "      <td>2017-10-31 14:45:00</td>\n",
       "      <td>1</td>\n",
       "      <td>2017-10-31 14:32:00</td>\n",
       "      <td>8056418121947262981</td>\n",
       "      <td>2017</td>\n",
       "      <td>10</td>\n",
       "      <td>44</td>\n",
       "      <td>...</td>\n",
       "      <td>2017-06-26 09:14:00</td>\n",
       "      <td>3.67</td>\n",
       "      <td>2017-06-26 09:14:00</td>\n",
       "      <td>2017-05-29 14:17:00</td>\n",
       "      <td>27</td>\n",
       "      <td>2017-06-25 08:54:00</td>\n",
       "      <td>2017-06-01</td>\n",
       "      <td>1125.61</td>\n",
       "      <td>0.00</td>\n",
       "      <td>0.56</td>\n",
       "    </tr>\n",
       "    <tr>\n",
       "      <td>2</td>\n",
       "      <td>2017-06-01</td>\n",
       "      <td>2023</td>\n",
       "      <td>desktop</td>\n",
       "      <td>2017-10-31 14:45:00</td>\n",
       "      <td>1</td>\n",
       "      <td>2017-10-31 14:32:00</td>\n",
       "      <td>8056418121947262981</td>\n",
       "      <td>2017</td>\n",
       "      <td>10</td>\n",
       "      <td>44</td>\n",
       "      <td>...</td>\n",
       "      <td>2017-06-26 12:12:00</td>\n",
       "      <td>12.22</td>\n",
       "      <td>2017-06-26 12:12:00</td>\n",
       "      <td>2017-05-29 14:17:00</td>\n",
       "      <td>27</td>\n",
       "      <td>2017-06-25 08:54:00</td>\n",
       "      <td>2017-06-01</td>\n",
       "      <td>1125.61</td>\n",
       "      <td>0.01</td>\n",
       "      <td>0.56</td>\n",
       "    </tr>\n",
       "    <tr>\n",
       "      <td>3</td>\n",
       "      <td>2017-06-01</td>\n",
       "      <td>2023</td>\n",
       "      <td>desktop</td>\n",
       "      <td>2017-10-31 14:45:00</td>\n",
       "      <td>1</td>\n",
       "      <td>2017-10-31 14:32:00</td>\n",
       "      <td>8056418121947262981</td>\n",
       "      <td>2017</td>\n",
       "      <td>10</td>\n",
       "      <td>44</td>\n",
       "      <td>...</td>\n",
       "      <td>2017-06-28 19:25:00</td>\n",
       "      <td>23.22</td>\n",
       "      <td>2017-06-26 19:25:00</td>\n",
       "      <td>2017-05-29 14:17:00</td>\n",
       "      <td>28</td>\n",
       "      <td>2017-06-25 08:54:00</td>\n",
       "      <td>2017-06-01</td>\n",
       "      <td>1125.61</td>\n",
       "      <td>0.01</td>\n",
       "      <td>0.56</td>\n",
       "    </tr>\n",
       "    <tr>\n",
       "      <td>4</td>\n",
       "      <td>2017-06-01</td>\n",
       "      <td>2023</td>\n",
       "      <td>desktop</td>\n",
       "      <td>2017-10-31 14:45:00</td>\n",
       "      <td>1</td>\n",
       "      <td>2017-10-31 14:32:00</td>\n",
       "      <td>8056418121947262981</td>\n",
       "      <td>2017</td>\n",
       "      <td>10</td>\n",
       "      <td>44</td>\n",
       "      <td>...</td>\n",
       "      <td>2017-09-07 20:09:00</td>\n",
       "      <td>27.25</td>\n",
       "      <td>2017-09-04 20:09:00</td>\n",
       "      <td>2017-05-29 14:17:00</td>\n",
       "      <td>98</td>\n",
       "      <td>2017-06-25 08:54:00</td>\n",
       "      <td>2017-06-01</td>\n",
       "      <td>1125.61</td>\n",
       "      <td>0.01</td>\n",
       "      <td>0.56</td>\n",
       "    </tr>\n",
       "  </tbody>\n",
       "</table>\n",
       "<p>5 rows × 26 columns</p>\n",
       "</div>"
      ],
      "text/plain": [
       "  first_order_month  buyers   device              end ts  source id  \\\n",
       "0        2017-06-01    2023  desktop 2017-10-31 14:45:00          1   \n",
       "1        2017-06-01    2023  desktop 2017-10-31 14:45:00          1   \n",
       "2        2017-06-01    2023  desktop 2017-10-31 14:45:00          1   \n",
       "3        2017-06-01    2023  desktop 2017-10-31 14:45:00          1   \n",
       "4        2017-06-01    2023  desktop 2017-10-31 14:45:00          1   \n",
       "\n",
       "             start ts                  uid  session_year  session_month  \\\n",
       "0 2017-10-31 14:32:00  8056418121947262981          2017             10   \n",
       "1 2017-10-31 14:32:00  8056418121947262981          2017             10   \n",
       "2 2017-10-31 14:32:00  8056418121947262981          2017             10   \n",
       "3 2017-10-31 14:32:00  8056418121947262981          2017             10   \n",
       "4 2017-10-31 14:32:00  8056418121947262981          2017             10   \n",
       "\n",
       "   session_week  ...              buy ts  revenue             buy_day  \\\n",
       "0            44  ... 2017-06-25 08:54:00     3.67 2017-06-19 08:54:00   \n",
       "1            44  ... 2017-06-26 09:14:00     3.67 2017-06-26 09:14:00   \n",
       "2            44  ... 2017-06-26 12:12:00    12.22 2017-06-26 12:12:00   \n",
       "3            44  ... 2017-06-28 19:25:00    23.22 2017-06-26 19:25:00   \n",
       "4            44  ... 2017-09-07 20:09:00    27.25 2017-09-04 20:09:00   \n",
       "\n",
       "            first_day visit_order_dif    first_order_date costs_month  \\\n",
       "0 2017-05-29 14:17:00              20 2017-06-25 08:54:00  2017-06-01   \n",
       "1 2017-05-29 14:17:00              27 2017-06-25 08:54:00  2017-06-01   \n",
       "2 2017-05-29 14:17:00              27 2017-06-25 08:54:00  2017-06-01   \n",
       "3 2017-05-29 14:17:00              28 2017-06-25 08:54:00  2017-06-01   \n",
       "4 2017-05-29 14:17:00              98 2017-06-25 08:54:00  2017-06-01   \n",
       "\n",
       "     costs   ltv   cac  \n",
       "0  1125.61  0.00  0.56  \n",
       "1  1125.61  0.00  0.56  \n",
       "2  1125.61  0.01  0.56  \n",
       "3  1125.61  0.01  0.56  \n",
       "4  1125.61  0.01  0.56  \n",
       "\n",
       "[5 rows x 26 columns]"
      ]
     },
     "execution_count": 316,
     "metadata": {},
     "output_type": "execute_result"
    }
   ],
   "source": [
    "total_source_1['cac'] = (total_source_1['costs'] / total_source_1['buyers']).round(2)\n",
    "total_source_1.head()"
   ]
  },
  {
   "cell_type": "code",
   "execution_count": 317,
   "metadata": {},
   "outputs": [
    {
     "name": "stdout",
     "output_type": "stream",
     "text": [
      "Среднее значение САС по источнику 1:  0.57\n"
     ]
    }
   ],
   "source": [
    "cac_mean_source_1 = total_source_1['cac'].mean().round(2)\n",
    "print('Среднее значение САС по источнику 1: ', cac_mean_source_1)"
   ]
  },
  {
   "cell_type": "markdown",
   "metadata": {},
   "source": [
    "Находим ROMI для источника 1 по когортам"
   ]
  },
  {
   "cell_type": "code",
   "execution_count": 321,
   "metadata": {},
   "outputs": [
    {
     "data": {
      "text/plain": [
       "cohort_lifetime\n",
       "0     0.004429\n",
       "1     0.009566\n",
       "2     0.014292\n",
       "3     0.019647\n",
       "4     0.025681\n",
       "5     0.031039\n",
       "6     0.036330\n",
       "7     0.043483\n",
       "8     0.052931\n",
       "9     0.059942\n",
       "10    0.065712\n",
       "11    0.071032\n",
       "dtype: float64"
      ]
     },
     "execution_count": 321,
     "metadata": {},
     "output_type": "execute_result"
    }
   ],
   "source": [
    "total_source_1['romi'] = total_source_1['ltv'] / total_source_1['cac']\n",
    "result_source_1 = total_source_1.pivot_table(\n",
    "        index='first_order_month', \n",
    "        columns='cohort_lifetime', \n",
    "        values='romi', \n",
    "        aggfunc='mean')\n",
    "result_source_1.cumsum(axis=1).mean(axis=0)\n"
   ]
  },
  {
   "cell_type": "markdown",
   "metadata": {},
   "source": [
    "Рассчитаем среднее ROMI для всех когорт по источнику 1"
   ]
  },
  {
   "cell_type": "code",
   "execution_count": 324,
   "metadata": {},
   "outputs": [
    {
     "name": "stdout",
     "output_type": "stream",
     "text": [
      "Ср.ROMI для источника 1:  0.04\n"
     ]
    }
   ],
   "source": [
    "print('Ср.ROMI для источника 1: ', result_source_1.cumsum(axis=1).mean(axis=0).mean().round(2))"
   ]
  },
  {
   "cell_type": "markdown",
   "metadata": {},
   "source": [
    "Рекламный источник 1 еще не окупился, хотя его LTV достаточно высокий и показатель ROMI растет с каждой когортой и составляет 7.1%"
   ]
  },
  {
   "cell_type": "markdown",
   "metadata": {},
   "source": [
    "Рассчитываем ROMI для источника 2 по всем когортам и средний показатель"
   ]
  },
  {
   "cell_type": "code",
   "execution_count": 328,
   "metadata": {},
   "outputs": [
    {
     "data": {
      "text/plain": [
       "cohort_lifetime\n",
       "0     0.001699\n",
       "1     0.003579\n",
       "2     0.006360\n",
       "3     0.010557\n",
       "4     0.013199\n",
       "5     0.016483\n",
       "6     0.018859\n",
       "7     0.021964\n",
       "8     0.024677\n",
       "9     0.027168\n",
       "10    0.031195\n",
       "11    0.034116\n",
       "dtype: float64"
      ]
     },
     "execution_count": 328,
     "metadata": {},
     "output_type": "execute_result"
    }
   ],
   "source": [
    "costs_month_source_2 = costs_cohorts[costs_cohorts['source id'] == 2].groupby(['costs_month']).agg({'costs': 'sum'}).reset_index()\n",
    "users_source_2 = users[users['source id'] == 2]\n",
    "report_source_2 = pd.merge(buyers, users_source_2, on='first_order_month')\n",
    "total_source_2 = pd.merge(report_source_2, costs_month_source_2, left_on='first_order_month', right_on='costs_month')\n",
    "total_source_2['ltv'] = (total_source_2['revenue'] / total_source_2['buyers']).round(2)\n",
    "ltv_cohorts_source_2 =total_source_2.groupby(['first_order_month']).agg({'ltv':['sum','mean']}).round(2).reset_index()\n",
    "ltv_cohorts_source_2.columns = ['first_order_month','ltv_sum_1', 'ltv_mean_1']\n",
    "ltv_mean_source_2 = ltv_cohorts_source_2['ltv_sum_1'].mean().round(2)\n",
    "total_source_2['cac'] = (total_source_2['costs'] / total_source_2['buyers']).round(2)\n",
    "cac_mean_source_2 = total_source_2['cac'].mean().round(2)\n",
    "total_source_2['romi'] = total_source_2['ltv'] / total_source_2['cac']\n",
    "result_source_2 = total_source_2.pivot_table(\n",
    "        index='first_order_month', \n",
    "        columns='cohort_lifetime', \n",
    "        values='romi', \n",
    "        aggfunc='mean')\n",
    "result_source_2.cumsum(axis=1).mean(axis=0)\n"
   ]
  },
  {
   "cell_type": "code",
   "execution_count": 329,
   "metadata": {},
   "outputs": [
    {
     "name": "stdout",
     "output_type": "stream",
     "text": [
      "Ср.ROMI для источника 2:  0.02\n"
     ]
    }
   ],
   "source": [
    "print('Ср.ROMI для источника 2: ', result_source_2.cumsum(axis=1).mean(axis=0).mean().round(2))"
   ]
  },
  {
   "cell_type": "markdown",
   "metadata": {},
   "source": [
    "ROMI источника 2 растет, но до окупаемости еще далеко - 3.4%"
   ]
  },
  {
   "cell_type": "markdown",
   "metadata": {},
   "source": [
    "Рассчитываем ROMI для источника 3 по всем когортам и средний показатель"
   ]
  },
  {
   "cell_type": "code",
   "execution_count": 330,
   "metadata": {},
   "outputs": [
    {
     "data": {
      "text/plain": [
       "cohort_lifetime\n",
       "0     0.000192\n",
       "1     0.000490\n",
       "2     0.000971\n",
       "3     0.001755\n",
       "4     0.002307\n",
       "5     0.002827\n",
       "6     0.003443\n",
       "7     0.003765\n",
       "8     0.004208\n",
       "9     0.005110\n",
       "10    0.005321\n",
       "11    0.005926\n",
       "dtype: float64"
      ]
     },
     "execution_count": 330,
     "metadata": {},
     "output_type": "execute_result"
    }
   ],
   "source": [
    "costs_month_source_3 = costs_cohorts[costs_cohorts['source id'] == 3].groupby(['costs_month']).agg({'costs': 'sum'}).reset_index()\n",
    "users_source_3 = users[users['source id'] == 3]\n",
    "report_source_3 = pd.merge(buyers, users_source_3, on='first_order_month')\n",
    "total_source_3 = pd.merge(report_source_3, costs_month_source_3, left_on='first_order_month', right_on='costs_month')\n",
    "total_source_3['ltv'] = (total_source_3['revenue'] / total_source_3['buyers']).round(2)\n",
    "ltv_cohorts_source_3 =total_source_3.groupby(['first_order_month']).agg({'ltv':['sum','mean']}).round(2).reset_index()\n",
    "ltv_cohorts_source_3.columns = ['first_order_month','ltv_sum_1', 'ltv_mean_1']\n",
    "ltv_mean_source_3 = ltv_cohorts_source_3['ltv_sum_1'].mean().round(2)\n",
    "total_source_3['cac'] = (total_source_3['costs'] / total_source_3['buyers']).round(2)\n",
    "cac_mean_source_3 = total_source_3['cac'].mean().round(2)\n",
    "total_source_3['romi'] = total_source_3['ltv'] / total_source_3['cac']\n",
    "result_source_3 = total_source_3.pivot_table(\n",
    "        index='first_order_month', \n",
    "        columns='cohort_lifetime', \n",
    "        values='romi', \n",
    "        aggfunc='mean')\n",
    "result_source_3.cumsum(axis=1).mean(axis=0)"
   ]
  },
  {
   "cell_type": "code",
   "execution_count": 334,
   "metadata": {},
   "outputs": [
    {
     "name": "stdout",
     "output_type": "stream",
     "text": [
      "Ср.ROMI для источника 3:  0.0\n"
     ]
    }
   ],
   "source": [
    "print('Ср.ROMI для источника 3: ', result_source_3.cumsum(axis=1).mean(axis=0).mean().round(2))"
   ]
  },
  {
   "cell_type": "markdown",
   "metadata": {},
   "source": [
    "Самый финансируемый источник почти не показывает прибыли, но и отрицательного ROMI нет - 0.5%"
   ]
  },
  {
   "cell_type": "markdown",
   "metadata": {},
   "source": [
    "Рассчитываем ROMI для источника 4 по всем когортам и средний показатель"
   ]
  },
  {
   "cell_type": "code",
   "execution_count": 335,
   "metadata": {},
   "outputs": [
    {
     "data": {
      "text/plain": [
       "cohort_lifetime\n",
       "0     0.000568\n",
       "1     0.001309\n",
       "2     0.002268\n",
       "3     0.003400\n",
       "4     0.004160\n",
       "5     0.005446\n",
       "6     0.006878\n",
       "7     0.008241\n",
       "8     0.009576\n",
       "9     0.010803\n",
       "10    0.013230\n",
       "11    0.015693\n",
       "dtype: float64"
      ]
     },
     "execution_count": 335,
     "metadata": {},
     "output_type": "execute_result"
    }
   ],
   "source": [
    "costs_month_source_4 = costs_cohorts[costs_cohorts['source id'] == 4].groupby(['costs_month']).agg({'costs': 'sum'}).reset_index()\n",
    "users_source_4 = users[users['source id'] == 4]\n",
    "report_source_4 = pd.merge(buyers, users_source_4, on='first_order_month')\n",
    "total_source_4 = pd.merge(report_source_4, costs_month_source_4, left_on='first_order_month', right_on='costs_month')\n",
    "total_source_4['ltv'] = (total_source_4['revenue'] / total_source_4['buyers']).round(2)\n",
    "ltv_cohorts_source_4 =total_source_4.groupby(['first_order_month']).agg({'ltv':['sum','mean']}).round(2).reset_index()\n",
    "ltv_cohorts_source_4.columns = ['first_order_month','ltv_sum_1', 'ltv_mean_1']\n",
    "ltv_mean_source_4 = ltv_cohorts_source_4['ltv_sum_1'].mean().round(2)\n",
    "total_source_4['cac'] = (total_source_4['costs'] / total_source_4['buyers']).round(2)\n",
    "cac_mean_source_4 = total_source_4['cac'].mean().round(2)\n",
    "total_source_4['romi'] = total_source_4['ltv'] / total_source_4['cac']\n",
    "result_source_4 = total_source_4.pivot_table(\n",
    "        index='first_order_month', \n",
    "        columns='cohort_lifetime', \n",
    "        values='romi', \n",
    "        aggfunc='mean')\n",
    "result_source_4.cumsum(axis=1).mean(axis=0)"
   ]
  },
  {
   "cell_type": "code",
   "execution_count": 336,
   "metadata": {},
   "outputs": [
    {
     "name": "stdout",
     "output_type": "stream",
     "text": [
      "Ср.ROMI для источника 4:  0.01\n"
     ]
    }
   ],
   "source": [
    "print('Ср.ROMI для источника 4: ', result_source_4.cumsum(axis=1).mean(axis=0).mean().round(2))"
   ]
  },
  {
   "cell_type": "markdown",
   "metadata": {},
   "source": [
    "Источник 4 также показывает рост ROMI  к последней когорте, но окупаемости нет - 1.5%"
   ]
  },
  {
   "cell_type": "markdown",
   "metadata": {},
   "source": [
    "Рассчитываем ROMI для источника 5 по всем когортам и средний показатель"
   ]
  },
  {
   "cell_type": "code",
   "execution_count": 337,
   "metadata": {},
   "outputs": [
    {
     "data": {
      "text/plain": [
       "cohort_lifetime\n",
       "0     0.002123\n",
       "1     0.003717\n",
       "2     0.005054\n",
       "3     0.006941\n",
       "4     0.008394\n",
       "5     0.010895\n",
       "6     0.012040\n",
       "7     0.013433\n",
       "8     0.014590\n",
       "9     0.017622\n",
       "10    0.017287\n",
       "11    0.021353\n",
       "dtype: float64"
      ]
     },
     "execution_count": 337,
     "metadata": {},
     "output_type": "execute_result"
    }
   ],
   "source": [
    "costs_month_source_5 = costs_cohorts[costs_cohorts['source id'] == 5].groupby(['costs_month']).agg({'costs': 'sum'}).reset_index()\n",
    "users_source_5= users[users['source id'] == 5]\n",
    "report_source_5 = pd.merge(buyers, users_source_5, on='first_order_month')\n",
    "total_source_5 = pd.merge(report_source_5, costs_month_source_5, left_on='first_order_month', right_on='costs_month')\n",
    "total_source_5['ltv'] = (total_source_5['revenue'] / total_source_5['buyers']).round(2)\n",
    "ltv_cohorts_source_5 =total_source_5.groupby(['first_order_month']).agg({'ltv':['sum','mean']}).round(2).reset_index()\n",
    "ltv_cohorts_source_5.columns = ['first_order_month','ltv_sum_1', 'ltv_mean_1']\n",
    "ltv_mean_source_5 = ltv_cohorts_source_5['ltv_sum_1'].mean().round(2)\n",
    "total_source_5['cac'] = (total_source_5['costs'] / total_source_5['buyers']).round(2)\n",
    "cac_mean_source_5 = total_source_5['cac'].mean().round(2)\n",
    "total_source_5['romi'] = total_source_5['ltv'] / total_source_5['cac']\n",
    "result_source_5 = total_source_5.pivot_table(\n",
    "        index='first_order_month', \n",
    "        columns='cohort_lifetime', \n",
    "        values='romi', \n",
    "        aggfunc='mean')\n",
    "result_source_5.cumsum(axis=1).mean(axis=0)"
   ]
  },
  {
   "cell_type": "code",
   "execution_count": 338,
   "metadata": {},
   "outputs": [
    {
     "name": "stdout",
     "output_type": "stream",
     "text": [
      "Ср.ROMI для источника 5:  0.01\n"
     ]
    }
   ],
   "source": [
    "print('Ср.ROMI для источника 5: ', result_source_5.cumsum(axis=1).mean(axis=0).mean().round(2))"
   ]
  },
  {
   "cell_type": "markdown",
   "metadata": {},
   "source": [
    "ROMI источника 5 выше, чем у источника 4, но ср.показатель также мал - 2.1%."
   ]
  },
  {
   "cell_type": "markdown",
   "metadata": {},
   "source": [
    "Рассчитываем ROMI для источника 9 по всем когортам и средний показатель"
   ]
  },
  {
   "cell_type": "code",
   "execution_count": 339,
   "metadata": {},
   "outputs": [
    {
     "data": {
      "text/plain": [
       "cohort_lifetime\n",
       "0     0.002719\n",
       "1     0.005311\n",
       "2     0.009724\n",
       "3     0.013934\n",
       "4     0.016152\n",
       "5     0.017917\n",
       "6     0.020738\n",
       "7     0.023379\n",
       "8     0.029708\n",
       "9     0.034063\n",
       "10    0.041374\n",
       "11    0.056686\n",
       "dtype: float64"
      ]
     },
     "execution_count": 339,
     "metadata": {},
     "output_type": "execute_result"
    }
   ],
   "source": [
    "costs_month_source_9 = costs_cohorts[costs_cohorts['source id'] == 9].groupby(['costs_month']).agg({'costs': 'sum'}).reset_index()\n",
    "users_source_9= users[users['source id'] == 9]\n",
    "report_source_9 = pd.merge(buyers, users_source_9, on='first_order_month')\n",
    "total_source_9 = pd.merge(report_source_9, costs_month_source_9, left_on='first_order_month', right_on='costs_month')\n",
    "total_source_9['ltv'] = (total_source_9['revenue'] / total_source_9['buyers']).round(2)\n",
    "ltv_cohorts_source_9 =total_source_9.groupby(['first_order_month']).agg({'ltv':['sum','mean']}).round(2).reset_index()\n",
    "ltv_cohorts_source_9.columns = ['first_order_month','ltv_sum_1', 'ltv_mean_1']\n",
    "ltv_mean_source_9 = ltv_cohorts_source_9['ltv_sum_1'].mean().round(2)\n",
    "total_source_9['cac'] = (total_source_9['costs'] / total_source_9['buyers']).round(2)\n",
    "cac_mean_source_9 = total_source_9['cac'].mean().round(2)\n",
    "total_source_9['romi'] = total_source_9['ltv'] / total_source_9['cac']\n",
    "result_source_9 = total_source_9.pivot_table(\n",
    "        index='first_order_month', \n",
    "        columns='cohort_lifetime', \n",
    "        values='romi', \n",
    "        aggfunc='mean')\n",
    "result_source_9.cumsum(axis=1).mean(axis=0)"
   ]
  },
  {
   "cell_type": "code",
   "execution_count": 340,
   "metadata": {},
   "outputs": [
    {
     "name": "stdout",
     "output_type": "stream",
     "text": [
      "Ср.ROMI для источника 9:  0.02\n"
     ]
    }
   ],
   "source": [
    "print('Ср.ROMI для источника 9: ', result_source_9.cumsum(axis=1).mean(axis=0).mean().round(2))"
   ]
  },
  {
   "cell_type": "markdown",
   "metadata": {},
   "source": [
    "Источник 9 на последних местах по финансированию, но окупаемость (5.7%) у него лучше, чем 3, 4, 5."
   ]
  },
  {
   "cell_type": "markdown",
   "metadata": {},
   "source": [
    "Рассчитываем ROMI для источника 10 по всем когортам и средний показатель"
   ]
  },
  {
   "cell_type": "code",
   "execution_count": 341,
   "metadata": {},
   "outputs": [
    {
     "data": {
      "text/plain": [
       "cohort_lifetime\n",
       "0     0.004067\n",
       "1     0.009678\n",
       "2     0.007119\n",
       "3     0.007120\n",
       "4     0.010737\n",
       "5     0.014855\n",
       "6     0.005196\n",
       "7     0.020790\n",
       "8     0.036670\n",
       "9     0.049379\n",
       "10    0.043987\n",
       "11    0.066257\n",
       "dtype: float64"
      ]
     },
     "execution_count": 341,
     "metadata": {},
     "output_type": "execute_result"
    }
   ],
   "source": [
    "costs_month_source_10 = costs_cohorts[costs_cohorts['source id'] == 10].groupby(['costs_month']).agg({'costs': 'sum'}).reset_index()\n",
    "users_source_10= users[users['source id'] == 10]\n",
    "report_source_10 = pd.merge(buyers, users_source_10, on='first_order_month')\n",
    "total_source_10 = pd.merge(report_source_10, costs_month_source_10, left_on='first_order_month', right_on='costs_month')\n",
    "total_source_10['ltv'] = (total_source_10['revenue'] / total_source_10['buyers']).round(2)\n",
    "ltv_cohorts_source_10 =total_source_10.groupby(['first_order_month']).agg({'ltv':['sum','mean']}).round(2).reset_index()\n",
    "ltv_cohorts_source_10.columns = ['first_order_month','ltv_sum_1', 'ltv_mean_1']\n",
    "ltv_mean_source_10 = ltv_cohorts_source_10['ltv_sum_1'].mean().round(2)\n",
    "total_source_10['cac'] = (total_source_10['costs'] / total_source_10['buyers']).round(2)\n",
    "cac_mean_source_10 = total_source_10['cac'].mean().round(2)\n",
    "total_source_10['romi'] = total_source_10['ltv'] / total_source_10['cac']\n",
    "result_source_10 = total_source_10.pivot_table(\n",
    "        index='first_order_month', \n",
    "        columns='cohort_lifetime', \n",
    "        values='romi', \n",
    "        aggfunc='mean')\n",
    "result_source_10.cumsum(axis=1).mean(axis=0)"
   ]
  },
  {
   "cell_type": "code",
   "execution_count": 342,
   "metadata": {},
   "outputs": [
    {
     "name": "stdout",
     "output_type": "stream",
     "text": [
      "Ср.ROMI для источника 10:  0.02\n"
     ]
    }
   ],
   "source": [
    "print('Ср.ROMI для источника 10: ', result_source_10.cumsum(axis=1).mean(axis=0).mean().round(2))"
   ]
  },
  {
   "cell_type": "markdown",
   "metadata": {},
   "source": [
    "ROMI источника 10 ежемесячно расчет, но окупаемости еще нет - 6.6%"
   ]
  },
  {
   "cell_type": "markdown",
   "metadata": {},
   "source": [
    "Теперь мы можем рассмотреть показатель САС по каждому источнику\n"
   ]
  },
  {
   "cell_type": "code",
   "execution_count": 366,
   "metadata": {},
   "outputs": [
    {
     "name": "stdout",
     "output_type": "stream",
     "text": [
      "CAC источника 1:  0.57\n",
      "CAC источника 2:  1.19\n",
      "CAC источника 3:  3.91\n",
      "CAC источника 4:  1.72\n",
      "CAC источника 5:  1.37\n",
      "CAC источника 9:  0.16\n",
      "CAC источника 10:  0.16\n"
     ]
    },
    {
     "data": {
      "text/html": [
       "<div>\n",
       "<style scoped>\n",
       "    .dataframe tbody tr th:only-of-type {\n",
       "        vertical-align: middle;\n",
       "    }\n",
       "\n",
       "    .dataframe tbody tr th {\n",
       "        vertical-align: top;\n",
       "    }\n",
       "\n",
       "    .dataframe thead th {\n",
       "        text-align: right;\n",
       "    }\n",
       "</style>\n",
       "<table border=\"1\" class=\"dataframe\">\n",
       "  <thead>\n",
       "    <tr style=\"text-align: right;\">\n",
       "      <th></th>\n",
       "      <th>source id</th>\n",
       "      <th>cac</th>\n",
       "    </tr>\n",
       "  </thead>\n",
       "  <tbody>\n",
       "    <tr>\n",
       "      <td>2</td>\n",
       "      <td>3</td>\n",
       "      <td>3.91</td>\n",
       "    </tr>\n",
       "    <tr>\n",
       "      <td>3</td>\n",
       "      <td>4</td>\n",
       "      <td>1.72</td>\n",
       "    </tr>\n",
       "    <tr>\n",
       "      <td>4</td>\n",
       "      <td>5</td>\n",
       "      <td>1.37</td>\n",
       "    </tr>\n",
       "    <tr>\n",
       "      <td>1</td>\n",
       "      <td>2</td>\n",
       "      <td>1.19</td>\n",
       "    </tr>\n",
       "    <tr>\n",
       "      <td>0</td>\n",
       "      <td>1</td>\n",
       "      <td>0.57</td>\n",
       "    </tr>\n",
       "    <tr>\n",
       "      <td>5</td>\n",
       "      <td>9</td>\n",
       "      <td>0.16</td>\n",
       "    </tr>\n",
       "    <tr>\n",
       "      <td>6</td>\n",
       "      <td>10</td>\n",
       "      <td>0.16</td>\n",
       "    </tr>\n",
       "  </tbody>\n",
       "</table>\n",
       "</div>"
      ],
      "text/plain": [
       "  source id   cac\n",
       "2         3  3.91\n",
       "3         4  1.72\n",
       "4         5  1.37\n",
       "1         2  1.19\n",
       "0         1  0.57\n",
       "5         9  0.16\n",
       "6        10  0.16"
      ]
     },
     "metadata": {},
     "output_type": "display_data"
    }
   ],
   "source": [
    "print('CAC источника 1: ', cac_mean_source_1)\n",
    "print('CAC источника 2: ', cac_mean_source_2)\n",
    "print('CAC источника 3: ', cac_mean_source_3)\n",
    "print('CAC источника 4: ', cac_mean_source_4)\n",
    "print('CAC источника 5: ', cac_mean_source_5)\n",
    "print('CAC источника 9: ', cac_mean_source_9)\n",
    "print('CAC источника 10: ', cac_mean_source_10)\n",
    "cac_source = pd.DataFrame([['1', 0.57], ['2', 1.19], ['3', 3.91], ['4', 1.72], ['5', 1.37], ['9', 0.16], ['10', 0.16]], columns=['source id', 'cac'])\n",
    "display(cac_source.sort_values(by='cac', ascending=False))"
   ]
  },
  {
   "cell_type": "markdown",
   "metadata": {},
   "source": [
    "Самым высоким оказался расход на привлечение одного покупателя у источника 3 - 3.91 рубля. Покупатели из источников 2, 4, 5 стоили компании от 1.19 до 1.72 рубля. На покупателей из источников 1, 9, 10 было потрачено меньше всего - до 0.6 рубля."
   ]
  },
  {
   "cell_type": "markdown",
   "metadata": {},
   "source": [
    "Создадим датафрейм с полученными средними значениями ROMI"
   ]
  },
  {
   "cell_type": "code",
   "execution_count": 357,
   "metadata": {},
   "outputs": [
    {
     "data": {
      "text/html": [
       "<div>\n",
       "<style scoped>\n",
       "    .dataframe tbody tr th:only-of-type {\n",
       "        vertical-align: middle;\n",
       "    }\n",
       "\n",
       "    .dataframe tbody tr th {\n",
       "        vertical-align: top;\n",
       "    }\n",
       "\n",
       "    .dataframe thead th {\n",
       "        text-align: right;\n",
       "    }\n",
       "</style>\n",
       "<table border=\"1\" class=\"dataframe\">\n",
       "  <thead>\n",
       "    <tr style=\"text-align: right;\">\n",
       "      <th></th>\n",
       "      <th>source id</th>\n",
       "      <th>mean_romi</th>\n",
       "    </tr>\n",
       "  </thead>\n",
       "  <tbody>\n",
       "    <tr>\n",
       "      <td>0</td>\n",
       "      <td>1</td>\n",
       "      <td>0.04</td>\n",
       "    </tr>\n",
       "    <tr>\n",
       "      <td>1</td>\n",
       "      <td>2</td>\n",
       "      <td>0.02</td>\n",
       "    </tr>\n",
       "    <tr>\n",
       "      <td>5</td>\n",
       "      <td>9</td>\n",
       "      <td>0.02</td>\n",
       "    </tr>\n",
       "    <tr>\n",
       "      <td>6</td>\n",
       "      <td>10</td>\n",
       "      <td>0.02</td>\n",
       "    </tr>\n",
       "    <tr>\n",
       "      <td>3</td>\n",
       "      <td>4</td>\n",
       "      <td>0.01</td>\n",
       "    </tr>\n",
       "    <tr>\n",
       "      <td>4</td>\n",
       "      <td>5</td>\n",
       "      <td>0.01</td>\n",
       "    </tr>\n",
       "    <tr>\n",
       "      <td>2</td>\n",
       "      <td>3</td>\n",
       "      <td>0.00</td>\n",
       "    </tr>\n",
       "  </tbody>\n",
       "</table>\n",
       "</div>"
      ],
      "text/plain": [
       "  source id  mean_romi\n",
       "0         1       0.04\n",
       "1         2       0.02\n",
       "5         9       0.02\n",
       "6        10       0.02\n",
       "3         4       0.01\n",
       "4         5       0.01\n",
       "2         3       0.00"
      ]
     },
     "metadata": {},
     "output_type": "display_data"
    },
    {
     "data": {
      "text/plain": [
       "Text(0, 0.5, 'Ср.коэффициент ROMI')"
      ]
     },
     "execution_count": 357,
     "metadata": {},
     "output_type": "execute_result"
    },
    {
     "data": {
      "image/png": "[encoded data removed]",
      "text/plain": [
       "<Figure size 432x288 with 1 Axes>"
      ]
     },
     "metadata": {},
     "output_type": "display_data"
    }
   ],
   "source": [
    "sources_romi = pd.DataFrame([['1',0.04], ['2', 0.02], ['3', 0.00], ['4', 0.01], ['5', 0.01], ['9', 0.02], ['10', 0.02]], columns=['source id', 'mean_romi'])\n",
    "display(sources_romi.sort_values(by='mean_romi', ascending=False))\n",
    "sources_romi.plot(x='source id', y='mean_romi', linewidth=6, legend=True, color='orange')\n",
    "plt.title('Ср.показатель ROMI  по рекламным источникам')\n",
    "plt.xlabel('ID рекламного источника')\n",
    "plt.ylabel('Ср.коэффициент ROMI')"
   ]
  },
  {
   "cell_type": "markdown",
   "metadata": {},
   "source": [
    "<div id='id-Вывод'/>\n",
    "\n",
    "### Вывод."
   ]
  },
  {
   "cell_type": "markdown",
   "metadata": {},
   "source": [
    "На основании анализа данных по посещениям сайта, заказам и маркетинговым расходам получена следующая информация:\n",
    "\n",
    "- клиенты сайта: 228 169 уникальных пользователей, из них 36 523 покупателя. В среднем сайт посещают: 907 человек в день, 5 716 человек в неделю, 23 228 человек в месяц. \n",
    "\n",
    "- поведенческие метрики пользователя:\n",
    "1. ср. кол-во сессий в день на одного пользователя:  1.08 (это хороший показатель, т.к. он может означать, что пользователь посещает сайт ежедневно, но только покупающий пользователь. Не покупающие заходя гораздо реже)\n",
    "2. ср. продолжительность сессии в диапазоне от 60 до 600 секунд (возможно, 60 секунд достаточно для просмотра афишы кинотеатров или каких-либо других мероприятий на сайте). Для покупателей - 1259 секунд или 20 минут, для не заказывающих пользователей - 1407 секунд/23 минут.\n",
    "3. срок первого заказа - через 130.17 дней после первого посещения сайта, т.е. через 4.3 месяца, что равноценно 16 неделе lifetime. Диапазон средних значений составляет от 40 до 210 дней  или от 5 до 30 недель. \n",
    "4. пользователю достаточно 9 сессий в день, чтобы начать делать заказы. При этом продолжительность одной сессии составляет 1259 секунд или 20 минут. При этом, пользователь, не делающий заказы, заходит на сайт гораздо реже, точно не каждый день. Возможно, нужно так привлекать пользователя, чтобы он заходил на сайт ежедневно и более одного раза.\n",
    "5. пользовательские устройства регистрируются двух типов - desktop и touch. Количество устройств 282 165 больше, чем 228 169 уникальных пользователей, т.е. некоторые пользователи пользуются и настольными, и мобильными устройствами. \n",
    "\n",
    "- заказы: за весь период было совершено 50 415 покупок, при этом в месяц - 4 201, в день - 138. В среднем на каждого из 228 169 пользователей по 0.36 покупок в месяц \n",
    "\n",
    "- средний чек: с каждой новой когортой в первом сроке ее жизни наблюдается падение среднего чека с 6 до 3 рублей. Чек также уменьшается с каждым lifetime. Плюс в том, что почти все когорты сразу начинают с суммы,  близкой к среднему чеку - 5 рублей, но в следующем месяце продажи падают. Самые высокие чеки наблюдаются в первые месяцы жизни когорт. Возможно, пользователи посещают сайт, чтобы сделать заказ однократно, о чем также говорит падающий коэффициент удержания. Самыми прибыльными по общей выручке были сентябрьская и декабрьская когорты."
   ]
  },
  {
   "cell_type": "markdown",
   "metadata": {},
   "source": [
    "- Баланс маркетинговых расходов и прибыли. Расходы на маркетинг выделялись ежемесячно с сезонными пиками с октября 2017 г. до марта 2018 г., т.е. в праздничные периоды расходы увеличивались. Больше всего было выделено в декабре 2017 г. - 38 315 рублей. В среднем общий ежемесячный маркетинговый бюджет составлял 27 428 рублей. Мы рекомендуем отделу маркетинга сократить свои расходы, хотя бы до того момента, пока не станет понятной окупаемость новых когорт, которые пока не прожили свой 12-месячный срок жизни, т.к. такие метрики как LTV и CAC сейчас находятся не в балансе здоровой экономической ситуации: на каждого пользователя потрачено около 9 рублей, а получено только 7, т.е. мы получаем убыток в 2 рубля - в среднем за каждого. По некоторым когортам CAC достаточно высок, но все равно не приносит достаточное количество пользователей и прибыли. Важно, что количество новых пользователей соотвествует объему маркетинговых расходов. Согласно метрике ROMI окупились только 2 когорты из 12, но есть надежда, что это долгосрочные инвестиции, и остальные когорты еще придут к своей точке окупаемости. Возможно, есть варианты сделать сейчас маркетинговые инвестиции более краткосрочными, тем самым мы повысим ROMI и сократим период окупаемости хотя бы до 6 месяцев. Сейчас показатель указывает только на срок свыше 8  месяцев.\n",
    "\n",
    "- Retention Rate необходимо поднимать, т.к. коэффициент упал с 7,9% до 4,8% почти сразу - на самой первом месяце жизни всех когорт. Возможно, все маркетинговые активности были направлены на привлечение клиентов, а не на удержание. Это важно, т.к. пользователи переходят в статус покупателей только на 4м месяце срока жизни когорты.\n",
    "\n",
    "- Touch-пользователи: анализ распределения пользователей по типам устройств desktop  и touch сигнализирует о том, что важно срочно наращивать количество пользователей с устройствами touch (сейчас у нас около 30% от общего числа), т.к. таких пользователей по определению больше, и категория сайта не требует полноценной настольной версии, как, например, в случае компьютерных игр. При этом нужно обратить внимание на мобильную версию сайта, которая все и меньше, и меньше привлекает пользователей. Возможно, детально рассмотреть рекламный источник 4, который привлек больше всего пользователей с мобильными устройствами, и масштабировать его успехи на другие источники. \n",
    "\n",
    "- Рекламные источники: необходимо продолжать финансировать рекламные источники 3, 4, 5, которые привлекли больше всего пользователей, но нужна также диверсификация таких расходов - в этом году источники 6, 7, 8 не получали финансирования. Хотя небольшое количество пользователей приходило с источников 6 и 7. Стоит их детально рассмотреть, может быть забюджетировать их финансирование на следующий год. Самым высоким оказался расход на привлечение одного покупателя у источника 3 - 3.91 рубля. Покупатели из источников 2, 4, 5 стоили компании от 1.19 до 1.72 рубля. На покупателей из источников 1, 9, 10 было потрачено меньше всего - до 0.6 рубля. Наименее окупаемым оказался источник 3, т.к. больше всего расходов получил именно он. Источники 4 и 5 также принесли совсем мало прибыли. Источники 9 и 10 получили меньше всего расходов, но более высокий ROMI. Самым окупаемым получился источник 1, хотя он вышел только на 7.1% окупаемости\n",
    "\n",
    "- Статус пользователя: необходимо быстрее переводить пользователей в статус покупателей, т.к. они составляют чуть менее 1/5 от всего числа пользователей.Если бы каждый пользователь совершил хотя бы одну покупку на сайте, то количество покупок выросло бы в 5 раз.\n"
   ]
  },
  {
   "cell_type": "code",
   "execution_count": null,
   "metadata": {},
   "outputs": [],
   "source": []
  }
 ],
 "metadata": {
  "kernelspec": {
   "display_name": "Python 3",
   "language": "python",
   "name": "python3"
  },
  "language_info": {
   "codemirror_mode": {
    "name": "ipython",
    "version": 3
   },
   "file_extension": ".py",
   "mimetype": "text/x-python",
   "name": "python",
   "nbconvert_exporter": "python",
   "pygments_lexer": "ipython3",
   "version": "3.8.3"
  }
 },
 "nbformat": 4,
 "nbformat_minor": 2
}
