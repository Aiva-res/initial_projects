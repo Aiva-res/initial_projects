{
 "cells": [
  {
   "cell_type": "markdown",
   "metadata": {},
   "source": [
    ">Инна, приветствую! Меня зовут Александр и я буду проверять твой проект :)\n",
    ">\n",
    ">Ниже в ноутбуке будут мои комментарии, закодированные разными цветами.\n",
    ">\n",
    ">**_<span style=\"color:green\">Зеленым будут выделены места, которые хочется особенно отметить, как хорошие. </span>_**\n",
    ">\n",
    "> **_<span style=\"color:red\">Недочеты, откомментированные красным обязательны к доработке – без их исправления домашка не будет зачтена. </span>_**\n",
    ">  \n",
    "> **_<span style=\"color:orange\">Недочеты и подсказки, откомментированные оранжевым, учесть желательно, но их доработка не является обязательным условнием для зачета.</span>_**\n",
    ">\n",
    "> Если какие-то подзадачи не откомментированны – значит с ними все окей, нет возражений.\n",
    ">\n",
    "> Если ошибка влечет за собой дальнейшие неточности рассчетов или выводов – пожалуйста, поправь их тоже, чтобы аналитический отчет был целостным.\n",
    ">\n",
    ">Пожалуйста, не удаляй и не переноси мои комментарии, это позволит лучше ориентироваться при возможных повторных проверках."
   ]
  },
  {
   "cell_type": "markdown",
   "metadata": {},
   "source": [
    "# Определение перспективного тарифа для телеком компании"
   ]
  },
  {
   "cell_type": "markdown",
   "metadata": {},
   "source": [
    "Описание проекта\n",
    "Вы аналитик компании «Мегалайн» — федерального оператора сотовой связи. Клиентам предлагают два тарифных плана: «Смарт» и «Ультра». Чтобы скорректировать рекламный бюджет, коммерческий департамент хочет понять, какой тариф приносит больше денег.\n",
    "Вам предстоит сделать предварительный анализ тарифов на небольшой выборке клиентов. В вашем распоряжении данные 500 пользователей «Мегалайна»: кто они, откуда, каким тарифом пользуются, сколько звонков и сообщений каждый отправил за 2018 год. Нужно проанализировать поведение клиентов и сделать вывод — какой тариф лучше.\n",
    "\n",
    "Описание тарифов\n",
    "\n",
    "Тариф «Смарт»\n",
    "1.\tЕжемесячная плата: 550 рублей\n",
    "2.\tВключено 500 минут разговора, 50 сообщений и 15 Гб интернет-трафика\n",
    "3.\tСтоимость услуг сверх тарифного пакета:\n",
    "•\tминута разговора: 3 рубля («Мегалайн» всегда округляет вверх значения минут и мегабайтов. Если пользователь проговорил всего 1 секунду, в тарифе засчитывается целая минута.)\n",
    "•\tсообщение: 3 рубля\n",
    "•\t1 Гб интернет-трафика: 200 рублей\n",
    "\n",
    "Тариф «Ультра»\n",
    "1.\tЕжемесячная плата: 1950 рублей\n",
    "2.\tВключено 3000 минут разговора, 1000 сообщений и 30 Гб интернет-трафика\n",
    "3.\tСтоимость услуг сверх тарифного пакета:\n",
    "•\tминута разговора: 1 рубль\n",
    "•\tсообщение: 1 рубль\n",
    "•\t1 Гб интернет-трафика: 150 рублей\n"
   ]
  },
  {
   "cell_type": "markdown",
   "metadata": {},
   "source": [
    "## Шаг 1. Открытие файла и изучение общей информации"
   ]
  },
  {
   "cell_type": "markdown",
   "metadata": {},
   "source": [
    "Откроем и изучим все 5 файлов по очереди."
   ]
  },
  {
   "cell_type": "code",
   "execution_count": 5,
   "metadata": {},
   "outputs": [],
   "source": [
    "import pandas as pd\n",
    "import matplotlib.pyplot as plt\n",
    "import numpy as np\n",
    "import seaborn as sns\n",
    "from scipy import stats as st"
   ]
  },
  {
   "cell_type": "code",
   "execution_count": 6,
   "metadata": {},
   "outputs": [
    {
     "ename": "FileNotFoundError",
     "evalue": "[Errno 2] File /datasets/calls.csv does not exist: '/datasets/calls.csv'",
     "output_type": "error",
     "traceback": [
      "\u001b[1;31m---------------------------------------------------------------------------\u001b[0m",
      "\u001b[1;31mFileNotFoundError\u001b[0m                         Traceback (most recent call last)",
      "\u001b[1;32m<ipython-input-6-9c2f860a3c22>\u001b[0m in \u001b[0;36m<module>\u001b[1;34m\u001b[0m\n\u001b[1;32m----> 1\u001b[1;33m \u001b[0mdata_calls\u001b[0m \u001b[1;33m=\u001b[0m \u001b[0mpd\u001b[0m\u001b[1;33m.\u001b[0m\u001b[0mread_csv\u001b[0m\u001b[1;33m(\u001b[0m\u001b[1;34m'/datasets/calls.csv'\u001b[0m\u001b[1;33m,\u001b[0m \u001b[0msep\u001b[0m\u001b[1;33m=\u001b[0m\u001b[1;34m','\u001b[0m\u001b[1;33m)\u001b[0m\u001b[1;33m\u001b[0m\u001b[1;33m\u001b[0m\u001b[0m\n\u001b[0m\u001b[0;32m      2\u001b[0m \u001b[0mdisplay\u001b[0m\u001b[1;33m(\u001b[0m\u001b[0mdata_calls\u001b[0m\u001b[1;33m.\u001b[0m\u001b[0mhead\u001b[0m\u001b[1;33m(\u001b[0m\u001b[1;33m)\u001b[0m\u001b[1;33m)\u001b[0m\u001b[1;33m\u001b[0m\u001b[1;33m\u001b[0m\u001b[0m\n\u001b[0;32m      3\u001b[0m \u001b[0mdata_calls\u001b[0m\u001b[1;33m.\u001b[0m\u001b[0minfo\u001b[0m\u001b[1;33m(\u001b[0m\u001b[1;33m)\u001b[0m\u001b[1;33m\u001b[0m\u001b[1;33m\u001b[0m\u001b[0m\n",
      "\u001b[1;32m~\\anaconda3\\lib\\site-packages\\pandas\\io\\parsers.py\u001b[0m in \u001b[0;36mparser_f\u001b[1;34m(filepath_or_buffer, sep, delimiter, header, names, index_col, usecols, squeeze, prefix, mangle_dupe_cols, dtype, engine, converters, true_values, false_values, skipinitialspace, skiprows, skipfooter, nrows, na_values, keep_default_na, na_filter, verbose, skip_blank_lines, parse_dates, infer_datetime_format, keep_date_col, date_parser, dayfirst, cache_dates, iterator, chunksize, compression, thousands, decimal, lineterminator, quotechar, quoting, doublequote, escapechar, comment, encoding, dialect, error_bad_lines, warn_bad_lines, delim_whitespace, low_memory, memory_map, float_precision)\u001b[0m\n\u001b[0;32m    674\u001b[0m         )\n\u001b[0;32m    675\u001b[0m \u001b[1;33m\u001b[0m\u001b[0m\n\u001b[1;32m--> 676\u001b[1;33m         \u001b[1;32mreturn\u001b[0m \u001b[0m_read\u001b[0m\u001b[1;33m(\u001b[0m\u001b[0mfilepath_or_buffer\u001b[0m\u001b[1;33m,\u001b[0m \u001b[0mkwds\u001b[0m\u001b[1;33m)\u001b[0m\u001b[1;33m\u001b[0m\u001b[1;33m\u001b[0m\u001b[0m\n\u001b[0m\u001b[0;32m    677\u001b[0m \u001b[1;33m\u001b[0m\u001b[0m\n\u001b[0;32m    678\u001b[0m     \u001b[0mparser_f\u001b[0m\u001b[1;33m.\u001b[0m\u001b[0m__name__\u001b[0m \u001b[1;33m=\u001b[0m \u001b[0mname\u001b[0m\u001b[1;33m\u001b[0m\u001b[1;33m\u001b[0m\u001b[0m\n",
      "\u001b[1;32m~\\anaconda3\\lib\\site-packages\\pandas\\io\\parsers.py\u001b[0m in \u001b[0;36m_read\u001b[1;34m(filepath_or_buffer, kwds)\u001b[0m\n\u001b[0;32m    446\u001b[0m \u001b[1;33m\u001b[0m\u001b[0m\n\u001b[0;32m    447\u001b[0m     \u001b[1;31m# Create the parser.\u001b[0m\u001b[1;33m\u001b[0m\u001b[1;33m\u001b[0m\u001b[1;33m\u001b[0m\u001b[0m\n\u001b[1;32m--> 448\u001b[1;33m     \u001b[0mparser\u001b[0m \u001b[1;33m=\u001b[0m \u001b[0mTextFileReader\u001b[0m\u001b[1;33m(\u001b[0m\u001b[0mfp_or_buf\u001b[0m\u001b[1;33m,\u001b[0m \u001b[1;33m**\u001b[0m\u001b[0mkwds\u001b[0m\u001b[1;33m)\u001b[0m\u001b[1;33m\u001b[0m\u001b[1;33m\u001b[0m\u001b[0m\n\u001b[0m\u001b[0;32m    449\u001b[0m \u001b[1;33m\u001b[0m\u001b[0m\n\u001b[0;32m    450\u001b[0m     \u001b[1;32mif\u001b[0m \u001b[0mchunksize\u001b[0m \u001b[1;32mor\u001b[0m \u001b[0miterator\u001b[0m\u001b[1;33m:\u001b[0m\u001b[1;33m\u001b[0m\u001b[1;33m\u001b[0m\u001b[0m\n",
      "\u001b[1;32m~\\anaconda3\\lib\\site-packages\\pandas\\io\\parsers.py\u001b[0m in \u001b[0;36m__init__\u001b[1;34m(self, f, engine, **kwds)\u001b[0m\n\u001b[0;32m    878\u001b[0m             \u001b[0mself\u001b[0m\u001b[1;33m.\u001b[0m\u001b[0moptions\u001b[0m\u001b[1;33m[\u001b[0m\u001b[1;34m\"has_index_names\"\u001b[0m\u001b[1;33m]\u001b[0m \u001b[1;33m=\u001b[0m \u001b[0mkwds\u001b[0m\u001b[1;33m[\u001b[0m\u001b[1;34m\"has_index_names\"\u001b[0m\u001b[1;33m]\u001b[0m\u001b[1;33m\u001b[0m\u001b[1;33m\u001b[0m\u001b[0m\n\u001b[0;32m    879\u001b[0m \u001b[1;33m\u001b[0m\u001b[0m\n\u001b[1;32m--> 880\u001b[1;33m         \u001b[0mself\u001b[0m\u001b[1;33m.\u001b[0m\u001b[0m_make_engine\u001b[0m\u001b[1;33m(\u001b[0m\u001b[0mself\u001b[0m\u001b[1;33m.\u001b[0m\u001b[0mengine\u001b[0m\u001b[1;33m)\u001b[0m\u001b[1;33m\u001b[0m\u001b[1;33m\u001b[0m\u001b[0m\n\u001b[0m\u001b[0;32m    881\u001b[0m \u001b[1;33m\u001b[0m\u001b[0m\n\u001b[0;32m    882\u001b[0m     \u001b[1;32mdef\u001b[0m \u001b[0mclose\u001b[0m\u001b[1;33m(\u001b[0m\u001b[0mself\u001b[0m\u001b[1;33m)\u001b[0m\u001b[1;33m:\u001b[0m\u001b[1;33m\u001b[0m\u001b[1;33m\u001b[0m\u001b[0m\n",
      "\u001b[1;32m~\\anaconda3\\lib\\site-packages\\pandas\\io\\parsers.py\u001b[0m in \u001b[0;36m_make_engine\u001b[1;34m(self, engine)\u001b[0m\n\u001b[0;32m   1112\u001b[0m     \u001b[1;32mdef\u001b[0m \u001b[0m_make_engine\u001b[0m\u001b[1;33m(\u001b[0m\u001b[0mself\u001b[0m\u001b[1;33m,\u001b[0m \u001b[0mengine\u001b[0m\u001b[1;33m=\u001b[0m\u001b[1;34m\"c\"\u001b[0m\u001b[1;33m)\u001b[0m\u001b[1;33m:\u001b[0m\u001b[1;33m\u001b[0m\u001b[1;33m\u001b[0m\u001b[0m\n\u001b[0;32m   1113\u001b[0m         \u001b[1;32mif\u001b[0m \u001b[0mengine\u001b[0m \u001b[1;33m==\u001b[0m \u001b[1;34m\"c\"\u001b[0m\u001b[1;33m:\u001b[0m\u001b[1;33m\u001b[0m\u001b[1;33m\u001b[0m\u001b[0m\n\u001b[1;32m-> 1114\u001b[1;33m             \u001b[0mself\u001b[0m\u001b[1;33m.\u001b[0m\u001b[0m_engine\u001b[0m \u001b[1;33m=\u001b[0m \u001b[0mCParserWrapper\u001b[0m\u001b[1;33m(\u001b[0m\u001b[0mself\u001b[0m\u001b[1;33m.\u001b[0m\u001b[0mf\u001b[0m\u001b[1;33m,\u001b[0m \u001b[1;33m**\u001b[0m\u001b[0mself\u001b[0m\u001b[1;33m.\u001b[0m\u001b[0moptions\u001b[0m\u001b[1;33m)\u001b[0m\u001b[1;33m\u001b[0m\u001b[1;33m\u001b[0m\u001b[0m\n\u001b[0m\u001b[0;32m   1115\u001b[0m         \u001b[1;32melse\u001b[0m\u001b[1;33m:\u001b[0m\u001b[1;33m\u001b[0m\u001b[1;33m\u001b[0m\u001b[0m\n\u001b[0;32m   1116\u001b[0m             \u001b[1;32mif\u001b[0m \u001b[0mengine\u001b[0m \u001b[1;33m==\u001b[0m \u001b[1;34m\"python\"\u001b[0m\u001b[1;33m:\u001b[0m\u001b[1;33m\u001b[0m\u001b[1;33m\u001b[0m\u001b[0m\n",
      "\u001b[1;32m~\\anaconda3\\lib\\site-packages\\pandas\\io\\parsers.py\u001b[0m in \u001b[0;36m__init__\u001b[1;34m(self, src, **kwds)\u001b[0m\n\u001b[0;32m   1889\u001b[0m         \u001b[0mkwds\u001b[0m\u001b[1;33m[\u001b[0m\u001b[1;34m\"usecols\"\u001b[0m\u001b[1;33m]\u001b[0m \u001b[1;33m=\u001b[0m \u001b[0mself\u001b[0m\u001b[1;33m.\u001b[0m\u001b[0musecols\u001b[0m\u001b[1;33m\u001b[0m\u001b[1;33m\u001b[0m\u001b[0m\n\u001b[0;32m   1890\u001b[0m \u001b[1;33m\u001b[0m\u001b[0m\n\u001b[1;32m-> 1891\u001b[1;33m         \u001b[0mself\u001b[0m\u001b[1;33m.\u001b[0m\u001b[0m_reader\u001b[0m \u001b[1;33m=\u001b[0m \u001b[0mparsers\u001b[0m\u001b[1;33m.\u001b[0m\u001b[0mTextReader\u001b[0m\u001b[1;33m(\u001b[0m\u001b[0msrc\u001b[0m\u001b[1;33m,\u001b[0m \u001b[1;33m**\u001b[0m\u001b[0mkwds\u001b[0m\u001b[1;33m)\u001b[0m\u001b[1;33m\u001b[0m\u001b[1;33m\u001b[0m\u001b[0m\n\u001b[0m\u001b[0;32m   1892\u001b[0m         \u001b[0mself\u001b[0m\u001b[1;33m.\u001b[0m\u001b[0munnamed_cols\u001b[0m \u001b[1;33m=\u001b[0m \u001b[0mself\u001b[0m\u001b[1;33m.\u001b[0m\u001b[0m_reader\u001b[0m\u001b[1;33m.\u001b[0m\u001b[0munnamed_cols\u001b[0m\u001b[1;33m\u001b[0m\u001b[1;33m\u001b[0m\u001b[0m\n\u001b[0;32m   1893\u001b[0m \u001b[1;33m\u001b[0m\u001b[0m\n",
      "\u001b[1;32mpandas\\_libs\\parsers.pyx\u001b[0m in \u001b[0;36mpandas._libs.parsers.TextReader.__cinit__\u001b[1;34m()\u001b[0m\n",
      "\u001b[1;32mpandas\\_libs\\parsers.pyx\u001b[0m in \u001b[0;36mpandas._libs.parsers.TextReader._setup_parser_source\u001b[1;34m()\u001b[0m\n",
      "\u001b[1;31mFileNotFoundError\u001b[0m: [Errno 2] File /datasets/calls.csv does not exist: '/datasets/calls.csv'"
     ]
    }
   ],
   "source": [
    "data_calls = pd.read_csv('/datasets/calls.csv', sep=',')\n",
    "display(data_calls.head())\n",
    "data_calls.info()\n"
   ]
  },
  {
   "cell_type": "markdown",
   "metadata": {},
   "source": [
    "Таблица calls (информация о звонках) содержит 5 столбцов и 202606 строк.\n",
    "\n",
    "Пропущенных значений нет. Тип данных - строка, целое и вещественное число.\n",
    "Нужно изменить строчный тип данных в столбце с датой на временной. \n",
    "Отдельно рассмотрим, что делать с нулевой длительностью звонка.\n",
    "\n",
    "Столбцы:\n",
    "id — уникальный номер звонка\n",
    "call_date — дата звонка\n",
    "duration — длительность звонка в минутах\n",
    "user_id — идентификатор пользователя, сделавшего звонок\n"
   ]
  },
  {
   "cell_type": "code",
   "execution_count": null,
   "metadata": {},
   "outputs": [],
   "source": [
    "data_internet = pd.read_csv('/datasets/internet.csv', sep=',')\n",
    "display(data_internet.head())\n",
    "data_internet.info()"
   ]
  },
  {
   "cell_type": "markdown",
   "metadata": {},
   "source": [
    "Таблица internet (информация об интернет-сессиях) состоит из 4 столбцов и 139 396 строк.\n",
    "Пропущенных значений нет. Строчный тип данных нужно заменить на временной в столбце с датой.\n",
    "\n",
    "Столбцы:\n",
    "•\tid — уникальный номер сессии\n",
    "•\tmb_used — объём потраченного за сессию интернет-трафика (в мегабайтах)\n",
    "•\tsession_date — дата интернет-сессии\n",
    "•\tuser_id — идентификатор пользователя\n"
   ]
  },
  {
   "cell_type": "code",
   "execution_count": null,
   "metadata": {},
   "outputs": [],
   "source": [
    "data_messages = pd.read_csv('/datasets/messages.csv', sep=',')\n",
    "display(data_messages.head())\n",
    "data_messages.info()"
   ]
  },
  {
   "cell_type": "markdown",
   "metadata": {},
   "source": [
    "Таблица messages (информация о сообщениях) имеет 3 столбца и 123 036 строк. \n",
    "Без пропущенных значений. Тип данных в столбце с датой нужно заменить на соответствующий.\n",
    "\n",
    "Столбцы:\n",
    "•\tid — уникальный номер сообщения\n",
    "•\tmessage_date — дата сообщения\n",
    "•\tuser_id — идентификатор пользователя, отправившего сообщение\n"
   ]
  },
  {
   "cell_type": "code",
   "execution_count": null,
   "metadata": {},
   "outputs": [],
   "source": [
    "data_tariffs = pd.read_csv('/datasets/tariffs.csv', sep=',')\n",
    "display(data_tariffs.head())\n",
    "data_tariffs.info()"
   ]
  },
  {
   "cell_type": "markdown",
   "metadata": {},
   "source": [
    "Таблица tariffs (информация о тарифах) содержит 8 столбцов и 2 строки, без пропущенных значений и некорректных типов данных.\n",
    "\n",
    "Столбцы:\n",
    "•\ttariff_name — название тарифа\n",
    "•\trub_monthly_fee — ежемесячная абонентская плата в рублях\n",
    "•\tminutes_included — количество минут разговора в месяц, включённых в абонентскую плату\n",
    "•\tmessages_included — количество сообщений в месяц, включённых в абонентскую плату\n",
    "•\tmb_per_month_included — объём интернет-трафика, включённого в абонентскую плату (в мегабайтах)\n",
    "•\trub_per_minute — стоимость минуты разговора сверх тарифного пакета (например, если в тарифе 100 минут разговора в месяц, то со 101 минуты будет взиматься плата)\n",
    "•\trub_per_message — стоимость отправки сообщения сверх тарифного пакета\n",
    "•\trub_per_gb — стоимость дополнительного гигабайта интернет-трафика сверх тарифного пакета (1 гигабайт = 1024 мегабайта)\n"
   ]
  },
  {
   "cell_type": "code",
   "execution_count": null,
   "metadata": {},
   "outputs": [],
   "source": [
    "data_users = pd.read_csv('/datasets/users.csv', sep=',')\n",
    "display(data_users.head())\n",
    "data_users.info()"
   ]
  },
  {
   "cell_type": "markdown",
   "metadata": {},
   "source": [
    "Таблица users (информация о пользователях) состоит из 8 столбцов и 500 строк. \n",
    "Пропущенные значения в столбце churn_date логичны, т.к. дата указывается только в случае прекращения использования тарифа. Тип данных нужно изменить в столбце reg_date.\n",
    "\n",
    "Столбцы:\n",
    "•\tuser_id — уникальный идентификатор пользователя\n",
    "•\tfirst_name — имя пользователя\n",
    "•\tlast_name — фамилия пользователя\n",
    "•\tage — возраст пользователя (годы)\n",
    "•\treg_date — дата подключения тарифа (день, месяц, год)\n",
    "•\tchurn_date — дата прекращения пользования тарифом (если значение пропущено, то тариф ещё действовал на момент выгрузки данных)\n",
    "•\tcity — город проживания пользователя\n",
    "•\ttariff — название тарифного плана\n",
    "\n",
    "\n"
   ]
  },
  {
   "cell_type": "markdown",
   "metadata": {},
   "source": [
    "### Вывод"
   ]
  },
  {
   "cell_type": "markdown",
   "metadata": {},
   "source": [
    "Во всех 5 таблицах нет пропущенных значений, т.е. данные достаточно \"чистые\". Необходимо только исправить строчный тип данных на временной и округлить значения минут и мегабайтов, а также перевести вещественные числа в целые."
   ]
  },
  {
   "cell_type": "markdown",
   "metadata": {},
   "source": [
    ">\n",
    ">**_<span style=\"color:green\">Все хорошо и структурировано, класс</span>_**\n"
   ]
  },
  {
   "cell_type": "markdown",
   "metadata": {},
   "source": [
    "## Шаг 2.  Предобработка данных"
   ]
  },
  {
   "cell_type": "markdown",
   "metadata": {},
   "source": [
    "В таблице calls изменим строчный тип данных столбца с датой звонка на временной и проверим замену."
   ]
  },
  {
   "cell_type": "code",
   "execution_count": null,
   "metadata": {},
   "outputs": [],
   "source": [
    "data_calls['call_date'] = pd.to_datetime(data_calls['call_date'], format = '%Y-%m-%d')\n",
    "data_calls.info()"
   ]
  },
  {
   "cell_type": "markdown",
   "metadata": {},
   "source": [
    "В таблице calls большое количество звонков длительность которых — 0.0 минут, что составляет около 20% от всех звонков. Это много. Возможно, это звонки, непринятые оппонентом пользователя или система биллинга постоянно их учитывает как состоявшиеся.\n",
    "Поскольку нам нужно исследовать и количество звонков, и их длительность, такие данные могут исказить результаты. \"Мегалайн\" всегда округляет вверх значения минут, округлим вверх длительность звонка в минутах. Cтроки с длительностью звонка - 0.00. округлим до 1.\n"
   ]
  },
  {
   "cell_type": "code",
   "execution_count": null,
   "metadata": {},
   "outputs": [],
   "source": [
    "display(data_calls.loc[data_calls.loc[:, 'duration'] == 0.00]['duration'].count() / len(data_calls))\n",
    "data_calls['duration'] = np.ceil(data_calls['duration']) \n",
    "data_calls.loc[data_calls['duration'] == 0, 'duration'] = 1\n",
    "display(data_calls['duration'].head())\n"
   ]
  },
  {
   "cell_type": "markdown",
   "metadata": {},
   "source": [
    "В таблице internet  изменим строчный тип данных столбца session_date на временной. Также удалим пустой столбец unnamed."
   ]
  },
  {
   "cell_type": "code",
   "execution_count": 7,
   "metadata": {},
   "outputs": [
    {
     "ename": "NameError",
     "evalue": "name 'data_internet' is not defined",
     "output_type": "error",
     "traceback": [
      "\u001b[1;31m---------------------------------------------------------------------------\u001b[0m",
      "\u001b[1;31mNameError\u001b[0m                                 Traceback (most recent call last)",
      "\u001b[1;32m<ipython-input-7-52595af7edff>\u001b[0m in \u001b[0;36m<module>\u001b[1;34m\u001b[0m\n\u001b[1;32m----> 1\u001b[1;33m \u001b[0mdata_internet\u001b[0m\u001b[1;33m[\u001b[0m\u001b[1;34m'session_date'\u001b[0m\u001b[1;33m]\u001b[0m \u001b[1;33m=\u001b[0m \u001b[0mpd\u001b[0m\u001b[1;33m.\u001b[0m\u001b[0mto_datetime\u001b[0m\u001b[1;33m(\u001b[0m\u001b[0mdata_internet\u001b[0m\u001b[1;33m[\u001b[0m\u001b[1;34m'session_date'\u001b[0m\u001b[1;33m]\u001b[0m\u001b[1;33m,\u001b[0m \u001b[0mformat\u001b[0m \u001b[1;33m=\u001b[0m \u001b[1;34m'%Y-%m-%d'\u001b[0m\u001b[1;33m)\u001b[0m\u001b[1;33m\u001b[0m\u001b[1;33m\u001b[0m\u001b[0m\n\u001b[0m\u001b[0;32m      2\u001b[0m \u001b[0mdata_internet\u001b[0m \u001b[1;33m=\u001b[0m \u001b[0mdata_internet\u001b[0m\u001b[1;33m.\u001b[0m\u001b[0mdrop\u001b[0m\u001b[1;33m(\u001b[0m\u001b[1;34m'Unnamed: 0'\u001b[0m\u001b[1;33m,\u001b[0m\u001b[0maxis\u001b[0m\u001b[1;33m=\u001b[0m\u001b[1;36m1\u001b[0m\u001b[1;33m)\u001b[0m\u001b[1;33m\u001b[0m\u001b[1;33m\u001b[0m\u001b[0m\n\u001b[0;32m      3\u001b[0m \u001b[0mdata_internet\u001b[0m\u001b[1;33m.\u001b[0m\u001b[0minfo\u001b[0m\u001b[1;33m(\u001b[0m\u001b[1;33m)\u001b[0m\u001b[1;33m\u001b[0m\u001b[1;33m\u001b[0m\u001b[0m\n",
      "\u001b[1;31mNameError\u001b[0m: name 'data_internet' is not defined"
     ]
    }
   ],
   "source": [
    "data_internet['session_date'] = pd.to_datetime(data_internet['session_date'], format = '%Y-%m-%d')\n",
    "data_internet = data_internet.drop('Unnamed: 0',axis=1)\n",
    "data_internet.info()"
   ]
  },
  {
   "cell_type": "markdown",
   "metadata": {},
   "source": [
    "Поскольку \"Мегалайн\" всегда округляет вверх значения мегабайтов, округлим вверх объем траффика в МБ в таблице internet, переведем Мб в Гб и переименуем столбец mb_used"
   ]
  },
  {
   "cell_type": "code",
   "execution_count": null,
   "metadata": {},
   "outputs": [],
   "source": [
    "data_internet['mb_used'] = np.ceil(data_internet['mb_used']) \n",
    "data_internet['mb_used'] = data_internet['mb_used'] / 1024\n",
    "data_internet = data_internet.rename(columns={\"mb_used\":\"gb_used\"})"
   ]
  },
  {
   "cell_type": "markdown",
   "metadata": {},
   "source": [
    "В таблице messages изменим строчный тип данных столбца message_date на временной\n"
   ]
  },
  {
   "cell_type": "code",
   "execution_count": null,
   "metadata": {},
   "outputs": [],
   "source": [
    "data_messages['message_date'] = pd.to_datetime(data_messages['message_date'], format = '%Y-%m-%d')\n",
    "data_messages.info()"
   ]
  },
  {
   "cell_type": "markdown",
   "metadata": {},
   "source": [
    "Измением тип данных в одном столбце таблицы users на временной тип"
   ]
  },
  {
   "cell_type": "code",
   "execution_count": null,
   "metadata": {},
   "outputs": [],
   "source": [
    "data_users['reg_date'] = pd.to_datetime(data_users['reg_date'], format = '%Y-%m-%d')\n",
    "data_users.info()"
   ]
  },
  {
   "cell_type": "markdown",
   "metadata": {},
   "source": [
    "Переименуем столбцы tariff_name и mb_per_month в файле с данными по тарифами, т.к. это потребуется для слияния и расчета данных.\n",
    "Мб пересчитаем в Гб.\n",
    "\n"
   ]
  },
  {
   "cell_type": "code",
   "execution_count": null,
   "metadata": {},
   "outputs": [],
   "source": [
    "data_tariffs['mb_per_month_included'] = data_tariffs['mb_per_month_included'] / 1024\n",
    "data_tariffs = data_tariffs.rename(columns={\"tariff_name\": \"tariff\", \"mb_per_month_included\": \"gb_per_month_included\"})\n",
    "display(data_tariffs)"
   ]
  },
  {
   "cell_type": "markdown",
   "metadata": {},
   "source": [
    "\n",
    ">\n",
    ">**_<span style=\"color:green\">По предобработке данных тоже нет замечаний.</span>_**\n"
   ]
  },
  {
   "cell_type": "markdown",
   "metadata": {},
   "source": [
    "#### Расчет количества сделанных звонков и израсходованных минут разговора по месяцам для каждого пользователя"
   ]
  },
  {
   "cell_type": "markdown",
   "metadata": {},
   "source": [
    "Создадим в датасетах calls, messages, internet новый столбец month для их последующего группирования по двум параметрам - user_id и month."
   ]
  },
  {
   "cell_type": "code",
   "execution_count": null,
   "metadata": {},
   "outputs": [],
   "source": [
    "data_calls['month'] = pd.DatetimeIndex(data_calls['call_date']).month\n",
    "data_messages['month'] = pd.DatetimeIndex(data_messages['message_date']).month\n",
    "data_internet['month'] = pd.DatetimeIndex(data_internet['session_date']).month\n",
    "\n"
   ]
  },
  {
   "cell_type": "markdown",
   "metadata": {},
   "source": [
    "Построим сводную таблицу по количеству и длительности звонков для каждого пользователя по месяцам, сразу соединяя таблицы  calls и users"
   ]
  },
  {
   "cell_type": "code",
   "execution_count": null,
   "metadata": {},
   "outputs": [],
   "source": [
    "user_calls = data_calls.merge(data_users, on='user_id', how='inner')\n",
    "calls_pivot = user_calls.pivot_table(values=['id', 'duration'], \n",
    "                                     index=['user_id', 'month'], \n",
    "                                     aggfunc=('sum', 'count')).reset_index()\n",
    "calls_pivot.drop(calls_pivot.columns[[2, 5]], axis=1, inplace=True) \n",
    "calls_pivot.columns = ['user_id', 'month', 'duration', 'calls']\n",
    "display(calls_pivot.head(10))\n",
    "\n"
   ]
  },
  {
   "cell_type": "markdown",
   "metadata": {},
   "source": [
    "#### Расчет количества отправленных сообщений по месяцам\n"
   ]
  },
  {
   "cell_type": "markdown",
   "metadata": {},
   "source": [
    "Построим сводную таблицу по количеству cообщений для каждого пользователя по месяцам"
   ]
  },
  {
   "cell_type": "code",
   "execution_count": null,
   "metadata": {},
   "outputs": [],
   "source": [
    "user_msg = data_messages.merge(data_users, on='user_id', how='inner')\n",
    "msg_pivot = pd.pivot_table(user_msg, index=['user_id', 'month'], \n",
    "                           values = ['id'], \n",
    "                           aggfunc=('count')).reset_index()\n",
    "msg_pivot.columns = ['user_id', 'month', 'messages']\n",
    "display(msg_pivot.sort_values(by='user_id', ascending=True).head(10))\n",
    "\n"
   ]
  },
  {
   "cell_type": "markdown",
   "metadata": {},
   "source": [
    "#### Расчет объема израсходованного интернет-трафика по месяцам"
   ]
  },
  {
   "cell_type": "markdown",
   "metadata": {},
   "source": [
    "Создаем таблицу по количеству использованных каждым пользователем мегабайтов в месяц и названию тарифа для каждого пользователя, а также городу проживания."
   ]
  },
  {
   "cell_type": "code",
   "execution_count": null,
   "metadata": {},
   "outputs": [],
   "source": [
    "user_internet = data_internet.merge(data_users, on='user_id', how='inner')\n",
    "internet_pivot = pd.pivot_table(user_internet, index=['user_id', 'month'],  \n",
    "                                values = ['gb_used', 'tariff', 'city'], \n",
    "                                aggfunc={'gb_used': 'sum', 'tariff': 'first', 'city': 'first'}).reset_index()\n",
    "display(internet_pivot.sort_values(by='user_id', ascending=True).head(10))\n",
    "\n",
    " "
   ]
  },
  {
   "cell_type": "markdown",
   "metadata": {},
   "source": [
    "#### Расчет ежемесячной выручки с каждого пользователя "
   ]
  },
  {
   "cell_type": "markdown",
   "metadata": {},
   "source": [
    "Соединим все сводные таблицы с длительностью звонков (минуты), количеством сообщений и объемом интернет-трафика (Мб), данными по тарифам поочередно в одну общую таблицу user_total"
   ]
  },
  {
   "cell_type": "code",
   "execution_count": null,
   "metadata": {},
   "outputs": [],
   "source": [
    "calls_internet_pivot = calls_pivot.merge(internet_pivot, on=['user_id', 'month'], how='left')\n",
    "calls_msg_pivot = calls_internet_pivot.merge(msg_pivot, on=['user_id', 'month'], how='left')\n",
    "user_total = calls_msg_pivot.merge(data_tariffs, on=['tariff'], how='left')"
   ]
  },
  {
   "cell_type": "code",
   "execution_count": null,
   "metadata": {},
   "outputs": [],
   "source": [
    "display(user_total.head(10))"
   ]
  },
  {
   "cell_type": "markdown",
   "metadata": {},
   "source": [
    "C полученной таблицой мы будем работать далее, поэтому необходимо проверить пропуски, которые могли появиться после слияний."
   ]
  },
  {
   "cell_type": "code",
   "execution_count": null,
   "metadata": {},
   "outputs": [],
   "source": [
    "user_total.info()\n"
   ]
  },
  {
   "cell_type": "markdown",
   "metadata": {},
   "source": [
    "Есть незначительное количество пропущенных значений в 11 столбцах, заменим их на нули через функцию. "
   ]
  },
  {
   "cell_type": "code",
   "execution_count": null,
   "metadata": {},
   "outputs": [],
   "source": [
    "for column in ['gb_used', 'messages', 'tariff', 'messages_included', 'gb_per_month_included', 'minutes_included', 'rub_monthly_fee',\n",
    "              'rub_per_gb', 'rub_per_message', 'rub_per_minute', 'city']:\n",
    "    user_total[column] = user_total[column].fillna('0') \n",
    "\n",
    "display(user_total.isnull().sum())"
   ]
  },
  {
   "cell_type": "markdown",
   "metadata": {},
   "source": [
    "Переведем тип данных в целые числа для математических операций со столбцами"
   ]
  },
  {
   "cell_type": "code",
   "execution_count": null,
   "metadata": {},
   "outputs": [],
   "source": [
    "for column in ['duration', 'calls','gb_used', 'messages', 'messages_included', 'gb_per_month_included', 'minutes_included', 'rub_monthly_fee',\n",
    "              'rub_per_gb', 'rub_per_message', 'rub_per_minute']:\n",
    "    user_total[column] = user_total[column].astype('int')\n"
   ]
  },
  {
   "cell_type": "markdown",
   "metadata": {},
   "source": [
    "Создадим столбец с общей выручкой turnover: вычитаем бесплатный лимит из суммарного количества минут, сообщений и интернет-трафика, остаток умножаем на значение из тарифного плана; в конце все расход за перелимит сложим с абонентской платой, соответствующей тарифному плану."
   ]
  },
  {
   "cell_type": "markdown",
   "metadata": {},
   "source": [
    "#####  Исправлено согласно рекомендации"
   ]
  },
  {
   "cell_type": "code",
   "execution_count": null,
   "metadata": {},
   "outputs": [],
   "source": [
    "def total_turnover(row):\n",
    "    ms = 0\n",
    "    cll = 0\n",
    "    gb = 0\n",
    "    \n",
    "    if row['messages'] > row['messages_included']:\n",
    "        ms = ((row['messages'] - row['messages_included']) * row['rub_per_message'])\n",
    "    \n",
    "    if row['duration'] > row['minutes_included']:\n",
    "        cll = ((row['duration'] - row['minutes_included']) * row['rub_per_minute'])\n",
    "    \n",
    "    if row['gb_used'] > row['gb_per_month_included']:\n",
    "        gb = ((row['gb_used'] - row['gb_per_month_included']) * row['rub_per_gb'])\n",
    "        \n",
    "    turnover = row['rub_monthly_fee'] + ms + cll + gb\n",
    "    return turnover\n",
    "\n",
    "user_total['turnover'] = user_total.apply(total_turnover, axis=1)\n",
    "display(user_total.tail())\n"
   ]
  },
  {
   "cell_type": "markdown",
   "metadata": {},
   "source": [
    "\n",
    "> **_<span style=\"color:orange\">Можно было воспользоваться функцией одной строки, где бы мы построчно проверяли превышены ограничения по тарифу или нет (см. пример функции ниже)</span>_**\n",
    ">\n"
   ]
  },
  {
   "cell_type": "markdown",
   "metadata": {},
   "source": [
    "Александр, спасибо большое. Функция, конечно, лучше, но у меня она никак не получалась."
   ]
  },
  {
   "cell_type": "code",
   "execution_count": null,
   "metadata": {},
   "outputs": [],
   "source": [
    "### Код ревьювера ###\n",
    "\n",
    "def total_revenue(row):\n",
    "    ms = 0\n",
    "    cll = 0\n",
    "    gb = 0\n",
    "    \n",
    "    if row['messages'] > row['messages_included']:\n",
    "        ms = ((row['messages'] - row['messages_included']) * row['rub_per_message'])\n",
    "    \n",
    "    if row['call_duration'] > row['minutes_included']:\n",
    "        cll = ((row['call_duration'] - row['minutes_included']) * row['rub_per_minute'])\n",
    "    \n",
    "    if row['gb_used'] > row['mb_per_month_included']:\n",
    "        gb = ((row['gb_used'] - row['mb_per_month_included']) * row['rub_per_gb'])\n",
    "        \n",
    "    revenue = row['rub_monthly_fee'] + ms + cll + gb\n",
    "    return revenue\n",
    "\n",
    "### Код ревьювера"
   ]
  },
  {
   "cell_type": "markdown",
   "metadata": {},
   "source": [
    "## Шаг 3. Анализ данных\n",
    "\n"
   ]
  },
  {
   "cell_type": "markdown",
   "metadata": {},
   "source": [
    "Опишим поведение клиентов оператора, исходя из выборки. Сколько минут разговора, сколько сообщений и какой объём интернет-трафика требуется пользователям каждого тарифа в месяц? "
   ]
  },
  {
   "cell_type": "markdown",
   "metadata": {},
   "source": [
    "Посчитаем среднее количество минут, сообщений, Гб и выручки на каждого пользователя в месяц"
   ]
  },
  {
   "cell_type": "code",
   "execution_count": null,
   "metadata": {},
   "outputs": [],
   "source": [
    "user_total_mean = user_total.pivot_table(values=['duration', 'messages', 'gb_used', 'turnover'], \n",
    "                                     index=['user_id','tariff', 'city'], \n",
    "                                     aggfunc=('mean')).reset_index()\n",
    "display(user_total_mean.round(2).head())"
   ]
  },
  {
   "cell_type": "markdown",
   "metadata": {},
   "source": [
    "Проверим таблицу по столбцу tariff, т.к. в сводной таблице появилось значение 0 для тарифа.\n",
    "Таких строк в общей таблице нет."
   ]
  },
  {
   "cell_type": "code",
   "execution_count": null,
   "metadata": {},
   "outputs": [],
   "source": [
    "display(user_total[user_total['tariff'] == 0])"
   ]
  },
  {
   "cell_type": "markdown",
   "metadata": {},
   "source": [
    "Посчитаем среднее количество минут, сообщений, Гб и выручки по каждому тарифу в месяц. \n",
    "В целом, мы видим, что пользователи тарифа Smart расходуют звонки и сообщения в рамках лимита, лишь немного не хватает траффика. Пользователи тарифа Ultra тратят больше, но с большим запасом до сверхлимита, но они и существенно переплачивают за услуги связи."
   ]
  },
  {
   "cell_type": "code",
   "execution_count": null,
   "metadata": {},
   "outputs": [],
   "source": [
    "tariff_total_mean = user_total.pivot_table(values=['duration', 'messages', 'gb_used', 'turnover'], \n",
    "                                     index=['tariff'], \n",
    "                                     aggfunc=('mean')).reset_index()\n",
    "display(tariff_total_mean.round(2).head())"
   ]
  },
  {
   "cell_type": "markdown",
   "metadata": {},
   "source": [
    "Узнаем долю пользователей по каждому тарифу"
   ]
  },
  {
   "cell_type": "code",
   "execution_count": null,
   "metadata": {},
   "outputs": [],
   "source": [
    "user_total_mean.pivot_table(index='tariff', values='user_id', aggfunc={'count'})"
   ]
  },
  {
   "cell_type": "code",
   "execution_count": null,
   "metadata": {},
   "outputs": [],
   "source": []
  },
  {
   "cell_type": "markdown",
   "metadata": {},
   "source": [
    "Рассчитаем дисперсию выборки по тарифу, т.к. это не вся совокупность, а только выборка, указываем параметр ddof=1. Большая дисперсия по длительности звонков, необходимо проверить это на графике"
   ]
  },
  {
   "cell_type": "code",
   "execution_count": null,
   "metadata": {},
   "outputs": [],
   "source": [
    "tariff_variance= np.var(tariff_total_mean, ddof=1)\n",
    "display(tariff_variance.round(2))"
   ]
  },
  {
   "cell_type": "markdown",
   "metadata": {},
   "source": [
    "Рассчитаем стандартное отклонение. По длительности звонков отклонение достаточно велико, скорее всего из-за выбросов в одном из тарифов.\n",
    "\n"
   ]
  },
  {
   "cell_type": "code",
   "execution_count": null,
   "metadata": {},
   "outputs": [],
   "source": [
    "tariff_standard_deviation = np.std(tariff_total_mean, ddof=1)\n",
    "display(tariff_standard_deviation.round(2))"
   ]
  },
  {
   "cell_type": "markdown",
   "metadata": {},
   "source": [
    "Построим графики по всем трем параметрам для сравнения двух тарифов. \n",
    "\n",
    "Медианы близки к найденным средним значениям. График messages подтверждает, что медиана ниже среднего, поэтому график скошен вправо - нужно проверить насколько сильно на отдельной гистограмме. Выбросы в правую сторону есть почти по всем параметрам, как и показывали расчеты дисперсии и стандартного отклонения. По тарифу Ultra дисперсия больше и выбросов существенно больше: более 1400 минут, 48 Гб, 180 сообщений, значит есть пользователи, кто реально использует все возможности дорогого тарифа.\n"
   ]
  },
  {
   "cell_type": "code",
   "execution_count": null,
   "metadata": {},
   "outputs": [],
   "source": [
    "for column in ['duration', 'gb_used', 'messages']:\n",
    "    sns.catplot(x=\"tariff\", y=column, kind=\"box\", data=user_total)"
   ]
  },
  {
   "cell_type": "markdown",
   "metadata": {},
   "source": [
    "Построим гистограммы по каждому столбцу, чтобы точнее понять распределение. По длительности звонков и траффику распределение тяготеет к нормальному с выбросами вправо.\n",
    "Гистограмма столбца 'messages' похожа на распределение Пуассона. Правый выброс подтверждает, что совсем немного пользователей тарифа Ultra -2-3%  могут отправлять 180 сообщений в месяц."
   ]
  },
  {
   "cell_type": "code",
   "execution_count": null,
   "metadata": {},
   "outputs": [],
   "source": [
    "for column in ['duration', 'gb_used', 'messages']:\n",
    "    user_total_mean.plot(kind='hist', y=column, label=column, bins=30, grid=True, legend=True )"
   ]
  },
  {
   "cell_type": "markdown",
   "metadata": {},
   "source": [
    ">**<span style=\"color:green\">По графикам и выводам все отлично. Отдельно хочу похвалить тебя за то, что ты пишешь о том, что распределения «похоже» на нормальные и/или на распределение Пуассона. Так как у нас не вся популяция, а только выборки, то по ним сложно определить вид распределения. Так что лучше обезопасить себя и говорить, что распределения похожи на нормальные.</span>**"
   ]
  },
  {
   "cell_type": "markdown",
   "metadata": {},
   "source": [
    "## Шаг 4. Проверьте гипотезы"
   ]
  },
  {
   "cell_type": "markdown",
   "metadata": {},
   "source": [
    "Поскольку Центральная Предельная Теорема гласит, что \"если в выборке достаточно наблюдений, выборочное распределение выборочного среднего из любой генеральной совокупности распределено нормально вокруг среднего этой генеральной совокупности\". \"Любой\" означает, что данная совокупность может быть сгруппирована как угодно - мы сгруппировали две совокупности согласно тарифу и две совокупности согласно городу проживания пользователя. Нам необходимо проверить данные генеральной совокупности по ее случайной выборке. В данном случае сравнить средние значения двух генеральных совокупностей - данные по выручке тарифа ultra  и smart, в первом случае, данные по выручке от пользователей в г.Москва  и выручке от пользователей в других городах, во втором случае.\n",
    "\n",
    "Чтобы проверить гипотезу о равенстве среднего двух генеральных совокупностей по взятым из них выборкам, нужно понять, нормально ли распределено выборочное вокруг среднего всей генеральной совокупности, значима ли разница между этими средними. Для этого проведем статистический тест с помощью метода scipy.stats.ttest_ind.\n"
   ]
  },
  {
   "cell_type": "markdown",
   "metadata": {},
   "source": [
    "#### Проверим гипотезу, что средняя выручка пользователей тарифов «Ультра» и «Смарт» различается.\n",
    "\n",
    "\n"
   ]
  },
  {
   "cell_type": "markdown",
   "metadata": {},
   "source": [
    "Формируем нулевую гипотезу:\n",
    "\n",
    "H₀ =  \"средняя выручка пользователей тарифа \"Ультра\" равна средней выручке пользователей тарифа \"Смарт\".\n",
    "\n",
    "Из H₀ формулируем альтернативную гипотезу:\n",
    "\n",
    "H₁ = \"средняя выручка пользователей тарифа \"Ультра\" не равна средней выручке пользователей тарифа \"Смарт\". \n",
    "Уровень статистической значимости установим 2,5%.\n",
    "Так как дисперсия больше у тарифа ultra, установим параметр False для equal_var.\n",
    "\n",
    "Мы отвергаем нулевую гипотезу и предполагаем, что средние выручки различаются по тарифам."
   ]
  },
  {
   "cell_type": "code",
   "execution_count": null,
   "metadata": {},
   "outputs": [],
   "source": [
    "ultra = user_total.query('tariff == \"ultra\"')['turnover']\n",
    "smart = user_total.query('tariff == \"smart\"')['turnover']\n",
    "\n",
    "alpha = .025\n",
    "    \n",
    "results = st.ttest_ind(\n",
    "    ultra, \n",
    "    smart,\n",
    "    equal_var=False)\n",
    "    \n",
    "print('p-значение: ', results.pvalue)\n",
    "    \n",
    "if (results.pvalue < alpha):\n",
    "    print(\"Отвергаем нулевую гипотезу\")\n",
    "else:\n",
    "    print(\"Не получилось отвергнуть нулевую гипотезу\")\n"
   ]
  },
  {
   "cell_type": "markdown",
   "metadata": {},
   "source": [
    "Проверим наше предположение о различии выручки по тарифам по медианному среднему. Медианы чуть ниже среднего, поэтому график слегка скошен вправо. Но выручка по тарифу Smart остается гораздо меньше тарифа Ultra"
   ]
  },
  {
   "cell_type": "code",
   "execution_count": 8,
   "metadata": {},
   "outputs": [
    {
     "ename": "NameError",
     "evalue": "name 'user_total' is not defined",
     "output_type": "error",
     "traceback": [
      "\u001b[1;31m---------------------------------------------------------------------------\u001b[0m",
      "\u001b[1;31mNameError\u001b[0m                                 Traceback (most recent call last)",
      "\u001b[1;32m<ipython-input-8-535e48b9ea14>\u001b[0m in \u001b[0;36m<module>\u001b[1;34m\u001b[0m\n\u001b[1;32m----> 1\u001b[1;33m \u001b[0msns\u001b[0m\u001b[1;33m.\u001b[0m\u001b[0mcatplot\u001b[0m\u001b[1;33m(\u001b[0m\u001b[0mx\u001b[0m\u001b[1;33m=\u001b[0m\u001b[1;34m\"tariff\"\u001b[0m\u001b[1;33m,\u001b[0m \u001b[0my\u001b[0m\u001b[1;33m=\u001b[0m\u001b[1;34m\"turnover\"\u001b[0m\u001b[1;33m,\u001b[0m \u001b[0mkind\u001b[0m\u001b[1;33m=\u001b[0m\u001b[1;34m\"box\"\u001b[0m\u001b[1;33m,\u001b[0m \u001b[0mdata\u001b[0m\u001b[1;33m=\u001b[0m\u001b[0muser_total\u001b[0m\u001b[1;33m)\u001b[0m\u001b[1;33m\u001b[0m\u001b[1;33m\u001b[0m\u001b[0m\n\u001b[0m",
      "\u001b[1;31mNameError\u001b[0m: name 'user_total' is not defined"
     ]
    }
   ],
   "source": [
    "sns.catplot(x=\"tariff\", y=\"turnover\", kind=\"box\", data=user_total)"
   ]
  },
  {
   "cell_type": "markdown",
   "metadata": {},
   "source": [
    "#### Проверим гипотезу, что средняя выручка от пользователей из Москвы отличается от выручки от пользователей из других регионов"
   ]
  },
  {
   "cell_type": "markdown",
   "metadata": {},
   "source": [
    "Создадим дополнительный столбец в основном датасете по разделению городов по 1 признаку.  "
   ]
  },
  {
   "cell_type": "code",
   "execution_count": null,
   "metadata": {},
   "outputs": [],
   "source": [
    "def other_city (city):\n",
    "    if city == 'Москва': \n",
    "        return 'Москва'\n",
    "    else: \n",
    "        return 'другой город'\n",
    "    \n",
    "user_total['other_city'] = user_total['city'].apply(other_city)\n",
    "user_total.pivot_table(index='other_city', values='turnover', aggfunc='mean').round(2)\n"
   ]
  },
  {
   "cell_type": "markdown",
   "metadata": {},
   "source": [
    "Формируем нулевую гипотезу: \n",
    "\n",
    "H₀ = \"средняя выручка от пользователей  из Москвы равна выручке от пользователей из других регионов\"¶. \n",
    "\n",
    "Из H₀ формулируем альтернативную гипотезу:\n",
    "H₁ = \"средняя выручка от пользователей из Москвы не равна средней выручке от пользователей из других регионов. \n",
    "Уровень статистической значимости установим 2,5%. \n",
    "\n",
    "Согласно результату теста не получилось отвергнуть нулевую гипотезу и предполагаем, что средние выручки не различаются."
   ]
  },
  {
   "cell_type": "code",
   "execution_count": null,
   "metadata": {},
   "outputs": [],
   "source": [
    "moscow = user_total.query('other_city == \"Москва\"')['turnover']\n",
    "other_city = user_total.query('other_city == \"другой город\"')['turnover']\n",
    "\n",
    "alpha = .025\n",
    "    \n",
    "results = st.ttest_ind(\n",
    "    moscow, \n",
    "    other_city,\n",
    "    equal_var=False)\n",
    "    \n",
    "print('p-значение: ', results.pvalue)\n",
    "    \n",
    "if (results.pvalue < alpha):\n",
    "    print(\"Отвергаем нулевую гипотезу\")\n",
    "else:\n",
    "    print(\"Не получилось отвергнуть нулевую гипотезу\")\n"
   ]
  },
  {
   "cell_type": "markdown",
   "metadata": {},
   "source": [
    "Диаграммы размаха подтверждают,что не только медианы почти не отличаются от средних данных и очень близки и в Москве, и в других городах, но и межквартильные размахи практически идентичны. Все это говорит о том, что выручка пользователей не зависит от города и практически не различима между Москвой и другими городами."
   ]
  },
  {
   "cell_type": "code",
   "execution_count": null,
   "metadata": {},
   "outputs": [],
   "source": [
    "sns.catplot(x=\"other_city\", y=\"turnover\", kind=\"box\", data=user_total)"
   ]
  },
  {
   "cell_type": "markdown",
   "metadata": {},
   "source": [
    ">**<span style=\"color:green\">С построением и проверкой гипотез — всё окей.</span>**\n",
    ">\n",
    "> **_<span style=\"color:red\">~~В задаче еще есть пункт про то, чтобы обосновать выбор статистического теста. Допиши, пожалуйста, почему ты используешь именно этот тест.~~</span>_**"
   ]
  },
  {
   "cell_type": "markdown",
   "metadata": {},
   "source": [
    "##### Хорошо. Спасибо. Добавляю данный пункт сразу под заголовком Шага 4\n"
   ]
  },
  {
   "cell_type": "markdown",
   "metadata": {},
   "source": [
    "## Шаг 5. Общий вывод"
   ]
  },
  {
   "cell_type": "markdown",
   "metadata": {},
   "source": [
    "Мы провели исследование по всем основным параметрам тарифов Smart и Ultra от компании Мегалайн. \n",
    "Были рассмотрены средние данные по длительности звонков, количеству сообщений, объему интернет-траффика.\n",
    "На основании полученных данных можно сделать следующие выводы:\n",
    "    1. Пользователи тарифа Smart практически не превышают лимит и в среднем расходуют 430 минут, 33 сообщения в месяц. Но им немного не хватает интернет-трафика, при лимите 15 Гб, пользователи тратят 15,37 Гб. При этом они доплачивают почти 646 рублей сверх абонентской платы. Судя по данным - в основном за интернет.\n",
    "    2. Пользователи тарифа Ultra в среднем не используют весь лимит тарифа, расходуя только 563 минуты из 3000, 49 сообщений из 1000, 19 Гб из 30. Тем не менее, они больше тратят минут, сообщений и Гб, чем пользователи Smart. По тарифу Ultra дисперсия больше и выбросов существенно больше: есть показатели более 1400 минут, 48 Гб, 180 сообщений, есть около 2-3% пользователей, кто реально использует все возможности дорогого тарифа. \n",
    "    3. Разница в средней выручке от пользователей различается почти в 2 раза: Smart - 1196 руб, Ultra - 2053 руб. Конечно для компании более доходен дорогой тариф, но почти 70% пользователей пользуются Smart, поэтому обязательно нужно учитывать интересы данных клиентов и мониторить предложения от конкурентов.\n",
    "    4. По региональному признаку отличий нет, т.к. место жительства пользователя не влияет на размер выручки. И в Москве, и в других городах - средняя выручка с каждого пользователя составляет около 1450 рублей в месяц.\n",
    "\n",
    "Более оптимальным тарифом является Smart согласно цене и предоставляемым лимитам, но необходимо строго следить за превышением, поскольку стоимость всех услуг сверх тарифного пакета гораздо выше, чем в пакете Ultra.\n",
    "Если пользователю крайне важен постоянный и полный доступ ко всем телекоммуниционным услугам, то рекомендуется тариф Ultra, где превысить лимит крайне сложно, но необходимо будет за это платить почти в 2 раза больше.\n",
    "    \n",
    "   "
   ]
  },
  {
   "cell_type": "markdown",
   "metadata": {},
   "source": [
    "> **В целом мне очень понравился твой проект, кратко и по делу.\n",
    "Видно, что ты хорошо усвоила материал спринта, умело оперируешь изученными методами агрегации данных и проверки \n",
    "статистических гипотез на боевых данных.**\n",
    ">\n",
    ">**Все этапы проекта выполнены отлично, кроме одного незначительного недочёта в самом конце. Для зачета тебе осталось дописать обоснование выбора теста для проверки гипотез.**\n",
    ">\n",
    ">**Жду твой доработанный проект на повторную проверку. Уверен, у тебя всё получится. Успехов!**\n",
    ">\n",
    ">**UPDATE: Теперь все отлично, спасибо!** \n",
    "\n",
    "\n"
   ]
  },
  {
   "cell_type": "code",
   "execution_count": null,
   "metadata": {},
   "outputs": [],
   "source": []
  }
 ],
 "metadata": {
  "kernelspec": {
   "display_name": "Python 3",
   "language": "python",
   "name": "python3"
  },
  "language_info": {
   "codemirror_mode": {
    "name": "ipython",
    "version": 3
   },
   "file_extension": ".py",
   "mimetype": "text/x-python",
   "name": "python",
   "nbconvert_exporter": "python",
   "pygments_lexer": "ipython3",
   "version": "3.7.6"
  }
 },
 "nbformat": 4,
 "nbformat_minor": 2
}
