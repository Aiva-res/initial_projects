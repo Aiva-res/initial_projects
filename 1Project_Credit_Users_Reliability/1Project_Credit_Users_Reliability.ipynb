{
 "cells": [
  {
   "cell_type": "markdown",
   "metadata": {},
   "source": [
    "## Исследование надёжности заёмщиков\n",
    "\n",
    "Заказчик — кредитный отдел банка. Нужно разобраться, влияет ли семейное положение и количество детей клиента на факт погашения кредита в срок. Входные данные от банка — статистика о платёжеспособности клиентов.\n",
    "\n",
    "Результаты исследования будут учтены при построении модели **кредитного скоринга** — специальной системы, которая оценивает способность потенциального заёмщика вернуть кредит банку."
   ]
  },
  {
   "cell_type": "markdown",
   "metadata": {},
   "source": [
    "### Шаг 1. Откройте файл с данными и изучите общую информацию. "
   ]
  },
  {
   "cell_type": "code",
   "execution_count": 129,
   "metadata": {},
   "outputs": [
    {
     "data": {
      "text/html": [
       "<div>\n",
       "<style scoped>\n",
       "    .dataframe tbody tr th:only-of-type {\n",
       "        vertical-align: middle;\n",
       "    }\n",
       "\n",
       "    .dataframe tbody tr th {\n",
       "        vertical-align: top;\n",
       "    }\n",
       "\n",
       "    .dataframe thead th {\n",
       "        text-align: right;\n",
       "    }\n",
       "</style>\n",
       "<table border=\"1\" class=\"dataframe\">\n",
       "  <thead>\n",
       "    <tr style=\"text-align: right;\">\n",
       "      <th></th>\n",
       "      <th>children</th>\n",
       "      <th>days_employed</th>\n",
       "      <th>dob_years</th>\n",
       "      <th>education</th>\n",
       "      <th>education_id</th>\n",
       "      <th>family_status</th>\n",
       "      <th>family_status_id</th>\n",
       "      <th>gender</th>\n",
       "      <th>income_type</th>\n",
       "      <th>debt</th>\n",
       "      <th>total_income</th>\n",
       "      <th>purpose</th>\n",
       "    </tr>\n",
       "  </thead>\n",
       "  <tbody>\n",
       "    <tr>\n",
       "      <td>0</td>\n",
       "      <td>1</td>\n",
       "      <td>-8437.673028</td>\n",
       "      <td>42</td>\n",
       "      <td>высшее</td>\n",
       "      <td>0</td>\n",
       "      <td>женат / замужем</td>\n",
       "      <td>0</td>\n",
       "      <td>F</td>\n",
       "      <td>сотрудник</td>\n",
       "      <td>0</td>\n",
       "      <td>253875.639453</td>\n",
       "      <td>покупка жилья</td>\n",
       "    </tr>\n",
       "    <tr>\n",
       "      <td>1</td>\n",
       "      <td>1</td>\n",
       "      <td>-4024.803754</td>\n",
       "      <td>36</td>\n",
       "      <td>среднее</td>\n",
       "      <td>1</td>\n",
       "      <td>женат / замужем</td>\n",
       "      <td>0</td>\n",
       "      <td>F</td>\n",
       "      <td>сотрудник</td>\n",
       "      <td>0</td>\n",
       "      <td>112080.014102</td>\n",
       "      <td>приобретение автомобиля</td>\n",
       "    </tr>\n",
       "    <tr>\n",
       "      <td>2</td>\n",
       "      <td>0</td>\n",
       "      <td>-5623.422610</td>\n",
       "      <td>33</td>\n",
       "      <td>Среднее</td>\n",
       "      <td>1</td>\n",
       "      <td>женат / замужем</td>\n",
       "      <td>0</td>\n",
       "      <td>M</td>\n",
       "      <td>сотрудник</td>\n",
       "      <td>0</td>\n",
       "      <td>145885.952297</td>\n",
       "      <td>покупка жилья</td>\n",
       "    </tr>\n",
       "    <tr>\n",
       "      <td>3</td>\n",
       "      <td>3</td>\n",
       "      <td>-4124.747207</td>\n",
       "      <td>32</td>\n",
       "      <td>среднее</td>\n",
       "      <td>1</td>\n",
       "      <td>женат / замужем</td>\n",
       "      <td>0</td>\n",
       "      <td>M</td>\n",
       "      <td>сотрудник</td>\n",
       "      <td>0</td>\n",
       "      <td>267628.550329</td>\n",
       "      <td>дополнительное образование</td>\n",
       "    </tr>\n",
       "    <tr>\n",
       "      <td>4</td>\n",
       "      <td>0</td>\n",
       "      <td>340266.072047</td>\n",
       "      <td>53</td>\n",
       "      <td>среднее</td>\n",
       "      <td>1</td>\n",
       "      <td>гражданский брак</td>\n",
       "      <td>1</td>\n",
       "      <td>F</td>\n",
       "      <td>пенсионер</td>\n",
       "      <td>0</td>\n",
       "      <td>158616.077870</td>\n",
       "      <td>сыграть свадьбу</td>\n",
       "    </tr>\n",
       "    <tr>\n",
       "      <td>...</td>\n",
       "      <td>...</td>\n",
       "      <td>...</td>\n",
       "      <td>...</td>\n",
       "      <td>...</td>\n",
       "      <td>...</td>\n",
       "      <td>...</td>\n",
       "      <td>...</td>\n",
       "      <td>...</td>\n",
       "      <td>...</td>\n",
       "      <td>...</td>\n",
       "      <td>...</td>\n",
       "      <td>...</td>\n",
       "    </tr>\n",
       "    <tr>\n",
       "      <td>21520</td>\n",
       "      <td>1</td>\n",
       "      <td>-4529.316663</td>\n",
       "      <td>43</td>\n",
       "      <td>среднее</td>\n",
       "      <td>1</td>\n",
       "      <td>гражданский брак</td>\n",
       "      <td>1</td>\n",
       "      <td>F</td>\n",
       "      <td>компаньон</td>\n",
       "      <td>0</td>\n",
       "      <td>224791.862382</td>\n",
       "      <td>операции с жильем</td>\n",
       "    </tr>\n",
       "    <tr>\n",
       "      <td>21521</td>\n",
       "      <td>0</td>\n",
       "      <td>343937.404131</td>\n",
       "      <td>67</td>\n",
       "      <td>среднее</td>\n",
       "      <td>1</td>\n",
       "      <td>женат / замужем</td>\n",
       "      <td>0</td>\n",
       "      <td>F</td>\n",
       "      <td>пенсионер</td>\n",
       "      <td>0</td>\n",
       "      <td>155999.806512</td>\n",
       "      <td>сделка с автомобилем</td>\n",
       "    </tr>\n",
       "    <tr>\n",
       "      <td>21522</td>\n",
       "      <td>1</td>\n",
       "      <td>-2113.346888</td>\n",
       "      <td>38</td>\n",
       "      <td>среднее</td>\n",
       "      <td>1</td>\n",
       "      <td>гражданский брак</td>\n",
       "      <td>1</td>\n",
       "      <td>M</td>\n",
       "      <td>сотрудник</td>\n",
       "      <td>1</td>\n",
       "      <td>89672.561153</td>\n",
       "      <td>недвижимость</td>\n",
       "    </tr>\n",
       "    <tr>\n",
       "      <td>21523</td>\n",
       "      <td>3</td>\n",
       "      <td>-3112.481705</td>\n",
       "      <td>38</td>\n",
       "      <td>среднее</td>\n",
       "      <td>1</td>\n",
       "      <td>женат / замужем</td>\n",
       "      <td>0</td>\n",
       "      <td>M</td>\n",
       "      <td>сотрудник</td>\n",
       "      <td>1</td>\n",
       "      <td>244093.050500</td>\n",
       "      <td>на покупку своего автомобиля</td>\n",
       "    </tr>\n",
       "    <tr>\n",
       "      <td>21524</td>\n",
       "      <td>2</td>\n",
       "      <td>-1984.507589</td>\n",
       "      <td>40</td>\n",
       "      <td>среднее</td>\n",
       "      <td>1</td>\n",
       "      <td>женат / замужем</td>\n",
       "      <td>0</td>\n",
       "      <td>F</td>\n",
       "      <td>сотрудник</td>\n",
       "      <td>0</td>\n",
       "      <td>82047.418899</td>\n",
       "      <td>на покупку автомобиля</td>\n",
       "    </tr>\n",
       "  </tbody>\n",
       "</table>\n",
       "<p>21525 rows × 12 columns</p>\n",
       "</div>"
      ],
      "text/plain": [
       "       children  days_employed  dob_years education  education_id  \\\n",
       "0             1   -8437.673028         42    высшее             0   \n",
       "1             1   -4024.803754         36   среднее             1   \n",
       "2             0   -5623.422610         33   Среднее             1   \n",
       "3             3   -4124.747207         32   среднее             1   \n",
       "4             0  340266.072047         53   среднее             1   \n",
       "...         ...            ...        ...       ...           ...   \n",
       "21520         1   -4529.316663         43   среднее             1   \n",
       "21521         0  343937.404131         67   среднее             1   \n",
       "21522         1   -2113.346888         38   среднее             1   \n",
       "21523         3   -3112.481705         38   среднее             1   \n",
       "21524         2   -1984.507589         40   среднее             1   \n",
       "\n",
       "          family_status  family_status_id gender income_type  debt  \\\n",
       "0       женат / замужем                 0      F   сотрудник     0   \n",
       "1       женат / замужем                 0      F   сотрудник     0   \n",
       "2       женат / замужем                 0      M   сотрудник     0   \n",
       "3       женат / замужем                 0      M   сотрудник     0   \n",
       "4      гражданский брак                 1      F   пенсионер     0   \n",
       "...                 ...               ...    ...         ...   ...   \n",
       "21520  гражданский брак                 1      F   компаньон     0   \n",
       "21521   женат / замужем                 0      F   пенсионер     0   \n",
       "21522  гражданский брак                 1      M   сотрудник     1   \n",
       "21523   женат / замужем                 0      M   сотрудник     1   \n",
       "21524   женат / замужем                 0      F   сотрудник     0   \n",
       "\n",
       "        total_income                       purpose  \n",
       "0      253875.639453                 покупка жилья  \n",
       "1      112080.014102       приобретение автомобиля  \n",
       "2      145885.952297                 покупка жилья  \n",
       "3      267628.550329    дополнительное образование  \n",
       "4      158616.077870               сыграть свадьбу  \n",
       "...              ...                           ...  \n",
       "21520  224791.862382             операции с жильем  \n",
       "21521  155999.806512          сделка с автомобилем  \n",
       "21522   89672.561153                  недвижимость  \n",
       "21523  244093.050500  на покупку своего автомобиля  \n",
       "21524   82047.418899         на покупку автомобиля  \n",
       "\n",
       "[21525 rows x 12 columns]"
      ]
     },
     "metadata": {},
     "output_type": "display_data"
    },
    {
     "name": "stdout",
     "output_type": "stream",
     "text": [
      "<class 'pandas.core.frame.DataFrame'>\n",
      "RangeIndex: 21525 entries, 0 to 21524\n",
      "Data columns (total 12 columns):\n",
      "children            21525 non-null int64\n",
      "days_employed       19351 non-null float64\n",
      "dob_years           21525 non-null int64\n",
      "education           21525 non-null object\n",
      "education_id        21525 non-null int64\n",
      "family_status       21525 non-null object\n",
      "family_status_id    21525 non-null int64\n",
      "gender              21525 non-null object\n",
      "income_type         21525 non-null object\n",
      "debt                21525 non-null int64\n",
      "total_income        19351 non-null float64\n",
      "purpose             21525 non-null object\n",
      "dtypes: float64(2), int64(5), object(5)\n",
      "memory usage: 2.0+ MB\n"
     ]
    }
   ],
   "source": [
    "import pandas as pd\n",
    "client_pay_ability = pd.read_csv('/datasets/data.csv')\n",
    "display(client_pay_ability)\n",
    "client_pay_ability.info()"
   ]
  },
  {
   "cell_type": "code",
   "execution_count": null,
   "metadata": {},
   "outputs": [],
   "source": []
  },
  {
   "cell_type": "markdown",
   "metadata": {},
   "source": [
    "### Вывод"
   ]
  },
  {
   "cell_type": "markdown",
   "metadata": {},
   "source": [
    "Всего в таблице 12 столбцов, при этом количество значений в столбцах 'days_employed', 'total_income' различное, значит, есть 'пропущенные значения'. Данные значения могут быть пропущены как случайно, так и не случайно, возможно, клиент не предоставил информацию по данным пунктам намеренно.\n",
    "Пять столбцов с типом данных - 'строка', еще пять - 'целые числа', оставшиеся два - 'вещественные числа'. Это отрицательные числа в днях трудового стажа (необходимо уточнить у коллег из кредитного отдела, возможно, это перерерывы в стаже или маркировка выхода на пенсию) и дроби, показывающие ежемесячный доход. Встречаются строки разного регистра и категории, дублированные по смыслу ('purpose'), это может быть неудобным для фильтрации данных.\n",
    "Каждая строка таблицы позволяет узнать как о семейном, материальном и социальном положении клиента, так и о его финансовых целях.\n",
    "Необходимо удалить 'пропущенные значения', 'дубликаты'. Для решения задачи будут важны столбцы 'children', 'family_status', 'debt'.\n",
    "\n",
    "Описание данных\n",
    "•\tchildren — количество детей в семье\n",
    "•\tdays_employed — общий трудовой стаж в днях\n",
    "•\tdob_years — возраст клиента в годах\n",
    "•\teducation — уровень образования клиента\n",
    "•\teducation_id — идентификатор уровня образования\n",
    "•\tfamily_status — семейное положение\n",
    "•\tfamily_status_id — идентификатор семейного положения\n",
    "•\tgender — пол клиента\n",
    "•\tincome_type — тип занятости\n",
    "•\tdebt — имел ли задолженность по возврату кредитов\n",
    "•\ttotal_income — ежемесячный доход\n",
    "•\tpurpose — цель получения кредита\n"
   ]
  },
  {
   "cell_type": "markdown",
   "metadata": {},
   "source": [
    "## Исследование надёжности заёмщиков\n",
    "\n",
    "Заказчик — кредитный отдел банка. Нужно разобраться, влияет ли семейное положение и количество детей клиента на факт погашения кредита в срок. Входные данные от банка — статистика о платёжеспособности клиентов.\n",
    "\n",
    "Результаты исследования будут учтены при построении модели **кредитного скоринга** — специальной системы, которая оценивает способность потенциального заёмщика вернуть кредит банку."
   ]
  },
  {
   "cell_type": "markdown",
   "metadata": {},
   "source": [
    "### Шаг 2. Предобработка данных"
   ]
  },
  {
   "cell_type": "markdown",
   "metadata": {},
   "source": [
    "### Обработка пропусков\n"
   ]
  },
  {
   "cell_type": "code",
   "execution_count": 132,
   "metadata": {},
   "outputs": [
    {
     "data": {
      "text/plain": [
       "children            0\n",
       "days_employed       0\n",
       "dob_years           0\n",
       "education           0\n",
       "education_id        0\n",
       "family_status       0\n",
       "family_status_id    0\n",
       "gender              0\n",
       "income_type         0\n",
       "debt                0\n",
       "total_income        0\n",
       "purpose             0\n",
       "age_group           0\n",
       "dtype: int64"
      ]
     },
     "metadata": {},
     "output_type": "display_data"
    }
   ],
   "source": [
    "#display(client_pay_ability.isnull().sum())\n",
    "#display(client_pay_ability.groupby('income_type') ['education'].count())\n",
    "employee_avg = client_pay_ability[client_pay_ability['income_type'] == 'сотрудник']['total_income'].median()\n",
    "client_pay_ability.loc[client_pay_ability['income_type'] == 'сотрудник', 'total_income'] = client_pay_ability.loc[client_pay_ability['income_type'] == 'сотрудник', 'total_income'].fillna(employee_avg)\n",
    "\n",
    "companion_avg = client_pay_ability[client_pay_ability['income_type'] == 'компаньон']['total_income'].median()\n",
    "#display(companion_avg)\n",
    "client_pay_ability.loc[client_pay_ability['income_type'] == 'компаньон', 'total_income'] = client_pay_ability.loc[client_pay_ability['income_type'] == 'компаньон', 'total_income'].fillna(companion_avg)\n",
    "\n",
    "state_service_avg = client_pay_ability[client_pay_ability['income_type'] == 'госслужащий']['total_income'].median()\n",
    "#display(state_service_avg)\n",
    "client_pay_ability.loc[client_pay_ability['income_type'] == 'госслужащий', 'total_income'] = client_pay_ability.loc[client_pay_ability['income_type'] == 'госслужащий', 'total_income'].fillna(state_service_avg)\n",
    "\n",
    "pensioner_avg = client_pay_ability[client_pay_ability['income_type'] == 'пенсионер']['total_income'].median()\n",
    "#display(pensioner_avg)\n",
    "client_pay_ability.loc[client_pay_ability['income_type'] == 'пенсионер', 'total_income'] = client_pay_ability.loc[client_pay_ability['income_type'] == 'пенсионер', 'total_income'].fillna(pensioner_avg)\n",
    "\n",
    "businessman_avg = client_pay_ability[client_pay_ability['income_type'] == 'предприниматель']['total_income'].median()\n",
    "#display(businessman_avg)\n",
    "client_pay_ability.loc[client_pay_ability['income_type'] == 'предприниматель', 'total_income'] = client_pay_ability.loc[client_pay_ability['income_type'] == 'предприниматель', 'total_income'].fillna(businessman_avg)\n",
    "#display(client_pay_ability.groupby('income_type')['total_income'].count())\n",
    "display(client_pay_ability.isnull().sum())\n"
   ]
  },
  {
   "cell_type": "code",
   "execution_count": 131,
   "metadata": {},
   "outputs": [
    {
     "data": {
      "text/plain": [
       "children            0\n",
       "days_employed       0\n",
       "dob_years           0\n",
       "education           0\n",
       "education_id        0\n",
       "family_status       0\n",
       "family_status_id    0\n",
       "gender              0\n",
       "income_type         0\n",
       "debt                0\n",
       "total_income        0\n",
       "purpose             0\n",
       "age_group           0\n",
       "dtype: int64"
      ]
     },
     "metadata": {},
     "output_type": "display_data"
    }
   ],
   "source": [
    "#display(client_pay_ability.groupby('income_type') ['education'].count())\n",
    "\n",
    "\n",
    "def age_group(dob_years):\n",
    "    \n",
    "    if dob_years < 17:\n",
    "                return 'детский возраст'\n",
    "        \n",
    "    if dob_years >= 18 and dob_years <= 44:\n",
    "                return 'молодой возраст'\n",
    "    \n",
    "    if dob_years >= 45 and dob_years <= 59:\n",
    "                return 'средний возраст'\n",
    "    return 'пожилой возраст'\n",
    "             \n",
    "client_pay_ability['age_group'] = client_pay_ability['dob_years'].apply(age_group)\n",
    "#display(client_pay_ability['age_group'].value_counts())\n",
    "#display(client_pay_ability.groupby('age_group')['days_employed'].count())\n",
    "\n",
    "junior_avg = client_pay_ability[client_pay_ability['age_group'] == 'детский возраст']['days_employed'].median()\n",
    "#display(junior_avg)\n",
    "client_pay_ability.loc[client_pay_ability['age_group'] == 'детский возраст', 'days_employed'] = client_pay_ability.loc[client_pay_ability['age_group'] == 'детский возраст', 'days_employed'].fillna(junior_avg)\n",
    "\n",
    "young_avg = client_pay_ability[client_pay_ability['age_group'] == 'молодой возраст']['days_employed'].median()\n",
    "#display(young_avg)\n",
    "client_pay_ability.loc[client_pay_ability['age_group'] == 'молодой возраст', 'days_employed'] = client_pay_ability.loc[client_pay_ability['age_group'] == 'молодой возраст', 'days_employed'].fillna(young_avg)\n",
    "\n",
    "middle_avg = client_pay_ability[client_pay_ability['age_group'] == 'средний возраст']['days_employed'].median()\n",
    "#display(middle_avg)\n",
    "client_pay_ability.loc[client_pay_ability['age_group'] == 'средний возраст', 'days_employed'] = client_pay_ability.loc[client_pay_ability['age_group'] == 'средний возраст', 'days_employed'].fillna(middle_avg)\n",
    "\n",
    "old_avg = client_pay_ability[client_pay_ability['age_group'] == 'пожилой возраст']['days_employed'].median()\n",
    "#display(old_avg)\n",
    "client_pay_ability.loc[client_pay_ability['age_group'] == 'пожилой возраст', 'days_employed'] = client_pay_ability.loc[client_pay_ability['age_group'] == 'пожилой возраст', 'days_employed'].fillna(old_avg)\n",
    "\n",
    "display(client_pay_ability.isnull().sum())\n"
   ]
  },
  {
   "cell_type": "markdown",
   "metadata": {},
   "source": [
    "### Вывод"
   ]
  },
  {
   "cell_type": "markdown",
   "metadata": {},
   "source": [
    "Проверим таблицу с помощью двух последовательных методов: поиск на наличие пропусков и их суммирование. Как мы и предполагали, пропущены значения в столбцах 'days_employed' и 'total_income', клиенты банка могут об этом не сообщать, но для кредитного отдела - это архиважная информация. Необходимо заменить пропущенные данные по доходу медианным значением категории типа источника дохода. Определяем по столбцу, в котором нет пропусков, сколько людей у нас в каждой категории по типу дохода. Пропуски есть в категориях:'госслужащий, компаньон, пенсионер, предприниматель, сотрудник'. По каждой из них находим медианный доход и заменяем им пропуски. У нас всего два 'предпринимателя', один из них без указания дохода - в данном случае, и медианное, и среднеарифметическое значения будут одинаковы, мы приравняем доход второму, т.к. доля таких клиентов в общей массе незаметна.\n",
    "\n",
    "Выясняем, что пропуски в колонке 'days_employed' в тех же 5 категориях. Заменим пропущенные значения медианным значением по возрастной группе. С помощью функции создаем отдельный столбец 'age_group'.\n",
    "Найдем медианные значения по возрастным группам, которые классифицируем согласно ВОЗ:\n",
    "детский возраст - 0-17\n",
    "молодой возраст - 18-44\n",
    "средний возраст - 45-59\n",
    "пожилой возраст - 60+\n",
    "Все пропущенные значения заменены.\n",
    "\n",
    "\n"
   ]
  },
  {
   "cell_type": "markdown",
   "metadata": {},
   "source": [
    "### Замена типа данных"
   ]
  },
  {
   "cell_type": "code",
   "execution_count": 133,
   "metadata": {},
   "outputs": [
    {
     "name": "stdout",
     "output_type": "stream",
     "text": [
      "<class 'pandas.core.frame.DataFrame'>\n",
      "RangeIndex: 21525 entries, 0 to 21524\n",
      "Data columns (total 13 columns):\n",
      "children            21525 non-null int64\n",
      "days_employed       21525 non-null int64\n",
      "dob_years           21525 non-null int64\n",
      "education           21525 non-null object\n",
      "education_id        21525 non-null int64\n",
      "family_status       21525 non-null object\n",
      "family_status_id    21525 non-null int64\n",
      "gender              21525 non-null object\n",
      "income_type         21525 non-null object\n",
      "debt                21525 non-null int64\n",
      "total_income        21525 non-null int64\n",
      "purpose             21525 non-null object\n",
      "age_group           21525 non-null object\n",
      "dtypes: int64(7), object(6)\n",
      "memory usage: 2.1+ MB\n"
     ]
    }
   ],
   "source": [
    "client_pay_ability['days_employed'] = client_pay_ability['days_employed'].astype('int')\n",
    "client_pay_ability['total_income'] = client_pay_ability['total_income'].astype('int')\n",
    "client_pay_ability.info()"
   ]
  },
  {
   "cell_type": "markdown",
   "metadata": {},
   "source": [
    "### Вывод"
   ]
  },
  {
   "cell_type": "markdown",
   "metadata": {},
   "source": [
    "Отрицательные дробные числа в столбце 'days_employed' и положительные дробные числа в столбце 'total_income' выглядят громоздко и могут помешать корректной работе методов, поэтому изменим их тип данных с 'float' на 'integer'. Проверяем, что у нас получилось. Теперь у нас только два типа данных. Будет некорректно заменять отрицательные числа на положительные, т.к.это нарушит логику данной таблицы."
   ]
  },
  {
   "cell_type": "markdown",
   "metadata": {},
   "source": [
    "### Обработка дубликатов"
   ]
  },
  {
   "cell_type": "code",
   "execution_count": 69,
   "metadata": {},
   "outputs": [
    {
     "data": {
      "text/plain": [
       "0"
      ]
     },
     "execution_count": 69,
     "metadata": {},
     "output_type": "execute_result"
    }
   ],
   "source": [
    "client_pay_ability.duplicated().sum()\n",
    "client_pay_ability.drop_duplicates(inplace = True)\n",
    "client_pay_ability['education'] = client_pay_ability['education'].str.lower()\n",
    "#print(client_pay_ability['education'].value_counts())\n",
    "client_pay_ability['family_status'] = client_pay_ability['family_status'].str.lower()\n",
    "#print(client_pay_ability['family_status'].value_counts())\n",
    "#print(client_pay_ability['income_type'].value_counts())\n",
    "#print(client_pay_ability['purpose'].value_counts())\n",
    "client_pay_ability.duplicated().sum()"
   ]
  },
  {
   "cell_type": "markdown",
   "metadata": {},
   "source": [
    "### Вывод\n"
   ]
  },
  {
   "cell_type": "markdown",
   "metadata": {},
   "source": [
    "Мы обнаружили, что у нас 54 дубликата. Удаляем их, но,возможно, еще есть дубликаты по смыслу - выявляем вручную. Скорее всего, они встречаются в столбцах с типом данных 'строка'. Обработаем вручную каждый такой столбец на предмет уникальных значений.\n",
    "1. В столбце 'education' очень много дубликатов из-за регистра. Переводим весь столбец в нижний регистр.\n",
    "2. В столбце 'family_status' дубликатов нет, но одна из категорий начинается с заглавной буквы. Переводим весь столбец в нижний регистр.\n",
    "3. В столбце 'income_type' все в порядке.\n",
    "4. В столбце 'purpose' слишком много разных словоформ и словосочетаний с одинаковым смыслом. Для этого столбца выполним лемматизацию и категоризацию.\n",
    "Проверяем еще раз - дубликатов нет."
   ]
  },
  {
   "cell_type": "markdown",
   "metadata": {},
   "source": [
    "### Лемматизация"
   ]
  },
  {
   "cell_type": "code",
   "execution_count": 148,
   "metadata": {},
   "outputs": [
    {
     "data": {
      "text/plain": [
       "приобретение недвижимости    10840\n",
       "приобретение автомобиля       4315\n",
       "получение образования         4022\n",
       "организация свадьбы           2348\n",
       "Name: credit_purpose, dtype: int64"
      ]
     },
     "metadata": {},
     "output_type": "display_data"
    }
   ],
   "source": [
    "#display(client_pay_ability['purpose'].unique())\n",
    "\n",
    "from pymystem3 import Mystem\n",
    "m = Mystem()\n",
    "purpose_category = client_pay_ability['purpose'].unique()\n",
    "\n",
    "lemmas = []\n",
    "for i in purpose_category: \n",
    "        result = ' '.join(m.lemmatize(i)).strip()\n",
    "        lemmas.append(result)\n",
    "    \n",
    "#display(lemmas)\n",
    "from collections import Counter\n",
    "#display(Counter(lemmas))\n",
    "\n",
    "def purpose_count(row):\n",
    "    purpose_category = m.lemmatize(row['purpose'])\n",
    "    \n",
    "    if 'свадьба' in purpose_category:\n",
    "        return 'организация свадьбы'\n",
    "\n",
    "    if 'жилье'in purpose_category:\n",
    "        return 'приобретение недвижимости'\n",
    "    \n",
    "    if 'образование' in purpose_category:\n",
    "        return 'получение образования'\n",
    "    \n",
    "    if 'автомобиль' in purpose_category:\n",
    "        return 'приобретение автомобиля'\n",
    "    \n",
    "    if 'недвижимость' in purpose_category:\n",
    "        return 'приобретение недвижимости'\n",
    "    \n",
    "    \n",
    "client_pay_ability['credit_purpose'] = client_pay_ability.apply(purpose_count, axis=1)\n",
    "#display(client_pay_ability.head(10))\n",
    "\n",
    "display(client_pay_ability['credit_purpose'].value_counts())"
   ]
  },
  {
   "cell_type": "markdown",
   "metadata": {},
   "source": [
    "### Вывод"
   ]
  },
  {
   "cell_type": "markdown",
   "metadata": {},
   "source": [
    "Необходимо определить все уникальные значения столбца 'purpose' и провести их лемматизацию.\n",
    "Импортируем pymystem3, специальную библиотеку для русского языка  и прописываем цикл для лемматизации каждого уникального значения. Опредляем 4 категории целей кредита. Полученные леммы соотносим с уникальным значением в столбце 'purpose', создавая новый столбец 'credit_purpose'с чистой целью кредита. Суммируем все значения по категориям и выясняем, что самая популярная цель кредита 'приобретение недвижимости'.\n"
   ]
  },
  {
   "cell_type": "markdown",
   "metadata": {},
   "source": [
    "### Категоризация данных"
   ]
  },
  {
   "cell_type": "code",
   "execution_count": 149,
   "metadata": {
    "scrolled": true
   },
   "outputs": [
    {
     "name": "stdout",
     "output_type": "stream",
     "text": [
      "   children  days_employed  dob_years education  education_id  \\\n",
      "0         1          -8437         42    высшее             0   \n",
      "1         1          -4024         36   среднее             1   \n",
      "2         0          -5623         33   Среднее             1   \n",
      "3         3          -4124         32   среднее             1   \n",
      "4         0         340266         53   среднее             1   \n",
      "5         0           -926         27    высшее             0   \n",
      "6         0          -2879         43    высшее             0   \n",
      "7         0           -152         50   СРЕДНЕЕ             1   \n",
      "8         2          -6929         35    ВЫСШЕЕ             0   \n",
      "9         0          -2188         41   среднее             1   \n",
      "\n",
      "      family_status  family_status_id gender income_type  debt  total_income  \\\n",
      "0   женат / замужем                 0      F   сотрудник     0        253875   \n",
      "1   женат / замужем                 0      F   сотрудник     0        112080   \n",
      "2   женат / замужем                 0      M   сотрудник     0        145885   \n",
      "3   женат / замужем                 0      M   сотрудник     0        267628   \n",
      "4  гражданский брак                 1      F   пенсионер     0        158616   \n",
      "5  гражданский брак                 1      M   компаньон     0        255763   \n",
      "6   женат / замужем                 0      F   компаньон     0        240525   \n",
      "7   женат / замужем                 0      M   сотрудник     0        135823   \n",
      "8  гражданский брак                 1      F   сотрудник     0         95856   \n",
      "9   женат / замужем                 0      M   сотрудник     0        144425   \n",
      "\n",
      "                      purpose        age_group income_average  \\\n",
      "0               покупка жилья  молодой возраст  состоятельные   \n",
      "1     приобретение автомобиля  молодой возраст       уязвимые   \n",
      "2               покупка жилья  молодой возраст  средний класс   \n",
      "3  дополнительное образование  молодой возраст  состоятельные   \n",
      "4             сыграть свадьбу  средний возраст  средний класс   \n",
      "5               покупка жилья  молодой возраст  состоятельные   \n",
      "6           операции с жильем  молодой возраст  состоятельные   \n",
      "7                 образование  средний возраст  средний класс   \n",
      "8       на проведение свадьбы  молодой возраст         бедные   \n",
      "9     покупка жилья для семьи  молодой возраст  средний класс   \n",
      "\n",
      "              credit_purpose children_id   family_id  \n",
      "0  приобретение недвижимости   есть дети     в браке  \n",
      "1    приобретение автомобиля   есть дети     в браке  \n",
      "2  приобретение недвижимости   нет детей     в браке  \n",
      "3      получение образования   есть дети     в браке  \n",
      "4        организация свадьбы   нет детей  не в браке  \n",
      "5  приобретение недвижимости   нет детей  не в браке  \n",
      "6  приобретение недвижимости   нет детей     в браке  \n",
      "7      получение образования   нет детей     в браке  \n",
      "8        организация свадьбы   есть дети  не в браке  \n",
      "9  приобретение недвижимости   нет детей     в браке  \n"
     ]
    }
   ],
   "source": [
    "\n",
    "def children_count(row):\n",
    "    \n",
    "    children = row['children']\n",
    "    \n",
    "    if children < 1:\n",
    "        return 'нет детей'\n",
    "\n",
    "    if children >= 1:\n",
    "        return 'есть дети'\n",
    "\n",
    "        \n",
    "client_pay_ability['children_id'] = client_pay_ability.apply(children_count, axis=1)\n",
    "#print(client_pay_ability.head(10))\n",
    "\n",
    "def family_count(row):\n",
    "    \n",
    "    family_status_id = row['family_status_id']\n",
    "    \n",
    "    if family_status_id < 1:\n",
    "        return 'в браке'\n",
    "\n",
    "    if family_status_id >= 1:\n",
    "        return 'не в браке'\n",
    "\n",
    "        \n",
    "client_pay_ability['family_id'] = client_pay_ability.apply(family_count, axis=1)\n",
    "print(client_pay_ability.head(10))\n",
    "                    \n",
    "   \n"
   ]
  },
  {
   "cell_type": "code",
   "execution_count": 151,
   "metadata": {},
   "outputs": [
    {
     "data": {
      "text/plain": [
       "0        (214269.6, 2265604.0]\n",
       "1          (98661.6, 132141.8]\n",
       "2         (132141.8, 161151.2]\n",
       "3        (214269.6, 2265604.0]\n",
       "4         (132141.8, 161151.2]\n",
       "                 ...          \n",
       "21520    (214269.6, 2265604.0]\n",
       "21521     (132141.8, 161151.2]\n",
       "21522     (20666.999, 98661.6]\n",
       "21523    (214269.6, 2265604.0]\n",
       "21524     (20666.999, 98661.6]\n",
       "Name: total_income, Length: 21525, dtype: category\n",
       "Categories (5, interval[float64]): [(20666.999, 98661.6] < (98661.6, 132141.8] < (132141.8, 161151.2] < (161151.2, 214269.6] < (214269.6, 2265604.0]]"
      ]
     },
     "metadata": {},
     "output_type": "display_data"
    },
    {
     "name": "stdout",
     "output_type": "stream",
     "text": [
      "debt  income_group \n",
      "0     состоятельные    4003\n",
      "      бедные           3960\n",
      "      обеспеченные     3945\n",
      "      уязвимые         3945\n",
      "      средний класс    3931\n",
      "1     средний класс     374\n",
      "      обеспеченные      360\n",
      "      уязвимые          360\n",
      "      бедные            345\n",
      "      состоятельные     302\n",
      "Name: income_group, dtype: int64\n"
     ]
    }
   ],
   "source": [
    "#print(client_pay_ability['total_income'].mean())\n",
    "#print(client_pay_ability['total_income'].median())\n",
    "#print(client_pay_ability['total_income'].max())\n",
    "#print(client_pay_ability['total_income'].min())\n",
    "a = client_pay_ability['total_income']\n",
    "r = pd.qcut(a, 5)\n",
    "display(r)\n",
    "\n",
    "def income_count(row):\n",
    "    \n",
    "    total_income = row['total_income']\n",
    "    \n",
    "    if total_income <= 98662:\n",
    "        return 'бедные'\n",
    "\n",
    "    if total_income >= 98663 and total_income <= 132141:\n",
    "        return 'уязвимые'\n",
    "    \n",
    "    if total_income >= 132142 and total_income <= 161151:\n",
    "        return 'средний класс'\n",
    " \n",
    "    if total_income >= 161152 and total_income <= 214269:\n",
    "        return 'обеспеченные'\n",
    "    \n",
    "    if total_income > 214270:\n",
    "        return 'состоятельные'\n",
    "    \n",
    "client_pay_ability['income_group'] = client_pay_ability.apply(income_count, axis=1)\n",
    "#print(client_pay_ability.head(10))\n",
    "print(client_pay_ability.groupby('debt')['income_group'].value_counts())"
   ]
  },
  {
   "cell_type": "markdown",
   "metadata": {},
   "source": [
    "### Вывод"
   ]
  },
  {
   "cell_type": "markdown",
   "metadata": {},
   "source": [
    "Вернемся к данным столбцов 'children', 'family_status', 'debt', 'total_income'. Необходимо понять, влияет ли семейное положение и наличие детей на платежеспособность. Проведем категоризацию по типу данных:\n",
    "\n",
    "1. Создадим функцию для разделения данных на категории 'есть дети' и 'нет детей'. Поскольку столбец 'children' содержит количество детей и затруднит подсчет данных. Добавим отдельный столбец 'children_id' только из двух значений.\n",
    "2. Также поступим с семейным положением. В таблице 'семейный статус' несколько значений, но нас интересует, 'в браке' клиент или 'нет'. Добавим через функцию отдельный столбец 'family_id'.  \n",
    "3. Также категоризируем столбец 'total_income'. Нам необходимо выбрать верный подход к разделению по доходам. Мы  можем разбить столбец дохода по квантилям данных (метод qcut) - на пять 20%-групп с диапазонными значениями.Для классификации данных групп используем терминологию метода разделения слоев общества по медианному доходу, где (бедные получают = 0,5 от медианы дохода, уязвимые = 0.5-0,75, средний класс - 0,75-2, обеспеченные - 2-4, состоятельные - 4).\n",
    "\n",
    " \n"
   ]
  },
  {
   "cell_type": "markdown",
   "metadata": {},
   "source": [
    "### Шаг 3. Ответьте на вопросы"
   ]
  },
  {
   "cell_type": "markdown",
   "metadata": {},
   "source": [
    "- Есть ли зависимость между наличием детей и возвратом кредита в срок?"
   ]
  },
  {
   "cell_type": "code",
   "execution_count": 7,
   "metadata": {},
   "outputs": [
    {
     "name": "stdout",
     "output_type": "stream",
     "text": [
      "debt  children_id\n",
      "0     нет детей      13090\n",
      "      есть дети       6640\n",
      "1     нет детей       1064\n",
      "      есть дети        677\n",
      "Name: children_id, dtype: int64\n"
     ]
    }
   ],
   "source": [
    "print(client_pay_ability.groupby('debt')['children_id'].value_counts())"
   ]
  },
  {
   "cell_type": "markdown",
   "metadata": {},
   "source": [
    "### Вывод"
   ]
  },
  {
   "cell_type": "markdown",
   "metadata": {},
   "source": [
    "Считаем количество имеющих и не имеющих долги по обеим категориям. Мы видим, что только третья часть всех клиентов имеет детей. В каждой категории рассчитываем процент тех, кто имеет задолженность по кредитам: в категории \"нет детей\" таких клиентов 8%, в категории \"есть дети\" их больше  - 10%. Из этого следует, что наличие детей незначительно влияет на возврат кредита, т.е. если у клиента есть дети, риск возникновения задолженности по оплате кредита немного возрастает."
   ]
  },
  {
   "cell_type": "markdown",
   "metadata": {},
   "source": [
    "- Есть ли зависимость между семейным положением и возвратом кредита в срок?"
   ]
  },
  {
   "cell_type": "code",
   "execution_count": 8,
   "metadata": {},
   "outputs": [
    {
     "name": "stdout",
     "output_type": "stream",
     "text": [
      "debt  family_id \n",
      "0     в браке       11413\n",
      "      не в браке     8317\n",
      "1     в браке         931\n",
      "      не в браке      810\n",
      "Name: family_id, dtype: int64\n"
     ]
    }
   ],
   "source": [
    "print(client_pay_ability.groupby('debt')['family_id'].value_counts())"
   ]
  },
  {
   "cell_type": "code",
   "execution_count": null,
   "metadata": {},
   "outputs": [],
   "source": [
    "client_pay_ability.groupby('family_id').agg({'debt': ['sum', 'count', 'mean']})"
   ]
  },
  {
   "cell_type": "markdown",
   "metadata": {},
   "source": [
    "### Вывод"
   ]
  },
  {
   "cell_type": "markdown",
   "metadata": {},
   "source": [
    "Суммируя общее количество клиентов по статусам 'в браке' и 'не в браке', определяем, что 58% клиентов банка состоит в браке. При этом только 8,1% клиентов из категории 'в браке' не возвращает платежи по кредиту в срок. Чуть больше - 9,7%  - таких клиентов есть в категории 'не в браке'. Семейное положение влияет на возврат кредита, но не в значительной степени. Если клиент не женат/не замужем, риск несвоевременного возврата может быть выше, чем у клиента, который женат/замужем. Хотя это очевидно, в первом случае кредит может брать семья, т.е. два человека - в таком случае кредит вернуть легче, т.к. семейный доход может быть дифференцированным. "
   ]
  },
  {
   "cell_type": "markdown",
   "metadata": {},
   "source": [
    "- Есть ли зависимость между уровнем дохода и возвратом кредита в срок?"
   ]
  },
  {
   "cell_type": "code",
   "execution_count": 194,
   "metadata": {},
   "outputs": [
    {
     "data": {
      "text/html": [
       "<div>\n",
       "<style scoped>\n",
       "    .dataframe tbody tr th:only-of-type {\n",
       "        vertical-align: middle;\n",
       "    }\n",
       "\n",
       "    .dataframe tbody tr th {\n",
       "        vertical-align: top;\n",
       "    }\n",
       "\n",
       "    .dataframe thead th {\n",
       "        text-align: right;\n",
       "    }\n",
       "</style>\n",
       "<table border=\"1\" class=\"dataframe\">\n",
       "  <thead>\n",
       "    <tr style=\"text-align: right;\">\n",
       "      <th>debt</th>\n",
       "      <th>0</th>\n",
       "      <th>1</th>\n",
       "      <th>ratio</th>\n",
       "      <th>total_credit</th>\n",
       "    </tr>\n",
       "    <tr>\n",
       "      <th>income_group</th>\n",
       "      <th></th>\n",
       "      <th></th>\n",
       "      <th></th>\n",
       "      <th></th>\n",
       "    </tr>\n",
       "  </thead>\n",
       "  <tbody>\n",
       "    <tr>\n",
       "      <td>уязвимые</td>\n",
       "      <td>3992</td>\n",
       "      <td>395</td>\n",
       "      <td>10.106329</td>\n",
       "      <td>4387</td>\n",
       "    </tr>\n",
       "    <tr>\n",
       "      <td>средний класс</td>\n",
       "      <td>3786</td>\n",
       "      <td>389</td>\n",
       "      <td>9.732648</td>\n",
       "      <td>4175</td>\n",
       "    </tr>\n",
       "    <tr>\n",
       "      <td>состоятельные</td>\n",
       "      <td>3759</td>\n",
       "      <td>322</td>\n",
       "      <td>11.673913</td>\n",
       "      <td>4081</td>\n",
       "    </tr>\n",
       "    <tr>\n",
       "      <td>обеспеченные</td>\n",
       "      <td>3719</td>\n",
       "      <td>434</td>\n",
       "      <td>8.569124</td>\n",
       "      <td>4153</td>\n",
       "    </tr>\n",
       "    <tr>\n",
       "      <td>бедные</td>\n",
       "      <td>3813</td>\n",
       "      <td>325</td>\n",
       "      <td>11.732308</td>\n",
       "      <td>4138</td>\n",
       "    </tr>\n",
       "  </tbody>\n",
       "</table>\n",
       "</div>"
      ],
      "text/plain": [
       "debt              0    1      ratio  total_credit\n",
       "income_group                                     \n",
       "уязвимые       3992  395  10.106329          4387\n",
       "средний класс  3786  389   9.732648          4175\n",
       "состоятельные  3759  322  11.673913          4081\n",
       "обеспеченные   3719  434   8.569124          4153\n",
       "бедные         3813  325  11.732308          4138"
      ]
     },
     "metadata": {},
     "output_type": "display_data"
    }
   ],
   "source": [
    "income_pivot = client_pay_ability.pivot_table(index=['income_group'], columns='debt', values='family_status_id', aggfunc='sum')\n",
    "income_pivot['ratio'] = income_pivot[0] / income_pivot[1]\n",
    "income_pivot['total_credit'] = income_pivot[0] + income_pivot[1]\n",
    "display(income_pivot.sort_values(by = 'income_group', ascending=False))"
   ]
  },
  {
   "cell_type": "markdown",
   "metadata": {},
   "source": [
    "### Вывод"
   ]
  },
  {
   "cell_type": "markdown",
   "metadata": {},
   "source": [
    "Согласно полученным данным чаще всего берут кредиты категория'уязвимые' слои населения, реже всего клиенты из категории 'бедные'. Тем не менее, у них больше всего проблем с оплатой кредитов - 11,7%.  Лучше всего возвращают кредиты 'обеспеченные' - 8,6%. У 'состоятельных' медианное значение по общему количеству кредитов, при этом они также плохо возвращают кредиты как и 'бедные' - 11.7%.\n",
    "Зависимость между уровнем дохода и возвратом кредита не прямопропорциональна, т.к. и бедные, и богатые люди не возвращают их вовремя с одинаковой частотой, возможно, по разным причинам. Наименее рискованными социальными группами для выдачи кредита являются обеспеченные и средний класс (9,7%). Клиенты из категории 'уязвимые' с учетом наибольшого количества кредитов в данном банке входят в среднюю группу риска, хотя процент кредитной задолженности составляет 10,1%. Высокая группа риска - две крайних категории - 'бедные' и 'состоятельные'.\n"
   ]
  },
  {
   "cell_type": "markdown",
   "metadata": {},
   "source": [
    "- Как разные цели кредита влияют на его возврат в срок?"
   ]
  },
  {
   "cell_type": "code",
   "execution_count": 190,
   "metadata": {},
   "outputs": [
    {
     "data": {
      "text/html": [
       "<div>\n",
       "<style scoped>\n",
       "    .dataframe tbody tr th:only-of-type {\n",
       "        vertical-align: middle;\n",
       "    }\n",
       "\n",
       "    .dataframe tbody tr th {\n",
       "        vertical-align: top;\n",
       "    }\n",
       "\n",
       "    .dataframe thead th {\n",
       "        text-align: right;\n",
       "    }\n",
       "</style>\n",
       "<table border=\"1\" class=\"dataframe\">\n",
       "  <thead>\n",
       "    <tr style=\"text-align: right;\">\n",
       "      <th>debt</th>\n",
       "      <th>0</th>\n",
       "      <th>1</th>\n",
       "      <th>ratio</th>\n",
       "    </tr>\n",
       "    <tr>\n",
       "      <th>credit_purpose</th>\n",
       "      <th></th>\n",
       "      <th></th>\n",
       "      <th></th>\n",
       "    </tr>\n",
       "  </thead>\n",
       "  <tbody>\n",
       "    <tr>\n",
       "      <td>приобретение недвижимости</td>\n",
       "      <td>9685</td>\n",
       "      <td>808</td>\n",
       "      <td>11.986386</td>\n",
       "    </tr>\n",
       "    <tr>\n",
       "      <td>приобретение автомобиля</td>\n",
       "      <td>3783</td>\n",
       "      <td>482</td>\n",
       "      <td>7.848548</td>\n",
       "    </tr>\n",
       "    <tr>\n",
       "      <td>получение образования</td>\n",
       "      <td>3439</td>\n",
       "      <td>389</td>\n",
       "      <td>8.840617</td>\n",
       "    </tr>\n",
       "    <tr>\n",
       "      <td>организация свадьбы</td>\n",
       "      <td>2162</td>\n",
       "      <td>186</td>\n",
       "      <td>11.623656</td>\n",
       "    </tr>\n",
       "  </tbody>\n",
       "</table>\n",
       "</div>"
      ],
      "text/plain": [
       "debt                          0    1      ratio\n",
       "credit_purpose                                 \n",
       "приобретение недвижимости  9685  808  11.986386\n",
       "приобретение автомобиля    3783  482   7.848548\n",
       "получение образования      3439  389   8.840617\n",
       "организация свадьбы        2162  186  11.623656"
      ]
     },
     "metadata": {},
     "output_type": "display_data"
    }
   ],
   "source": [
    "data_pivot = client_pay_ability.pivot_table(index=['credit_purpose'], columns='debt', values='family_status_id', aggfunc='sum')\n",
    "data_pivot['ratio'] = data_pivot[0] / data_pivot[1]\n",
    "display(data_pivot.sort_values(by = 'credit_purpose', ascending=False))\n",
    "\n"
   ]
  },
  {
   "cell_type": "markdown",
   "metadata": {},
   "source": [
    "### Вывод"
   ]
  },
  {
   "cell_type": "markdown",
   "metadata": {},
   "source": [
    "Согласно анализу целей кредита чаще всего берут кредиты на 'приобретение недвижимости', поэтому их  чаще и возвращают, и задерживают. На втором месте по частоте получения и задержки кредита - 'приобретение автомобиля'.'Получение образования' и организация свадьбы' - менее популярные цели кредита по понятным причинам: образование - долговременная инвестиция, а свадьба входит в статью расходов на развлечения и редко окупает себя. Таким образом, цель кредита влияет на срок его возврата. Самые высокие риски по кредитам, выдаваемым на недвижимость (11,9% проблемных из общего числа в этой категории) и на свадьбы (11,6%). Меньше риска возникает при выдаче кредита на автомобиль - 7,8%. У кредитов на образование средние риски - 8,8%.\n"
   ]
  },
  {
   "cell_type": "markdown",
   "metadata": {},
   "source": [
    "### Шаг 4. Общий вывод"
   ]
  },
  {
   "cell_type": "markdown",
   "metadata": {},
   "source": [
    "В целях постановленной задачи анализа предоставленных данных. Мы исследовали статистику о платёжеспособности клиентов, предварительно проведя предобработку данных, результатом которой является:\n",
    "1. Обнаружение случайных и неслучайных пропущенных значений и их замена медианными значением в показателях 'days_employed', 'total_income'.\n",
    "2. Замена типов данных на целые числа, при этом обнаружены отрицательные значения в трудовом стаже клиентов 'days_employed'. Возможно, это счетчик выхода на пенсию или некорректно преобразованные данные.\n",
    "3. Выявление и удаление 54 дубликатов, в том числе значения верхнего регистра переведены в нижний для удобства фильтрации. Благодаря проведению лемматизации столбца 'purpose' c множеством значений, осложняющих фильтрацию данных, определены 4 основных категории целей кредита.\n",
    "4. Проведение категоризации данных  в  столбцах 'family_status_id', 'children', 'total_income' с целью определения категорий семейного и материального положения клиентов.\n",
    "5. Анализ обработанных данных позволяет сделать следующие выводы:\n",
    "- наличие детей влиет на сроки возврата кредита, т.к. только третья часть всех клиентов банка имеет детей и 10% должников находится в этой категории. В категории \"нет детей\" таких клиентов 8%. Из этого следует, что клиенты, не имеющие детей, приоритетнее для выдачи кредита.\n",
    "- семейное положение влияет на возврат кредита, но не в значительной степени: 58% клиентов банка состоит в браке, при этом только 8,1% клиентов из категории 'в браке' не возвращает платежи по кредиту в срок. 9,7% - таких клиентов есть в категории 'не в браке'. Поэтому более предпочтительны клиенты, состоящие в браке.\n",
    "- уровень дохода влияет на сроки возврата кредита, но не прямопропорционально, т.к. в группу риска по невозвратным кредитам входят и 'бедные', и 'состоятельные', не возвращая 11,7% кредитов. Процент кредитной задолженности 'уязвимых' слоев населения достаточно высок (10,1%), но это наиболее частые потребители кредитов. Наиболее интересными для кредитования являются 'обеспеченные' c самым низким процентом невозврата (8,6%) и 'средний класс' со средним - 9,7% и высокой потребностью в данном банковском продукте.\n",
    "- цель кредита влияет на срок его возврата. Самые высокие риски возникают при выдаче денег на 'недвижимость' и 'организацию свадьбы' с задолженностью - 11,9% и 11,6%, соответственно. Хотя 'недвижимость' - наиболее часто встречающаяся цель кредита. У кредитов на образование меньше риска - 8,8%. Своевременный возврат кредитов наиболее вероятен при выдаче кредита на приобретение автомобиля (наименьшая задолженность из всез целей - 7,8%).\n",
    "\n",
    "Поставленная задача выполнена успешна, результаты данного исследования могут быть учтены при построении модели кредитного скоринга — специальной системы, которая оценивает способность потенциального заёмщика вернуть кредит банку."
   ]
  }
 ],
 "metadata": {
  "kernelspec": {
   "display_name": "Python 3",
   "language": "python",
   "name": "python3"
  },
  "language_info": {
   "codemirror_mode": {
    "name": "ipython",
    "version": 3
   },
   "file_extension": ".py",
   "mimetype": "text/x-python",
   "name": "python",
   "nbconvert_exporter": "python",
   "pygments_lexer": "ipython3",
   "version": "3.8.3"
  }
 },
 "nbformat": 4,
 "nbformat_minor": 2
}
